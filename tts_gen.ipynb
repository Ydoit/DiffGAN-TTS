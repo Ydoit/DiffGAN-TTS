{
 "cells": [
  {
   "cell_type": "code",
   "execution_count": 1,
   "metadata": {},
   "outputs": [],
   "source": [
    "en_fix_path='/home/ydoit/AIGC/Raw-EN/en_normal_fix.txt'\n",
    "en_random_path='/home/ydoit/AIGC/Raw-EN/en_normal_random.txt'\n",
    "with open (en_fix_path,'r') as f:\n",
    "    en_fix=f.readlines()    \n",
    "with open (en_random_path,'r') as f:\n",
    "    en_random=f.readlines()[1000:1100]\n"
   ]
  },
  {
   "cell_type": "code",
   "execution_count": 1,
   "metadata": {},
   "outputs": [
    {
     "name": "stderr",
     "output_type": "stream",
     "text": [
      "2024-05-15 03:40:24.018706: I tensorflow/core/platform/cpu_feature_guard.cc:210] This TensorFlow binary is optimized to use available CPU instructions in performance-critical operations.\n",
      "To enable the following instructions: AVX2 FMA, in other operations, rebuild TensorFlow with the appropriate compiler flags.\n",
      "2024-05-15 03:40:24.839337: W tensorflow/compiler/tf2tensorrt/utils/py_utils.cc:38] TF-TRT Warning: Could not find TensorRT\n"
     ]
    },
    {
     "name": "stdout",
     "output_type": "stream",
     "text": [
      "\n",
      "==================================== Inference Configuration ====================================\n",
      " ---> Type of Modeling: naive\n",
      " ---> Total Batch Size: 32\n",
      " ---> Path of ckpt: ./output/ckpt/VCTK_naive\n",
      " ---> Path of log: ./output/log/VCTK_naive\n",
      " ---> Path of result: ./output/result/VCTK_naive\n",
      "================================================================================================\n"
     ]
    },
    {
     "name": "stderr",
     "output_type": "stream",
     "text": [
      "/home/ydoit/AIGC/diffgan/diffgan/lib/python3.10/site-packages/torch/nn/utils/weight_norm.py:28: UserWarning: torch.nn.utils.weight_norm is deprecated in favor of torch.nn.utils.parametrizations.weight_norm.\n",
      "  warnings.warn(\"torch.nn.utils.weight_norm is deprecated in favor of torch.nn.utils.parametrizations.weight_norm.\")\n"
     ]
    },
    {
     "name": "stdout",
     "output_type": "stream",
     "text": [
      "Removing weight norm...\n",
      "Raw Text Sequence: Breaking new ground is also very rewarding.\n",
      "\n",
      "Phoneme Sequence: {B R EY1 K IH0 NG N UW1 G R AW1 N D IH0 Z AO1 L S OW0 V EH1 R IY0 R IH0 W AO1 R D IH0 NG sp}\n"
     ]
    },
    {
     "name": "stderr",
     "output_type": "stream",
     "text": [
      "  0%|          | 0/1 [00:00<?, ?it/s]\n",
      "sample time step:   0%|          | 0/4 [00:00<?, ?it/s]\u001b[A\n",
      "sample time step: 100%|██████████| 4/4 [00:00<00:00,  9.52it/s]\u001b[A\n",
      "100%|██████████| 1/1 [00:02<00:00,  2.01s/it]\n",
      "2024-05-15 03:40:40.808542: I tensorflow/core/platform/cpu_feature_guard.cc:210] This TensorFlow binary is optimized to use available CPU instructions in performance-critical operations.\n",
      "To enable the following instructions: AVX2 FMA, in other operations, rebuild TensorFlow with the appropriate compiler flags.\n",
      "2024-05-15 03:40:41.714953: W tensorflow/compiler/tf2tensorrt/utils/py_utils.cc:38] TF-TRT Warning: Could not find TensorRT\n"
     ]
    },
    {
     "name": "stdout",
     "output_type": "stream",
     "text": [
      "\n",
      "==================================== Inference Configuration ====================================\n",
      " ---> Type of Modeling: naive\n",
      " ---> Total Batch Size: 32\n",
      " ---> Path of ckpt: ./output/ckpt/VCTK_naive\n",
      " ---> Path of log: ./output/log/VCTK_naive\n",
      " ---> Path of result: ./output/result/VCTK_naive\n",
      "================================================================================================\n"
     ]
    },
    {
     "name": "stderr",
     "output_type": "stream",
     "text": [
      "/home/ydoit/AIGC/diffgan/diffgan/lib/python3.10/site-packages/torch/nn/utils/weight_norm.py:28: UserWarning: torch.nn.utils.weight_norm is deprecated in favor of torch.nn.utils.parametrizations.weight_norm.\n",
      "  warnings.warn(\"torch.nn.utils.weight_norm is deprecated in favor of torch.nn.utils.parametrizations.weight_norm.\")\n"
     ]
    },
    {
     "name": "stdout",
     "output_type": "stream",
     "text": [
      "Removing weight norm...\n",
      "Raw Text Sequence: We were all over the place in the first half.\n",
      "\n",
      "Phoneme Sequence: {W IY1 W ER0 AO1 L OW1 V ER0 DH AH0 P L EY1 S IH0 N DH AH0 F ER1 S T HH AE1 F sp}\n"
     ]
    },
    {
     "name": "stderr",
     "output_type": "stream",
     "text": [
      "  0%|          | 0/1 [00:00<?, ?it/s]\n",
      "sample time step:   0%|          | 0/4 [00:00<?, ?it/s]\u001b[A\n",
      "sample time step: 100%|██████████| 4/4 [00:00<00:00,  5.87it/s]\u001b[A\n",
      "100%|██████████| 1/1 [00:02<00:00,  2.22s/it]\n",
      "2024-05-15 03:40:55.781584: I tensorflow/core/platform/cpu_feature_guard.cc:210] This TensorFlow binary is optimized to use available CPU instructions in performance-critical operations.\n",
      "To enable the following instructions: AVX2 FMA, in other operations, rebuild TensorFlow with the appropriate compiler flags.\n",
      "2024-05-15 03:40:56.577737: W tensorflow/compiler/tf2tensorrt/utils/py_utils.cc:38] TF-TRT Warning: Could not find TensorRT\n"
     ]
    },
    {
     "name": "stdout",
     "output_type": "stream",
     "text": [
      "\n",
      "==================================== Inference Configuration ====================================\n",
      " ---> Type of Modeling: naive\n",
      " ---> Total Batch Size: 32\n",
      " ---> Path of ckpt: ./output/ckpt/VCTK_naive\n",
      " ---> Path of log: ./output/log/VCTK_naive\n",
      " ---> Path of result: ./output/result/VCTK_naive\n",
      "================================================================================================\n"
     ]
    },
    {
     "name": "stderr",
     "output_type": "stream",
     "text": [
      "/home/ydoit/AIGC/diffgan/diffgan/lib/python3.10/site-packages/torch/nn/utils/weight_norm.py:28: UserWarning: torch.nn.utils.weight_norm is deprecated in favor of torch.nn.utils.parametrizations.weight_norm.\n",
      "  warnings.warn(\"torch.nn.utils.weight_norm is deprecated in favor of torch.nn.utils.parametrizations.weight_norm.\")\n"
     ]
    },
    {
     "name": "stdout",
     "output_type": "stream",
     "text": [
      "Removing weight norm...\n",
      "Raw Text Sequence: But there are problems, such as retraining new staff.\n",
      "\n",
      "Phoneme Sequence: {B AH1 T DH EH1 R AA1 R P R AA1 B L AH0 M Z sp S AH1 CH AE1 Z R IY0 T R EY1 N IH0 NG N UW1 S T AE1 F sp}\n"
     ]
    },
    {
     "name": "stderr",
     "output_type": "stream",
     "text": [
      "  0%|          | 0/1 [00:00<?, ?it/s]\n",
      "sample time step:   0%|          | 0/4 [00:00<?, ?it/s]\u001b[A/home/ydoit/AIGC/diffgan/diffgan/lib/python3.10/site-packages/torch/nn/modules/conv.py:306: UserWarning: Plan failed with a cudnnException: CUDNN_BACKEND_EXECUTION_PLAN_DESCRIPTOR: cudnnFinalize Descriptor Failed cudnn_status: CUDNN_STATUS_NOT_SUPPORTED (Triggered internally at ../aten/src/ATen/native/cudnn/Conv_v8.cpp:919.)\n",
      "  return F.conv1d(input, weight, bias, self.stride,\n",
      "\n",
      "sample time step: 100%|██████████| 4/4 [00:00<00:00, 39.62it/s]\u001b[A\n",
      "100%|██████████| 1/1 [00:02<00:00,  2.46s/it]\n",
      "2024-05-15 03:41:10.528297: I tensorflow/core/platform/cpu_feature_guard.cc:210] This TensorFlow binary is optimized to use available CPU instructions in performance-critical operations.\n",
      "To enable the following instructions: AVX2 FMA, in other operations, rebuild TensorFlow with the appropriate compiler flags.\n",
      "2024-05-15 03:41:11.271405: W tensorflow/compiler/tf2tensorrt/utils/py_utils.cc:38] TF-TRT Warning: Could not find TensorRT\n"
     ]
    },
    {
     "name": "stdout",
     "output_type": "stream",
     "text": [
      "\n",
      "==================================== Inference Configuration ====================================\n",
      " ---> Type of Modeling: naive\n",
      " ---> Total Batch Size: 32\n",
      " ---> Path of ckpt: ./output/ckpt/VCTK_naive\n",
      " ---> Path of log: ./output/log/VCTK_naive\n",
      " ---> Path of result: ./output/result/VCTK_naive\n",
      "================================================================================================\n"
     ]
    },
    {
     "name": "stderr",
     "output_type": "stream",
     "text": [
      "/home/ydoit/AIGC/diffgan/diffgan/lib/python3.10/site-packages/torch/nn/utils/weight_norm.py:28: UserWarning: torch.nn.utils.weight_norm is deprecated in favor of torch.nn.utils.parametrizations.weight_norm.\n",
      "  warnings.warn(\"torch.nn.utils.weight_norm is deprecated in favor of torch.nn.utils.parametrizations.weight_norm.\")\n"
     ]
    },
    {
     "name": "stdout",
     "output_type": "stream",
     "text": [
      "Removing weight norm...\n",
      "Raw Text Sequence: It also highlighted some local hero districts.\n",
      "\n",
      "Phoneme Sequence: {IH0 T AO1 L S OW0 HH AY1 L AY2 T IH0 D S AH1 M L OW1 K AH0 L HH IH1 R OW0 D IH1 S T R IH0 K T S sp}\n"
     ]
    },
    {
     "name": "stderr",
     "output_type": "stream",
     "text": [
      "  0%|          | 0/1 [00:00<?, ?it/s]\n",
      "sample time step:   0%|          | 0/4 [00:00<?, ?it/s]\u001b[A\n",
      "sample time step: 100%|██████████| 4/4 [00:00<00:00, 38.43it/s]\u001b[A\n",
      "100%|██████████| 1/1 [00:02<00:00,  2.53s/it]\n",
      "2024-05-15 03:41:24.397708: I tensorflow/core/platform/cpu_feature_guard.cc:210] This TensorFlow binary is optimized to use available CPU instructions in performance-critical operations.\n",
      "To enable the following instructions: AVX2 FMA, in other operations, rebuild TensorFlow with the appropriate compiler flags.\n",
      "2024-05-15 03:41:25.198748: W tensorflow/compiler/tf2tensorrt/utils/py_utils.cc:38] TF-TRT Warning: Could not find TensorRT\n"
     ]
    },
    {
     "name": "stdout",
     "output_type": "stream",
     "text": [
      "\n",
      "==================================== Inference Configuration ====================================\n",
      " ---> Type of Modeling: naive\n",
      " ---> Total Batch Size: 32\n",
      " ---> Path of ckpt: ./output/ckpt/VCTK_naive\n",
      " ---> Path of log: ./output/log/VCTK_naive\n",
      " ---> Path of result: ./output/result/VCTK_naive\n",
      "================================================================================================\n"
     ]
    },
    {
     "name": "stderr",
     "output_type": "stream",
     "text": [
      "/home/ydoit/AIGC/diffgan/diffgan/lib/python3.10/site-packages/torch/nn/utils/weight_norm.py:28: UserWarning: torch.nn.utils.weight_norm is deprecated in favor of torch.nn.utils.parametrizations.weight_norm.\n",
      "  warnings.warn(\"torch.nn.utils.weight_norm is deprecated in favor of torch.nn.utils.parametrizations.weight_norm.\")\n"
     ]
    },
    {
     "name": "stdout",
     "output_type": "stream",
     "text": [
      "Removing weight norm...\n",
      "Raw Text Sequence: The manager knew me very well.\n",
      "\n",
      "Phoneme Sequence: {DH AH0 M AE1 N AH0 JH ER0 N UW1 M IY1 V EH1 R IY0 W EH1 L sp}\n"
     ]
    },
    {
     "name": "stderr",
     "output_type": "stream",
     "text": [
      "  0%|          | 0/1 [00:00<?, ?it/s]\n",
      "sample time step:   0%|          | 0/4 [00:00<?, ?it/s]\u001b[A/home/ydoit/AIGC/diffgan/diffgan/lib/python3.10/site-packages/torch/nn/modules/conv.py:306: UserWarning: Plan failed with a cudnnException: CUDNN_BACKEND_EXECUTION_PLAN_DESCRIPTOR: cudnnFinalize Descriptor Failed cudnn_status: CUDNN_STATUS_NOT_SUPPORTED (Triggered internally at ../aten/src/ATen/native/cudnn/Conv_v8.cpp:919.)\n",
      "  return F.conv1d(input, weight, bias, self.stride,\n",
      "\n",
      "sample time step: 100%|██████████| 4/4 [00:00<00:00,  8.54it/s]\u001b[A\n",
      "100%|██████████| 1/1 [00:02<00:00,  2.02s/it]\n",
      "2024-05-15 03:41:40.261546: I tensorflow/core/platform/cpu_feature_guard.cc:210] This TensorFlow binary is optimized to use available CPU instructions in performance-critical operations.\n",
      "To enable the following instructions: AVX2 FMA, in other operations, rebuild TensorFlow with the appropriate compiler flags.\n",
      "2024-05-15 03:41:41.039481: W tensorflow/compiler/tf2tensorrt/utils/py_utils.cc:38] TF-TRT Warning: Could not find TensorRT\n"
     ]
    },
    {
     "name": "stdout",
     "output_type": "stream",
     "text": [
      "\n",
      "==================================== Inference Configuration ====================================\n",
      " ---> Type of Modeling: naive\n",
      " ---> Total Batch Size: 32\n",
      " ---> Path of ckpt: ./output/ckpt/VCTK_naive\n",
      " ---> Path of log: ./output/log/VCTK_naive\n",
      " ---> Path of result: ./output/result/VCTK_naive\n",
      "================================================================================================\n"
     ]
    },
    {
     "name": "stderr",
     "output_type": "stream",
     "text": [
      "/home/ydoit/AIGC/diffgan/diffgan/lib/python3.10/site-packages/torch/nn/utils/weight_norm.py:28: UserWarning: torch.nn.utils.weight_norm is deprecated in favor of torch.nn.utils.parametrizations.weight_norm.\n",
      "  warnings.warn(\"torch.nn.utils.weight_norm is deprecated in favor of torch.nn.utils.parametrizations.weight_norm.\")\n"
     ]
    },
    {
     "name": "stdout",
     "output_type": "stream",
     "text": [
      "Removing weight norm...\n",
      "Raw Text Sequence: They need the money.\n",
      "\n",
      "Phoneme Sequence: {DH EY1 N IY1 D DH AH0 M AH1 N IY0 sp}\n"
     ]
    },
    {
     "name": "stderr",
     "output_type": "stream",
     "text": [
      "  0%|          | 0/1 [00:00<?, ?it/s]\n",
      "sample time step:   0%|          | 0/4 [00:00<?, ?it/s]\u001b[A\n",
      "sample time step: 100%|██████████| 4/4 [00:00<00:00,  6.67it/s]\u001b[A\n",
      "100%|██████████| 1/1 [00:02<00:00,  2.93s/it]\n",
      "2024-05-15 03:41:55.044109: I tensorflow/core/platform/cpu_feature_guard.cc:210] This TensorFlow binary is optimized to use available CPU instructions in performance-critical operations.\n",
      "To enable the following instructions: AVX2 FMA, in other operations, rebuild TensorFlow with the appropriate compiler flags.\n",
      "2024-05-15 03:41:55.863113: W tensorflow/compiler/tf2tensorrt/utils/py_utils.cc:38] TF-TRT Warning: Could not find TensorRT\n"
     ]
    },
    {
     "name": "stdout",
     "output_type": "stream",
     "text": [
      "\n",
      "==================================== Inference Configuration ====================================\n",
      " ---> Type of Modeling: naive\n",
      " ---> Total Batch Size: 32\n",
      " ---> Path of ckpt: ./output/ckpt/VCTK_naive\n",
      " ---> Path of log: ./output/log/VCTK_naive\n",
      " ---> Path of result: ./output/result/VCTK_naive\n",
      "================================================================================================\n"
     ]
    },
    {
     "name": "stderr",
     "output_type": "stream",
     "text": [
      "/home/ydoit/AIGC/diffgan/diffgan/lib/python3.10/site-packages/torch/nn/utils/weight_norm.py:28: UserWarning: torch.nn.utils.weight_norm is deprecated in favor of torch.nn.utils.parametrizations.weight_norm.\n",
      "  warnings.warn(\"torch.nn.utils.weight_norm is deprecated in favor of torch.nn.utils.parametrizations.weight_norm.\")\n"
     ]
    },
    {
     "name": "stdout",
     "output_type": "stream",
     "text": [
      "Removing weight norm...\n",
      "Raw Text Sequence: Well, they were the unlucky ones.\n",
      "\n",
      "Phoneme Sequence: {W EH1 L sp DH EY1 W ER0 DH AH0 AH0 N L AH1 K IY0 W AH1 N Z sp}\n"
     ]
    },
    {
     "name": "stderr",
     "output_type": "stream",
     "text": [
      "  0%|          | 0/1 [00:00<?, ?it/s]\n",
      "sample time step:   0%|          | 0/4 [00:00<?, ?it/s]\u001b[A/home/ydoit/AIGC/diffgan/diffgan/lib/python3.10/site-packages/torch/nn/modules/conv.py:306: UserWarning: Plan failed with a cudnnException: CUDNN_BACKEND_EXECUTION_PLAN_DESCRIPTOR: cudnnFinalize Descriptor Failed cudnn_status: CUDNN_STATUS_NOT_SUPPORTED (Triggered internally at ../aten/src/ATen/native/cudnn/Conv_v8.cpp:919.)\n",
      "  return F.conv1d(input, weight, bias, self.stride,\n",
      "\n",
      "sample time step: 100%|██████████| 4/4 [00:00<00:00, 38.46it/s]\u001b[A\n",
      "100%|██████████| 1/1 [00:02<00:00,  2.12s/it]\n",
      "2024-05-15 03:42:08.900839: I tensorflow/core/platform/cpu_feature_guard.cc:210] This TensorFlow binary is optimized to use available CPU instructions in performance-critical operations.\n",
      "To enable the following instructions: AVX2 FMA, in other operations, rebuild TensorFlow with the appropriate compiler flags.\n",
      "2024-05-15 03:42:09.684418: W tensorflow/compiler/tf2tensorrt/utils/py_utils.cc:38] TF-TRT Warning: Could not find TensorRT\n"
     ]
    },
    {
     "name": "stdout",
     "output_type": "stream",
     "text": [
      "\n",
      "==================================== Inference Configuration ====================================\n",
      " ---> Type of Modeling: naive\n",
      " ---> Total Batch Size: 32\n",
      " ---> Path of ckpt: ./output/ckpt/VCTK_naive\n",
      " ---> Path of log: ./output/log/VCTK_naive\n",
      " ---> Path of result: ./output/result/VCTK_naive\n",
      "================================================================================================\n"
     ]
    },
    {
     "name": "stderr",
     "output_type": "stream",
     "text": [
      "/home/ydoit/AIGC/diffgan/diffgan/lib/python3.10/site-packages/torch/nn/utils/weight_norm.py:28: UserWarning: torch.nn.utils.weight_norm is deprecated in favor of torch.nn.utils.parametrizations.weight_norm.\n",
      "  warnings.warn(\"torch.nn.utils.weight_norm is deprecated in favor of torch.nn.utils.parametrizations.weight_norm.\")\n"
     ]
    },
    {
     "name": "stdout",
     "output_type": "stream",
     "text": [
      "Removing weight norm...\n",
      "Raw Text Sequence: I can't wait for it to come out.\n",
      "\n",
      "Phoneme Sequence: {AY1 K AE1 N T W EY1 T F AO1 R IH0 T T AH0 K AH1 M AW1 T sp}\n"
     ]
    },
    {
     "name": "stderr",
     "output_type": "stream",
     "text": [
      "  0%|          | 0/1 [00:00<?, ?it/s]\n",
      "sample time step:   0%|          | 0/4 [00:00<?, ?it/s]\u001b[A/home/ydoit/AIGC/diffgan/diffgan/lib/python3.10/site-packages/torch/nn/modules/conv.py:306: UserWarning: Plan failed with a cudnnException: CUDNN_BACKEND_EXECUTION_PLAN_DESCRIPTOR: cudnnFinalize Descriptor Failed cudnn_status: CUDNN_STATUS_NOT_SUPPORTED (Triggered internally at ../aten/src/ATen/native/cudnn/Conv_v8.cpp:919.)\n",
      "  return F.conv1d(input, weight, bias, self.stride,\n",
      "\n",
      "sample time step: 100%|██████████| 4/4 [00:00<00:00,  8.57it/s]\u001b[A\n",
      "100%|██████████| 1/1 [00:02<00:00,  2.44s/it]\n",
      "2024-05-15 03:42:24.074464: I tensorflow/core/platform/cpu_feature_guard.cc:210] This TensorFlow binary is optimized to use available CPU instructions in performance-critical operations.\n",
      "To enable the following instructions: AVX2 FMA, in other operations, rebuild TensorFlow with the appropriate compiler flags.\n",
      "2024-05-15 03:42:25.236236: W tensorflow/compiler/tf2tensorrt/utils/py_utils.cc:38] TF-TRT Warning: Could not find TensorRT\n"
     ]
    },
    {
     "name": "stdout",
     "output_type": "stream",
     "text": [
      "\n",
      "==================================== Inference Configuration ====================================\n",
      " ---> Type of Modeling: naive\n",
      " ---> Total Batch Size: 32\n",
      " ---> Path of ckpt: ./output/ckpt/VCTK_naive\n",
      " ---> Path of log: ./output/log/VCTK_naive\n",
      " ---> Path of result: ./output/result/VCTK_naive\n",
      "================================================================================================\n"
     ]
    },
    {
     "name": "stderr",
     "output_type": "stream",
     "text": [
      "/home/ydoit/AIGC/diffgan/diffgan/lib/python3.10/site-packages/torch/nn/utils/weight_norm.py:28: UserWarning: torch.nn.utils.weight_norm is deprecated in favor of torch.nn.utils.parametrizations.weight_norm.\n",
      "  warnings.warn(\"torch.nn.utils.weight_norm is deprecated in favor of torch.nn.utils.parametrizations.weight_norm.\")\n"
     ]
    },
    {
     "name": "stdout",
     "output_type": "stream",
     "text": [
      "Removing weight norm...\n",
      "Raw Text Sequence: I am not a fan of stoppages.\n",
      "\n",
      "Phoneme Sequence: {AY1 AE1 M N AA1 T AH0 F AE1 N AH0 V S T AA1 P IH0 JH IH0 Z sp}\n"
     ]
    },
    {
     "name": "stderr",
     "output_type": "stream",
     "text": [
      "  0%|          | 0/1 [00:00<?, ?it/s]\n",
      "sample time step:   0%|          | 0/4 [00:00<?, ?it/s]\u001b[A/home/ydoit/AIGC/diffgan/diffgan/lib/python3.10/site-packages/torch/nn/modules/conv.py:306: UserWarning: Plan failed with a cudnnException: CUDNN_BACKEND_EXECUTION_PLAN_DESCRIPTOR: cudnnFinalize Descriptor Failed cudnn_status: CUDNN_STATUS_NOT_SUPPORTED (Triggered internally at ../aten/src/ATen/native/cudnn/Conv_v8.cpp:919.)\n",
      "  return F.conv1d(input, weight, bias, self.stride,\n",
      "\n",
      "sample time step: 100%|██████████| 4/4 [00:00<00:00,  7.22it/s]\u001b[A\n",
      "100%|██████████| 1/1 [00:02<00:00,  2.10s/it]\n",
      "2024-05-15 03:42:40.790424: I tensorflow/core/platform/cpu_feature_guard.cc:210] This TensorFlow binary is optimized to use available CPU instructions in performance-critical operations.\n",
      "To enable the following instructions: AVX2 FMA, in other operations, rebuild TensorFlow with the appropriate compiler flags.\n",
      "2024-05-15 03:42:41.586299: W tensorflow/compiler/tf2tensorrt/utils/py_utils.cc:38] TF-TRT Warning: Could not find TensorRT\n"
     ]
    },
    {
     "name": "stdout",
     "output_type": "stream",
     "text": [
      "\n",
      "==================================== Inference Configuration ====================================\n",
      " ---> Type of Modeling: naive\n",
      " ---> Total Batch Size: 32\n",
      " ---> Path of ckpt: ./output/ckpt/VCTK_naive\n",
      " ---> Path of log: ./output/log/VCTK_naive\n",
      " ---> Path of result: ./output/result/VCTK_naive\n",
      "================================================================================================\n"
     ]
    },
    {
     "name": "stderr",
     "output_type": "stream",
     "text": [
      "/home/ydoit/AIGC/diffgan/diffgan/lib/python3.10/site-packages/torch/nn/utils/weight_norm.py:28: UserWarning: torch.nn.utils.weight_norm is deprecated in favor of torch.nn.utils.parametrizations.weight_norm.\n",
      "  warnings.warn(\"torch.nn.utils.weight_norm is deprecated in favor of torch.nn.utils.parametrizations.weight_norm.\")\n"
     ]
    },
    {
     "name": "stdout",
     "output_type": "stream",
     "text": [
      "Removing weight norm...\n",
      "Raw Text Sequence: Their vision was not impeded.\n",
      "\n",
      "Phoneme Sequence: {DH EH1 R V IH1 ZH AH0 N W AA1 Z N AA1 T IH0 M P IY1 D IH0 D sp}\n"
     ]
    },
    {
     "name": "stderr",
     "output_type": "stream",
     "text": [
      "  0%|          | 0/1 [00:00<?, ?it/s]\n",
      "sample time step:   0%|          | 0/4 [00:00<?, ?it/s]\u001b[A/home/ydoit/AIGC/diffgan/diffgan/lib/python3.10/site-packages/torch/nn/modules/conv.py:306: UserWarning: Plan failed with a cudnnException: CUDNN_BACKEND_EXECUTION_PLAN_DESCRIPTOR: cudnnFinalize Descriptor Failed cudnn_status: CUDNN_STATUS_NOT_SUPPORTED (Triggered internally at ../aten/src/ATen/native/cudnn/Conv_v8.cpp:919.)\n",
      "  return F.conv1d(input, weight, bias, self.stride,\n",
      "\n",
      "sample time step: 100%|██████████| 4/4 [00:00<00:00,  7.74it/s]\u001b[A\n",
      "100%|██████████| 1/1 [00:02<00:00,  2.45s/it]\n",
      "2024-05-15 03:42:55.921015: I tensorflow/core/platform/cpu_feature_guard.cc:210] This TensorFlow binary is optimized to use available CPU instructions in performance-critical operations.\n",
      "To enable the following instructions: AVX2 FMA, in other operations, rebuild TensorFlow with the appropriate compiler flags.\n",
      "2024-05-15 03:42:56.727434: W tensorflow/compiler/tf2tensorrt/utils/py_utils.cc:38] TF-TRT Warning: Could not find TensorRT\n"
     ]
    },
    {
     "name": "stdout",
     "output_type": "stream",
     "text": [
      "\n",
      "==================================== Inference Configuration ====================================\n",
      " ---> Type of Modeling: naive\n",
      " ---> Total Batch Size: 32\n",
      " ---> Path of ckpt: ./output/ckpt/VCTK_naive\n",
      " ---> Path of log: ./output/log/VCTK_naive\n",
      " ---> Path of result: ./output/result/VCTK_naive\n",
      "================================================================================================\n"
     ]
    },
    {
     "name": "stderr",
     "output_type": "stream",
     "text": [
      "/home/ydoit/AIGC/diffgan/diffgan/lib/python3.10/site-packages/torch/nn/utils/weight_norm.py:28: UserWarning: torch.nn.utils.weight_norm is deprecated in favor of torch.nn.utils.parametrizations.weight_norm.\n",
      "  warnings.warn(\"torch.nn.utils.weight_norm is deprecated in favor of torch.nn.utils.parametrizations.weight_norm.\")\n"
     ]
    },
    {
     "name": "stdout",
     "output_type": "stream",
     "text": [
      "Removing weight norm...\n",
      "Raw Text Sequence: Just two months ago it seemed an unlikely threat.\n",
      "\n",
      "Phoneme Sequence: {JH AH1 S T T UW1 M AH1 N TH S AH0 G OW1 IH0 T S IY1 M D AE1 N AH0 N L AY1 K L IY0 TH R EH1 T sp}\n"
     ]
    },
    {
     "name": "stderr",
     "output_type": "stream",
     "text": [
      "  0%|          | 0/1 [00:00<?, ?it/s]\n",
      "sample time step:   0%|          | 0/4 [00:00<?, ?it/s]\u001b[A\n",
      "sample time step: 100%|██████████| 4/4 [00:00<00:00,  7.39it/s]\u001b[A\n",
      "100%|██████████| 1/1 [00:02<00:00,  2.26s/it]\n",
      "2024-05-15 03:43:10.969855: I tensorflow/core/platform/cpu_feature_guard.cc:210] This TensorFlow binary is optimized to use available CPU instructions in performance-critical operations.\n",
      "To enable the following instructions: AVX2 FMA, in other operations, rebuild TensorFlow with the appropriate compiler flags.\n",
      "2024-05-15 03:43:11.750758: W tensorflow/compiler/tf2tensorrt/utils/py_utils.cc:38] TF-TRT Warning: Could not find TensorRT\n"
     ]
    },
    {
     "name": "stdout",
     "output_type": "stream",
     "text": [
      "\n",
      "==================================== Inference Configuration ====================================\n",
      " ---> Type of Modeling: naive\n",
      " ---> Total Batch Size: 32\n",
      " ---> Path of ckpt: ./output/ckpt/VCTK_naive\n",
      " ---> Path of log: ./output/log/VCTK_naive\n",
      " ---> Path of result: ./output/result/VCTK_naive\n",
      "================================================================================================\n"
     ]
    },
    {
     "name": "stderr",
     "output_type": "stream",
     "text": [
      "/home/ydoit/AIGC/diffgan/diffgan/lib/python3.10/site-packages/torch/nn/utils/weight_norm.py:28: UserWarning: torch.nn.utils.weight_norm is deprecated in favor of torch.nn.utils.parametrizations.weight_norm.\n",
      "  warnings.warn(\"torch.nn.utils.weight_norm is deprecated in favor of torch.nn.utils.parametrizations.weight_norm.\")\n"
     ]
    },
    {
     "name": "stdout",
     "output_type": "stream",
     "text": [
      "Removing weight norm...\n",
      "Raw Text Sequence: I believe in public services.\n",
      "\n",
      "Phoneme Sequence: {AY1 B IH0 L IY1 V IH0 N P AH1 B L IH0 K S ER1 V AH0 S AH0 Z sp}\n"
     ]
    },
    {
     "name": "stderr",
     "output_type": "stream",
     "text": [
      "  0%|          | 0/1 [00:00<?, ?it/s]\n",
      "sample time step:   0%|          | 0/4 [00:00<?, ?it/s]\u001b[A/home/ydoit/AIGC/diffgan/diffgan/lib/python3.10/site-packages/torch/nn/modules/conv.py:306: UserWarning: Plan failed with a cudnnException: CUDNN_BACKEND_EXECUTION_PLAN_DESCRIPTOR: cudnnFinalize Descriptor Failed cudnn_status: CUDNN_STATUS_NOT_SUPPORTED (Triggered internally at ../aten/src/ATen/native/cudnn/Conv_v8.cpp:919.)\n",
      "  return F.conv1d(input, weight, bias, self.stride,\n",
      "\n",
      "sample time step: 100%|██████████| 4/4 [00:00<00:00,  7.51it/s]\u001b[A\n",
      "100%|██████████| 1/1 [00:02<00:00,  2.31s/it]\n",
      "2024-05-15 03:43:25.293154: I tensorflow/core/platform/cpu_feature_guard.cc:210] This TensorFlow binary is optimized to use available CPU instructions in performance-critical operations.\n",
      "To enable the following instructions: AVX2 FMA, in other operations, rebuild TensorFlow with the appropriate compiler flags.\n",
      "2024-05-15 03:43:26.066894: W tensorflow/compiler/tf2tensorrt/utils/py_utils.cc:38] TF-TRT Warning: Could not find TensorRT\n"
     ]
    },
    {
     "name": "stdout",
     "output_type": "stream",
     "text": [
      "\n",
      "==================================== Inference Configuration ====================================\n",
      " ---> Type of Modeling: naive\n",
      " ---> Total Batch Size: 32\n",
      " ---> Path of ckpt: ./output/ckpt/VCTK_naive\n",
      " ---> Path of log: ./output/log/VCTK_naive\n",
      " ---> Path of result: ./output/result/VCTK_naive\n",
      "================================================================================================\n"
     ]
    },
    {
     "name": "stderr",
     "output_type": "stream",
     "text": [
      "/home/ydoit/AIGC/diffgan/diffgan/lib/python3.10/site-packages/torch/nn/utils/weight_norm.py:28: UserWarning: torch.nn.utils.weight_norm is deprecated in favor of torch.nn.utils.parametrizations.weight_norm.\n",
      "  warnings.warn(\"torch.nn.utils.weight_norm is deprecated in favor of torch.nn.utils.parametrizations.weight_norm.\")\n"
     ]
    },
    {
     "name": "stdout",
     "output_type": "stream",
     "text": [
      "Removing weight norm...\n",
      "Raw Text Sequence: Of course, we have to be very concerned about that.\n",
      "\n",
      "Phoneme Sequence: {AH0 V K AO1 R S sp W IY1 HH AE1 V T AH0 B IY0 V EH1 R IY0 K AH0 N S ER1 N D AH0 B AW1 T DH AE1 T sp}\n"
     ]
    },
    {
     "name": "stderr",
     "output_type": "stream",
     "text": [
      "  0%|          | 0/1 [00:00<?, ?it/s]\n",
      "sample time step:   0%|          | 0/4 [00:00<?, ?it/s]\u001b[A\n",
      "sample time step: 100%|██████████| 4/4 [00:00<00:00,  9.04it/s]\u001b[A\n",
      "100%|██████████| 1/1 [00:01<00:00,  1.73s/it]\n",
      "2024-05-15 03:43:38.629649: I tensorflow/core/platform/cpu_feature_guard.cc:210] This TensorFlow binary is optimized to use available CPU instructions in performance-critical operations.\n",
      "To enable the following instructions: AVX2 FMA, in other operations, rebuild TensorFlow with the appropriate compiler flags.\n",
      "2024-05-15 03:43:39.623003: W tensorflow/compiler/tf2tensorrt/utils/py_utils.cc:38] TF-TRT Warning: Could not find TensorRT\n"
     ]
    },
    {
     "name": "stdout",
     "output_type": "stream",
     "text": [
      "\n",
      "==================================== Inference Configuration ====================================\n",
      " ---> Type of Modeling: naive\n",
      " ---> Total Batch Size: 32\n",
      " ---> Path of ckpt: ./output/ckpt/VCTK_naive\n",
      " ---> Path of log: ./output/log/VCTK_naive\n",
      " ---> Path of result: ./output/result/VCTK_naive\n",
      "================================================================================================\n"
     ]
    },
    {
     "name": "stderr",
     "output_type": "stream",
     "text": [
      "/home/ydoit/AIGC/diffgan/diffgan/lib/python3.10/site-packages/torch/nn/utils/weight_norm.py:28: UserWarning: torch.nn.utils.weight_norm is deprecated in favor of torch.nn.utils.parametrizations.weight_norm.\n",
      "  warnings.warn(\"torch.nn.utils.weight_norm is deprecated in favor of torch.nn.utils.parametrizations.weight_norm.\")\n"
     ]
    },
    {
     "name": "stdout",
     "output_type": "stream",
     "text": [
      "Removing weight norm...\n",
      "Raw Text Sequence: You should always be able to get out in some direction.\n",
      "\n",
      "Phoneme Sequence: {Y UW1 SH UH1 D AO1 L W EY2 Z B IY0 EY1 B AH0 L T AH0 G EH1 T AW1 T IH0 N S AH1 M D AY0 R EH1 K SH IH0 N sp}\n"
     ]
    },
    {
     "name": "stderr",
     "output_type": "stream",
     "text": [
      "  0%|          | 0/1 [00:00<?, ?it/s]\n",
      "sample time step: 100%|██████████| 4/4 [00:00<00:00, 48.83it/s]\n",
      "100%|██████████| 1/1 [00:01<00:00,  1.53s/it]\n",
      "2024-05-15 03:43:52.305560: I tensorflow/core/platform/cpu_feature_guard.cc:210] This TensorFlow binary is optimized to use available CPU instructions in performance-critical operations.\n",
      "To enable the following instructions: AVX2 FMA, in other operations, rebuild TensorFlow with the appropriate compiler flags.\n",
      "2024-05-15 03:43:53.147738: W tensorflow/compiler/tf2tensorrt/utils/py_utils.cc:38] TF-TRT Warning: Could not find TensorRT\n"
     ]
    },
    {
     "name": "stdout",
     "output_type": "stream",
     "text": [
      "\n",
      "==================================== Inference Configuration ====================================\n",
      " ---> Type of Modeling: naive\n",
      " ---> Total Batch Size: 32\n",
      " ---> Path of ckpt: ./output/ckpt/VCTK_naive\n",
      " ---> Path of log: ./output/log/VCTK_naive\n",
      " ---> Path of result: ./output/result/VCTK_naive\n",
      "================================================================================================\n"
     ]
    },
    {
     "name": "stderr",
     "output_type": "stream",
     "text": [
      "/home/ydoit/AIGC/diffgan/diffgan/lib/python3.10/site-packages/torch/nn/utils/weight_norm.py:28: UserWarning: torch.nn.utils.weight_norm is deprecated in favor of torch.nn.utils.parametrizations.weight_norm.\n",
      "  warnings.warn(\"torch.nn.utils.weight_norm is deprecated in favor of torch.nn.utils.parametrizations.weight_norm.\")\n"
     ]
    },
    {
     "name": "stdout",
     "output_type": "stream",
     "text": [
      "Removing weight norm...\n",
      "Raw Text Sequence: I hope it has helped the prisoners.\n",
      "\n",
      "Phoneme Sequence: {AY1 HH OW1 P IH0 T HH AE1 Z HH EH1 L P T DH AH0 P R IH1 Z AH0 N ER0 Z sp}\n"
     ]
    },
    {
     "name": "stderr",
     "output_type": "stream",
     "text": [
      "  0%|          | 0/1 [00:00<?, ?it/s]\n",
      "sample time step:   0%|          | 0/4 [00:00<?, ?it/s]\u001b[A/home/ydoit/AIGC/diffgan/diffgan/lib/python3.10/site-packages/torch/nn/modules/conv.py:306: UserWarning: Plan failed with a cudnnException: CUDNN_BACKEND_EXECUTION_PLAN_DESCRIPTOR: cudnnFinalize Descriptor Failed cudnn_status: CUDNN_STATUS_NOT_SUPPORTED (Triggered internally at ../aten/src/ATen/native/cudnn/Conv_v8.cpp:919.)\n",
      "  return F.conv1d(input, weight, bias, self.stride,\n",
      "\n",
      "sample time step: 100%|██████████| 4/4 [00:00<00:00,  7.15it/s]\u001b[A\n",
      "100%|██████████| 1/1 [00:02<00:00,  2.20s/it]\n",
      "2024-05-15 03:44:09.936911: I tensorflow/core/platform/cpu_feature_guard.cc:210] This TensorFlow binary is optimized to use available CPU instructions in performance-critical operations.\n",
      "To enable the following instructions: AVX2 FMA, in other operations, rebuild TensorFlow with the appropriate compiler flags.\n",
      "2024-05-15 03:44:10.840148: W tensorflow/compiler/tf2tensorrt/utils/py_utils.cc:38] TF-TRT Warning: Could not find TensorRT\n"
     ]
    },
    {
     "name": "stdout",
     "output_type": "stream",
     "text": [
      "\n",
      "==================================== Inference Configuration ====================================\n",
      " ---> Type of Modeling: naive\n",
      " ---> Total Batch Size: 32\n",
      " ---> Path of ckpt: ./output/ckpt/VCTK_naive\n",
      " ---> Path of log: ./output/log/VCTK_naive\n",
      " ---> Path of result: ./output/result/VCTK_naive\n",
      "================================================================================================\n"
     ]
    },
    {
     "name": "stderr",
     "output_type": "stream",
     "text": [
      "/home/ydoit/AIGC/diffgan/diffgan/lib/python3.10/site-packages/torch/nn/utils/weight_norm.py:28: UserWarning: torch.nn.utils.weight_norm is deprecated in favor of torch.nn.utils.parametrizations.weight_norm.\n",
      "  warnings.warn(\"torch.nn.utils.weight_norm is deprecated in favor of torch.nn.utils.parametrizations.weight_norm.\")\n"
     ]
    },
    {
     "name": "stdout",
     "output_type": "stream",
     "text": [
      "Removing weight norm...\n",
      "Raw Text Sequence: Harry Potter has lost his magic.\n",
      "\n",
      "Phoneme Sequence: {HH EH1 R IY0 P AA1 T ER0 HH AE1 Z L AO1 S T HH IH0 Z M AE1 JH IH0 K sp}\n"
     ]
    },
    {
     "name": "stderr",
     "output_type": "stream",
     "text": [
      "  0%|          | 0/1 [00:00<?, ?it/s]\n",
      "sample time step: 100%|██████████| 4/4 [00:00<00:00, 45.88it/s]\n",
      "100%|██████████| 1/1 [00:01<00:00,  1.72s/it]\n",
      "2024-05-15 03:44:23.021350: I tensorflow/core/platform/cpu_feature_guard.cc:210] This TensorFlow binary is optimized to use available CPU instructions in performance-critical operations.\n",
      "To enable the following instructions: AVX2 FMA, in other operations, rebuild TensorFlow with the appropriate compiler flags.\n",
      "2024-05-15 03:44:23.928822: W tensorflow/compiler/tf2tensorrt/utils/py_utils.cc:38] TF-TRT Warning: Could not find TensorRT\n"
     ]
    },
    {
     "name": "stdout",
     "output_type": "stream",
     "text": [
      "\n",
      "==================================== Inference Configuration ====================================\n",
      " ---> Type of Modeling: naive\n",
      " ---> Total Batch Size: 32\n",
      " ---> Path of ckpt: ./output/ckpt/VCTK_naive\n",
      " ---> Path of log: ./output/log/VCTK_naive\n",
      " ---> Path of result: ./output/result/VCTK_naive\n",
      "================================================================================================\n"
     ]
    },
    {
     "name": "stderr",
     "output_type": "stream",
     "text": [
      "/home/ydoit/AIGC/diffgan/diffgan/lib/python3.10/site-packages/torch/nn/utils/weight_norm.py:28: UserWarning: torch.nn.utils.weight_norm is deprecated in favor of torch.nn.utils.parametrizations.weight_norm.\n",
      "  warnings.warn(\"torch.nn.utils.weight_norm is deprecated in favor of torch.nn.utils.parametrizations.weight_norm.\")\n"
     ]
    },
    {
     "name": "stdout",
     "output_type": "stream",
     "text": [
      "Removing weight norm...\n",
      "Raw Text Sequence: This has been a long process.\n",
      "\n",
      "Phoneme Sequence: {DH IH0 S HH AE1 Z B AH0 N AH0 L AO1 NG P R AA1 S EH2 S sp}\n"
     ]
    },
    {
     "name": "stderr",
     "output_type": "stream",
     "text": [
      "  0%|          | 0/1 [00:00<?, ?it/s]\n",
      "sample time step:   0%|          | 0/4 [00:00<?, ?it/s]\u001b[A/home/ydoit/AIGC/diffgan/diffgan/lib/python3.10/site-packages/torch/nn/modules/conv.py:306: UserWarning: Plan failed with a cudnnException: CUDNN_BACKEND_EXECUTION_PLAN_DESCRIPTOR: cudnnFinalize Descriptor Failed cudnn_status: CUDNN_STATUS_NOT_SUPPORTED (Triggered internally at ../aten/src/ATen/native/cudnn/Conv_v8.cpp:919.)\n",
      "  return F.conv1d(input, weight, bias, self.stride,\n",
      "\n",
      "sample time step: 100%|██████████| 4/4 [00:00<00:00,  6.53it/s]\u001b[A\n",
      "100%|██████████| 1/1 [00:02<00:00,  2.21s/it]\n",
      "2024-05-15 03:44:36.911728: I tensorflow/core/platform/cpu_feature_guard.cc:210] This TensorFlow binary is optimized to use available CPU instructions in performance-critical operations.\n",
      "To enable the following instructions: AVX2 FMA, in other operations, rebuild TensorFlow with the appropriate compiler flags.\n",
      "2024-05-15 03:44:37.684431: W tensorflow/compiler/tf2tensorrt/utils/py_utils.cc:38] TF-TRT Warning: Could not find TensorRT\n"
     ]
    },
    {
     "name": "stdout",
     "output_type": "stream",
     "text": [
      "\n",
      "==================================== Inference Configuration ====================================\n",
      " ---> Type of Modeling: naive\n",
      " ---> Total Batch Size: 32\n",
      " ---> Path of ckpt: ./output/ckpt/VCTK_naive\n",
      " ---> Path of log: ./output/log/VCTK_naive\n",
      " ---> Path of result: ./output/result/VCTK_naive\n",
      "================================================================================================\n"
     ]
    },
    {
     "name": "stderr",
     "output_type": "stream",
     "text": [
      "/home/ydoit/AIGC/diffgan/diffgan/lib/python3.10/site-packages/torch/nn/utils/weight_norm.py:28: UserWarning: torch.nn.utils.weight_norm is deprecated in favor of torch.nn.utils.parametrizations.weight_norm.\n",
      "  warnings.warn(\"torch.nn.utils.weight_norm is deprecated in favor of torch.nn.utils.parametrizations.weight_norm.\")\n"
     ]
    },
    {
     "name": "stdout",
     "output_type": "stream",
     "text": [
      "Removing weight norm...\n",
      "Raw Text Sequence: I am now unemployed.\n",
      "\n",
      "Phoneme Sequence: {AY1 AE1 M N AW1 AH2 N EH0 M P L OY1 D sp}\n"
     ]
    },
    {
     "name": "stderr",
     "output_type": "stream",
     "text": [
      "  0%|          | 0/1 [00:00<?, ?it/s]\n",
      "sample time step:   0%|          | 0/4 [00:00<?, ?it/s]\u001b[A/home/ydoit/AIGC/diffgan/diffgan/lib/python3.10/site-packages/torch/nn/modules/conv.py:306: UserWarning: Plan failed with a cudnnException: CUDNN_BACKEND_EXECUTION_PLAN_DESCRIPTOR: cudnnFinalize Descriptor Failed cudnn_status: CUDNN_STATUS_NOT_SUPPORTED (Triggered internally at ../aten/src/ATen/native/cudnn/Conv_v8.cpp:919.)\n",
      "  return F.conv1d(input, weight, bias, self.stride,\n",
      "\n",
      "sample time step: 100%|██████████| 4/4 [00:00<00:00,  7.36it/s]\u001b[A\n",
      "100%|██████████| 1/1 [00:02<00:00,  2.61s/it]\n",
      "2024-05-15 03:44:52.400718: I tensorflow/core/platform/cpu_feature_guard.cc:210] This TensorFlow binary is optimized to use available CPU instructions in performance-critical operations.\n",
      "To enable the following instructions: AVX2 FMA, in other operations, rebuild TensorFlow with the appropriate compiler flags.\n",
      "2024-05-15 03:44:53.189998: W tensorflow/compiler/tf2tensorrt/utils/py_utils.cc:38] TF-TRT Warning: Could not find TensorRT\n"
     ]
    },
    {
     "name": "stdout",
     "output_type": "stream",
     "text": [
      "\n",
      "==================================== Inference Configuration ====================================\n",
      " ---> Type of Modeling: naive\n",
      " ---> Total Batch Size: 32\n",
      " ---> Path of ckpt: ./output/ckpt/VCTK_naive\n",
      " ---> Path of log: ./output/log/VCTK_naive\n",
      " ---> Path of result: ./output/result/VCTK_naive\n",
      "================================================================================================\n"
     ]
    },
    {
     "name": "stderr",
     "output_type": "stream",
     "text": [
      "/home/ydoit/AIGC/diffgan/diffgan/lib/python3.10/site-packages/torch/nn/utils/weight_norm.py:28: UserWarning: torch.nn.utils.weight_norm is deprecated in favor of torch.nn.utils.parametrizations.weight_norm.\n",
      "  warnings.warn(\"torch.nn.utils.weight_norm is deprecated in favor of torch.nn.utils.parametrizations.weight_norm.\")\n"
     ]
    },
    {
     "name": "stdout",
     "output_type": "stream",
     "text": [
      "Removing weight norm...\n",
      "Raw Text Sequence: I think the overall picture is still strong.\n",
      "\n",
      "Phoneme Sequence: {AY1 TH IH1 NG K DH AH0 OW1 V ER0 AO2 L P IH1 K CH ER0 IH0 Z S T IH1 L S T R AO1 NG sp}\n"
     ]
    },
    {
     "name": "stderr",
     "output_type": "stream",
     "text": [
      "  0%|          | 0/1 [00:00<?, ?it/s]\n",
      "sample time step:   0%|          | 0/4 [00:00<?, ?it/s]\u001b[A\n",
      "sample time step: 100%|██████████| 4/4 [00:00<00:00,  6.96it/s]\u001b[A\n",
      "100%|██████████| 1/1 [00:02<00:00,  2.05s/it]\n",
      "2024-05-15 03:45:08.398357: I tensorflow/core/platform/cpu_feature_guard.cc:210] This TensorFlow binary is optimized to use available CPU instructions in performance-critical operations.\n",
      "To enable the following instructions: AVX2 FMA, in other operations, rebuild TensorFlow with the appropriate compiler flags.\n",
      "2024-05-15 03:45:09.215964: W tensorflow/compiler/tf2tensorrt/utils/py_utils.cc:38] TF-TRT Warning: Could not find TensorRT\n"
     ]
    },
    {
     "name": "stdout",
     "output_type": "stream",
     "text": [
      "\n",
      "==================================== Inference Configuration ====================================\n",
      " ---> Type of Modeling: naive\n",
      " ---> Total Batch Size: 32\n",
      " ---> Path of ckpt: ./output/ckpt/VCTK_naive\n",
      " ---> Path of log: ./output/log/VCTK_naive\n",
      " ---> Path of result: ./output/result/VCTK_naive\n",
      "================================================================================================\n"
     ]
    },
    {
     "name": "stderr",
     "output_type": "stream",
     "text": [
      "/home/ydoit/AIGC/diffgan/diffgan/lib/python3.10/site-packages/torch/nn/utils/weight_norm.py:28: UserWarning: torch.nn.utils.weight_norm is deprecated in favor of torch.nn.utils.parametrizations.weight_norm.\n",
      "  warnings.warn(\"torch.nn.utils.weight_norm is deprecated in favor of torch.nn.utils.parametrizations.weight_norm.\")\n"
     ]
    },
    {
     "name": "stdout",
     "output_type": "stream",
     "text": [
      "Removing weight norm...\n",
      "Raw Text Sequence: This solution is not being considered in Scotland.\n",
      "\n",
      "Phoneme Sequence: {DH IH0 S S AH0 L UW1 SH AH0 N IH0 Z N AA1 T B IY1 IH0 NG K AH0 N S IH1 D ER0 D IH0 N S K AA1 T L AH0 N D sp}\n"
     ]
    },
    {
     "name": "stderr",
     "output_type": "stream",
     "text": [
      "  0%|          | 0/1 [00:00<?, ?it/s]\n",
      "sample time step:   0%|          | 0/4 [00:00<?, ?it/s]\u001b[A\n",
      "sample time step: 100%|██████████| 4/4 [00:00<00:00,  7.89it/s]\u001b[A\n",
      "100%|██████████| 1/1 [00:02<00:00,  2.26s/it]\n",
      "2024-05-15 03:45:22.419580: I tensorflow/core/platform/cpu_feature_guard.cc:210] This TensorFlow binary is optimized to use available CPU instructions in performance-critical operations.\n",
      "To enable the following instructions: AVX2 FMA, in other operations, rebuild TensorFlow with the appropriate compiler flags.\n",
      "2024-05-15 03:45:23.236246: W tensorflow/compiler/tf2tensorrt/utils/py_utils.cc:38] TF-TRT Warning: Could not find TensorRT\n"
     ]
    },
    {
     "name": "stdout",
     "output_type": "stream",
     "text": [
      "\n",
      "==================================== Inference Configuration ====================================\n",
      " ---> Type of Modeling: naive\n",
      " ---> Total Batch Size: 32\n",
      " ---> Path of ckpt: ./output/ckpt/VCTK_naive\n",
      " ---> Path of log: ./output/log/VCTK_naive\n",
      " ---> Path of result: ./output/result/VCTK_naive\n",
      "================================================================================================\n"
     ]
    },
    {
     "name": "stderr",
     "output_type": "stream",
     "text": [
      "/home/ydoit/AIGC/diffgan/diffgan/lib/python3.10/site-packages/torch/nn/utils/weight_norm.py:28: UserWarning: torch.nn.utils.weight_norm is deprecated in favor of torch.nn.utils.parametrizations.weight_norm.\n",
      "  warnings.warn(\"torch.nn.utils.weight_norm is deprecated in favor of torch.nn.utils.parametrizations.weight_norm.\")\n"
     ]
    },
    {
     "name": "stdout",
     "output_type": "stream",
     "text": [
      "Removing weight norm...\n",
      "Raw Text Sequence: Only the details have to be sorted out.\n",
      "\n",
      "Phoneme Sequence: {OW1 N L IY0 DH AH0 D IH0 T EY1 L Z HH AE1 V T AH0 B IY0 S AO1 R T IH0 D AW1 T sp}\n"
     ]
    },
    {
     "name": "stderr",
     "output_type": "stream",
     "text": [
      "  0%|          | 0/1 [00:00<?, ?it/s]\n",
      "sample time step: 100%|██████████| 4/4 [00:00<00:00, 44.68it/s]\n",
      "100%|██████████| 1/1 [00:01<00:00,  1.55s/it]\n",
      "2024-05-15 03:45:37.050755: I tensorflow/core/platform/cpu_feature_guard.cc:210] This TensorFlow binary is optimized to use available CPU instructions in performance-critical operations.\n",
      "To enable the following instructions: AVX2 FMA, in other operations, rebuild TensorFlow with the appropriate compiler flags.\n",
      "2024-05-15 03:45:38.084919: W tensorflow/compiler/tf2tensorrt/utils/py_utils.cc:38] TF-TRT Warning: Could not find TensorRT\n"
     ]
    },
    {
     "name": "stdout",
     "output_type": "stream",
     "text": [
      "\n",
      "==================================== Inference Configuration ====================================\n",
      " ---> Type of Modeling: naive\n",
      " ---> Total Batch Size: 32\n",
      " ---> Path of ckpt: ./output/ckpt/VCTK_naive\n",
      " ---> Path of log: ./output/log/VCTK_naive\n",
      " ---> Path of result: ./output/result/VCTK_naive\n",
      "================================================================================================\n"
     ]
    },
    {
     "name": "stderr",
     "output_type": "stream",
     "text": [
      "/home/ydoit/AIGC/diffgan/diffgan/lib/python3.10/site-packages/torch/nn/utils/weight_norm.py:28: UserWarning: torch.nn.utils.weight_norm is deprecated in favor of torch.nn.utils.parametrizations.weight_norm.\n",
      "  warnings.warn(\"torch.nn.utils.weight_norm is deprecated in favor of torch.nn.utils.parametrizations.weight_norm.\")\n"
     ]
    },
    {
     "name": "stdout",
     "output_type": "stream",
     "text": [
      "Removing weight norm...\n",
      "Raw Text Sequence: Size is not the issue.\n",
      "\n",
      "Phoneme Sequence: {S AY1 Z IH0 Z N AA1 T DH AH0 IH1 SH UW0 sp}\n"
     ]
    },
    {
     "name": "stderr",
     "output_type": "stream",
     "text": [
      "  0%|          | 0/1 [00:00<?, ?it/s]\n",
      "sample time step:   0%|          | 0/4 [00:00<?, ?it/s]\u001b[A/home/ydoit/AIGC/diffgan/diffgan/lib/python3.10/site-packages/torch/nn/modules/conv.py:306: UserWarning: Plan failed with a cudnnException: CUDNN_BACKEND_EXECUTION_PLAN_DESCRIPTOR: cudnnFinalize Descriptor Failed cudnn_status: CUDNN_STATUS_NOT_SUPPORTED (Triggered internally at ../aten/src/ATen/native/cudnn/Conv_v8.cpp:919.)\n",
      "  return F.conv1d(input, weight, bias, self.stride,\n",
      "\n",
      "sample time step: 100%|██████████| 4/4 [00:00<00:00, 11.08it/s]\u001b[A\n",
      "100%|██████████| 1/1 [00:01<00:00,  1.57s/it]\n",
      "2024-05-15 03:45:53.808355: I tensorflow/core/platform/cpu_feature_guard.cc:210] This TensorFlow binary is optimized to use available CPU instructions in performance-critical operations.\n",
      "To enable the following instructions: AVX2 FMA, in other operations, rebuild TensorFlow with the appropriate compiler flags.\n",
      "2024-05-15 03:45:54.630451: W tensorflow/compiler/tf2tensorrt/utils/py_utils.cc:38] TF-TRT Warning: Could not find TensorRT\n"
     ]
    },
    {
     "name": "stdout",
     "output_type": "stream",
     "text": [
      "\n",
      "==================================== Inference Configuration ====================================\n",
      " ---> Type of Modeling: naive\n",
      " ---> Total Batch Size: 32\n",
      " ---> Path of ckpt: ./output/ckpt/VCTK_naive\n",
      " ---> Path of log: ./output/log/VCTK_naive\n",
      " ---> Path of result: ./output/result/VCTK_naive\n",
      "================================================================================================\n"
     ]
    },
    {
     "name": "stderr",
     "output_type": "stream",
     "text": [
      "/home/ydoit/AIGC/diffgan/diffgan/lib/python3.10/site-packages/torch/nn/utils/weight_norm.py:28: UserWarning: torch.nn.utils.weight_norm is deprecated in favor of torch.nn.utils.parametrizations.weight_norm.\n",
      "  warnings.warn(\"torch.nn.utils.weight_norm is deprecated in favor of torch.nn.utils.parametrizations.weight_norm.\")\n"
     ]
    },
    {
     "name": "stdout",
     "output_type": "stream",
     "text": [
      "Removing weight norm...\n",
      "Raw Text Sequence: The motive for the shooting was not known.\n",
      "\n",
      "Phoneme Sequence: {DH AH0 M OW1 T IH0 V F AO1 R DH AH0 SH UW1 T IH0 NG W AA1 Z N AA1 T N OW1 N sp}\n"
     ]
    },
    {
     "name": "stderr",
     "output_type": "stream",
     "text": [
      "  0%|          | 0/1 [00:00<?, ?it/s]\n",
      "sample time step:   0%|          | 0/4 [00:00<?, ?it/s]\u001b[A\n",
      "sample time step: 100%|██████████| 4/4 [00:00<00:00,  9.20it/s]\u001b[A\n",
      "100%|██████████| 1/1 [00:02<00:00,  2.15s/it]\n",
      "2024-05-15 03:46:08.459485: I tensorflow/core/platform/cpu_feature_guard.cc:210] This TensorFlow binary is optimized to use available CPU instructions in performance-critical operations.\n",
      "To enable the following instructions: AVX2 FMA, in other operations, rebuild TensorFlow with the appropriate compiler flags.\n",
      "2024-05-15 03:46:09.268404: W tensorflow/compiler/tf2tensorrt/utils/py_utils.cc:38] TF-TRT Warning: Could not find TensorRT\n"
     ]
    },
    {
     "name": "stdout",
     "output_type": "stream",
     "text": [
      "\n",
      "==================================== Inference Configuration ====================================\n",
      " ---> Type of Modeling: naive\n",
      " ---> Total Batch Size: 32\n",
      " ---> Path of ckpt: ./output/ckpt/VCTK_naive\n",
      " ---> Path of log: ./output/log/VCTK_naive\n",
      " ---> Path of result: ./output/result/VCTK_naive\n",
      "================================================================================================\n"
     ]
    },
    {
     "name": "stderr",
     "output_type": "stream",
     "text": [
      "/home/ydoit/AIGC/diffgan/diffgan/lib/python3.10/site-packages/torch/nn/utils/weight_norm.py:28: UserWarning: torch.nn.utils.weight_norm is deprecated in favor of torch.nn.utils.parametrizations.weight_norm.\n",
      "  warnings.warn(\"torch.nn.utils.weight_norm is deprecated in favor of torch.nn.utils.parametrizations.weight_norm.\")\n"
     ]
    },
    {
     "name": "stdout",
     "output_type": "stream",
     "text": [
      "Removing weight norm...\n",
      "Raw Text Sequence: Clearly, there was a mix-up.\n",
      "\n",
      "Phoneme Sequence: {K L IH1 R L IY0 sp DH EH1 R W AA1 Z AH0 M IH1 K S sp AH1 P sp}\n"
     ]
    },
    {
     "name": "stderr",
     "output_type": "stream",
     "text": [
      "  0%|          | 0/1 [00:00<?, ?it/s]\n",
      "sample time step:   0%|          | 0/4 [00:00<?, ?it/s]\u001b[A/home/ydoit/AIGC/diffgan/diffgan/lib/python3.10/site-packages/torch/nn/modules/conv.py:306: UserWarning: Plan failed with a cudnnException: CUDNN_BACKEND_EXECUTION_PLAN_DESCRIPTOR: cudnnFinalize Descriptor Failed cudnn_status: CUDNN_STATUS_NOT_SUPPORTED (Triggered internally at ../aten/src/ATen/native/cudnn/Conv_v8.cpp:919.)\n",
      "  return F.conv1d(input, weight, bias, self.stride,\n",
      "\n",
      "sample time step: 100%|██████████| 4/4 [00:00<00:00, 39.86it/s]\u001b[A\n",
      "100%|██████████| 1/1 [00:01<00:00,  1.74s/it]\n",
      "2024-05-15 03:46:22.242543: I tensorflow/core/platform/cpu_feature_guard.cc:210] This TensorFlow binary is optimized to use available CPU instructions in performance-critical operations.\n",
      "To enable the following instructions: AVX2 FMA, in other operations, rebuild TensorFlow with the appropriate compiler flags.\n",
      "2024-05-15 03:46:23.055143: W tensorflow/compiler/tf2tensorrt/utils/py_utils.cc:38] TF-TRT Warning: Could not find TensorRT\n"
     ]
    },
    {
     "name": "stdout",
     "output_type": "stream",
     "text": [
      "\n",
      "==================================== Inference Configuration ====================================\n",
      " ---> Type of Modeling: naive\n",
      " ---> Total Batch Size: 32\n",
      " ---> Path of ckpt: ./output/ckpt/VCTK_naive\n",
      " ---> Path of log: ./output/log/VCTK_naive\n",
      " ---> Path of result: ./output/result/VCTK_naive\n",
      "================================================================================================\n"
     ]
    },
    {
     "name": "stderr",
     "output_type": "stream",
     "text": [
      "/home/ydoit/AIGC/diffgan/diffgan/lib/python3.10/site-packages/torch/nn/utils/weight_norm.py:28: UserWarning: torch.nn.utils.weight_norm is deprecated in favor of torch.nn.utils.parametrizations.weight_norm.\n",
      "  warnings.warn(\"torch.nn.utils.weight_norm is deprecated in favor of torch.nn.utils.parametrizations.weight_norm.\")\n"
     ]
    },
    {
     "name": "stdout",
     "output_type": "stream",
     "text": [
      "Removing weight norm...\n",
      "Raw Text Sequence: But no decision has been made.\n",
      "\n",
      "Phoneme Sequence: {B AH1 T N OW1 D IH0 S IH1 ZH AH0 N HH AE1 Z B AH0 N M EY1 D sp}\n"
     ]
    },
    {
     "name": "stderr",
     "output_type": "stream",
     "text": [
      "  0%|          | 0/1 [00:00<?, ?it/s]\n",
      "sample time step:   0%|          | 0/4 [00:00<?, ?it/s]\u001b[A/home/ydoit/AIGC/diffgan/diffgan/lib/python3.10/site-packages/torch/nn/modules/conv.py:306: UserWarning: Plan failed with a cudnnException: CUDNN_BACKEND_EXECUTION_PLAN_DESCRIPTOR: cudnnFinalize Descriptor Failed cudnn_status: CUDNN_STATUS_NOT_SUPPORTED (Triggered internally at ../aten/src/ATen/native/cudnn/Conv_v8.cpp:919.)\n",
      "  return F.conv1d(input, weight, bias, self.stride,\n",
      "\n",
      "sample time step: 100%|██████████| 4/4 [00:00<00:00,  5.93it/s]\u001b[A\n",
      "100%|██████████| 1/1 [00:02<00:00,  2.42s/it]\n",
      "2024-05-15 03:46:36.193267: I tensorflow/core/platform/cpu_feature_guard.cc:210] This TensorFlow binary is optimized to use available CPU instructions in performance-critical operations.\n",
      "To enable the following instructions: AVX2 FMA, in other operations, rebuild TensorFlow with the appropriate compiler flags.\n",
      "2024-05-15 03:46:37.004879: W tensorflow/compiler/tf2tensorrt/utils/py_utils.cc:38] TF-TRT Warning: Could not find TensorRT\n"
     ]
    },
    {
     "name": "stdout",
     "output_type": "stream",
     "text": [
      "\n",
      "==================================== Inference Configuration ====================================\n",
      " ---> Type of Modeling: naive\n",
      " ---> Total Batch Size: 32\n",
      " ---> Path of ckpt: ./output/ckpt/VCTK_naive\n",
      " ---> Path of log: ./output/log/VCTK_naive\n",
      " ---> Path of result: ./output/result/VCTK_naive\n",
      "================================================================================================\n"
     ]
    },
    {
     "name": "stderr",
     "output_type": "stream",
     "text": [
      "/home/ydoit/AIGC/diffgan/diffgan/lib/python3.10/site-packages/torch/nn/utils/weight_norm.py:28: UserWarning: torch.nn.utils.weight_norm is deprecated in favor of torch.nn.utils.parametrizations.weight_norm.\n",
      "  warnings.warn(\"torch.nn.utils.weight_norm is deprecated in favor of torch.nn.utils.parametrizations.weight_norm.\")\n"
     ]
    },
    {
     "name": "stdout",
     "output_type": "stream",
     "text": [
      "Removing weight norm...\n",
      "Raw Text Sequence: Only two things are certain.\n",
      "\n",
      "Phoneme Sequence: {OW1 N L IY0 T UW1 TH IH1 NG Z AA1 R S ER1 T AH0 N sp}\n"
     ]
    },
    {
     "name": "stderr",
     "output_type": "stream",
     "text": [
      "  0%|          | 0/1 [00:00<?, ?it/s]\n",
      "sample time step:   0%|          | 0/4 [00:00<?, ?it/s]\u001b[A/home/ydoit/AIGC/diffgan/diffgan/lib/python3.10/site-packages/torch/nn/modules/conv.py:306: UserWarning: Plan failed with a cudnnException: CUDNN_BACKEND_EXECUTION_PLAN_DESCRIPTOR: cudnnFinalize Descriptor Failed cudnn_status: CUDNN_STATUS_NOT_SUPPORTED (Triggered internally at ../aten/src/ATen/native/cudnn/Conv_v8.cpp:919.)\n",
      "  return F.conv1d(input, weight, bias, self.stride,\n",
      "\n",
      "sample time step: 100%|██████████| 4/4 [00:00<00:00,  8.01it/s]\u001b[A\n",
      "100%|██████████| 1/1 [00:02<00:00,  2.30s/it]\n",
      "2024-05-15 03:46:51.087795: I tensorflow/core/platform/cpu_feature_guard.cc:210] This TensorFlow binary is optimized to use available CPU instructions in performance-critical operations.\n",
      "To enable the following instructions: AVX2 FMA, in other operations, rebuild TensorFlow with the appropriate compiler flags.\n",
      "2024-05-15 03:46:51.863258: W tensorflow/compiler/tf2tensorrt/utils/py_utils.cc:38] TF-TRT Warning: Could not find TensorRT\n"
     ]
    },
    {
     "name": "stdout",
     "output_type": "stream",
     "text": [
      "\n",
      "==================================== Inference Configuration ====================================\n",
      " ---> Type of Modeling: naive\n",
      " ---> Total Batch Size: 32\n",
      " ---> Path of ckpt: ./output/ckpt/VCTK_naive\n",
      " ---> Path of log: ./output/log/VCTK_naive\n",
      " ---> Path of result: ./output/result/VCTK_naive\n",
      "================================================================================================\n"
     ]
    },
    {
     "name": "stderr",
     "output_type": "stream",
     "text": [
      "/home/ydoit/AIGC/diffgan/diffgan/lib/python3.10/site-packages/torch/nn/utils/weight_norm.py:28: UserWarning: torch.nn.utils.weight_norm is deprecated in favor of torch.nn.utils.parametrizations.weight_norm.\n",
      "  warnings.warn(\"torch.nn.utils.weight_norm is deprecated in favor of torch.nn.utils.parametrizations.weight_norm.\")\n"
     ]
    },
    {
     "name": "stdout",
     "output_type": "stream",
     "text": [
      "Removing weight norm...\n",
      "Raw Text Sequence: One would not want to go there anyway.\n",
      "\n",
      "Phoneme Sequence: {HH W AH1 N W UH1 D N AA1 T W AA1 N T T AH0 G OW1 DH EH1 R EH1 N IY0 W EY2 sp}\n"
     ]
    },
    {
     "name": "stderr",
     "output_type": "stream",
     "text": [
      "  0%|          | 0/1 [00:00<?, ?it/s]\n",
      "sample time step:   0%|          | 0/4 [00:00<?, ?it/s]\u001b[A/home/ydoit/AIGC/diffgan/diffgan/lib/python3.10/site-packages/torch/nn/modules/conv.py:306: UserWarning: Plan failed with a cudnnException: CUDNN_BACKEND_EXECUTION_PLAN_DESCRIPTOR: cudnnFinalize Descriptor Failed cudnn_status: CUDNN_STATUS_NOT_SUPPORTED (Triggered internally at ../aten/src/ATen/native/cudnn/Conv_v8.cpp:919.)\n",
      "  return F.conv1d(input, weight, bias, self.stride,\n",
      "\n",
      "sample time step: 100%|██████████| 4/4 [00:00<00:00,  7.91it/s]\u001b[A\n",
      "100%|██████████| 1/1 [00:02<00:00,  2.11s/it]\n",
      "2024-05-15 03:47:05.055308: I tensorflow/core/platform/cpu_feature_guard.cc:210] This TensorFlow binary is optimized to use available CPU instructions in performance-critical operations.\n",
      "To enable the following instructions: AVX2 FMA, in other operations, rebuild TensorFlow with the appropriate compiler flags.\n",
      "2024-05-15 03:47:05.894966: W tensorflow/compiler/tf2tensorrt/utils/py_utils.cc:38] TF-TRT Warning: Could not find TensorRT\n"
     ]
    },
    {
     "name": "stdout",
     "output_type": "stream",
     "text": [
      "\n",
      "==================================== Inference Configuration ====================================\n",
      " ---> Type of Modeling: naive\n",
      " ---> Total Batch Size: 32\n",
      " ---> Path of ckpt: ./output/ckpt/VCTK_naive\n",
      " ---> Path of log: ./output/log/VCTK_naive\n",
      " ---> Path of result: ./output/result/VCTK_naive\n",
      "================================================================================================\n"
     ]
    },
    {
     "name": "stderr",
     "output_type": "stream",
     "text": [
      "/home/ydoit/AIGC/diffgan/diffgan/lib/python3.10/site-packages/torch/nn/utils/weight_norm.py:28: UserWarning: torch.nn.utils.weight_norm is deprecated in favor of torch.nn.utils.parametrizations.weight_norm.\n",
      "  warnings.warn(\"torch.nn.utils.weight_norm is deprecated in favor of torch.nn.utils.parametrizations.weight_norm.\")\n"
     ]
    },
    {
     "name": "stdout",
     "output_type": "stream",
     "text": [
      "Removing weight norm...\n",
      "Raw Text Sequence: All my training is for Athens.\n",
      "\n",
      "Phoneme Sequence: {AO1 L M AY1 T R EY1 N IH0 NG IH0 Z F AO1 R AE1 TH AH0 N Z sp}\n"
     ]
    },
    {
     "name": "stderr",
     "output_type": "stream",
     "text": [
      "  0%|          | 0/1 [00:00<?, ?it/s]\n",
      "sample time step:   0%|          | 0/4 [00:00<?, ?it/s]\u001b[A/home/ydoit/AIGC/diffgan/diffgan/lib/python3.10/site-packages/torch/nn/modules/conv.py:306: UserWarning: Plan failed with a cudnnException: CUDNN_BACKEND_EXECUTION_PLAN_DESCRIPTOR: cudnnFinalize Descriptor Failed cudnn_status: CUDNN_STATUS_NOT_SUPPORTED (Triggered internally at ../aten/src/ATen/native/cudnn/Conv_v8.cpp:919.)\n",
      "  return F.conv1d(input, weight, bias, self.stride,\n",
      "sample time step: 100%|██████████| 4/4 [00:00<00:00, 47.75it/s]\n",
      "100%|██████████| 1/1 [00:02<00:00,  2.28s/it]\n",
      "2024-05-15 03:47:20.064040: I tensorflow/core/platform/cpu_feature_guard.cc:210] This TensorFlow binary is optimized to use available CPU instructions in performance-critical operations.\n",
      "To enable the following instructions: AVX2 FMA, in other operations, rebuild TensorFlow with the appropriate compiler flags.\n",
      "2024-05-15 03:47:20.841844: W tensorflow/compiler/tf2tensorrt/utils/py_utils.cc:38] TF-TRT Warning: Could not find TensorRT\n"
     ]
    },
    {
     "name": "stdout",
     "output_type": "stream",
     "text": [
      "\n",
      "==================================== Inference Configuration ====================================\n",
      " ---> Type of Modeling: naive\n",
      " ---> Total Batch Size: 32\n",
      " ---> Path of ckpt: ./output/ckpt/VCTK_naive\n",
      " ---> Path of log: ./output/log/VCTK_naive\n",
      " ---> Path of result: ./output/result/VCTK_naive\n",
      "================================================================================================\n"
     ]
    },
    {
     "name": "stderr",
     "output_type": "stream",
     "text": [
      "/home/ydoit/AIGC/diffgan/diffgan/lib/python3.10/site-packages/torch/nn/utils/weight_norm.py:28: UserWarning: torch.nn.utils.weight_norm is deprecated in favor of torch.nn.utils.parametrizations.weight_norm.\n",
      "  warnings.warn(\"torch.nn.utils.weight_norm is deprecated in favor of torch.nn.utils.parametrizations.weight_norm.\")\n"
     ]
    },
    {
     "name": "stdout",
     "output_type": "stream",
     "text": [
      "Removing weight norm...\n",
      "Raw Text Sequence: There are no problems between us at all.\n",
      "\n",
      "Phoneme Sequence: {DH EH1 R AA1 R N OW1 P R AA1 B L AH0 M Z B IH0 T W IY1 N AH1 S AE1 T AO1 L sp}\n"
     ]
    },
    {
     "name": "stderr",
     "output_type": "stream",
     "text": [
      "  0%|          | 0/1 [00:00<?, ?it/s]\n",
      "sample time step:   0%|          | 0/4 [00:00<?, ?it/s]\u001b[A\n",
      "sample time step: 100%|██████████| 4/4 [00:00<00:00,  8.63it/s]\u001b[A\n",
      "100%|██████████| 1/1 [00:01<00:00,  1.35s/it]\n",
      "2024-05-15 03:47:35.596524: I tensorflow/core/platform/cpu_feature_guard.cc:210] This TensorFlow binary is optimized to use available CPU instructions in performance-critical operations.\n",
      "To enable the following instructions: AVX2 FMA, in other operations, rebuild TensorFlow with the appropriate compiler flags.\n",
      "2024-05-15 03:47:36.358524: W tensorflow/compiler/tf2tensorrt/utils/py_utils.cc:38] TF-TRT Warning: Could not find TensorRT\n"
     ]
    },
    {
     "name": "stdout",
     "output_type": "stream",
     "text": [
      "\n",
      "==================================== Inference Configuration ====================================\n",
      " ---> Type of Modeling: naive\n",
      " ---> Total Batch Size: 32\n",
      " ---> Path of ckpt: ./output/ckpt/VCTK_naive\n",
      " ---> Path of log: ./output/log/VCTK_naive\n",
      " ---> Path of result: ./output/result/VCTK_naive\n",
      "================================================================================================\n"
     ]
    },
    {
     "name": "stderr",
     "output_type": "stream",
     "text": [
      "/home/ydoit/AIGC/diffgan/diffgan/lib/python3.10/site-packages/torch/nn/utils/weight_norm.py:28: UserWarning: torch.nn.utils.weight_norm is deprecated in favor of torch.nn.utils.parametrizations.weight_norm.\n",
      "  warnings.warn(\"torch.nn.utils.weight_norm is deprecated in favor of torch.nn.utils.parametrizations.weight_norm.\")\n"
     ]
    },
    {
     "name": "stdout",
     "output_type": "stream",
     "text": [
      "Removing weight norm...\n",
      "Raw Text Sequence: I am not ready to walk away.\n",
      "\n",
      "Phoneme Sequence: {AY1 AE1 M N AA1 T R EH1 D IY0 T AH0 W AA1 K AH0 W EY1 sp}\n"
     ]
    },
    {
     "name": "stderr",
     "output_type": "stream",
     "text": [
      "  0%|          | 0/1 [00:00<?, ?it/s]\n",
      "sample time step:   0%|          | 0/4 [00:00<?, ?it/s]\u001b[A\n",
      "sample time step: 100%|██████████| 4/4 [00:00<00:00,  9.62it/s]\u001b[A\n",
      "100%|██████████| 1/1 [00:01<00:00,  1.54s/it]\n",
      "2024-05-15 03:47:51.299231: I tensorflow/core/platform/cpu_feature_guard.cc:210] This TensorFlow binary is optimized to use available CPU instructions in performance-critical operations.\n",
      "To enable the following instructions: AVX2 FMA, in other operations, rebuild TensorFlow with the appropriate compiler flags.\n",
      "2024-05-15 03:47:52.261661: W tensorflow/compiler/tf2tensorrt/utils/py_utils.cc:38] TF-TRT Warning: Could not find TensorRT\n"
     ]
    },
    {
     "name": "stdout",
     "output_type": "stream",
     "text": [
      "\n",
      "==================================== Inference Configuration ====================================\n",
      " ---> Type of Modeling: naive\n",
      " ---> Total Batch Size: 32\n",
      " ---> Path of ckpt: ./output/ckpt/VCTK_naive\n",
      " ---> Path of log: ./output/log/VCTK_naive\n",
      " ---> Path of result: ./output/result/VCTK_naive\n",
      "================================================================================================\n"
     ]
    },
    {
     "name": "stderr",
     "output_type": "stream",
     "text": [
      "/home/ydoit/AIGC/diffgan/diffgan/lib/python3.10/site-packages/torch/nn/utils/weight_norm.py:28: UserWarning: torch.nn.utils.weight_norm is deprecated in favor of torch.nn.utils.parametrizations.weight_norm.\n",
      "  warnings.warn(\"torch.nn.utils.weight_norm is deprecated in favor of torch.nn.utils.parametrizations.weight_norm.\")\n"
     ]
    },
    {
     "name": "stdout",
     "output_type": "stream",
     "text": [
      "Removing weight norm...\n",
      "Raw Text Sequence: This view was echoed by the other Scottish analyst.\n",
      "\n",
      "Phoneme Sequence: {DH IH0 S V Y UW1 W AA1 Z EH1 K OW0 D B AY1 DH AH0 AH1 DH ER0 S K AA1 T IH0 SH AE1 N AH0 L AH0 S T sp}\n"
     ]
    },
    {
     "name": "stderr",
     "output_type": "stream",
     "text": [
      "  0%|          | 0/1 [00:00<?, ?it/s]\n",
      "sample time step:   0%|          | 0/4 [00:00<?, ?it/s]\u001b[A\n",
      "sample time step: 100%|██████████| 4/4 [00:00<00:00,  5.78it/s]\u001b[A\n",
      "100%|██████████| 1/1 [00:02<00:00,  2.54s/it]\n",
      "2024-05-15 03:48:07.097014: I tensorflow/core/platform/cpu_feature_guard.cc:210] This TensorFlow binary is optimized to use available CPU instructions in performance-critical operations.\n",
      "To enable the following instructions: AVX2 FMA, in other operations, rebuild TensorFlow with the appropriate compiler flags.\n",
      "2024-05-15 03:48:07.911464: W tensorflow/compiler/tf2tensorrt/utils/py_utils.cc:38] TF-TRT Warning: Could not find TensorRT\n"
     ]
    },
    {
     "name": "stdout",
     "output_type": "stream",
     "text": [
      "\n",
      "==================================== Inference Configuration ====================================\n",
      " ---> Type of Modeling: naive\n",
      " ---> Total Batch Size: 32\n",
      " ---> Path of ckpt: ./output/ckpt/VCTK_naive\n",
      " ---> Path of log: ./output/log/VCTK_naive\n",
      " ---> Path of result: ./output/result/VCTK_naive\n",
      "================================================================================================\n"
     ]
    },
    {
     "name": "stderr",
     "output_type": "stream",
     "text": [
      "/home/ydoit/AIGC/diffgan/diffgan/lib/python3.10/site-packages/torch/nn/utils/weight_norm.py:28: UserWarning: torch.nn.utils.weight_norm is deprecated in favor of torch.nn.utils.parametrizations.weight_norm.\n",
      "  warnings.warn(\"torch.nn.utils.weight_norm is deprecated in favor of torch.nn.utils.parametrizations.weight_norm.\")\n"
     ]
    },
    {
     "name": "stdout",
     "output_type": "stream",
     "text": [
      "Removing weight norm...\n",
      "Raw Text Sequence: He was at home with his pals.\n",
      "\n",
      "Phoneme Sequence: {HH IY1 W AA1 Z AE1 T HH OW1 M W IH0 DH HH IH0 Z P AE1 L Z sp}\n"
     ]
    },
    {
     "name": "stderr",
     "output_type": "stream",
     "text": [
      "  0%|          | 0/1 [00:00<?, ?it/s]\n",
      "sample time step:   0%|          | 0/4 [00:00<?, ?it/s]\u001b[A/home/ydoit/AIGC/diffgan/diffgan/lib/python3.10/site-packages/torch/nn/modules/conv.py:306: UserWarning: Plan failed with a cudnnException: CUDNN_BACKEND_EXECUTION_PLAN_DESCRIPTOR: cudnnFinalize Descriptor Failed cudnn_status: CUDNN_STATUS_NOT_SUPPORTED (Triggered internally at ../aten/src/ATen/native/cudnn/Conv_v8.cpp:919.)\n",
      "  return F.conv1d(input, weight, bias, self.stride,\n",
      "\n",
      "sample time step: 100%|██████████| 4/4 [00:00<00:00, 37.81it/s]\u001b[A\n",
      "100%|██████████| 1/1 [00:02<00:00,  2.80s/it]\n",
      "2024-05-15 03:48:24.075931: I tensorflow/core/platform/cpu_feature_guard.cc:210] This TensorFlow binary is optimized to use available CPU instructions in performance-critical operations.\n",
      "To enable the following instructions: AVX2 FMA, in other operations, rebuild TensorFlow with the appropriate compiler flags.\n",
      "2024-05-15 03:48:24.829299: W tensorflow/compiler/tf2tensorrt/utils/py_utils.cc:38] TF-TRT Warning: Could not find TensorRT\n"
     ]
    },
    {
     "name": "stdout",
     "output_type": "stream",
     "text": [
      "\n",
      "==================================== Inference Configuration ====================================\n",
      " ---> Type of Modeling: naive\n",
      " ---> Total Batch Size: 32\n",
      " ---> Path of ckpt: ./output/ckpt/VCTK_naive\n",
      " ---> Path of log: ./output/log/VCTK_naive\n",
      " ---> Path of result: ./output/result/VCTK_naive\n",
      "================================================================================================\n"
     ]
    },
    {
     "name": "stderr",
     "output_type": "stream",
     "text": [
      "/home/ydoit/AIGC/diffgan/diffgan/lib/python3.10/site-packages/torch/nn/utils/weight_norm.py:28: UserWarning: torch.nn.utils.weight_norm is deprecated in favor of torch.nn.utils.parametrizations.weight_norm.\n",
      "  warnings.warn(\"torch.nn.utils.weight_norm is deprecated in favor of torch.nn.utils.parametrizations.weight_norm.\")\n"
     ]
    },
    {
     "name": "stdout",
     "output_type": "stream",
     "text": [
      "Removing weight norm...\n",
      "Raw Text Sequence: The case was taken on by his brother.\n",
      "\n",
      "Phoneme Sequence: {DH AH0 K EY1 S W AA1 Z T EY1 K AH0 N AA1 N B AY1 HH IH0 Z B R AH1 DH ER0 sp}\n"
     ]
    },
    {
     "name": "stderr",
     "output_type": "stream",
     "text": [
      "  0%|          | 0/1 [00:00<?, ?it/s]\n",
      "sample time step: 100%|██████████| 4/4 [00:00<00:00, 48.48it/s]\n",
      "100%|██████████| 1/1 [00:01<00:00,  1.61s/it]\n",
      "2024-05-15 03:48:38.878168: I tensorflow/core/platform/cpu_feature_guard.cc:210] This TensorFlow binary is optimized to use available CPU instructions in performance-critical operations.\n",
      "To enable the following instructions: AVX2 FMA, in other operations, rebuild TensorFlow with the appropriate compiler flags.\n",
      "2024-05-15 03:48:40.007177: W tensorflow/compiler/tf2tensorrt/utils/py_utils.cc:38] TF-TRT Warning: Could not find TensorRT\n"
     ]
    },
    {
     "name": "stdout",
     "output_type": "stream",
     "text": [
      "\n",
      "==================================== Inference Configuration ====================================\n",
      " ---> Type of Modeling: naive\n",
      " ---> Total Batch Size: 32\n",
      " ---> Path of ckpt: ./output/ckpt/VCTK_naive\n",
      " ---> Path of log: ./output/log/VCTK_naive\n",
      " ---> Path of result: ./output/result/VCTK_naive\n",
      "================================================================================================\n"
     ]
    },
    {
     "name": "stderr",
     "output_type": "stream",
     "text": [
      "/home/ydoit/AIGC/diffgan/diffgan/lib/python3.10/site-packages/torch/nn/utils/weight_norm.py:28: UserWarning: torch.nn.utils.weight_norm is deprecated in favor of torch.nn.utils.parametrizations.weight_norm.\n",
      "  warnings.warn(\"torch.nn.utils.weight_norm is deprecated in favor of torch.nn.utils.parametrizations.weight_norm.\")\n"
     ]
    },
    {
     "name": "stdout",
     "output_type": "stream",
     "text": [
      "Removing weight norm...\n",
      "Raw Text Sequence: Lockerbie has been a terrible disaster for everyone.\n",
      "\n",
      "Phoneme Sequence: {L AA1 K ER0 B IY0 HH AE1 Z B AH0 N AH0 T EH1 R AH0 B AH0 L D IH0 Z AE1 S T ER0 F AO1 R EH1 V R IY0 W AH2 N sp}\n"
     ]
    },
    {
     "name": "stderr",
     "output_type": "stream",
     "text": [
      "  0%|          | 0/1 [00:00<?, ?it/s]\n",
      "sample time step: 100%|██████████| 4/4 [00:00<00:00, 48.58it/s]\n",
      "100%|██████████| 1/1 [00:01<00:00,  1.84s/it]\n",
      "2024-05-15 03:48:56.168056: I tensorflow/core/platform/cpu_feature_guard.cc:210] This TensorFlow binary is optimized to use available CPU instructions in performance-critical operations.\n",
      "To enable the following instructions: AVX2 FMA, in other operations, rebuild TensorFlow with the appropriate compiler flags.\n",
      "2024-05-15 03:48:56.986013: W tensorflow/compiler/tf2tensorrt/utils/py_utils.cc:38] TF-TRT Warning: Could not find TensorRT\n"
     ]
    },
    {
     "name": "stdout",
     "output_type": "stream",
     "text": [
      "\n",
      "==================================== Inference Configuration ====================================\n",
      " ---> Type of Modeling: naive\n",
      " ---> Total Batch Size: 32\n",
      " ---> Path of ckpt: ./output/ckpt/VCTK_naive\n",
      " ---> Path of log: ./output/log/VCTK_naive\n",
      " ---> Path of result: ./output/result/VCTK_naive\n",
      "================================================================================================\n"
     ]
    },
    {
     "name": "stderr",
     "output_type": "stream",
     "text": [
      "/home/ydoit/AIGC/diffgan/diffgan/lib/python3.10/site-packages/torch/nn/utils/weight_norm.py:28: UserWarning: torch.nn.utils.weight_norm is deprecated in favor of torch.nn.utils.parametrizations.weight_norm.\n",
      "  warnings.warn(\"torch.nn.utils.weight_norm is deprecated in favor of torch.nn.utils.parametrizations.weight_norm.\")\n"
     ]
    },
    {
     "name": "stdout",
     "output_type": "stream",
     "text": [
      "Removing weight norm...\n",
      "Raw Text Sequence: I am a member of the Labour Party staff.\n",
      "\n",
      "Phoneme Sequence: {AY1 AE1 M AH0 M EH1 M B ER0 AH0 V DH AH0 L EY1 B AW2 R P AA1 R T IY0 S T AE1 F sp}\n"
     ]
    },
    {
     "name": "stderr",
     "output_type": "stream",
     "text": [
      "  0%|          | 0/1 [00:00<?, ?it/s]\n",
      "sample time step:   0%|          | 0/4 [00:00<?, ?it/s]\u001b[A\n",
      "sample time step: 100%|██████████| 4/4 [00:00<00:00,  8.59it/s]\u001b[A\n",
      "100%|██████████| 1/1 [00:02<00:00,  2.22s/it]\n",
      "2024-05-15 03:49:10.338062: I tensorflow/core/platform/cpu_feature_guard.cc:210] This TensorFlow binary is optimized to use available CPU instructions in performance-critical operations.\n",
      "To enable the following instructions: AVX2 FMA, in other operations, rebuild TensorFlow with the appropriate compiler flags.\n",
      "2024-05-15 03:49:11.131891: W tensorflow/compiler/tf2tensorrt/utils/py_utils.cc:38] TF-TRT Warning: Could not find TensorRT\n"
     ]
    },
    {
     "name": "stdout",
     "output_type": "stream",
     "text": [
      "\n",
      "==================================== Inference Configuration ====================================\n",
      " ---> Type of Modeling: naive\n",
      " ---> Total Batch Size: 32\n",
      " ---> Path of ckpt: ./output/ckpt/VCTK_naive\n",
      " ---> Path of log: ./output/log/VCTK_naive\n",
      " ---> Path of result: ./output/result/VCTK_naive\n",
      "================================================================================================\n"
     ]
    },
    {
     "name": "stderr",
     "output_type": "stream",
     "text": [
      "/home/ydoit/AIGC/diffgan/diffgan/lib/python3.10/site-packages/torch/nn/utils/weight_norm.py:28: UserWarning: torch.nn.utils.weight_norm is deprecated in favor of torch.nn.utils.parametrizations.weight_norm.\n",
      "  warnings.warn(\"torch.nn.utils.weight_norm is deprecated in favor of torch.nn.utils.parametrizations.weight_norm.\")\n"
     ]
    },
    {
     "name": "stdout",
     "output_type": "stream",
     "text": [
      "Removing weight norm...\n",
      "Raw Text Sequence: My thoughts are with their families.\n",
      "\n",
      "Phoneme Sequence: {M AY1 TH AO1 T S AA1 R W IH0 DH DH EH1 R F AE1 M AH0 L IY0 Z sp}\n"
     ]
    },
    {
     "name": "stderr",
     "output_type": "stream",
     "text": [
      "  0%|          | 0/1 [00:00<?, ?it/s]\n",
      "sample time step:   0%|          | 0/4 [00:00<?, ?it/s]\u001b[A/home/ydoit/AIGC/diffgan/diffgan/lib/python3.10/site-packages/torch/nn/modules/conv.py:306: UserWarning: Plan failed with a cudnnException: CUDNN_BACKEND_EXECUTION_PLAN_DESCRIPTOR: cudnnFinalize Descriptor Failed cudnn_status: CUDNN_STATUS_NOT_SUPPORTED (Triggered internally at ../aten/src/ATen/native/cudnn/Conv_v8.cpp:919.)\n",
      "  return F.conv1d(input, weight, bias, self.stride,\n",
      "sample time step: 100%|██████████| 4/4 [00:00<00:00, 42.49it/s]\n",
      "100%|██████████| 1/1 [00:01<00:00,  1.75s/it]\n",
      "2024-05-15 03:49:25.196122: I tensorflow/core/platform/cpu_feature_guard.cc:210] This TensorFlow binary is optimized to use available CPU instructions in performance-critical operations.\n",
      "To enable the following instructions: AVX2 FMA, in other operations, rebuild TensorFlow with the appropriate compiler flags.\n",
      "2024-05-15 03:49:26.033914: W tensorflow/compiler/tf2tensorrt/utils/py_utils.cc:38] TF-TRT Warning: Could not find TensorRT\n"
     ]
    },
    {
     "name": "stdout",
     "output_type": "stream",
     "text": [
      "\n",
      "==================================== Inference Configuration ====================================\n",
      " ---> Type of Modeling: naive\n",
      " ---> Total Batch Size: 32\n",
      " ---> Path of ckpt: ./output/ckpt/VCTK_naive\n",
      " ---> Path of log: ./output/log/VCTK_naive\n",
      " ---> Path of result: ./output/result/VCTK_naive\n",
      "================================================================================================\n"
     ]
    },
    {
     "name": "stderr",
     "output_type": "stream",
     "text": [
      "/home/ydoit/AIGC/diffgan/diffgan/lib/python3.10/site-packages/torch/nn/utils/weight_norm.py:28: UserWarning: torch.nn.utils.weight_norm is deprecated in favor of torch.nn.utils.parametrizations.weight_norm.\n",
      "  warnings.warn(\"torch.nn.utils.weight_norm is deprecated in favor of torch.nn.utils.parametrizations.weight_norm.\")\n"
     ]
    },
    {
     "name": "stdout",
     "output_type": "stream",
     "text": [
      "Removing weight norm...\n",
      "Raw Text Sequence: Did he just want to be on telly?\n",
      "\n",
      "Phoneme Sequence: {D IH0 D HH IY1 JH AH1 S T W AA1 N T T AH0 B IY0 AA1 N T EH1 L IY0 sp}\n"
     ]
    },
    {
     "name": "stderr",
     "output_type": "stream",
     "text": [
      "  0%|          | 0/1 [00:00<?, ?it/s]\n",
      "sample time step:   0%|          | 0/4 [00:00<?, ?it/s]\u001b[A/home/ydoit/AIGC/diffgan/diffgan/lib/python3.10/site-packages/torch/nn/modules/conv.py:306: UserWarning: Plan failed with a cudnnException: CUDNN_BACKEND_EXECUTION_PLAN_DESCRIPTOR: cudnnFinalize Descriptor Failed cudnn_status: CUDNN_STATUS_NOT_SUPPORTED (Triggered internally at ../aten/src/ATen/native/cudnn/Conv_v8.cpp:919.)\n",
      "  return F.conv1d(input, weight, bias, self.stride,\n",
      "\n",
      "sample time step: 100%|██████████| 4/4 [00:00<00:00, 36.40it/s]\u001b[A\n",
      "100%|██████████| 1/1 [00:01<00:00,  1.99s/it]\n",
      "2024-05-15 03:49:37.850983: I tensorflow/core/platform/cpu_feature_guard.cc:210] This TensorFlow binary is optimized to use available CPU instructions in performance-critical operations.\n",
      "To enable the following instructions: AVX2 FMA, in other operations, rebuild TensorFlow with the appropriate compiler flags.\n",
      "2024-05-15 03:49:38.641299: W tensorflow/compiler/tf2tensorrt/utils/py_utils.cc:38] TF-TRT Warning: Could not find TensorRT\n"
     ]
    },
    {
     "name": "stdout",
     "output_type": "stream",
     "text": [
      "\n",
      "==================================== Inference Configuration ====================================\n",
      " ---> Type of Modeling: naive\n",
      " ---> Total Batch Size: 32\n",
      " ---> Path of ckpt: ./output/ckpt/VCTK_naive\n",
      " ---> Path of log: ./output/log/VCTK_naive\n",
      " ---> Path of result: ./output/result/VCTK_naive\n",
      "================================================================================================\n"
     ]
    },
    {
     "name": "stderr",
     "output_type": "stream",
     "text": [
      "/home/ydoit/AIGC/diffgan/diffgan/lib/python3.10/site-packages/torch/nn/utils/weight_norm.py:28: UserWarning: torch.nn.utils.weight_norm is deprecated in favor of torch.nn.utils.parametrizations.weight_norm.\n",
      "  warnings.warn(\"torch.nn.utils.weight_norm is deprecated in favor of torch.nn.utils.parametrizations.weight_norm.\")\n"
     ]
    },
    {
     "name": "stdout",
     "output_type": "stream",
     "text": [
      "Removing weight norm...\n",
      "Raw Text Sequence: This is an audience determined to enjoy themselves.\n",
      "\n",
      "Phoneme Sequence: {DH IH0 S IH0 Z AE1 N AA1 D IY0 AH0 N S D IH0 T ER1 M AH0 N D T AH0 EH0 N JH OY1 DH AH0 M S EH1 L V Z sp}\n"
     ]
    },
    {
     "name": "stderr",
     "output_type": "stream",
     "text": [
      "  0%|          | 0/1 [00:00<?, ?it/s]\n",
      "sample time step:   0%|          | 0/4 [00:00<?, ?it/s]\u001b[A\n",
      "sample time step: 100%|██████████| 4/4 [00:00<00:00, 38.56it/s]\u001b[A\n",
      "100%|██████████| 1/1 [00:02<00:00,  2.22s/it]\n",
      "2024-05-15 03:49:53.709470: I tensorflow/core/platform/cpu_feature_guard.cc:210] This TensorFlow binary is optimized to use available CPU instructions in performance-critical operations.\n",
      "To enable the following instructions: AVX2 FMA, in other operations, rebuild TensorFlow with the appropriate compiler flags.\n",
      "2024-05-15 03:49:54.489746: W tensorflow/compiler/tf2tensorrt/utils/py_utils.cc:38] TF-TRT Warning: Could not find TensorRT\n"
     ]
    },
    {
     "name": "stdout",
     "output_type": "stream",
     "text": [
      "\n",
      "==================================== Inference Configuration ====================================\n",
      " ---> Type of Modeling: naive\n",
      " ---> Total Batch Size: 32\n",
      " ---> Path of ckpt: ./output/ckpt/VCTK_naive\n",
      " ---> Path of log: ./output/log/VCTK_naive\n",
      " ---> Path of result: ./output/result/VCTK_naive\n",
      "================================================================================================\n"
     ]
    },
    {
     "name": "stderr",
     "output_type": "stream",
     "text": [
      "/home/ydoit/AIGC/diffgan/diffgan/lib/python3.10/site-packages/torch/nn/utils/weight_norm.py:28: UserWarning: torch.nn.utils.weight_norm is deprecated in favor of torch.nn.utils.parametrizations.weight_norm.\n",
      "  warnings.warn(\"torch.nn.utils.weight_norm is deprecated in favor of torch.nn.utils.parametrizations.weight_norm.\")\n"
     ]
    },
    {
     "name": "stdout",
     "output_type": "stream",
     "text": [
      "Removing weight norm...\n",
      "Raw Text Sequence: Among them is his beloved teacher.\n",
      "\n",
      "Phoneme Sequence: {AH0 M AH1 NG DH AH0 M IH0 Z HH IH0 Z B IH0 L AH1 V AH0 D T IY1 CH ER0 sp}\n"
     ]
    },
    {
     "name": "stderr",
     "output_type": "stream",
     "text": [
      "  0%|          | 0/1 [00:00<?, ?it/s]\n",
      "sample time step:   0%|          | 0/4 [00:00<?, ?it/s]\u001b[A/home/ydoit/AIGC/diffgan/diffgan/lib/python3.10/site-packages/torch/nn/modules/conv.py:306: UserWarning: Plan failed with a cudnnException: CUDNN_BACKEND_EXECUTION_PLAN_DESCRIPTOR: cudnnFinalize Descriptor Failed cudnn_status: CUDNN_STATUS_NOT_SUPPORTED (Triggered internally at ../aten/src/ATen/native/cudnn/Conv_v8.cpp:919.)\n",
      "  return F.conv1d(input, weight, bias, self.stride,\n",
      "\n",
      "sample time step: 100%|██████████| 4/4 [00:00<00:00,  5.68it/s]\u001b[A\n",
      "100%|██████████| 1/1 [00:02<00:00,  2.58s/it]\n",
      "2024-05-15 03:50:07.795461: I tensorflow/core/platform/cpu_feature_guard.cc:210] This TensorFlow binary is optimized to use available CPU instructions in performance-critical operations.\n",
      "To enable the following instructions: AVX2 FMA, in other operations, rebuild TensorFlow with the appropriate compiler flags.\n",
      "2024-05-15 03:50:08.553236: W tensorflow/compiler/tf2tensorrt/utils/py_utils.cc:38] TF-TRT Warning: Could not find TensorRT\n"
     ]
    },
    {
     "name": "stdout",
     "output_type": "stream",
     "text": [
      "\n",
      "==================================== Inference Configuration ====================================\n",
      " ---> Type of Modeling: naive\n",
      " ---> Total Batch Size: 32\n",
      " ---> Path of ckpt: ./output/ckpt/VCTK_naive\n",
      " ---> Path of log: ./output/log/VCTK_naive\n",
      " ---> Path of result: ./output/result/VCTK_naive\n",
      "================================================================================================\n"
     ]
    },
    {
     "name": "stderr",
     "output_type": "stream",
     "text": [
      "/home/ydoit/AIGC/diffgan/diffgan/lib/python3.10/site-packages/torch/nn/utils/weight_norm.py:28: UserWarning: torch.nn.utils.weight_norm is deprecated in favor of torch.nn.utils.parametrizations.weight_norm.\n",
      "  warnings.warn(\"torch.nn.utils.weight_norm is deprecated in favor of torch.nn.utils.parametrizations.weight_norm.\")\n"
     ]
    },
    {
     "name": "stdout",
     "output_type": "stream",
     "text": [
      "Removing weight norm...\n",
      "Raw Text Sequence: He can perform well under pressure.\n",
      "\n",
      "Phoneme Sequence: {HH IY1 K AE1 N P ER0 F AO1 R M W EH1 L AH1 N D ER0 P R EH1 SH ER0 sp}\n"
     ]
    },
    {
     "name": "stderr",
     "output_type": "stream",
     "text": [
      "  0%|          | 0/1 [00:00<?, ?it/s]\n",
      "sample time step:   0%|          | 0/4 [00:00<?, ?it/s]\u001b[A/home/ydoit/AIGC/diffgan/diffgan/lib/python3.10/site-packages/torch/nn/modules/conv.py:306: UserWarning: Plan failed with a cudnnException: CUDNN_BACKEND_EXECUTION_PLAN_DESCRIPTOR: cudnnFinalize Descriptor Failed cudnn_status: CUDNN_STATUS_NOT_SUPPORTED (Triggered internally at ../aten/src/ATen/native/cudnn/Conv_v8.cpp:919.)\n",
      "  return F.conv1d(input, weight, bias, self.stride,\n",
      "\n",
      "sample time step: 100%|██████████| 4/4 [00:00<00:00,  8.23it/s]\u001b[A\n",
      "100%|██████████| 1/1 [00:02<00:00,  2.24s/it]\n",
      "2024-05-15 03:50:22.030974: I tensorflow/core/platform/cpu_feature_guard.cc:210] This TensorFlow binary is optimized to use available CPU instructions in performance-critical operations.\n",
      "To enable the following instructions: AVX2 FMA, in other operations, rebuild TensorFlow with the appropriate compiler flags.\n",
      "2024-05-15 03:50:22.785577: W tensorflow/compiler/tf2tensorrt/utils/py_utils.cc:38] TF-TRT Warning: Could not find TensorRT\n"
     ]
    },
    {
     "name": "stdout",
     "output_type": "stream",
     "text": [
      "\n",
      "==================================== Inference Configuration ====================================\n",
      " ---> Type of Modeling: naive\n",
      " ---> Total Batch Size: 32\n",
      " ---> Path of ckpt: ./output/ckpt/VCTK_naive\n",
      " ---> Path of log: ./output/log/VCTK_naive\n",
      " ---> Path of result: ./output/result/VCTK_naive\n",
      "================================================================================================\n"
     ]
    },
    {
     "name": "stderr",
     "output_type": "stream",
     "text": [
      "/home/ydoit/AIGC/diffgan/diffgan/lib/python3.10/site-packages/torch/nn/utils/weight_norm.py:28: UserWarning: torch.nn.utils.weight_norm is deprecated in favor of torch.nn.utils.parametrizations.weight_norm.\n",
      "  warnings.warn(\"torch.nn.utils.weight_norm is deprecated in favor of torch.nn.utils.parametrizations.weight_norm.\")\n"
     ]
    },
    {
     "name": "stdout",
     "output_type": "stream",
     "text": [
      "Removing weight norm...\n",
      "Raw Text Sequence: It will be retained as part of the group.\n",
      "\n",
      "Phoneme Sequence: {IH0 T W AH0 L B IY0 R IH0 T EY1 N D AE1 Z P AA1 R T AH0 V DH AH0 G R UW1 P sp}\n"
     ]
    },
    {
     "name": "stderr",
     "output_type": "stream",
     "text": [
      "  0%|          | 0/1 [00:00<?, ?it/s]\n",
      "sample time step: 100%|██████████| 4/4 [00:00<00:00, 40.26it/s]\n",
      "100%|██████████| 1/1 [00:01<00:00,  1.91s/it]\n",
      "2024-05-15 03:50:34.803793: I tensorflow/core/platform/cpu_feature_guard.cc:210] This TensorFlow binary is optimized to use available CPU instructions in performance-critical operations.\n",
      "To enable the following instructions: AVX2 FMA, in other operations, rebuild TensorFlow with the appropriate compiler flags.\n",
      "2024-05-15 03:50:35.746114: W tensorflow/compiler/tf2tensorrt/utils/py_utils.cc:38] TF-TRT Warning: Could not find TensorRT\n"
     ]
    },
    {
     "name": "stdout",
     "output_type": "stream",
     "text": [
      "\n",
      "==================================== Inference Configuration ====================================\n",
      " ---> Type of Modeling: naive\n",
      " ---> Total Batch Size: 32\n",
      " ---> Path of ckpt: ./output/ckpt/VCTK_naive\n",
      " ---> Path of log: ./output/log/VCTK_naive\n",
      " ---> Path of result: ./output/result/VCTK_naive\n",
      "================================================================================================\n"
     ]
    },
    {
     "name": "stderr",
     "output_type": "stream",
     "text": [
      "/home/ydoit/AIGC/diffgan/diffgan/lib/python3.10/site-packages/torch/nn/utils/weight_norm.py:28: UserWarning: torch.nn.utils.weight_norm is deprecated in favor of torch.nn.utils.parametrizations.weight_norm.\n",
      "  warnings.warn(\"torch.nn.utils.weight_norm is deprecated in favor of torch.nn.utils.parametrizations.weight_norm.\")\n"
     ]
    },
    {
     "name": "stdout",
     "output_type": "stream",
     "text": [
      "Removing weight norm...\n",
      "Raw Text Sequence: They did, too, but it didn't matter by then.\n",
      "\n",
      "Phoneme Sequence: {DH EY1 D IH0 D sp T UW1 sp B AH1 T IH0 T D IH1 D AH0 N M AE1 T ER0 B AY1 DH EH1 N sp}\n"
     ]
    },
    {
     "name": "stderr",
     "output_type": "stream",
     "text": [
      "  0%|          | 0/1 [00:00<?, ?it/s]\n",
      "sample time step: 100%|██████████| 4/4 [00:00<00:00, 46.02it/s]\n",
      "100%|██████████| 1/1 [00:01<00:00,  1.79s/it]\n",
      "2024-05-15 03:50:51.787864: I tensorflow/core/platform/cpu_feature_guard.cc:210] This TensorFlow binary is optimized to use available CPU instructions in performance-critical operations.\n",
      "To enable the following instructions: AVX2 FMA, in other operations, rebuild TensorFlow with the appropriate compiler flags.\n",
      "2024-05-15 03:50:52.581352: W tensorflow/compiler/tf2tensorrt/utils/py_utils.cc:38] TF-TRT Warning: Could not find TensorRT\n"
     ]
    },
    {
     "name": "stdout",
     "output_type": "stream",
     "text": [
      "\n",
      "==================================== Inference Configuration ====================================\n",
      " ---> Type of Modeling: naive\n",
      " ---> Total Batch Size: 32\n",
      " ---> Path of ckpt: ./output/ckpt/VCTK_naive\n",
      " ---> Path of log: ./output/log/VCTK_naive\n",
      " ---> Path of result: ./output/result/VCTK_naive\n",
      "================================================================================================\n"
     ]
    },
    {
     "name": "stderr",
     "output_type": "stream",
     "text": [
      "/home/ydoit/AIGC/diffgan/diffgan/lib/python3.10/site-packages/torch/nn/utils/weight_norm.py:28: UserWarning: torch.nn.utils.weight_norm is deprecated in favor of torch.nn.utils.parametrizations.weight_norm.\n",
      "  warnings.warn(\"torch.nn.utils.weight_norm is deprecated in favor of torch.nn.utils.parametrizations.weight_norm.\")\n"
     ]
    },
    {
     "name": "stdout",
     "output_type": "stream",
     "text": [
      "Removing weight norm...\n",
      "Raw Text Sequence: Scotland has lost a great religious leader.\n",
      "\n",
      "Phoneme Sequence: {S K AA1 T L AH0 N D HH AE1 Z L AO1 S T AH0 G R EY1 T R IH0 L IH1 JH AH0 S L IY1 D ER0 sp}\n"
     ]
    },
    {
     "name": "stderr",
     "output_type": "stream",
     "text": [
      "  0%|          | 0/1 [00:00<?, ?it/s]\n",
      "sample time step: 100%|██████████| 4/4 [00:00<00:00, 43.14it/s]\n",
      "100%|██████████| 1/1 [00:01<00:00,  1.82s/it]\n",
      "2024-05-15 03:51:04.887374: I tensorflow/core/platform/cpu_feature_guard.cc:210] This TensorFlow binary is optimized to use available CPU instructions in performance-critical operations.\n",
      "To enable the following instructions: AVX2 FMA, in other operations, rebuild TensorFlow with the appropriate compiler flags.\n",
      "2024-05-15 03:51:05.729276: W tensorflow/compiler/tf2tensorrt/utils/py_utils.cc:38] TF-TRT Warning: Could not find TensorRT\n"
     ]
    },
    {
     "name": "stdout",
     "output_type": "stream",
     "text": [
      "\n",
      "==================================== Inference Configuration ====================================\n",
      " ---> Type of Modeling: naive\n",
      " ---> Total Batch Size: 32\n",
      " ---> Path of ckpt: ./output/ckpt/VCTK_naive\n",
      " ---> Path of log: ./output/log/VCTK_naive\n",
      " ---> Path of result: ./output/result/VCTK_naive\n",
      "================================================================================================\n"
     ]
    },
    {
     "name": "stderr",
     "output_type": "stream",
     "text": [
      "/home/ydoit/AIGC/diffgan/diffgan/lib/python3.10/site-packages/torch/nn/utils/weight_norm.py:28: UserWarning: torch.nn.utils.weight_norm is deprecated in favor of torch.nn.utils.parametrizations.weight_norm.\n",
      "  warnings.warn(\"torch.nn.utils.weight_norm is deprecated in favor of torch.nn.utils.parametrizations.weight_norm.\")\n"
     ]
    },
    {
     "name": "stdout",
     "output_type": "stream",
     "text": [
      "Removing weight norm...\n",
      "Raw Text Sequence: No wonder he missed the conversion.\n",
      "\n",
      "Phoneme Sequence: {N OW1 W AH1 N D ER0 HH IY1 M IH1 S T DH AH0 K AH0 N V ER1 ZH AH0 N sp}\n"
     ]
    },
    {
     "name": "stderr",
     "output_type": "stream",
     "text": [
      "  0%|          | 0/1 [00:00<?, ?it/s]\n",
      "sample time step: 100%|██████████| 4/4 [00:00<00:00, 51.91it/s]\n",
      "100%|██████████| 1/1 [00:01<00:00,  1.29s/it]\n",
      "2024-05-15 03:51:18.035858: I tensorflow/core/platform/cpu_feature_guard.cc:210] This TensorFlow binary is optimized to use available CPU instructions in performance-critical operations.\n",
      "To enable the following instructions: AVX2 FMA, in other operations, rebuild TensorFlow with the appropriate compiler flags.\n",
      "2024-05-15 03:51:18.977325: W tensorflow/compiler/tf2tensorrt/utils/py_utils.cc:38] TF-TRT Warning: Could not find TensorRT\n"
     ]
    },
    {
     "name": "stdout",
     "output_type": "stream",
     "text": [
      "\n",
      "==================================== Inference Configuration ====================================\n",
      " ---> Type of Modeling: naive\n",
      " ---> Total Batch Size: 32\n",
      " ---> Path of ckpt: ./output/ckpt/VCTK_naive\n",
      " ---> Path of log: ./output/log/VCTK_naive\n",
      " ---> Path of result: ./output/result/VCTK_naive\n",
      "================================================================================================\n"
     ]
    },
    {
     "name": "stderr",
     "output_type": "stream",
     "text": [
      "/home/ydoit/AIGC/diffgan/diffgan/lib/python3.10/site-packages/torch/nn/utils/weight_norm.py:28: UserWarning: torch.nn.utils.weight_norm is deprecated in favor of torch.nn.utils.parametrizations.weight_norm.\n",
      "  warnings.warn(\"torch.nn.utils.weight_norm is deprecated in favor of torch.nn.utils.parametrizations.weight_norm.\")\n"
     ]
    },
    {
     "name": "stdout",
     "output_type": "stream",
     "text": [
      "Removing weight norm...\n",
      "Raw Text Sequence: He will not be involved in school discipline.\n",
      "\n",
      "Phoneme Sequence: {HH IY1 W AH0 L N AA1 T B IY0 IH0 N V AA1 L V D IH0 N S K UW1 L D IH1 S AH0 P L AH0 N sp}\n"
     ]
    },
    {
     "name": "stderr",
     "output_type": "stream",
     "text": [
      "  0%|          | 0/1 [00:00<?, ?it/s]\n",
      "sample time step: 100%|██████████| 4/4 [00:00<00:00, 43.08it/s]\n",
      "100%|██████████| 1/1 [00:01<00:00,  1.59s/it]\n",
      "2024-05-15 03:51:33.081392: I tensorflow/core/platform/cpu_feature_guard.cc:210] This TensorFlow binary is optimized to use available CPU instructions in performance-critical operations.\n",
      "To enable the following instructions: AVX2 FMA, in other operations, rebuild TensorFlow with the appropriate compiler flags.\n",
      "2024-05-15 03:51:34.090567: W tensorflow/compiler/tf2tensorrt/utils/py_utils.cc:38] TF-TRT Warning: Could not find TensorRT\n"
     ]
    },
    {
     "name": "stdout",
     "output_type": "stream",
     "text": [
      "\n",
      "==================================== Inference Configuration ====================================\n",
      " ---> Type of Modeling: naive\n",
      " ---> Total Batch Size: 32\n",
      " ---> Path of ckpt: ./output/ckpt/VCTK_naive\n",
      " ---> Path of log: ./output/log/VCTK_naive\n",
      " ---> Path of result: ./output/result/VCTK_naive\n",
      "================================================================================================\n"
     ]
    },
    {
     "name": "stderr",
     "output_type": "stream",
     "text": [
      "/home/ydoit/AIGC/diffgan/diffgan/lib/python3.10/site-packages/torch/nn/utils/weight_norm.py:28: UserWarning: torch.nn.utils.weight_norm is deprecated in favor of torch.nn.utils.parametrizations.weight_norm.\n",
      "  warnings.warn(\"torch.nn.utils.weight_norm is deprecated in favor of torch.nn.utils.parametrizations.weight_norm.\")\n"
     ]
    },
    {
     "name": "stdout",
     "output_type": "stream",
     "text": [
      "Removing weight norm...\n",
      "Raw Text Sequence: Life is good.\n",
      "\n",
      "Phoneme Sequence: {L AY1 F IH0 Z G IH0 D sp}\n"
     ]
    },
    {
     "name": "stderr",
     "output_type": "stream",
     "text": [
      "  0%|          | 0/1 [00:00<?, ?it/s]\n",
      "sample time step:   0%|          | 0/4 [00:00<?, ?it/s]\u001b[A\n",
      "sample time step: 100%|██████████| 4/4 [00:00<00:00,  5.85it/s]\u001b[A\n",
      "100%|██████████| 1/1 [00:02<00:00,  2.91s/it]\n",
      "2024-05-15 03:51:51.287102: I tensorflow/core/platform/cpu_feature_guard.cc:210] This TensorFlow binary is optimized to use available CPU instructions in performance-critical operations.\n",
      "To enable the following instructions: AVX2 FMA, in other operations, rebuild TensorFlow with the appropriate compiler flags.\n",
      "2024-05-15 03:51:52.301178: W tensorflow/compiler/tf2tensorrt/utils/py_utils.cc:38] TF-TRT Warning: Could not find TensorRT\n"
     ]
    },
    {
     "name": "stdout",
     "output_type": "stream",
     "text": [
      "\n",
      "==================================== Inference Configuration ====================================\n",
      " ---> Type of Modeling: naive\n",
      " ---> Total Batch Size: 32\n",
      " ---> Path of ckpt: ./output/ckpt/VCTK_naive\n",
      " ---> Path of log: ./output/log/VCTK_naive\n",
      " ---> Path of result: ./output/result/VCTK_naive\n",
      "================================================================================================\n"
     ]
    },
    {
     "name": "stderr",
     "output_type": "stream",
     "text": [
      "/home/ydoit/AIGC/diffgan/diffgan/lib/python3.10/site-packages/torch/nn/utils/weight_norm.py:28: UserWarning: torch.nn.utils.weight_norm is deprecated in favor of torch.nn.utils.parametrizations.weight_norm.\n",
      "  warnings.warn(\"torch.nn.utils.weight_norm is deprecated in favor of torch.nn.utils.parametrizations.weight_norm.\")\n"
     ]
    },
    {
     "name": "stdout",
     "output_type": "stream",
     "text": [
      "Removing weight norm...\n",
      "Raw Text Sequence: I'm not making any comment at all.\n",
      "\n",
      "Phoneme Sequence: {AH0 M N AA1 T M EY1 K IH0 NG EH1 N IY0 K AA1 M EH0 N T AE1 T AO1 L sp}\n"
     ]
    },
    {
     "name": "stderr",
     "output_type": "stream",
     "text": [
      "  0%|          | 0/1 [00:00<?, ?it/s]\n",
      "sample time step: 100%|██████████| 4/4 [00:00<00:00, 41.75it/s]\n",
      "100%|██████████| 1/1 [00:01<00:00,  1.28s/it]\n",
      "2024-05-15 03:52:04.616926: I tensorflow/core/platform/cpu_feature_guard.cc:210] This TensorFlow binary is optimized to use available CPU instructions in performance-critical operations.\n",
      "To enable the following instructions: AVX2 FMA, in other operations, rebuild TensorFlow with the appropriate compiler flags.\n",
      "2024-05-15 03:52:05.402802: W tensorflow/compiler/tf2tensorrt/utils/py_utils.cc:38] TF-TRT Warning: Could not find TensorRT\n"
     ]
    },
    {
     "name": "stdout",
     "output_type": "stream",
     "text": [
      "\n",
      "==================================== Inference Configuration ====================================\n",
      " ---> Type of Modeling: naive\n",
      " ---> Total Batch Size: 32\n",
      " ---> Path of ckpt: ./output/ckpt/VCTK_naive\n",
      " ---> Path of log: ./output/log/VCTK_naive\n",
      " ---> Path of result: ./output/result/VCTK_naive\n",
      "================================================================================================\n"
     ]
    },
    {
     "name": "stderr",
     "output_type": "stream",
     "text": [
      "/home/ydoit/AIGC/diffgan/diffgan/lib/python3.10/site-packages/torch/nn/utils/weight_norm.py:28: UserWarning: torch.nn.utils.weight_norm is deprecated in favor of torch.nn.utils.parametrizations.weight_norm.\n",
      "  warnings.warn(\"torch.nn.utils.weight_norm is deprecated in favor of torch.nn.utils.parametrizations.weight_norm.\")\n"
     ]
    },
    {
     "name": "stdout",
     "output_type": "stream",
     "text": [
      "Removing weight norm...\n",
      "Raw Text Sequence: Iain Duncan Smith is a decent man.\n",
      "\n",
      "Phoneme Sequence: {IY0 EY1 N D AH1 NG K AH0 N S M IH1 TH IH0 Z AH0 D IY1 S AH0 N T M AE1 N sp}\n"
     ]
    },
    {
     "name": "stderr",
     "output_type": "stream",
     "text": [
      "  0%|          | 0/1 [00:00<?, ?it/s]\n",
      "sample time step: 100%|██████████| 4/4 [00:00<00:00, 49.21it/s]\n",
      "100%|██████████| 1/1 [00:01<00:00,  1.57s/it]\n",
      "2024-05-15 03:52:16.906730: I tensorflow/core/platform/cpu_feature_guard.cc:210] This TensorFlow binary is optimized to use available CPU instructions in performance-critical operations.\n",
      "To enable the following instructions: AVX2 FMA, in other operations, rebuild TensorFlow with the appropriate compiler flags.\n",
      "2024-05-15 03:52:17.745960: W tensorflow/compiler/tf2tensorrt/utils/py_utils.cc:38] TF-TRT Warning: Could not find TensorRT\n"
     ]
    },
    {
     "name": "stdout",
     "output_type": "stream",
     "text": [
      "\n",
      "==================================== Inference Configuration ====================================\n",
      " ---> Type of Modeling: naive\n",
      " ---> Total Batch Size: 32\n",
      " ---> Path of ckpt: ./output/ckpt/VCTK_naive\n",
      " ---> Path of log: ./output/log/VCTK_naive\n",
      " ---> Path of result: ./output/result/VCTK_naive\n",
      "================================================================================================\n"
     ]
    },
    {
     "name": "stderr",
     "output_type": "stream",
     "text": [
      "/home/ydoit/AIGC/diffgan/diffgan/lib/python3.10/site-packages/torch/nn/utils/weight_norm.py:28: UserWarning: torch.nn.utils.weight_norm is deprecated in favor of torch.nn.utils.parametrizations.weight_norm.\n",
      "  warnings.warn(\"torch.nn.utils.weight_norm is deprecated in favor of torch.nn.utils.parametrizations.weight_norm.\")\n"
     ]
    },
    {
     "name": "stdout",
     "output_type": "stream",
     "text": [
      "Removing weight norm...\n",
      "Raw Text Sequence: He is very unlikely to feature against Ireland.\n",
      "\n",
      "Phoneme Sequence: {HH IY1 IH0 Z V EH1 R IY0 AH0 N L AY1 K L IY0 T AH0 F IY1 CH ER0 AH0 G EH1 N S T AY1 ER0 L AH0 N D sp}\n"
     ]
    },
    {
     "name": "stderr",
     "output_type": "stream",
     "text": [
      "  0%|          | 0/1 [00:00<?, ?it/s]\n",
      "sample time step: 100%|██████████| 4/4 [00:00<00:00, 45.66it/s]\n",
      "100%|██████████| 1/1 [00:01<00:00,  1.83s/it]\n",
      "2024-05-15 03:52:29.649623: I tensorflow/core/platform/cpu_feature_guard.cc:210] This TensorFlow binary is optimized to use available CPU instructions in performance-critical operations.\n",
      "To enable the following instructions: AVX2 FMA, in other operations, rebuild TensorFlow with the appropriate compiler flags.\n",
      "2024-05-15 03:52:30.440240: W tensorflow/compiler/tf2tensorrt/utils/py_utils.cc:38] TF-TRT Warning: Could not find TensorRT\n"
     ]
    },
    {
     "name": "stdout",
     "output_type": "stream",
     "text": [
      "\n",
      "==================================== Inference Configuration ====================================\n",
      " ---> Type of Modeling: naive\n",
      " ---> Total Batch Size: 32\n",
      " ---> Path of ckpt: ./output/ckpt/VCTK_naive\n",
      " ---> Path of log: ./output/log/VCTK_naive\n",
      " ---> Path of result: ./output/result/VCTK_naive\n",
      "================================================================================================\n"
     ]
    },
    {
     "name": "stderr",
     "output_type": "stream",
     "text": [
      "/home/ydoit/AIGC/diffgan/diffgan/lib/python3.10/site-packages/torch/nn/utils/weight_norm.py:28: UserWarning: torch.nn.utils.weight_norm is deprecated in favor of torch.nn.utils.parametrizations.weight_norm.\n",
      "  warnings.warn(\"torch.nn.utils.weight_norm is deprecated in favor of torch.nn.utils.parametrizations.weight_norm.\")\n"
     ]
    },
    {
     "name": "stdout",
     "output_type": "stream",
     "text": [
      "Removing weight norm...\n",
      "Raw Text Sequence: They were not at the property yesterday.\n",
      "\n",
      "Phoneme Sequence: {DH EY1 W ER0 N AA1 T AE1 T DH AH0 P R AA1 P ER0 T IY0 Y EH1 S T ER0 D EY2 sp}\n"
     ]
    },
    {
     "name": "stderr",
     "output_type": "stream",
     "text": [
      "  0%|          | 0/1 [00:00<?, ?it/s]\n",
      "sample time step: 100%|██████████| 4/4 [00:00<00:00, 44.46it/s]\n",
      "100%|██████████| 1/1 [00:01<00:00,  1.87s/it]\n",
      "2024-05-15 03:52:42.321673: I tensorflow/core/platform/cpu_feature_guard.cc:210] This TensorFlow binary is optimized to use available CPU instructions in performance-critical operations.\n",
      "To enable the following instructions: AVX2 FMA, in other operations, rebuild TensorFlow with the appropriate compiler flags.\n",
      "2024-05-15 03:52:43.056414: W tensorflow/compiler/tf2tensorrt/utils/py_utils.cc:38] TF-TRT Warning: Could not find TensorRT\n"
     ]
    },
    {
     "name": "stdout",
     "output_type": "stream",
     "text": [
      "\n",
      "==================================== Inference Configuration ====================================\n",
      " ---> Type of Modeling: naive\n",
      " ---> Total Batch Size: 32\n",
      " ---> Path of ckpt: ./output/ckpt/VCTK_naive\n",
      " ---> Path of log: ./output/log/VCTK_naive\n",
      " ---> Path of result: ./output/result/VCTK_naive\n",
      "================================================================================================\n"
     ]
    },
    {
     "name": "stderr",
     "output_type": "stream",
     "text": [
      "/home/ydoit/AIGC/diffgan/diffgan/lib/python3.10/site-packages/torch/nn/utils/weight_norm.py:28: UserWarning: torch.nn.utils.weight_norm is deprecated in favor of torch.nn.utils.parametrizations.weight_norm.\n",
      "  warnings.warn(\"torch.nn.utils.weight_norm is deprecated in favor of torch.nn.utils.parametrizations.weight_norm.\")\n"
     ]
    },
    {
     "name": "stdout",
     "output_type": "stream",
     "text": [
      "Removing weight norm...\n",
      "Raw Text Sequence: It will vote with the US.\n",
      "\n",
      "Phoneme Sequence: {IH0 T W AH0 L V OW1 T W IH0 DH DH AH0 AH1 S sp}\n"
     ]
    },
    {
     "name": "stderr",
     "output_type": "stream",
     "text": [
      "  0%|          | 0/1 [00:00<?, ?it/s]\n",
      "sample time step: 100%|██████████| 4/4 [00:00<00:00, 52.33it/s]\n",
      "100%|██████████| 1/1 [00:01<00:00,  1.75s/it]\n",
      "2024-05-15 03:52:55.040899: I tensorflow/core/platform/cpu_feature_guard.cc:210] This TensorFlow binary is optimized to use available CPU instructions in performance-critical operations.\n",
      "To enable the following instructions: AVX2 FMA, in other operations, rebuild TensorFlow with the appropriate compiler flags.\n",
      "2024-05-15 03:52:55.818078: W tensorflow/compiler/tf2tensorrt/utils/py_utils.cc:38] TF-TRT Warning: Could not find TensorRT\n"
     ]
    },
    {
     "name": "stdout",
     "output_type": "stream",
     "text": [
      "\n",
      "==================================== Inference Configuration ====================================\n",
      " ---> Type of Modeling: naive\n",
      " ---> Total Batch Size: 32\n",
      " ---> Path of ckpt: ./output/ckpt/VCTK_naive\n",
      " ---> Path of log: ./output/log/VCTK_naive\n",
      " ---> Path of result: ./output/result/VCTK_naive\n",
      "================================================================================================\n"
     ]
    },
    {
     "name": "stderr",
     "output_type": "stream",
     "text": [
      "/home/ydoit/AIGC/diffgan/diffgan/lib/python3.10/site-packages/torch/nn/utils/weight_norm.py:28: UserWarning: torch.nn.utils.weight_norm is deprecated in favor of torch.nn.utils.parametrizations.weight_norm.\n",
      "  warnings.warn(\"torch.nn.utils.weight_norm is deprecated in favor of torch.nn.utils.parametrizations.weight_norm.\")\n"
     ]
    },
    {
     "name": "stdout",
     "output_type": "stream",
     "text": [
      "Removing weight norm...\n",
      "Raw Text Sequence: When you do you will never want to do any other job.\n",
      "\n",
      "Phoneme Sequence: {HH W EH1 N Y UW1 D UW1 Y UW1 W AH0 L N EH1 V ER0 W AA1 N T T AH0 D UW1 EH1 N IY0 AH1 DH ER0 JH AA1 B sp}\n"
     ]
    },
    {
     "name": "stderr",
     "output_type": "stream",
     "text": [
      "  0%|          | 0/1 [00:00<?, ?it/s]\n",
      "sample time step: 100%|██████████| 4/4 [00:00<00:00, 45.09it/s]\n",
      "100%|██████████| 1/1 [00:01<00:00,  1.70s/it]\n",
      "2024-05-15 03:53:07.911061: I tensorflow/core/platform/cpu_feature_guard.cc:210] This TensorFlow binary is optimized to use available CPU instructions in performance-critical operations.\n",
      "To enable the following instructions: AVX2 FMA, in other operations, rebuild TensorFlow with the appropriate compiler flags.\n",
      "2024-05-15 03:53:08.779501: W tensorflow/compiler/tf2tensorrt/utils/py_utils.cc:38] TF-TRT Warning: Could not find TensorRT\n"
     ]
    },
    {
     "name": "stdout",
     "output_type": "stream",
     "text": [
      "\n",
      "==================================== Inference Configuration ====================================\n",
      " ---> Type of Modeling: naive\n",
      " ---> Total Batch Size: 32\n",
      " ---> Path of ckpt: ./output/ckpt/VCTK_naive\n",
      " ---> Path of log: ./output/log/VCTK_naive\n",
      " ---> Path of result: ./output/result/VCTK_naive\n",
      "================================================================================================\n"
     ]
    },
    {
     "name": "stderr",
     "output_type": "stream",
     "text": [
      "/home/ydoit/AIGC/diffgan/diffgan/lib/python3.10/site-packages/torch/nn/utils/weight_norm.py:28: UserWarning: torch.nn.utils.weight_norm is deprecated in favor of torch.nn.utils.parametrizations.weight_norm.\n",
      "  warnings.warn(\"torch.nn.utils.weight_norm is deprecated in favor of torch.nn.utils.parametrizations.weight_norm.\")\n"
     ]
    },
    {
     "name": "stdout",
     "output_type": "stream",
     "text": [
      "Removing weight norm...\n",
      "Raw Text Sequence: I was the last man to touch the ball.\n",
      "\n",
      "Phoneme Sequence: {AY1 W AA1 Z DH AH0 L AE1 S M AE1 N T AH0 T AH1 CH DH AH0 B AO1 L sp}\n"
     ]
    },
    {
     "name": "stderr",
     "output_type": "stream",
     "text": [
      "  0%|          | 0/1 [00:00<?, ?it/s]\n",
      "sample time step: 100%|██████████| 4/4 [00:00<00:00, 48.75it/s]\n",
      "100%|██████████| 1/1 [00:01<00:00,  1.77s/it]\n",
      "2024-05-15 03:53:20.494212: I tensorflow/core/platform/cpu_feature_guard.cc:210] This TensorFlow binary is optimized to use available CPU instructions in performance-critical operations.\n",
      "To enable the following instructions: AVX2 FMA, in other operations, rebuild TensorFlow with the appropriate compiler flags.\n",
      "2024-05-15 03:53:21.262257: W tensorflow/compiler/tf2tensorrt/utils/py_utils.cc:38] TF-TRT Warning: Could not find TensorRT\n"
     ]
    },
    {
     "name": "stdout",
     "output_type": "stream",
     "text": [
      "\n",
      "==================================== Inference Configuration ====================================\n",
      " ---> Type of Modeling: naive\n",
      " ---> Total Batch Size: 32\n",
      " ---> Path of ckpt: ./output/ckpt/VCTK_naive\n",
      " ---> Path of log: ./output/log/VCTK_naive\n",
      " ---> Path of result: ./output/result/VCTK_naive\n",
      "================================================================================================\n"
     ]
    },
    {
     "name": "stderr",
     "output_type": "stream",
     "text": [
      "/home/ydoit/AIGC/diffgan/diffgan/lib/python3.10/site-packages/torch/nn/utils/weight_norm.py:28: UserWarning: torch.nn.utils.weight_norm is deprecated in favor of torch.nn.utils.parametrizations.weight_norm.\n",
      "  warnings.warn(\"torch.nn.utils.weight_norm is deprecated in favor of torch.nn.utils.parametrizations.weight_norm.\")\n"
     ]
    },
    {
     "name": "stdout",
     "output_type": "stream",
     "text": [
      "Removing weight norm...\n",
      "Raw Text Sequence: It is harder than you think.\n",
      "\n",
      "Phoneme Sequence: {IH0 T IH0 Z HH AA1 R D ER0 DH AE1 N Y UW1 TH IH1 NG K sp}\n"
     ]
    },
    {
     "name": "stderr",
     "output_type": "stream",
     "text": [
      "  0%|          | 0/1 [00:00<?, ?it/s]\n",
      "sample time step: 100%|██████████| 4/4 [00:00<00:00, 49.15it/s]\n",
      "100%|██████████| 1/1 [00:01<00:00,  1.79s/it]\n",
      "2024-05-15 03:53:33.876956: I tensorflow/core/platform/cpu_feature_guard.cc:210] This TensorFlow binary is optimized to use available CPU instructions in performance-critical operations.\n",
      "To enable the following instructions: AVX2 FMA, in other operations, rebuild TensorFlow with the appropriate compiler flags.\n",
      "2024-05-15 03:53:34.698601: W tensorflow/compiler/tf2tensorrt/utils/py_utils.cc:38] TF-TRT Warning: Could not find TensorRT\n"
     ]
    },
    {
     "name": "stdout",
     "output_type": "stream",
     "text": [
      "\n",
      "==================================== Inference Configuration ====================================\n",
      " ---> Type of Modeling: naive\n",
      " ---> Total Batch Size: 32\n",
      " ---> Path of ckpt: ./output/ckpt/VCTK_naive\n",
      " ---> Path of log: ./output/log/VCTK_naive\n",
      " ---> Path of result: ./output/result/VCTK_naive\n",
      "================================================================================================\n"
     ]
    },
    {
     "name": "stderr",
     "output_type": "stream",
     "text": [
      "/home/ydoit/AIGC/diffgan/diffgan/lib/python3.10/site-packages/torch/nn/utils/weight_norm.py:28: UserWarning: torch.nn.utils.weight_norm is deprecated in favor of torch.nn.utils.parametrizations.weight_norm.\n",
      "  warnings.warn(\"torch.nn.utils.weight_norm is deprecated in favor of torch.nn.utils.parametrizations.weight_norm.\")\n"
     ]
    },
    {
     "name": "stdout",
     "output_type": "stream",
     "text": [
      "Removing weight norm...\n",
      "Raw Text Sequence: And that brings us to the point.\n",
      "\n",
      "Phoneme Sequence: {AE1 N D DH AE1 T B R IH1 NG Z AH1 S T AH0 DH AH0 P OY1 N T sp}\n"
     ]
    },
    {
     "name": "stderr",
     "output_type": "stream",
     "text": [
      "  0%|          | 0/1 [00:00<?, ?it/s]\n",
      "sample time step:   0%|          | 0/4 [00:00<?, ?it/s]\u001b[A/home/ydoit/AIGC/diffgan/diffgan/lib/python3.10/site-packages/torch/nn/modules/conv.py:306: UserWarning: Plan failed with a cudnnException: CUDNN_BACKEND_EXECUTION_PLAN_DESCRIPTOR: cudnnFinalize Descriptor Failed cudnn_status: CUDNN_STATUS_NOT_SUPPORTED (Triggered internally at ../aten/src/ATen/native/cudnn/Conv_v8.cpp:919.)\n",
      "  return F.conv1d(input, weight, bias, self.stride,\n",
      "\n",
      "sample time step: 100%|██████████| 4/4 [00:00<00:00,  7.25it/s]\u001b[A\n",
      "100%|██████████| 1/1 [00:02<00:00,  2.28s/it]\n",
      "2024-05-15 03:53:47.621773: I tensorflow/core/platform/cpu_feature_guard.cc:210] This TensorFlow binary is optimized to use available CPU instructions in performance-critical operations.\n",
      "To enable the following instructions: AVX2 FMA, in other operations, rebuild TensorFlow with the appropriate compiler flags.\n",
      "2024-05-15 03:53:48.443482: W tensorflow/compiler/tf2tensorrt/utils/py_utils.cc:38] TF-TRT Warning: Could not find TensorRT\n"
     ]
    },
    {
     "name": "stdout",
     "output_type": "stream",
     "text": [
      "\n",
      "==================================== Inference Configuration ====================================\n",
      " ---> Type of Modeling: naive\n",
      " ---> Total Batch Size: 32\n",
      " ---> Path of ckpt: ./output/ckpt/VCTK_naive\n",
      " ---> Path of log: ./output/log/VCTK_naive\n",
      " ---> Path of result: ./output/result/VCTK_naive\n",
      "================================================================================================\n"
     ]
    },
    {
     "name": "stderr",
     "output_type": "stream",
     "text": [
      "/home/ydoit/AIGC/diffgan/diffgan/lib/python3.10/site-packages/torch/nn/utils/weight_norm.py:28: UserWarning: torch.nn.utils.weight_norm is deprecated in favor of torch.nn.utils.parametrizations.weight_norm.\n",
      "  warnings.warn(\"torch.nn.utils.weight_norm is deprecated in favor of torch.nn.utils.parametrizations.weight_norm.\")\n"
     ]
    },
    {
     "name": "stdout",
     "output_type": "stream",
     "text": [
      "Removing weight norm...\n",
      "Raw Text Sequence: He plans to call for an aid package from Mr Macdonald.\n",
      "\n",
      "Phoneme Sequence: {HH IY1 P L AE1 N Z T AH0 K AO1 L F AO1 R AE1 N EY1 D P AE1 K AH0 JH F ER0 M M IH1 S T ER0 M AH0 K D AA1 N AH0 L D sp}\n"
     ]
    },
    {
     "name": "stderr",
     "output_type": "stream",
     "text": [
      "  0%|          | 0/1 [00:00<?, ?it/s]\n",
      "sample time step:   0%|          | 0/4 [00:00<?, ?it/s]\u001b[A\n",
      "sample time step: 100%|██████████| 4/4 [00:00<00:00,  8.28it/s]\u001b[A\n",
      "100%|██████████| 1/1 [00:02<00:00,  2.05s/it]\n",
      "2024-05-15 03:54:01.269855: I tensorflow/core/platform/cpu_feature_guard.cc:210] This TensorFlow binary is optimized to use available CPU instructions in performance-critical operations.\n",
      "To enable the following instructions: AVX2 FMA, in other operations, rebuild TensorFlow with the appropriate compiler flags.\n",
      "2024-05-15 03:54:02.086408: W tensorflow/compiler/tf2tensorrt/utils/py_utils.cc:38] TF-TRT Warning: Could not find TensorRT\n"
     ]
    },
    {
     "name": "stdout",
     "output_type": "stream",
     "text": [
      "\n",
      "==================================== Inference Configuration ====================================\n",
      " ---> Type of Modeling: naive\n",
      " ---> Total Batch Size: 32\n",
      " ---> Path of ckpt: ./output/ckpt/VCTK_naive\n",
      " ---> Path of log: ./output/log/VCTK_naive\n",
      " ---> Path of result: ./output/result/VCTK_naive\n",
      "================================================================================================\n"
     ]
    },
    {
     "name": "stderr",
     "output_type": "stream",
     "text": [
      "/home/ydoit/AIGC/diffgan/diffgan/lib/python3.10/site-packages/torch/nn/utils/weight_norm.py:28: UserWarning: torch.nn.utils.weight_norm is deprecated in favor of torch.nn.utils.parametrizations.weight_norm.\n",
      "  warnings.warn(\"torch.nn.utils.weight_norm is deprecated in favor of torch.nn.utils.parametrizations.weight_norm.\")\n"
     ]
    },
    {
     "name": "stdout",
     "output_type": "stream",
     "text": [
      "Removing weight norm...\n",
      "Raw Text Sequence: This is the root of their problems.\n",
      "\n",
      "Phoneme Sequence: {DH IH0 S IH0 Z DH AH0 R UW1 T AH0 V DH EH1 R P R AA1 B L AH0 M Z sp}\n"
     ]
    },
    {
     "name": "stderr",
     "output_type": "stream",
     "text": [
      "  0%|          | 0/1 [00:00<?, ?it/s]\n",
      "sample time step:   0%|          | 0/4 [00:00<?, ?it/s]\u001b[A\n",
      "sample time step: 100%|██████████| 4/4 [00:00<00:00,  7.22it/s]\u001b[A\n",
      "100%|██████████| 1/1 [00:02<00:00,  2.36s/it]\n",
      "2024-05-15 03:54:14.801592: I tensorflow/core/platform/cpu_feature_guard.cc:210] This TensorFlow binary is optimized to use available CPU instructions in performance-critical operations.\n",
      "To enable the following instructions: AVX2 FMA, in other operations, rebuild TensorFlow with the appropriate compiler flags.\n",
      "2024-05-15 03:54:15.599691: W tensorflow/compiler/tf2tensorrt/utils/py_utils.cc:38] TF-TRT Warning: Could not find TensorRT\n"
     ]
    },
    {
     "name": "stdout",
     "output_type": "stream",
     "text": [
      "\n",
      "==================================== Inference Configuration ====================================\n",
      " ---> Type of Modeling: naive\n",
      " ---> Total Batch Size: 32\n",
      " ---> Path of ckpt: ./output/ckpt/VCTK_naive\n",
      " ---> Path of log: ./output/log/VCTK_naive\n",
      " ---> Path of result: ./output/result/VCTK_naive\n",
      "================================================================================================\n"
     ]
    },
    {
     "name": "stderr",
     "output_type": "stream",
     "text": [
      "/home/ydoit/AIGC/diffgan/diffgan/lib/python3.10/site-packages/torch/nn/utils/weight_norm.py:28: UserWarning: torch.nn.utils.weight_norm is deprecated in favor of torch.nn.utils.parametrizations.weight_norm.\n",
      "  warnings.warn(\"torch.nn.utils.weight_norm is deprecated in favor of torch.nn.utils.parametrizations.weight_norm.\")\n"
     ]
    },
    {
     "name": "stdout",
     "output_type": "stream",
     "text": [
      "Removing weight norm...\n",
      "Raw Text Sequence: He loved his job and working in newspapers.\n",
      "\n",
      "Phoneme Sequence: {HH IY1 L AH1 V D HH IH0 Z JH AA1 B AE1 N D W ER1 K IH0 NG IH0 N N UW1 Z P EY2 P ER0 Z sp}\n"
     ]
    },
    {
     "name": "stderr",
     "output_type": "stream",
     "text": [
      "  0%|          | 0/1 [00:00<?, ?it/s]\n",
      "sample time step:   0%|          | 0/4 [00:00<?, ?it/s]\u001b[A\n",
      "sample time step: 100%|██████████| 4/4 [00:00<00:00,  7.57it/s]\u001b[A\n",
      "100%|██████████| 1/1 [00:02<00:00,  2.30s/it]\n",
      "2024-05-15 03:54:28.408394: I tensorflow/core/platform/cpu_feature_guard.cc:210] This TensorFlow binary is optimized to use available CPU instructions in performance-critical operations.\n",
      "To enable the following instructions: AVX2 FMA, in other operations, rebuild TensorFlow with the appropriate compiler flags.\n",
      "2024-05-15 03:54:29.219695: W tensorflow/compiler/tf2tensorrt/utils/py_utils.cc:38] TF-TRT Warning: Could not find TensorRT\n"
     ]
    },
    {
     "name": "stdout",
     "output_type": "stream",
     "text": [
      "\n",
      "==================================== Inference Configuration ====================================\n",
      " ---> Type of Modeling: naive\n",
      " ---> Total Batch Size: 32\n",
      " ---> Path of ckpt: ./output/ckpt/VCTK_naive\n",
      " ---> Path of log: ./output/log/VCTK_naive\n",
      " ---> Path of result: ./output/result/VCTK_naive\n",
      "================================================================================================\n"
     ]
    },
    {
     "name": "stderr",
     "output_type": "stream",
     "text": [
      "/home/ydoit/AIGC/diffgan/diffgan/lib/python3.10/site-packages/torch/nn/utils/weight_norm.py:28: UserWarning: torch.nn.utils.weight_norm is deprecated in favor of torch.nn.utils.parametrizations.weight_norm.\n",
      "  warnings.warn(\"torch.nn.utils.weight_norm is deprecated in favor of torch.nn.utils.parametrizations.weight_norm.\")\n"
     ]
    },
    {
     "name": "stdout",
     "output_type": "stream",
     "text": [
      "Removing weight norm...\n",
      "Raw Text Sequence: I have little time for analysts.\n",
      "\n",
      "Phoneme Sequence: {AY1 HH AE1 V L IH1 T AH0 L T AY1 M F AO1 R AE1 N AH0 L AH0 S sp}\n"
     ]
    },
    {
     "name": "stderr",
     "output_type": "stream",
     "text": [
      "  0%|          | 0/1 [00:00<?, ?it/s]\n",
      "sample time step:   0%|          | 0/4 [00:00<?, ?it/s]\u001b[A\n",
      "sample time step: 100%|██████████| 4/4 [00:00<00:00,  7.07it/s]\u001b[A\n",
      "100%|██████████| 1/1 [00:02<00:00,  2.33s/it]\n",
      "2024-05-15 03:54:41.965371: I tensorflow/core/platform/cpu_feature_guard.cc:210] This TensorFlow binary is optimized to use available CPU instructions in performance-critical operations.\n",
      "To enable the following instructions: AVX2 FMA, in other operations, rebuild TensorFlow with the appropriate compiler flags.\n",
      "2024-05-15 03:54:42.749206: W tensorflow/compiler/tf2tensorrt/utils/py_utils.cc:38] TF-TRT Warning: Could not find TensorRT\n"
     ]
    },
    {
     "name": "stdout",
     "output_type": "stream",
     "text": [
      "\n",
      "==================================== Inference Configuration ====================================\n",
      " ---> Type of Modeling: naive\n",
      " ---> Total Batch Size: 32\n",
      " ---> Path of ckpt: ./output/ckpt/VCTK_naive\n",
      " ---> Path of log: ./output/log/VCTK_naive\n",
      " ---> Path of result: ./output/result/VCTK_naive\n",
      "================================================================================================\n"
     ]
    },
    {
     "name": "stderr",
     "output_type": "stream",
     "text": [
      "/home/ydoit/AIGC/diffgan/diffgan/lib/python3.10/site-packages/torch/nn/utils/weight_norm.py:28: UserWarning: torch.nn.utils.weight_norm is deprecated in favor of torch.nn.utils.parametrizations.weight_norm.\n",
      "  warnings.warn(\"torch.nn.utils.weight_norm is deprecated in favor of torch.nn.utils.parametrizations.weight_norm.\")\n"
     ]
    },
    {
     "name": "stdout",
     "output_type": "stream",
     "text": [
      "Removing weight norm...\n",
      "Raw Text Sequence: It was an accounting error.\n",
      "\n",
      "Phoneme Sequence: {IH0 T W AA1 Z AE1 N AH0 K AW1 N IH0 NG EH1 R ER0 sp}\n"
     ]
    },
    {
     "name": "stderr",
     "output_type": "stream",
     "text": [
      "  0%|          | 0/1 [00:00<?, ?it/s]\n",
      "sample time step: 100%|██████████| 4/4 [00:00<00:00, 43.94it/s]\n",
      "100%|██████████| 1/1 [00:01<00:00,  1.65s/it]\n",
      "2024-05-15 03:54:55.503409: I tensorflow/core/platform/cpu_feature_guard.cc:210] This TensorFlow binary is optimized to use available CPU instructions in performance-critical operations.\n",
      "To enable the following instructions: AVX2 FMA, in other operations, rebuild TensorFlow with the appropriate compiler flags.\n",
      "2024-05-15 03:54:56.407582: W tensorflow/compiler/tf2tensorrt/utils/py_utils.cc:38] TF-TRT Warning: Could not find TensorRT\n"
     ]
    },
    {
     "name": "stdout",
     "output_type": "stream",
     "text": [
      "\n",
      "==================================== Inference Configuration ====================================\n",
      " ---> Type of Modeling: naive\n",
      " ---> Total Batch Size: 32\n",
      " ---> Path of ckpt: ./output/ckpt/VCTK_naive\n",
      " ---> Path of log: ./output/log/VCTK_naive\n",
      " ---> Path of result: ./output/result/VCTK_naive\n",
      "================================================================================================\n"
     ]
    },
    {
     "name": "stderr",
     "output_type": "stream",
     "text": [
      "/home/ydoit/AIGC/diffgan/diffgan/lib/python3.10/site-packages/torch/nn/utils/weight_norm.py:28: UserWarning: torch.nn.utils.weight_norm is deprecated in favor of torch.nn.utils.parametrizations.weight_norm.\n",
      "  warnings.warn(\"torch.nn.utils.weight_norm is deprecated in favor of torch.nn.utils.parametrizations.weight_norm.\")\n"
     ]
    },
    {
     "name": "stdout",
     "output_type": "stream",
     "text": [
      "Removing weight norm...\n",
      "Raw Text Sequence: Two of our crew were killed.\n",
      "\n",
      "Phoneme Sequence: {T UW1 AH0 V AA1 R K R UW1 W ER0 K IH1 L D sp}\n"
     ]
    },
    {
     "name": "stderr",
     "output_type": "stream",
     "text": [
      "  0%|          | 0/1 [00:00<?, ?it/s]\n",
      "sample time step:   0%|          | 0/4 [00:00<?, ?it/s]\u001b[A/home/ydoit/AIGC/diffgan/diffgan/lib/python3.10/site-packages/torch/nn/modules/conv.py:306: UserWarning: Plan failed with a cudnnException: CUDNN_BACKEND_EXECUTION_PLAN_DESCRIPTOR: cudnnFinalize Descriptor Failed cudnn_status: CUDNN_STATUS_NOT_SUPPORTED (Triggered internally at ../aten/src/ATen/native/cudnn/Conv_v8.cpp:919.)\n",
      "  return F.conv1d(input, weight, bias, self.stride,\n",
      "\n",
      "sample time step: 100%|██████████| 4/4 [00:00<00:00, 10.31it/s]\u001b[A\n",
      "100%|██████████| 1/1 [00:01<00:00,  1.79s/it]\n",
      "2024-05-15 03:55:10.037406: I tensorflow/core/platform/cpu_feature_guard.cc:210] This TensorFlow binary is optimized to use available CPU instructions in performance-critical operations.\n",
      "To enable the following instructions: AVX2 FMA, in other operations, rebuild TensorFlow with the appropriate compiler flags.\n",
      "2024-05-15 03:55:10.850256: W tensorflow/compiler/tf2tensorrt/utils/py_utils.cc:38] TF-TRT Warning: Could not find TensorRT\n"
     ]
    },
    {
     "name": "stdout",
     "output_type": "stream",
     "text": [
      "\n",
      "==================================== Inference Configuration ====================================\n",
      " ---> Type of Modeling: naive\n",
      " ---> Total Batch Size: 32\n",
      " ---> Path of ckpt: ./output/ckpt/VCTK_naive\n",
      " ---> Path of log: ./output/log/VCTK_naive\n",
      " ---> Path of result: ./output/result/VCTK_naive\n",
      "================================================================================================\n"
     ]
    },
    {
     "name": "stderr",
     "output_type": "stream",
     "text": [
      "/home/ydoit/AIGC/diffgan/diffgan/lib/python3.10/site-packages/torch/nn/utils/weight_norm.py:28: UserWarning: torch.nn.utils.weight_norm is deprecated in favor of torch.nn.utils.parametrizations.weight_norm.\n",
      "  warnings.warn(\"torch.nn.utils.weight_norm is deprecated in favor of torch.nn.utils.parametrizations.weight_norm.\")\n"
     ]
    },
    {
     "name": "stdout",
     "output_type": "stream",
     "text": [
      "Removing weight norm...\n",
      "Raw Text Sequence: The talks were announced yesterday by Brian Wilson, the foreign office minister.\n",
      "\n",
      "Phoneme Sequence: {DH AH0 T AO1 K S W ER0 AH0 N AW1 N S T Y EH1 S T ER0 D EY2 B AY1 B R AY1 AH0 N W IH1 L S AH0 N sp DH AH0 F AA1 R AH0 N AO1 F AH0 S M IH1 N AH0 S T ER0 sp}\n"
     ]
    },
    {
     "name": "stderr",
     "output_type": "stream",
     "text": [
      "  0%|          | 0/1 [00:00<?, ?it/s]\n",
      "sample time step:   0%|          | 0/4 [00:00<?, ?it/s]\u001b[A\n",
      "sample time step: 100%|██████████| 4/4 [00:00<00:00,  7.15it/s]\u001b[A\n",
      "100%|██████████| 1/1 [00:02<00:00,  2.27s/it]\n",
      "2024-05-15 03:55:23.686271: I tensorflow/core/platform/cpu_feature_guard.cc:210] This TensorFlow binary is optimized to use available CPU instructions in performance-critical operations.\n",
      "To enable the following instructions: AVX2 FMA, in other operations, rebuild TensorFlow with the appropriate compiler flags.\n",
      "2024-05-15 03:55:24.620800: W tensorflow/compiler/tf2tensorrt/utils/py_utils.cc:38] TF-TRT Warning: Could not find TensorRT\n"
     ]
    },
    {
     "name": "stdout",
     "output_type": "stream",
     "text": [
      "\n",
      "==================================== Inference Configuration ====================================\n",
      " ---> Type of Modeling: naive\n",
      " ---> Total Batch Size: 32\n",
      " ---> Path of ckpt: ./output/ckpt/VCTK_naive\n",
      " ---> Path of log: ./output/log/VCTK_naive\n",
      " ---> Path of result: ./output/result/VCTK_naive\n",
      "================================================================================================\n"
     ]
    },
    {
     "name": "stderr",
     "output_type": "stream",
     "text": [
      "/home/ydoit/AIGC/diffgan/diffgan/lib/python3.10/site-packages/torch/nn/utils/weight_norm.py:28: UserWarning: torch.nn.utils.weight_norm is deprecated in favor of torch.nn.utils.parametrizations.weight_norm.\n",
      "  warnings.warn(\"torch.nn.utils.weight_norm is deprecated in favor of torch.nn.utils.parametrizations.weight_norm.\")\n"
     ]
    },
    {
     "name": "stdout",
     "output_type": "stream",
     "text": [
      "Removing weight norm...\n",
      "Raw Text Sequence: I fell in love with ballet.\n",
      "\n",
      "Phoneme Sequence: {AY1 F EH1 L IH0 N L AH1 V W IH0 DH B AE0 L EY1 sp}\n"
     ]
    },
    {
     "name": "stderr",
     "output_type": "stream",
     "text": [
      "  0%|          | 0/1 [00:00<?, ?it/s]\n",
      "sample time step: 100%|██████████| 4/4 [00:00<00:00, 43.84it/s]\n",
      "100%|██████████| 1/1 [00:01<00:00,  1.64s/it]\n",
      "2024-05-15 03:55:37.118761: I tensorflow/core/platform/cpu_feature_guard.cc:210] This TensorFlow binary is optimized to use available CPU instructions in performance-critical operations.\n",
      "To enable the following instructions: AVX2 FMA, in other operations, rebuild TensorFlow with the appropriate compiler flags.\n",
      "2024-05-15 03:55:37.981739: W tensorflow/compiler/tf2tensorrt/utils/py_utils.cc:38] TF-TRT Warning: Could not find TensorRT\n"
     ]
    },
    {
     "name": "stdout",
     "output_type": "stream",
     "text": [
      "\n",
      "==================================== Inference Configuration ====================================\n",
      " ---> Type of Modeling: naive\n",
      " ---> Total Batch Size: 32\n",
      " ---> Path of ckpt: ./output/ckpt/VCTK_naive\n",
      " ---> Path of log: ./output/log/VCTK_naive\n",
      " ---> Path of result: ./output/result/VCTK_naive\n",
      "================================================================================================\n"
     ]
    },
    {
     "name": "stderr",
     "output_type": "stream",
     "text": [
      "/home/ydoit/AIGC/diffgan/diffgan/lib/python3.10/site-packages/torch/nn/utils/weight_norm.py:28: UserWarning: torch.nn.utils.weight_norm is deprecated in favor of torch.nn.utils.parametrizations.weight_norm.\n",
      "  warnings.warn(\"torch.nn.utils.weight_norm is deprecated in favor of torch.nn.utils.parametrizations.weight_norm.\")\n"
     ]
    },
    {
     "name": "stdout",
     "output_type": "stream",
     "text": [
      "Removing weight norm...\n",
      "Raw Text Sequence: It had happened to him.\n",
      "\n",
      "Phoneme Sequence: {IH0 T HH AE1 D HH AE1 P AH0 N D T AH0 HH IH1 M sp}\n"
     ]
    },
    {
     "name": "stderr",
     "output_type": "stream",
     "text": [
      "  0%|          | 0/1 [00:00<?, ?it/s]\n",
      "sample time step: 100%|██████████| 4/4 [00:00<00:00, 48.08it/s]\n",
      "100%|██████████| 1/1 [00:01<00:00,  1.68s/it]\n",
      "2024-05-15 03:55:51.505579: I tensorflow/core/platform/cpu_feature_guard.cc:210] This TensorFlow binary is optimized to use available CPU instructions in performance-critical operations.\n",
      "To enable the following instructions: AVX2 FMA, in other operations, rebuild TensorFlow with the appropriate compiler flags.\n",
      "2024-05-15 03:55:52.354866: W tensorflow/compiler/tf2tensorrt/utils/py_utils.cc:38] TF-TRT Warning: Could not find TensorRT\n"
     ]
    },
    {
     "name": "stdout",
     "output_type": "stream",
     "text": [
      "\n",
      "==================================== Inference Configuration ====================================\n",
      " ---> Type of Modeling: naive\n",
      " ---> Total Batch Size: 32\n",
      " ---> Path of ckpt: ./output/ckpt/VCTK_naive\n",
      " ---> Path of log: ./output/log/VCTK_naive\n",
      " ---> Path of result: ./output/result/VCTK_naive\n",
      "================================================================================================\n"
     ]
    },
    {
     "name": "stderr",
     "output_type": "stream",
     "text": [
      "/home/ydoit/AIGC/diffgan/diffgan/lib/python3.10/site-packages/torch/nn/utils/weight_norm.py:28: UserWarning: torch.nn.utils.weight_norm is deprecated in favor of torch.nn.utils.parametrizations.weight_norm.\n",
      "  warnings.warn(\"torch.nn.utils.weight_norm is deprecated in favor of torch.nn.utils.parametrizations.weight_norm.\")\n"
     ]
    },
    {
     "name": "stdout",
     "output_type": "stream",
     "text": [
      "Removing weight norm...\n",
      "Raw Text Sequence: You can't give in to the vandals.\n",
      "\n",
      "Phoneme Sequence: {Y UW1 K AE1 N T G IH1 V IH0 N T AH0 DH AH0 V AE1 N D AH0 L Z sp}\n"
     ]
    },
    {
     "name": "stderr",
     "output_type": "stream",
     "text": [
      "  0%|          | 0/1 [00:00<?, ?it/s]\n",
      "sample time step:   0%|          | 0/4 [00:00<?, ?it/s]\u001b[A/home/ydoit/AIGC/diffgan/diffgan/lib/python3.10/site-packages/torch/nn/modules/conv.py:306: UserWarning: Plan failed with a cudnnException: CUDNN_BACKEND_EXECUTION_PLAN_DESCRIPTOR: cudnnFinalize Descriptor Failed cudnn_status: CUDNN_STATUS_NOT_SUPPORTED (Triggered internally at ../aten/src/ATen/native/cudnn/Conv_v8.cpp:919.)\n",
      "  return F.conv1d(input, weight, bias, self.stride,\n",
      "\n",
      "sample time step: 100%|██████████| 4/4 [00:00<00:00, 10.93it/s]\u001b[A\n",
      "100%|██████████| 1/1 [00:01<00:00,  1.75s/it]\n",
      "2024-05-15 03:56:05.537468: I tensorflow/core/platform/cpu_feature_guard.cc:210] This TensorFlow binary is optimized to use available CPU instructions in performance-critical operations.\n",
      "To enable the following instructions: AVX2 FMA, in other operations, rebuild TensorFlow with the appropriate compiler flags.\n",
      "2024-05-15 03:56:06.349546: W tensorflow/compiler/tf2tensorrt/utils/py_utils.cc:38] TF-TRT Warning: Could not find TensorRT\n"
     ]
    },
    {
     "name": "stdout",
     "output_type": "stream",
     "text": [
      "\n",
      "==================================== Inference Configuration ====================================\n",
      " ---> Type of Modeling: naive\n",
      " ---> Total Batch Size: 32\n",
      " ---> Path of ckpt: ./output/ckpt/VCTK_naive\n",
      " ---> Path of log: ./output/log/VCTK_naive\n",
      " ---> Path of result: ./output/result/VCTK_naive\n",
      "================================================================================================\n"
     ]
    },
    {
     "name": "stderr",
     "output_type": "stream",
     "text": [
      "/home/ydoit/AIGC/diffgan/diffgan/lib/python3.10/site-packages/torch/nn/utils/weight_norm.py:28: UserWarning: torch.nn.utils.weight_norm is deprecated in favor of torch.nn.utils.parametrizations.weight_norm.\n",
      "  warnings.warn(\"torch.nn.utils.weight_norm is deprecated in favor of torch.nn.utils.parametrizations.weight_norm.\")\n"
     ]
    },
    {
     "name": "stdout",
     "output_type": "stream",
     "text": [
      "Removing weight norm...\n",
      "Raw Text Sequence: There is great interest on our island.\n",
      "\n",
      "Phoneme Sequence: {DH EH1 R IH0 Z G R EY1 T IH1 N T ER0 AH0 S T AA1 N AA1 R AY1 L AH0 N D sp}\n"
     ]
    },
    {
     "name": "stderr",
     "output_type": "stream",
     "text": [
      "  0%|          | 0/1 [00:00<?, ?it/s]\n",
      "sample time step:   0%|          | 0/4 [00:00<?, ?it/s]\u001b[A\n",
      "sample time step: 100%|██████████| 4/4 [00:00<00:00,  8.96it/s]\u001b[A\n",
      "100%|██████████| 1/1 [00:01<00:00,  1.37s/it]\n",
      "2024-05-15 03:56:19.462601: I tensorflow/core/platform/cpu_feature_guard.cc:210] This TensorFlow binary is optimized to use available CPU instructions in performance-critical operations.\n",
      "To enable the following instructions: AVX2 FMA, in other operations, rebuild TensorFlow with the appropriate compiler flags.\n",
      "2024-05-15 03:56:20.285688: W tensorflow/compiler/tf2tensorrt/utils/py_utils.cc:38] TF-TRT Warning: Could not find TensorRT\n"
     ]
    },
    {
     "name": "stdout",
     "output_type": "stream",
     "text": [
      "\n",
      "==================================== Inference Configuration ====================================\n",
      " ---> Type of Modeling: naive\n",
      " ---> Total Batch Size: 32\n",
      " ---> Path of ckpt: ./output/ckpt/VCTK_naive\n",
      " ---> Path of log: ./output/log/VCTK_naive\n",
      " ---> Path of result: ./output/result/VCTK_naive\n",
      "================================================================================================\n"
     ]
    },
    {
     "name": "stderr",
     "output_type": "stream",
     "text": [
      "/home/ydoit/AIGC/diffgan/diffgan/lib/python3.10/site-packages/torch/nn/utils/weight_norm.py:28: UserWarning: torch.nn.utils.weight_norm is deprecated in favor of torch.nn.utils.parametrizations.weight_norm.\n",
      "  warnings.warn(\"torch.nn.utils.weight_norm is deprecated in favor of torch.nn.utils.parametrizations.weight_norm.\")\n"
     ]
    },
    {
     "name": "stdout",
     "output_type": "stream",
     "text": [
      "Removing weight norm...\n",
      "Raw Text Sequence: Looking at him is proof of the pudding.\n",
      "\n",
      "Phoneme Sequence: {L UH1 K IH0 NG AE1 T HH IH1 M IH0 Z P R UW1 F AH0 V DH AH0 P UH1 D IH0 NG sp}\n"
     ]
    },
    {
     "name": "stderr",
     "output_type": "stream",
     "text": [
      "  0%|          | 0/1 [00:00<?, ?it/s]\n",
      "sample time step:   0%|          | 0/4 [00:00<?, ?it/s]\u001b[A/home/ydoit/AIGC/diffgan/diffgan/lib/python3.10/site-packages/torch/nn/modules/conv.py:306: UserWarning: Plan failed with a cudnnException: CUDNN_BACKEND_EXECUTION_PLAN_DESCRIPTOR: cudnnFinalize Descriptor Failed cudnn_status: CUDNN_STATUS_NOT_SUPPORTED (Triggered internally at ../aten/src/ATen/native/cudnn/Conv_v8.cpp:919.)\n",
      "  return F.conv1d(input, weight, bias, self.stride,\n",
      "sample time step: 100%|██████████| 4/4 [00:00<00:00, 42.69it/s]\n",
      "100%|██████████| 1/1 [00:01<00:00,  1.74s/it]\n",
      "2024-05-15 03:56:33.625241: I tensorflow/core/platform/cpu_feature_guard.cc:210] This TensorFlow binary is optimized to use available CPU instructions in performance-critical operations.\n",
      "To enable the following instructions: AVX2 FMA, in other operations, rebuild TensorFlow with the appropriate compiler flags.\n",
      "2024-05-15 03:56:34.443212: W tensorflow/compiler/tf2tensorrt/utils/py_utils.cc:38] TF-TRT Warning: Could not find TensorRT\n"
     ]
    },
    {
     "name": "stdout",
     "output_type": "stream",
     "text": [
      "\n",
      "==================================== Inference Configuration ====================================\n",
      " ---> Type of Modeling: naive\n",
      " ---> Total Batch Size: 32\n",
      " ---> Path of ckpt: ./output/ckpt/VCTK_naive\n",
      " ---> Path of log: ./output/log/VCTK_naive\n",
      " ---> Path of result: ./output/result/VCTK_naive\n",
      "================================================================================================\n"
     ]
    },
    {
     "name": "stderr",
     "output_type": "stream",
     "text": [
      "/home/ydoit/AIGC/diffgan/diffgan/lib/python3.10/site-packages/torch/nn/utils/weight_norm.py:28: UserWarning: torch.nn.utils.weight_norm is deprecated in favor of torch.nn.utils.parametrizations.weight_norm.\n",
      "  warnings.warn(\"torch.nn.utils.weight_norm is deprecated in favor of torch.nn.utils.parametrizations.weight_norm.\")\n"
     ]
    },
    {
     "name": "stdout",
     "output_type": "stream",
     "text": [
      "Removing weight norm...\n",
      "Raw Text Sequence: The change was not instant.\n",
      "\n",
      "Phoneme Sequence: {DH AH0 CH EY1 N JH W AA1 Z N AA1 T IH1 N S T AH0 N T sp}\n"
     ]
    },
    {
     "name": "stderr",
     "output_type": "stream",
     "text": [
      "  0%|          | 0/1 [00:00<?, ?it/s]\n",
      "sample time step:   0%|          | 0/4 [00:00<?, ?it/s]\u001b[A/home/ydoit/AIGC/diffgan/diffgan/lib/python3.10/site-packages/torch/nn/modules/conv.py:306: UserWarning: Plan failed with a cudnnException: CUDNN_BACKEND_EXECUTION_PLAN_DESCRIPTOR: cudnnFinalize Descriptor Failed cudnn_status: CUDNN_STATUS_NOT_SUPPORTED (Triggered internally at ../aten/src/ATen/native/cudnn/Conv_v8.cpp:919.)\n",
      "  return F.conv1d(input, weight, bias, self.stride,\n",
      "\n",
      "sample time step: 100%|██████████| 4/4 [00:00<00:00, 37.20it/s]\u001b[A\n",
      "100%|██████████| 1/1 [00:01<00:00,  1.58s/it]\n",
      "2024-05-15 03:56:46.983458: I tensorflow/core/platform/cpu_feature_guard.cc:210] This TensorFlow binary is optimized to use available CPU instructions in performance-critical operations.\n",
      "To enable the following instructions: AVX2 FMA, in other operations, rebuild TensorFlow with the appropriate compiler flags.\n",
      "2024-05-15 03:56:47.908798: W tensorflow/compiler/tf2tensorrt/utils/py_utils.cc:38] TF-TRT Warning: Could not find TensorRT\n"
     ]
    },
    {
     "name": "stdout",
     "output_type": "stream",
     "text": [
      "\n",
      "==================================== Inference Configuration ====================================\n",
      " ---> Type of Modeling: naive\n",
      " ---> Total Batch Size: 32\n",
      " ---> Path of ckpt: ./output/ckpt/VCTK_naive\n",
      " ---> Path of log: ./output/log/VCTK_naive\n",
      " ---> Path of result: ./output/result/VCTK_naive\n",
      "================================================================================================\n"
     ]
    },
    {
     "name": "stderr",
     "output_type": "stream",
     "text": [
      "/home/ydoit/AIGC/diffgan/diffgan/lib/python3.10/site-packages/torch/nn/utils/weight_norm.py:28: UserWarning: torch.nn.utils.weight_norm is deprecated in favor of torch.nn.utils.parametrizations.weight_norm.\n",
      "  warnings.warn(\"torch.nn.utils.weight_norm is deprecated in favor of torch.nn.utils.parametrizations.weight_norm.\")\n"
     ]
    },
    {
     "name": "stdout",
     "output_type": "stream",
     "text": [
      "Removing weight norm...\n",
      "Raw Text Sequence: It doesn't make me feel any better.\n",
      "\n",
      "Phoneme Sequence: {IH0 T D AH1 Z AH0 N M EY1 K M IY1 F IY1 L EH1 N IY0 B EH1 T ER0 sp}\n"
     ]
    },
    {
     "name": "stderr",
     "output_type": "stream",
     "text": [
      "  0%|          | 0/1 [00:00<?, ?it/s]\n",
      "sample time step:   0%|          | 0/4 [00:00<?, ?it/s]\u001b[A/home/ydoit/AIGC/diffgan/diffgan/lib/python3.10/site-packages/torch/nn/modules/conv.py:306: UserWarning: Plan failed with a cudnnException: CUDNN_BACKEND_EXECUTION_PLAN_DESCRIPTOR: cudnnFinalize Descriptor Failed cudnn_status: CUDNN_STATUS_NOT_SUPPORTED (Triggered internally at ../aten/src/ATen/native/cudnn/Conv_v8.cpp:919.)\n",
      "  return F.conv1d(input, weight, bias, self.stride,\n",
      "\n",
      "sample time step: 100%|██████████| 4/4 [00:00<00:00,  7.06it/s]\u001b[A\n",
      "100%|██████████| 1/1 [00:02<00:00,  2.28s/it]\n",
      "2024-05-15 03:57:02.544090: I tensorflow/core/platform/cpu_feature_guard.cc:210] This TensorFlow binary is optimized to use available CPU instructions in performance-critical operations.\n",
      "To enable the following instructions: AVX2 FMA, in other operations, rebuild TensorFlow with the appropriate compiler flags.\n",
      "2024-05-15 03:57:03.357617: W tensorflow/compiler/tf2tensorrt/utils/py_utils.cc:38] TF-TRT Warning: Could not find TensorRT\n"
     ]
    },
    {
     "name": "stdout",
     "output_type": "stream",
     "text": [
      "\n",
      "==================================== Inference Configuration ====================================\n",
      " ---> Type of Modeling: naive\n",
      " ---> Total Batch Size: 32\n",
      " ---> Path of ckpt: ./output/ckpt/VCTK_naive\n",
      " ---> Path of log: ./output/log/VCTK_naive\n",
      " ---> Path of result: ./output/result/VCTK_naive\n",
      "================================================================================================\n"
     ]
    },
    {
     "name": "stderr",
     "output_type": "stream",
     "text": [
      "/home/ydoit/AIGC/diffgan/diffgan/lib/python3.10/site-packages/torch/nn/utils/weight_norm.py:28: UserWarning: torch.nn.utils.weight_norm is deprecated in favor of torch.nn.utils.parametrizations.weight_norm.\n",
      "  warnings.warn(\"torch.nn.utils.weight_norm is deprecated in favor of torch.nn.utils.parametrizations.weight_norm.\")\n"
     ]
    },
    {
     "name": "stdout",
     "output_type": "stream",
     "text": [
      "Removing weight norm...\n",
      "Raw Text Sequence: I'm pleased about one thing.\n",
      "\n",
      "Phoneme Sequence: {AH0 M P L IY1 Z D AH0 B AW1 T HH W AH1 N TH IH1 NG sp}\n"
     ]
    },
    {
     "name": "stderr",
     "output_type": "stream",
     "text": [
      "  0%|          | 0/1 [00:00<?, ?it/s]\n",
      "sample time step:   0%|          | 0/4 [00:00<?, ?it/s]\u001b[A\n",
      "sample time step: 100%|██████████| 4/4 [00:00<00:00,  6.43it/s]\u001b[A\n",
      "100%|██████████| 1/1 [00:02<00:00,  2.58s/it]\n",
      "2024-05-15 03:57:17.520955: I tensorflow/core/platform/cpu_feature_guard.cc:210] This TensorFlow binary is optimized to use available CPU instructions in performance-critical operations.\n",
      "To enable the following instructions: AVX2 FMA, in other operations, rebuild TensorFlow with the appropriate compiler flags.\n",
      "2024-05-15 03:57:18.606458: W tensorflow/compiler/tf2tensorrt/utils/py_utils.cc:38] TF-TRT Warning: Could not find TensorRT\n"
     ]
    },
    {
     "name": "stdout",
     "output_type": "stream",
     "text": [
      "\n",
      "==================================== Inference Configuration ====================================\n",
      " ---> Type of Modeling: naive\n",
      " ---> Total Batch Size: 32\n",
      " ---> Path of ckpt: ./output/ckpt/VCTK_naive\n",
      " ---> Path of log: ./output/log/VCTK_naive\n",
      " ---> Path of result: ./output/result/VCTK_naive\n",
      "================================================================================================\n"
     ]
    },
    {
     "name": "stderr",
     "output_type": "stream",
     "text": [
      "/home/ydoit/AIGC/diffgan/diffgan/lib/python3.10/site-packages/torch/nn/utils/weight_norm.py:28: UserWarning: torch.nn.utils.weight_norm is deprecated in favor of torch.nn.utils.parametrizations.weight_norm.\n",
      "  warnings.warn(\"torch.nn.utils.weight_norm is deprecated in favor of torch.nn.utils.parametrizations.weight_norm.\")\n"
     ]
    },
    {
     "name": "stdout",
     "output_type": "stream",
     "text": [
      "Removing weight norm...\n",
      "Raw Text Sequence: That suggests that out fitness is good.\n",
      "\n",
      "Phoneme Sequence: {DH AE1 T S AH0 G JH EH1 S T S DH AE1 T AW1 T F IH1 T N AH0 S IH0 Z G IH0 D sp}\n"
     ]
    },
    {
     "name": "stderr",
     "output_type": "stream",
     "text": [
      "  0%|          | 0/1 [00:00<?, ?it/s]\n",
      "sample time step:   0%|          | 0/4 [00:00<?, ?it/s]\u001b[A\n",
      "sample time step: 100%|██████████| 4/4 [00:00<00:00,  9.84it/s]\u001b[A\n",
      "100%|██████████| 1/1 [00:02<00:00,  2.26s/it]\n",
      "2024-05-15 03:57:33.362851: I tensorflow/core/platform/cpu_feature_guard.cc:210] This TensorFlow binary is optimized to use available CPU instructions in performance-critical operations.\n",
      "To enable the following instructions: AVX2 FMA, in other operations, rebuild TensorFlow with the appropriate compiler flags.\n",
      "2024-05-15 03:57:34.157810: W tensorflow/compiler/tf2tensorrt/utils/py_utils.cc:38] TF-TRT Warning: Could not find TensorRT\n"
     ]
    },
    {
     "name": "stdout",
     "output_type": "stream",
     "text": [
      "\n",
      "==================================== Inference Configuration ====================================\n",
      " ---> Type of Modeling: naive\n",
      " ---> Total Batch Size: 32\n",
      " ---> Path of ckpt: ./output/ckpt/VCTK_naive\n",
      " ---> Path of log: ./output/log/VCTK_naive\n",
      " ---> Path of result: ./output/result/VCTK_naive\n",
      "================================================================================================\n"
     ]
    },
    {
     "name": "stderr",
     "output_type": "stream",
     "text": [
      "/home/ydoit/AIGC/diffgan/diffgan/lib/python3.10/site-packages/torch/nn/utils/weight_norm.py:28: UserWarning: torch.nn.utils.weight_norm is deprecated in favor of torch.nn.utils.parametrizations.weight_norm.\n",
      "  warnings.warn(\"torch.nn.utils.weight_norm is deprecated in favor of torch.nn.utils.parametrizations.weight_norm.\")\n"
     ]
    },
    {
     "name": "stdout",
     "output_type": "stream",
     "text": [
      "Removing weight norm...\n",
      "Raw Text Sequence: His deal is effective for two years, starting in July.\n",
      "\n",
      "Phoneme Sequence: {HH IH0 Z D IY1 L IH0 Z IH0 F EH1 K T IH0 V F AO1 R T UW1 Y ER0 Z sp S T AA1 R T IH0 NG IH0 N JH AH0 L AY1 sp}\n"
     ]
    },
    {
     "name": "stderr",
     "output_type": "stream",
     "text": [
      "  0%|          | 0/1 [00:00<?, ?it/s]\n",
      "sample time step:   0%|          | 0/4 [00:00<?, ?it/s]\u001b[A\n",
      "sample time step: 100%|██████████| 4/4 [00:00<00:00,  7.56it/s]\u001b[A\n",
      "100%|██████████| 1/1 [00:02<00:00,  2.18s/it]\n",
      "2024-05-15 03:57:48.193301: I tensorflow/core/platform/cpu_feature_guard.cc:210] This TensorFlow binary is optimized to use available CPU instructions in performance-critical operations.\n",
      "To enable the following instructions: AVX2 FMA, in other operations, rebuild TensorFlow with the appropriate compiler flags.\n",
      "2024-05-15 03:57:48.991729: W tensorflow/compiler/tf2tensorrt/utils/py_utils.cc:38] TF-TRT Warning: Could not find TensorRT\n"
     ]
    },
    {
     "name": "stdout",
     "output_type": "stream",
     "text": [
      "\n",
      "==================================== Inference Configuration ====================================\n",
      " ---> Type of Modeling: naive\n",
      " ---> Total Batch Size: 32\n",
      " ---> Path of ckpt: ./output/ckpt/VCTK_naive\n",
      " ---> Path of log: ./output/log/VCTK_naive\n",
      " ---> Path of result: ./output/result/VCTK_naive\n",
      "================================================================================================\n"
     ]
    },
    {
     "name": "stderr",
     "output_type": "stream",
     "text": [
      "/home/ydoit/AIGC/diffgan/diffgan/lib/python3.10/site-packages/torch/nn/utils/weight_norm.py:28: UserWarning: torch.nn.utils.weight_norm is deprecated in favor of torch.nn.utils.parametrizations.weight_norm.\n",
      "  warnings.warn(\"torch.nn.utils.weight_norm is deprecated in favor of torch.nn.utils.parametrizations.weight_norm.\")\n"
     ]
    },
    {
     "name": "stdout",
     "output_type": "stream",
     "text": [
      "Removing weight norm...\n",
      "Raw Text Sequence: Labour was too busy to respond.\n",
      "\n",
      "Phoneme Sequence: {L EY1 B AW2 R W AA1 Z T UW1 B IH1 Z IY0 T AH0 R IH0 S P AA1 N D sp}\n"
     ]
    },
    {
     "name": "stderr",
     "output_type": "stream",
     "text": [
      "  0%|          | 0/1 [00:00<?, ?it/s]\n",
      "sample time step:   0%|          | 0/4 [00:00<?, ?it/s]\u001b[A/home/ydoit/AIGC/diffgan/diffgan/lib/python3.10/site-packages/torch/nn/modules/conv.py:306: UserWarning: Plan failed with a cudnnException: CUDNN_BACKEND_EXECUTION_PLAN_DESCRIPTOR: cudnnFinalize Descriptor Failed cudnn_status: CUDNN_STATUS_NOT_SUPPORTED (Triggered internally at ../aten/src/ATen/native/cudnn/Conv_v8.cpp:919.)\n",
      "  return F.conv1d(input, weight, bias, self.stride,\n",
      "\n",
      "sample time step: 100%|██████████| 4/4 [00:00<00:00,  8.01it/s]\u001b[A\n",
      "100%|██████████| 1/1 [00:02<00:00,  2.30s/it]\n",
      "2024-05-15 03:58:04.014531: I tensorflow/core/platform/cpu_feature_guard.cc:210] This TensorFlow binary is optimized to use available CPU instructions in performance-critical operations.\n",
      "To enable the following instructions: AVX2 FMA, in other operations, rebuild TensorFlow with the appropriate compiler flags.\n",
      "2024-05-15 03:58:04.823114: W tensorflow/compiler/tf2tensorrt/utils/py_utils.cc:38] TF-TRT Warning: Could not find TensorRT\n"
     ]
    },
    {
     "name": "stdout",
     "output_type": "stream",
     "text": [
      "\n",
      "==================================== Inference Configuration ====================================\n",
      " ---> Type of Modeling: naive\n",
      " ---> Total Batch Size: 32\n",
      " ---> Path of ckpt: ./output/ckpt/VCTK_naive\n",
      " ---> Path of log: ./output/log/VCTK_naive\n",
      " ---> Path of result: ./output/result/VCTK_naive\n",
      "================================================================================================\n"
     ]
    },
    {
     "name": "stderr",
     "output_type": "stream",
     "text": [
      "/home/ydoit/AIGC/diffgan/diffgan/lib/python3.10/site-packages/torch/nn/utils/weight_norm.py:28: UserWarning: torch.nn.utils.weight_norm is deprecated in favor of torch.nn.utils.parametrizations.weight_norm.\n",
      "  warnings.warn(\"torch.nn.utils.weight_norm is deprecated in favor of torch.nn.utils.parametrizations.weight_norm.\")\n"
     ]
    },
    {
     "name": "stdout",
     "output_type": "stream",
     "text": [
      "Removing weight norm...\n",
      "Raw Text Sequence: But let's not get ahead of ourselves.\n",
      "\n",
      "Phoneme Sequence: {B AH1 T L EH1 T S N AA1 T G EH1 T AH0 HH EH1 D AH0 V AA0 R S EH1 L V Z sp}\n"
     ]
    },
    {
     "name": "stderr",
     "output_type": "stream",
     "text": [
      "  0%|          | 0/1 [00:00<?, ?it/s]\n",
      "sample time step:   0%|          | 0/4 [00:00<?, ?it/s]\u001b[A/home/ydoit/AIGC/diffgan/diffgan/lib/python3.10/site-packages/torch/nn/modules/conv.py:306: UserWarning: Plan failed with a cudnnException: CUDNN_BACKEND_EXECUTION_PLAN_DESCRIPTOR: cudnnFinalize Descriptor Failed cudnn_status: CUDNN_STATUS_NOT_SUPPORTED (Triggered internally at ../aten/src/ATen/native/cudnn/Conv_v8.cpp:919.)\n",
      "  return F.conv1d(input, weight, bias, self.stride,\n",
      "\n",
      "sample time step: 100%|██████████| 4/4 [00:00<00:00, 38.87it/s]\u001b[A\n",
      "100%|██████████| 1/1 [00:01<00:00,  1.71s/it]\n",
      "2024-05-15 03:58:17.217563: I tensorflow/core/platform/cpu_feature_guard.cc:210] This TensorFlow binary is optimized to use available CPU instructions in performance-critical operations.\n",
      "To enable the following instructions: AVX2 FMA, in other operations, rebuild TensorFlow with the appropriate compiler flags.\n",
      "2024-05-15 03:58:17.995289: W tensorflow/compiler/tf2tensorrt/utils/py_utils.cc:38] TF-TRT Warning: Could not find TensorRT\n"
     ]
    },
    {
     "name": "stdout",
     "output_type": "stream",
     "text": [
      "\n",
      "==================================== Inference Configuration ====================================\n",
      " ---> Type of Modeling: naive\n",
      " ---> Total Batch Size: 32\n",
      " ---> Path of ckpt: ./output/ckpt/VCTK_naive\n",
      " ---> Path of log: ./output/log/VCTK_naive\n",
      " ---> Path of result: ./output/result/VCTK_naive\n",
      "================================================================================================\n"
     ]
    },
    {
     "name": "stderr",
     "output_type": "stream",
     "text": [
      "/home/ydoit/AIGC/diffgan/diffgan/lib/python3.10/site-packages/torch/nn/utils/weight_norm.py:28: UserWarning: torch.nn.utils.weight_norm is deprecated in favor of torch.nn.utils.parametrizations.weight_norm.\n",
      "  warnings.warn(\"torch.nn.utils.weight_norm is deprecated in favor of torch.nn.utils.parametrizations.weight_norm.\")\n"
     ]
    },
    {
     "name": "stdout",
     "output_type": "stream",
     "text": [
      "Removing weight norm...\n",
      "Raw Text Sequence: Well, it happened to me, so it's happening to him.\n",
      "\n",
      "Phoneme Sequence: {W EH1 L sp IH0 T HH AE1 P AH0 N D T AH0 M IY1 sp S OW1 IH0 T S HH AE1 P AH0 N IH0 NG T AH0 HH IH1 M sp}\n"
     ]
    },
    {
     "name": "stderr",
     "output_type": "stream",
     "text": [
      "  0%|          | 0/1 [00:00<?, ?it/s]\n",
      "sample time step:   0%|          | 0/4 [00:00<?, ?it/s]\u001b[A\n",
      "sample time step: 100%|██████████| 4/4 [00:00<00:00,  6.87it/s]\u001b[A\n",
      "100%|██████████| 1/1 [00:02<00:00,  2.32s/it]\n",
      "2024-05-15 03:58:32.166349: I tensorflow/core/platform/cpu_feature_guard.cc:210] This TensorFlow binary is optimized to use available CPU instructions in performance-critical operations.\n",
      "To enable the following instructions: AVX2 FMA, in other operations, rebuild TensorFlow with the appropriate compiler flags.\n",
      "2024-05-15 03:58:33.006488: W tensorflow/compiler/tf2tensorrt/utils/py_utils.cc:38] TF-TRT Warning: Could not find TensorRT\n"
     ]
    },
    {
     "name": "stdout",
     "output_type": "stream",
     "text": [
      "\n",
      "==================================== Inference Configuration ====================================\n",
      " ---> Type of Modeling: naive\n",
      " ---> Total Batch Size: 32\n",
      " ---> Path of ckpt: ./output/ckpt/VCTK_naive\n",
      " ---> Path of log: ./output/log/VCTK_naive\n",
      " ---> Path of result: ./output/result/VCTK_naive\n",
      "================================================================================================\n"
     ]
    },
    {
     "name": "stderr",
     "output_type": "stream",
     "text": [
      "/home/ydoit/AIGC/diffgan/diffgan/lib/python3.10/site-packages/torch/nn/utils/weight_norm.py:28: UserWarning: torch.nn.utils.weight_norm is deprecated in favor of torch.nn.utils.parametrizations.weight_norm.\n",
      "  warnings.warn(\"torch.nn.utils.weight_norm is deprecated in favor of torch.nn.utils.parametrizations.weight_norm.\")\n"
     ]
    },
    {
     "name": "stdout",
     "output_type": "stream",
     "text": [
      "Removing weight norm...\n",
      "Raw Text Sequence: We're going to see a Government in a hurry.\n",
      "\n",
      "Phoneme Sequence: {W ER1 G OW1 IH0 N T AH0 S IY1 AH0 G AH1 V ER0 M AH0 N T IH0 N AH0 HH ER1 IY0 sp}\n"
     ]
    },
    {
     "name": "stderr",
     "output_type": "stream",
     "text": [
      "  0%|          | 0/1 [00:00<?, ?it/s]\n",
      "sample time step: 100%|██████████| 4/4 [00:00<00:00, 44.14it/s]\n",
      "100%|██████████| 1/1 [00:01<00:00,  1.91s/it]\n",
      "2024-05-15 03:58:45.130107: I tensorflow/core/platform/cpu_feature_guard.cc:210] This TensorFlow binary is optimized to use available CPU instructions in performance-critical operations.\n",
      "To enable the following instructions: AVX2 FMA, in other operations, rebuild TensorFlow with the appropriate compiler flags.\n",
      "2024-05-15 03:58:45.936043: W tensorflow/compiler/tf2tensorrt/utils/py_utils.cc:38] TF-TRT Warning: Could not find TensorRT\n"
     ]
    },
    {
     "name": "stdout",
     "output_type": "stream",
     "text": [
      "\n",
      "==================================== Inference Configuration ====================================\n",
      " ---> Type of Modeling: naive\n",
      " ---> Total Batch Size: 32\n",
      " ---> Path of ckpt: ./output/ckpt/VCTK_naive\n",
      " ---> Path of log: ./output/log/VCTK_naive\n",
      " ---> Path of result: ./output/result/VCTK_naive\n",
      "================================================================================================\n"
     ]
    },
    {
     "name": "stderr",
     "output_type": "stream",
     "text": [
      "/home/ydoit/AIGC/diffgan/diffgan/lib/python3.10/site-packages/torch/nn/utils/weight_norm.py:28: UserWarning: torch.nn.utils.weight_norm is deprecated in favor of torch.nn.utils.parametrizations.weight_norm.\n",
      "  warnings.warn(\"torch.nn.utils.weight_norm is deprecated in favor of torch.nn.utils.parametrizations.weight_norm.\")\n"
     ]
    },
    {
     "name": "stdout",
     "output_type": "stream",
     "text": [
      "Removing weight norm...\n",
      "Raw Text Sequence: The South African defended his work ethic.\n",
      "\n",
      "Phoneme Sequence: {DH AH0 S AW1 TH AE1 F R AH0 K AH0 N D IH0 F EH1 N D AH0 D HH IH0 Z W ER1 K EH1 TH IH0 K sp}\n"
     ]
    },
    {
     "name": "stderr",
     "output_type": "stream",
     "text": [
      "  0%|          | 0/1 [00:00<?, ?it/s]\n",
      "sample time step:   0%|          | 0/4 [00:00<?, ?it/s]\u001b[A\n",
      "sample time step: 100%|██████████| 4/4 [00:00<00:00,  5.70it/s]\u001b[A\n",
      "100%|██████████| 1/1 [00:02<00:00,  2.67s/it]\n",
      "2024-05-15 03:59:00.654245: I tensorflow/core/platform/cpu_feature_guard.cc:210] This TensorFlow binary is optimized to use available CPU instructions in performance-critical operations.\n",
      "To enable the following instructions: AVX2 FMA, in other operations, rebuild TensorFlow with the appropriate compiler flags.\n",
      "2024-05-15 03:59:01.430779: W tensorflow/compiler/tf2tensorrt/utils/py_utils.cc:38] TF-TRT Warning: Could not find TensorRT\n"
     ]
    },
    {
     "name": "stdout",
     "output_type": "stream",
     "text": [
      "\n",
      "==================================== Inference Configuration ====================================\n",
      " ---> Type of Modeling: naive\n",
      " ---> Total Batch Size: 32\n",
      " ---> Path of ckpt: ./output/ckpt/VCTK_naive\n",
      " ---> Path of log: ./output/log/VCTK_naive\n",
      " ---> Path of result: ./output/result/VCTK_naive\n",
      "================================================================================================\n"
     ]
    },
    {
     "name": "stderr",
     "output_type": "stream",
     "text": [
      "/home/ydoit/AIGC/diffgan/diffgan/lib/python3.10/site-packages/torch/nn/utils/weight_norm.py:28: UserWarning: torch.nn.utils.weight_norm is deprecated in favor of torch.nn.utils.parametrizations.weight_norm.\n",
      "  warnings.warn(\"torch.nn.utils.weight_norm is deprecated in favor of torch.nn.utils.parametrizations.weight_norm.\")\n"
     ]
    },
    {
     "name": "stdout",
     "output_type": "stream",
     "text": [
      "Removing weight norm...\n",
      "Raw Text Sequence: The game was there to be won.\n",
      "\n",
      "Phoneme Sequence: {DH AH0 G EY1 M W AA1 Z DH EH1 R T AH0 B IY0 W AA1 N sp}\n"
     ]
    },
    {
     "name": "stderr",
     "output_type": "stream",
     "text": [
      "  0%|          | 0/1 [00:00<?, ?it/s]\n",
      "sample time step:   0%|          | 0/4 [00:00<?, ?it/s]\u001b[A/home/ydoit/AIGC/diffgan/diffgan/lib/python3.10/site-packages/torch/nn/modules/conv.py:306: UserWarning: Plan failed with a cudnnException: CUDNN_BACKEND_EXECUTION_PLAN_DESCRIPTOR: cudnnFinalize Descriptor Failed cudnn_status: CUDNN_STATUS_NOT_SUPPORTED (Triggered internally at ../aten/src/ATen/native/cudnn/Conv_v8.cpp:919.)\n",
      "  return F.conv1d(input, weight, bias, self.stride,\n",
      "\n",
      "sample time step: 100%|██████████| 4/4 [00:00<00:00,  7.33it/s]\u001b[A\n",
      "100%|██████████| 1/1 [00:02<00:00,  2.13s/it]\n",
      "2024-05-15 03:59:15.561860: I tensorflow/core/platform/cpu_feature_guard.cc:210] This TensorFlow binary is optimized to use available CPU instructions in performance-critical operations.\n",
      "To enable the following instructions: AVX2 FMA, in other operations, rebuild TensorFlow with the appropriate compiler flags.\n",
      "2024-05-15 03:59:16.314724: W tensorflow/compiler/tf2tensorrt/utils/py_utils.cc:38] TF-TRT Warning: Could not find TensorRT\n"
     ]
    },
    {
     "name": "stdout",
     "output_type": "stream",
     "text": [
      "\n",
      "==================================== Inference Configuration ====================================\n",
      " ---> Type of Modeling: naive\n",
      " ---> Total Batch Size: 32\n",
      " ---> Path of ckpt: ./output/ckpt/VCTK_naive\n",
      " ---> Path of log: ./output/log/VCTK_naive\n",
      " ---> Path of result: ./output/result/VCTK_naive\n",
      "================================================================================================\n"
     ]
    },
    {
     "name": "stderr",
     "output_type": "stream",
     "text": [
      "/home/ydoit/AIGC/diffgan/diffgan/lib/python3.10/site-packages/torch/nn/utils/weight_norm.py:28: UserWarning: torch.nn.utils.weight_norm is deprecated in favor of torch.nn.utils.parametrizations.weight_norm.\n",
      "  warnings.warn(\"torch.nn.utils.weight_norm is deprecated in favor of torch.nn.utils.parametrizations.weight_norm.\")\n"
     ]
    },
    {
     "name": "stdout",
     "output_type": "stream",
     "text": [
      "Removing weight norm...\n",
      "Raw Text Sequence: We are also looking for new licences.\n",
      "\n",
      "Phoneme Sequence: {W IY1 AA1 R AO1 L S OW0 L UH1 K IH0 NG F AO1 R N UW1 L AY1 S AH0 N S IH0 Z sp}\n"
     ]
    },
    {
     "name": "stderr",
     "output_type": "stream",
     "text": [
      "  0%|          | 0/1 [00:00<?, ?it/s]\n",
      "sample time step:   0%|          | 0/4 [00:00<?, ?it/s]\u001b[A/home/ydoit/AIGC/diffgan/diffgan/lib/python3.10/site-packages/torch/nn/modules/conv.py:306: UserWarning: Plan failed with a cudnnException: CUDNN_BACKEND_EXECUTION_PLAN_DESCRIPTOR: cudnnFinalize Descriptor Failed cudnn_status: CUDNN_STATUS_NOT_SUPPORTED (Triggered internally at ../aten/src/ATen/native/cudnn/Conv_v8.cpp:919.)\n",
      "  return F.conv1d(input, weight, bias, self.stride,\n",
      "\n",
      "sample time step: 100%|██████████| 4/4 [00:00<00:00,  9.44it/s]\u001b[A\n",
      "100%|██████████| 1/1 [00:01<00:00,  1.72s/it]\n",
      "2024-05-15 03:59:30.158262: I tensorflow/core/platform/cpu_feature_guard.cc:210] This TensorFlow binary is optimized to use available CPU instructions in performance-critical operations.\n",
      "To enable the following instructions: AVX2 FMA, in other operations, rebuild TensorFlow with the appropriate compiler flags.\n",
      "2024-05-15 03:59:30.940915: W tensorflow/compiler/tf2tensorrt/utils/py_utils.cc:38] TF-TRT Warning: Could not find TensorRT\n"
     ]
    },
    {
     "name": "stdout",
     "output_type": "stream",
     "text": [
      "\n",
      "==================================== Inference Configuration ====================================\n",
      " ---> Type of Modeling: naive\n",
      " ---> Total Batch Size: 32\n",
      " ---> Path of ckpt: ./output/ckpt/VCTK_naive\n",
      " ---> Path of log: ./output/log/VCTK_naive\n",
      " ---> Path of result: ./output/result/VCTK_naive\n",
      "================================================================================================\n"
     ]
    },
    {
     "name": "stderr",
     "output_type": "stream",
     "text": [
      "/home/ydoit/AIGC/diffgan/diffgan/lib/python3.10/site-packages/torch/nn/utils/weight_norm.py:28: UserWarning: torch.nn.utils.weight_norm is deprecated in favor of torch.nn.utils.parametrizations.weight_norm.\n",
      "  warnings.warn(\"torch.nn.utils.weight_norm is deprecated in favor of torch.nn.utils.parametrizations.weight_norm.\")\n"
     ]
    },
    {
     "name": "stdout",
     "output_type": "stream",
     "text": [
      "Removing weight norm...\n",
      "Raw Text Sequence: It's like English in its underwear.\n",
      "\n",
      "Phoneme Sequence: {IH0 T S L AY1 K IH1 NG G L IH0 SH IH0 N IH0 T S AH1 N D ER0 W EH2 R sp}\n"
     ]
    },
    {
     "name": "stderr",
     "output_type": "stream",
     "text": [
      "  0%|          | 0/1 [00:00<?, ?it/s]\n",
      "sample time step:   0%|          | 0/4 [00:00<?, ?it/s]\u001b[A/home/ydoit/AIGC/diffgan/diffgan/lib/python3.10/site-packages/torch/nn/modules/conv.py:306: UserWarning: Plan failed with a cudnnException: CUDNN_BACKEND_EXECUTION_PLAN_DESCRIPTOR: cudnnFinalize Descriptor Failed cudnn_status: CUDNN_STATUS_NOT_SUPPORTED (Triggered internally at ../aten/src/ATen/native/cudnn/Conv_v8.cpp:919.)\n",
      "  return F.conv1d(input, weight, bias, self.stride,\n",
      "\n",
      "sample time step: 100%|██████████| 4/4 [00:00<00:00,  5.73it/s]\u001b[A\n",
      "100%|██████████| 1/1 [00:02<00:00,  2.62s/it]\n",
      "2024-05-15 03:59:44.447728: I tensorflow/core/platform/cpu_feature_guard.cc:210] This TensorFlow binary is optimized to use available CPU instructions in performance-critical operations.\n",
      "To enable the following instructions: AVX2 FMA, in other operations, rebuild TensorFlow with the appropriate compiler flags.\n",
      "2024-05-15 03:59:45.235251: W tensorflow/compiler/tf2tensorrt/utils/py_utils.cc:38] TF-TRT Warning: Could not find TensorRT\n"
     ]
    },
    {
     "name": "stdout",
     "output_type": "stream",
     "text": [
      "\n",
      "==================================== Inference Configuration ====================================\n",
      " ---> Type of Modeling: naive\n",
      " ---> Total Batch Size: 32\n",
      " ---> Path of ckpt: ./output/ckpt/VCTK_naive\n",
      " ---> Path of log: ./output/log/VCTK_naive\n",
      " ---> Path of result: ./output/result/VCTK_naive\n",
      "================================================================================================\n"
     ]
    },
    {
     "name": "stderr",
     "output_type": "stream",
     "text": [
      "/home/ydoit/AIGC/diffgan/diffgan/lib/python3.10/site-packages/torch/nn/utils/weight_norm.py:28: UserWarning: torch.nn.utils.weight_norm is deprecated in favor of torch.nn.utils.parametrizations.weight_norm.\n",
      "  warnings.warn(\"torch.nn.utils.weight_norm is deprecated in favor of torch.nn.utils.parametrizations.weight_norm.\")\n"
     ]
    },
    {
     "name": "stdout",
     "output_type": "stream",
     "text": [
      "Removing weight norm...\n",
      "Raw Text Sequence: She is having an affair with his partner.\n",
      "\n",
      "Phoneme Sequence: {SH IY1 IH0 Z HH AE1 V IH0 NG AE1 N AH0 F EH1 R W IH0 DH HH IH0 Z P AA1 R T N ER0 sp}\n"
     ]
    },
    {
     "name": "stderr",
     "output_type": "stream",
     "text": [
      "  0%|          | 0/1 [00:00<?, ?it/s]\n",
      "sample time step:   0%|          | 0/4 [00:00<?, ?it/s]\u001b[A\n",
      "sample time step: 100%|██████████| 4/4 [00:00<00:00,  8.13it/s]\u001b[A\n",
      "100%|██████████| 1/1 [00:02<00:00,  2.18s/it]\n",
      "2024-05-15 03:59:59.396716: I tensorflow/core/platform/cpu_feature_guard.cc:210] This TensorFlow binary is optimized to use available CPU instructions in performance-critical operations.\n",
      "To enable the following instructions: AVX2 FMA, in other operations, rebuild TensorFlow with the appropriate compiler flags.\n",
      "2024-05-15 04:00:00.289007: W tensorflow/compiler/tf2tensorrt/utils/py_utils.cc:38] TF-TRT Warning: Could not find TensorRT\n"
     ]
    },
    {
     "name": "stdout",
     "output_type": "stream",
     "text": [
      "\n",
      "==================================== Inference Configuration ====================================\n",
      " ---> Type of Modeling: naive\n",
      " ---> Total Batch Size: 32\n",
      " ---> Path of ckpt: ./output/ckpt/VCTK_naive\n",
      " ---> Path of log: ./output/log/VCTK_naive\n",
      " ---> Path of result: ./output/result/VCTK_naive\n",
      "================================================================================================\n"
     ]
    },
    {
     "name": "stderr",
     "output_type": "stream",
     "text": [
      "/home/ydoit/AIGC/diffgan/diffgan/lib/python3.10/site-packages/torch/nn/utils/weight_norm.py:28: UserWarning: torch.nn.utils.weight_norm is deprecated in favor of torch.nn.utils.parametrizations.weight_norm.\n",
      "  warnings.warn(\"torch.nn.utils.weight_norm is deprecated in favor of torch.nn.utils.parametrizations.weight_norm.\")\n"
     ]
    },
    {
     "name": "stdout",
     "output_type": "stream",
     "text": [
      "Removing weight norm...\n",
      "Raw Text Sequence: You just have to accept.\n",
      "\n",
      "Phoneme Sequence: {Y UW1 JH AH1 S T HH AE1 V T AH0 AE0 K S EH1 P T sp}\n"
     ]
    },
    {
     "name": "stderr",
     "output_type": "stream",
     "text": [
      "  0%|          | 0/1 [00:00<?, ?it/s]\n",
      "sample time step:   0%|          | 0/4 [00:00<?, ?it/s]\u001b[A/home/ydoit/AIGC/diffgan/diffgan/lib/python3.10/site-packages/torch/nn/modules/conv.py:306: UserWarning: Plan failed with a cudnnException: CUDNN_BACKEND_EXECUTION_PLAN_DESCRIPTOR: cudnnFinalize Descriptor Failed cudnn_status: CUDNN_STATUS_NOT_SUPPORTED (Triggered internally at ../aten/src/ATen/native/cudnn/Conv_v8.cpp:919.)\n",
      "  return F.conv1d(input, weight, bias, self.stride,\n",
      "sample time step: 100%|██████████| 4/4 [00:00<00:00, 43.70it/s]\n",
      "100%|██████████| 1/1 [00:01<00:00,  1.75s/it]\n",
      "2024-05-15 04:00:12.502321: I tensorflow/core/platform/cpu_feature_guard.cc:210] This TensorFlow binary is optimized to use available CPU instructions in performance-critical operations.\n",
      "To enable the following instructions: AVX2 FMA, in other operations, rebuild TensorFlow with the appropriate compiler flags.\n",
      "2024-05-15 04:00:13.268074: W tensorflow/compiler/tf2tensorrt/utils/py_utils.cc:38] TF-TRT Warning: Could not find TensorRT\n"
     ]
    },
    {
     "name": "stdout",
     "output_type": "stream",
     "text": [
      "\n",
      "==================================== Inference Configuration ====================================\n",
      " ---> Type of Modeling: naive\n",
      " ---> Total Batch Size: 32\n",
      " ---> Path of ckpt: ./output/ckpt/VCTK_naive\n",
      " ---> Path of log: ./output/log/VCTK_naive\n",
      " ---> Path of result: ./output/result/VCTK_naive\n",
      "================================================================================================\n"
     ]
    },
    {
     "name": "stderr",
     "output_type": "stream",
     "text": [
      "/home/ydoit/AIGC/diffgan/diffgan/lib/python3.10/site-packages/torch/nn/utils/weight_norm.py:28: UserWarning: torch.nn.utils.weight_norm is deprecated in favor of torch.nn.utils.parametrizations.weight_norm.\n",
      "  warnings.warn(\"torch.nn.utils.weight_norm is deprecated in favor of torch.nn.utils.parametrizations.weight_norm.\")\n"
     ]
    },
    {
     "name": "stdout",
     "output_type": "stream",
     "text": [
      "Removing weight norm...\n",
      "Raw Text Sequence: There is no evidence of a Little Scotland emerging.\n",
      "\n",
      "Phoneme Sequence: {DH EH1 R IH0 Z N OW1 EH1 V AH0 D AH0 N S AH0 V AH0 L IH1 T AH0 L S K AA1 T L AH0 N D IH0 M ER1 JH IH0 NG sp}\n"
     ]
    },
    {
     "name": "stderr",
     "output_type": "stream",
     "text": [
      "  0%|          | 0/1 [00:00<?, ?it/s]\n",
      "sample time step:   0%|          | 0/4 [00:00<?, ?it/s]\u001b[A\n",
      "sample time step: 100%|██████████| 4/4 [00:00<00:00,  6.22it/s]\u001b[A\n",
      "100%|██████████| 1/1 [00:02<00:00,  2.42s/it]\n",
      "2024-05-15 04:00:28.878193: I tensorflow/core/platform/cpu_feature_guard.cc:210] This TensorFlow binary is optimized to use available CPU instructions in performance-critical operations.\n",
      "To enable the following instructions: AVX2 FMA, in other operations, rebuild TensorFlow with the appropriate compiler flags.\n",
      "2024-05-15 04:00:29.618891: W tensorflow/compiler/tf2tensorrt/utils/py_utils.cc:38] TF-TRT Warning: Could not find TensorRT\n"
     ]
    },
    {
     "name": "stdout",
     "output_type": "stream",
     "text": [
      "\n",
      "==================================== Inference Configuration ====================================\n",
      " ---> Type of Modeling: naive\n",
      " ---> Total Batch Size: 32\n",
      " ---> Path of ckpt: ./output/ckpt/VCTK_naive\n",
      " ---> Path of log: ./output/log/VCTK_naive\n",
      " ---> Path of result: ./output/result/VCTK_naive\n",
      "================================================================================================\n"
     ]
    },
    {
     "name": "stderr",
     "output_type": "stream",
     "text": [
      "/home/ydoit/AIGC/diffgan/diffgan/lib/python3.10/site-packages/torch/nn/utils/weight_norm.py:28: UserWarning: torch.nn.utils.weight_norm is deprecated in favor of torch.nn.utils.parametrizations.weight_norm.\n",
      "  warnings.warn(\"torch.nn.utils.weight_norm is deprecated in favor of torch.nn.utils.parametrizations.weight_norm.\")\n"
     ]
    },
    {
     "name": "stdout",
     "output_type": "stream",
     "text": [
      "Removing weight norm...\n",
      "Raw Text Sequence: Ireland is also prepared to take in refugees.\n",
      "\n",
      "Phoneme Sequence: {AY1 ER0 L AH0 N D IH0 Z AO1 L S OW0 P R IY0 P EH1 R D T AH0 T EY1 K IH0 N R EH1 F Y UW2 JH IY0 Z sp}\n"
     ]
    },
    {
     "name": "stderr",
     "output_type": "stream",
     "text": [
      "  0%|          | 0/1 [00:00<?, ?it/s]\n",
      "sample time step:   0%|          | 0/4 [00:00<?, ?it/s]\u001b[A\n",
      "sample time step: 100%|██████████| 4/4 [00:00<00:00,  7.59it/s]\u001b[A\n",
      "100%|██████████| 1/1 [00:02<00:00,  2.40s/it]\n",
      "2024-05-15 04:00:42.585408: I tensorflow/core/platform/cpu_feature_guard.cc:210] This TensorFlow binary is optimized to use available CPU instructions in performance-critical operations.\n",
      "To enable the following instructions: AVX2 FMA, in other operations, rebuild TensorFlow with the appropriate compiler flags.\n",
      "2024-05-15 04:00:43.318900: W tensorflow/compiler/tf2tensorrt/utils/py_utils.cc:38] TF-TRT Warning: Could not find TensorRT\n"
     ]
    },
    {
     "name": "stdout",
     "output_type": "stream",
     "text": [
      "\n",
      "==================================== Inference Configuration ====================================\n",
      " ---> Type of Modeling: naive\n",
      " ---> Total Batch Size: 32\n",
      " ---> Path of ckpt: ./output/ckpt/VCTK_naive\n",
      " ---> Path of log: ./output/log/VCTK_naive\n",
      " ---> Path of result: ./output/result/VCTK_naive\n",
      "================================================================================================\n"
     ]
    },
    {
     "name": "stderr",
     "output_type": "stream",
     "text": [
      "/home/ydoit/AIGC/diffgan/diffgan/lib/python3.10/site-packages/torch/nn/utils/weight_norm.py:28: UserWarning: torch.nn.utils.weight_norm is deprecated in favor of torch.nn.utils.parametrizations.weight_norm.\n",
      "  warnings.warn(\"torch.nn.utils.weight_norm is deprecated in favor of torch.nn.utils.parametrizations.weight_norm.\")\n"
     ]
    },
    {
     "name": "stdout",
     "output_type": "stream",
     "text": [
      "Removing weight norm...\n",
      "Raw Text Sequence: I think he was lost for words.\n",
      "\n",
      "Phoneme Sequence: {AY1 TH IH1 NG K HH IY1 W AA1 Z L AO1 S T F AO1 R W ER1 D Z sp}\n"
     ]
    },
    {
     "name": "stderr",
     "output_type": "stream",
     "text": [
      "  0%|          | 0/1 [00:00<?, ?it/s]\n",
      "sample time step:   0%|          | 0/4 [00:00<?, ?it/s]\u001b[A/home/ydoit/AIGC/diffgan/diffgan/lib/python3.10/site-packages/torch/nn/modules/conv.py:306: UserWarning: Plan failed with a cudnnException: CUDNN_BACKEND_EXECUTION_PLAN_DESCRIPTOR: cudnnFinalize Descriptor Failed cudnn_status: CUDNN_STATUS_NOT_SUPPORTED (Triggered internally at ../aten/src/ATen/native/cudnn/Conv_v8.cpp:919.)\n",
      "  return F.conv1d(input, weight, bias, self.stride,\n",
      "sample time step: 100%|██████████| 4/4 [00:00<00:00, 46.39it/s]\n",
      "100%|██████████| 1/1 [00:01<00:00,  1.44s/it]\n",
      "2024-05-15 04:00:57.584313: I tensorflow/core/platform/cpu_feature_guard.cc:210] This TensorFlow binary is optimized to use available CPU instructions in performance-critical operations.\n",
      "To enable the following instructions: AVX2 FMA, in other operations, rebuild TensorFlow with the appropriate compiler flags.\n",
      "2024-05-15 04:00:58.410404: W tensorflow/compiler/tf2tensorrt/utils/py_utils.cc:38] TF-TRT Warning: Could not find TensorRT\n"
     ]
    },
    {
     "name": "stdout",
     "output_type": "stream",
     "text": [
      "\n",
      "==================================== Inference Configuration ====================================\n",
      " ---> Type of Modeling: naive\n",
      " ---> Total Batch Size: 32\n",
      " ---> Path of ckpt: ./output/ckpt/VCTK_naive\n",
      " ---> Path of log: ./output/log/VCTK_naive\n",
      " ---> Path of result: ./output/result/VCTK_naive\n",
      "================================================================================================\n"
     ]
    },
    {
     "name": "stderr",
     "output_type": "stream",
     "text": [
      "/home/ydoit/AIGC/diffgan/diffgan/lib/python3.10/site-packages/torch/nn/utils/weight_norm.py:28: UserWarning: torch.nn.utils.weight_norm is deprecated in favor of torch.nn.utils.parametrizations.weight_norm.\n",
      "  warnings.warn(\"torch.nn.utils.weight_norm is deprecated in favor of torch.nn.utils.parametrizations.weight_norm.\")\n"
     ]
    },
    {
     "name": "stdout",
     "output_type": "stream",
     "text": [
      "Removing weight norm...\n",
      "Raw Text Sequence: Many other Scottish locations also feature.\n",
      "\n",
      "Phoneme Sequence: {M EH1 N IY0 AH1 DH ER0 S K AA1 T IH0 SH L OW0 K EY1 SH AH0 N Z AO1 L S OW0 F IY1 CH ER0 sp}\n"
     ]
    },
    {
     "name": "stderr",
     "output_type": "stream",
     "text": [
      "  0%|          | 0/1 [00:00<?, ?it/s]\n",
      "sample time step:   0%|          | 0/4 [00:00<?, ?it/s]\u001b[A\n",
      "sample time step: 100%|██████████| 4/4 [00:00<00:00,  6.89it/s]\u001b[A\n",
      "100%|██████████| 1/1 [00:02<00:00,  2.64s/it]\n",
      "2024-05-15 04:01:13.225307: I tensorflow/core/platform/cpu_feature_guard.cc:210] This TensorFlow binary is optimized to use available CPU instructions in performance-critical operations.\n",
      "To enable the following instructions: AVX2 FMA, in other operations, rebuild TensorFlow with the appropriate compiler flags.\n",
      "2024-05-15 04:01:14.323052: W tensorflow/compiler/tf2tensorrt/utils/py_utils.cc:38] TF-TRT Warning: Could not find TensorRT\n"
     ]
    },
    {
     "name": "stdout",
     "output_type": "stream",
     "text": [
      "\n",
      "==================================== Inference Configuration ====================================\n",
      " ---> Type of Modeling: naive\n",
      " ---> Total Batch Size: 32\n",
      " ---> Path of ckpt: ./output/ckpt/VCTK_naive\n",
      " ---> Path of log: ./output/log/VCTK_naive\n",
      " ---> Path of result: ./output/result/VCTK_naive\n",
      "================================================================================================\n"
     ]
    },
    {
     "name": "stderr",
     "output_type": "stream",
     "text": [
      "/home/ydoit/AIGC/diffgan/diffgan/lib/python3.10/site-packages/torch/nn/utils/weight_norm.py:28: UserWarning: torch.nn.utils.weight_norm is deprecated in favor of torch.nn.utils.parametrizations.weight_norm.\n",
      "  warnings.warn(\"torch.nn.utils.weight_norm is deprecated in favor of torch.nn.utils.parametrizations.weight_norm.\")\n"
     ]
    },
    {
     "name": "stdout",
     "output_type": "stream",
     "text": [
      "Removing weight norm...\n",
      "Raw Text Sequence: I would love to see it back there.\n",
      "\n",
      "Phoneme Sequence: {AY1 W UH1 D L AH1 V T AH0 S IY1 IH0 T B AE1 K DH EH1 R sp}\n"
     ]
    },
    {
     "name": "stderr",
     "output_type": "stream",
     "text": [
      "  0%|          | 0/1 [00:00<?, ?it/s]\n",
      "sample time step:   0%|          | 0/4 [00:00<?, ?it/s]\u001b[A/home/ydoit/AIGC/diffgan/diffgan/lib/python3.10/site-packages/torch/nn/modules/conv.py:306: UserWarning: Plan failed with a cudnnException: CUDNN_BACKEND_EXECUTION_PLAN_DESCRIPTOR: cudnnFinalize Descriptor Failed cudnn_status: CUDNN_STATUS_NOT_SUPPORTED (Triggered internally at ../aten/src/ATen/native/cudnn/Conv_v8.cpp:919.)\n",
      "  return F.conv1d(input, weight, bias, self.stride,\n",
      "\n",
      "sample time step: 100%|██████████| 4/4 [00:00<00:00,  6.89it/s]\u001b[A\n",
      "100%|██████████| 1/1 [00:02<00:00,  2.08s/it]\n",
      "2024-05-15 04:01:28.756683: I tensorflow/core/platform/cpu_feature_guard.cc:210] This TensorFlow binary is optimized to use available CPU instructions in performance-critical operations.\n",
      "To enable the following instructions: AVX2 FMA, in other operations, rebuild TensorFlow with the appropriate compiler flags.\n",
      "2024-05-15 04:01:29.584635: W tensorflow/compiler/tf2tensorrt/utils/py_utils.cc:38] TF-TRT Warning: Could not find TensorRT\n"
     ]
    },
    {
     "name": "stdout",
     "output_type": "stream",
     "text": [
      "\n",
      "==================================== Inference Configuration ====================================\n",
      " ---> Type of Modeling: naive\n",
      " ---> Total Batch Size: 32\n",
      " ---> Path of ckpt: ./output/ckpt/VCTK_naive\n",
      " ---> Path of log: ./output/log/VCTK_naive\n",
      " ---> Path of result: ./output/result/VCTK_naive\n",
      "================================================================================================\n"
     ]
    },
    {
     "name": "stderr",
     "output_type": "stream",
     "text": [
      "/home/ydoit/AIGC/diffgan/diffgan/lib/python3.10/site-packages/torch/nn/utils/weight_norm.py:28: UserWarning: torch.nn.utils.weight_norm is deprecated in favor of torch.nn.utils.parametrizations.weight_norm.\n",
      "  warnings.warn(\"torch.nn.utils.weight_norm is deprecated in favor of torch.nn.utils.parametrizations.weight_norm.\")\n"
     ]
    },
    {
     "name": "stdout",
     "output_type": "stream",
     "text": [
      "Removing weight norm...\n",
      "Raw Text Sequence: I've no idea how it works.\n",
      "\n",
      "Phoneme Sequence: {AY1 V N OW1 AY0 D IY1 AH0 HH AW1 IH0 T W ER1 K S sp}\n"
     ]
    },
    {
     "name": "stderr",
     "output_type": "stream",
     "text": [
      "  0%|          | 0/1 [00:00<?, ?it/s]\n",
      "sample time step:   0%|          | 0/4 [00:00<?, ?it/s]\u001b[A/home/ydoit/AIGC/diffgan/diffgan/lib/python3.10/site-packages/torch/nn/modules/conv.py:306: UserWarning: Plan failed with a cudnnException: CUDNN_BACKEND_EXECUTION_PLAN_DESCRIPTOR: cudnnFinalize Descriptor Failed cudnn_status: CUDNN_STATUS_NOT_SUPPORTED (Triggered internally at ../aten/src/ATen/native/cudnn/Conv_v8.cpp:919.)\n",
      "  return F.conv1d(input, weight, bias, self.stride,\n",
      "\n",
      "sample time step: 100%|██████████| 4/4 [00:00<00:00,  7.16it/s]\u001b[A\n",
      "100%|██████████| 1/1 [00:02<00:00,  2.59s/it]\n",
      "2024-05-15 04:01:44.309742: I tensorflow/core/platform/cpu_feature_guard.cc:210] This TensorFlow binary is optimized to use available CPU instructions in performance-critical operations.\n",
      "To enable the following instructions: AVX2 FMA, in other operations, rebuild TensorFlow with the appropriate compiler flags.\n",
      "2024-05-15 04:01:45.089150: W tensorflow/compiler/tf2tensorrt/utils/py_utils.cc:38] TF-TRT Warning: Could not find TensorRT\n"
     ]
    },
    {
     "name": "stdout",
     "output_type": "stream",
     "text": [
      "\n",
      "==================================== Inference Configuration ====================================\n",
      " ---> Type of Modeling: naive\n",
      " ---> Total Batch Size: 32\n",
      " ---> Path of ckpt: ./output/ckpt/VCTK_naive\n",
      " ---> Path of log: ./output/log/VCTK_naive\n",
      " ---> Path of result: ./output/result/VCTK_naive\n",
      "================================================================================================\n"
     ]
    },
    {
     "name": "stderr",
     "output_type": "stream",
     "text": [
      "/home/ydoit/AIGC/diffgan/diffgan/lib/python3.10/site-packages/torch/nn/utils/weight_norm.py:28: UserWarning: torch.nn.utils.weight_norm is deprecated in favor of torch.nn.utils.parametrizations.weight_norm.\n",
      "  warnings.warn(\"torch.nn.utils.weight_norm is deprecated in favor of torch.nn.utils.parametrizations.weight_norm.\")\n"
     ]
    },
    {
     "name": "stdout",
     "output_type": "stream",
     "text": [
      "Removing weight norm...\n",
      "Raw Text Sequence: He is adamant that he is innocent.\n",
      "\n",
      "Phoneme Sequence: {HH IY1 IH0 Z AE1 D AH0 M AH0 N T DH AE1 T HH IY1 IH0 Z IH1 N AH0 S AH0 N T sp}\n"
     ]
    },
    {
     "name": "stderr",
     "output_type": "stream",
     "text": [
      "  0%|          | 0/1 [00:00<?, ?it/s]\n",
      "sample time step: 100%|██████████| 4/4 [00:00<00:00, 50.27it/s]\n",
      "100%|██████████| 1/1 [00:01<00:00,  1.50s/it]\n",
      "2024-05-15 04:01:58.231229: I tensorflow/core/platform/cpu_feature_guard.cc:210] This TensorFlow binary is optimized to use available CPU instructions in performance-critical operations.\n",
      "To enable the following instructions: AVX2 FMA, in other operations, rebuild TensorFlow with the appropriate compiler flags.\n",
      "2024-05-15 04:01:59.284151: W tensorflow/compiler/tf2tensorrt/utils/py_utils.cc:38] TF-TRT Warning: Could not find TensorRT\n"
     ]
    },
    {
     "name": "stdout",
     "output_type": "stream",
     "text": [
      "\n",
      "==================================== Inference Configuration ====================================\n",
      " ---> Type of Modeling: naive\n",
      " ---> Total Batch Size: 32\n",
      " ---> Path of ckpt: ./output/ckpt/VCTK_naive\n",
      " ---> Path of log: ./output/log/VCTK_naive\n",
      " ---> Path of result: ./output/result/VCTK_naive\n",
      "================================================================================================\n"
     ]
    },
    {
     "name": "stderr",
     "output_type": "stream",
     "text": [
      "/home/ydoit/AIGC/diffgan/diffgan/lib/python3.10/site-packages/torch/nn/utils/weight_norm.py:28: UserWarning: torch.nn.utils.weight_norm is deprecated in favor of torch.nn.utils.parametrizations.weight_norm.\n",
      "  warnings.warn(\"torch.nn.utils.weight_norm is deprecated in favor of torch.nn.utils.parametrizations.weight_norm.\")\n"
     ]
    },
    {
     "name": "stdout",
     "output_type": "stream",
     "text": [
      "Removing weight norm...\n",
      "Raw Text Sequence: The difference was amazing.\n",
      "\n",
      "Phoneme Sequence: {DH AH0 D IH1 F ER0 AH0 N S W AA1 Z AH0 M EY1 Z IH0 NG sp}\n"
     ]
    },
    {
     "name": "stderr",
     "output_type": "stream",
     "text": [
      "  0%|          | 0/1 [00:00<?, ?it/s]\n",
      "sample time step:   0%|          | 0/4 [00:00<?, ?it/s]\u001b[A/home/ydoit/AIGC/diffgan/diffgan/lib/python3.10/site-packages/torch/nn/modules/conv.py:306: UserWarning: Plan failed with a cudnnException: CUDNN_BACKEND_EXECUTION_PLAN_DESCRIPTOR: cudnnFinalize Descriptor Failed cudnn_status: CUDNN_STATUS_NOT_SUPPORTED (Triggered internally at ../aten/src/ATen/native/cudnn/Conv_v8.cpp:919.)\n",
      "  return F.conv1d(input, weight, bias, self.stride,\n",
      "\n",
      "sample time step: 100%|██████████| 4/4 [00:00<00:00,  6.63it/s]\u001b[A\n",
      "100%|██████████| 1/1 [00:02<00:00,  2.20s/it]\n",
      "2024-05-15 04:02:13.814217: I tensorflow/core/platform/cpu_feature_guard.cc:210] This TensorFlow binary is optimized to use available CPU instructions in performance-critical operations.\n",
      "To enable the following instructions: AVX2 FMA, in other operations, rebuild TensorFlow with the appropriate compiler flags.\n",
      "2024-05-15 04:02:14.860593: W tensorflow/compiler/tf2tensorrt/utils/py_utils.cc:38] TF-TRT Warning: Could not find TensorRT\n"
     ]
    },
    {
     "name": "stdout",
     "output_type": "stream",
     "text": [
      "\n",
      "==================================== Inference Configuration ====================================\n",
      " ---> Type of Modeling: naive\n",
      " ---> Total Batch Size: 32\n",
      " ---> Path of ckpt: ./output/ckpt/VCTK_naive\n",
      " ---> Path of log: ./output/log/VCTK_naive\n",
      " ---> Path of result: ./output/result/VCTK_naive\n",
      "================================================================================================\n"
     ]
    },
    {
     "name": "stderr",
     "output_type": "stream",
     "text": [
      "/home/ydoit/AIGC/diffgan/diffgan/lib/python3.10/site-packages/torch/nn/utils/weight_norm.py:28: UserWarning: torch.nn.utils.weight_norm is deprecated in favor of torch.nn.utils.parametrizations.weight_norm.\n",
      "  warnings.warn(\"torch.nn.utils.weight_norm is deprecated in favor of torch.nn.utils.parametrizations.weight_norm.\")\n"
     ]
    },
    {
     "name": "stdout",
     "output_type": "stream",
     "text": [
      "Removing weight norm...\n",
      "Raw Text Sequence: Another suggested the company should carry only pedestrians.\n",
      "\n",
      "Phoneme Sequence: {AH0 N AH1 DH ER0 S AH0 G JH EH1 S T AH0 D DH AH0 K AH1 M P AH0 N IY0 SH UH1 D K AE1 R IY0 OW1 N L IY0 P AH0 D EH1 S T R IY0 AH0 N Z sp}\n"
     ]
    },
    {
     "name": "stderr",
     "output_type": "stream",
     "text": [
      "  0%|          | 0/1 [00:00<?, ?it/s]\n",
      "sample time step:   0%|          | 0/4 [00:00<?, ?it/s]\u001b[A\n",
      "sample time step: 100%|██████████| 4/4 [00:00<00:00,  6.01it/s]\u001b[A\n",
      "100%|██████████| 1/1 [00:02<00:00,  2.44s/it]\n",
      "2024-05-15 04:02:28.977791: I tensorflow/core/platform/cpu_feature_guard.cc:210] This TensorFlow binary is optimized to use available CPU instructions in performance-critical operations.\n",
      "To enable the following instructions: AVX2 FMA, in other operations, rebuild TensorFlow with the appropriate compiler flags.\n",
      "2024-05-15 04:02:29.685197: W tensorflow/compiler/tf2tensorrt/utils/py_utils.cc:38] TF-TRT Warning: Could not find TensorRT\n"
     ]
    },
    {
     "name": "stdout",
     "output_type": "stream",
     "text": [
      "\n",
      "==================================== Inference Configuration ====================================\n",
      " ---> Type of Modeling: naive\n",
      " ---> Total Batch Size: 32\n",
      " ---> Path of ckpt: ./output/ckpt/VCTK_naive\n",
      " ---> Path of log: ./output/log/VCTK_naive\n",
      " ---> Path of result: ./output/result/VCTK_naive\n",
      "================================================================================================\n"
     ]
    },
    {
     "name": "stderr",
     "output_type": "stream",
     "text": [
      "/home/ydoit/AIGC/diffgan/diffgan/lib/python3.10/site-packages/torch/nn/utils/weight_norm.py:28: UserWarning: torch.nn.utils.weight_norm is deprecated in favor of torch.nn.utils.parametrizations.weight_norm.\n",
      "  warnings.warn(\"torch.nn.utils.weight_norm is deprecated in favor of torch.nn.utils.parametrizations.weight_norm.\")\n"
     ]
    },
    {
     "name": "stdout",
     "output_type": "stream",
     "text": [
      "Removing weight norm...\n",
      "Raw Text Sequence: I'd sign back up tomorrow if he was back on board.\n",
      "\n",
      "Phoneme Sequence: {AY1 D S AY1 N B AE1 K AH1 P T AH0 M AA1 R OW2 IH0 F HH IY1 W AA1 Z B AE1 K AA1 N B AO1 R D sp}\n"
     ]
    },
    {
     "name": "stderr",
     "output_type": "stream",
     "text": [
      "  0%|          | 0/1 [00:00<?, ?it/s]\n",
      "sample time step:   0%|          | 0/4 [00:00<?, ?it/s]\u001b[A\n",
      "sample time step: 100%|██████████| 4/4 [00:00<00:00,  7.39it/s]\u001b[A\n",
      "100%|██████████| 1/1 [00:02<00:00,  2.45s/it]\n",
      "2024-05-15 04:02:42.811962: I tensorflow/core/platform/cpu_feature_guard.cc:210] This TensorFlow binary is optimized to use available CPU instructions in performance-critical operations.\n",
      "To enable the following instructions: AVX2 FMA, in other operations, rebuild TensorFlow with the appropriate compiler flags.\n",
      "2024-05-15 04:02:43.558209: W tensorflow/compiler/tf2tensorrt/utils/py_utils.cc:38] TF-TRT Warning: Could not find TensorRT\n"
     ]
    },
    {
     "name": "stdout",
     "output_type": "stream",
     "text": [
      "\n",
      "==================================== Inference Configuration ====================================\n",
      " ---> Type of Modeling: naive\n",
      " ---> Total Batch Size: 32\n",
      " ---> Path of ckpt: ./output/ckpt/VCTK_naive\n",
      " ---> Path of log: ./output/log/VCTK_naive\n",
      " ---> Path of result: ./output/result/VCTK_naive\n",
      "================================================================================================\n"
     ]
    },
    {
     "name": "stderr",
     "output_type": "stream",
     "text": [
      "/home/ydoit/AIGC/diffgan/diffgan/lib/python3.10/site-packages/torch/nn/utils/weight_norm.py:28: UserWarning: torch.nn.utils.weight_norm is deprecated in favor of torch.nn.utils.parametrizations.weight_norm.\n",
      "  warnings.warn(\"torch.nn.utils.weight_norm is deprecated in favor of torch.nn.utils.parametrizations.weight_norm.\")\n"
     ]
    },
    {
     "name": "stdout",
     "output_type": "stream",
     "text": [
      "Removing weight norm...\n",
      "Raw Text Sequence: It is based on his movement records.\n",
      "\n",
      "Phoneme Sequence: {IH0 T IH0 Z B EY1 S T AA1 N HH IH0 Z M UW1 V M AH0 N T R AH0 K AO1 R D Z sp}\n"
     ]
    },
    {
     "name": "stderr",
     "output_type": "stream",
     "text": [
      "  0%|          | 0/1 [00:00<?, ?it/s]\n",
      "sample time step:   0%|          | 0/4 [00:00<?, ?it/s]\u001b[A\n",
      "sample time step: 100%|██████████| 4/4 [00:00<00:00,  7.18it/s]\u001b[A\n",
      "100%|██████████| 1/1 [00:02<00:00,  2.28s/it]\n",
      "2024-05-15 04:02:56.080715: I tensorflow/core/platform/cpu_feature_guard.cc:210] This TensorFlow binary is optimized to use available CPU instructions in performance-critical operations.\n",
      "To enable the following instructions: AVX2 FMA, in other operations, rebuild TensorFlow with the appropriate compiler flags.\n",
      "2024-05-15 04:02:56.814422: W tensorflow/compiler/tf2tensorrt/utils/py_utils.cc:38] TF-TRT Warning: Could not find TensorRT\n"
     ]
    },
    {
     "name": "stdout",
     "output_type": "stream",
     "text": [
      "\n",
      "==================================== Inference Configuration ====================================\n",
      " ---> Type of Modeling: naive\n",
      " ---> Total Batch Size: 32\n",
      " ---> Path of ckpt: ./output/ckpt/VCTK_naive\n",
      " ---> Path of log: ./output/log/VCTK_naive\n",
      " ---> Path of result: ./output/result/VCTK_naive\n",
      "================================================================================================\n"
     ]
    },
    {
     "name": "stderr",
     "output_type": "stream",
     "text": [
      "/home/ydoit/AIGC/diffgan/diffgan/lib/python3.10/site-packages/torch/nn/utils/weight_norm.py:28: UserWarning: torch.nn.utils.weight_norm is deprecated in favor of torch.nn.utils.parametrizations.weight_norm.\n",
      "  warnings.warn(\"torch.nn.utils.weight_norm is deprecated in favor of torch.nn.utils.parametrizations.weight_norm.\")\n"
     ]
    },
    {
     "name": "stdout",
     "output_type": "stream",
     "text": [
      "Removing weight norm...\n",
      "Raw Text Sequence: It will include the Black Watch, the Royal Highland regiment.\n",
      "\n",
      "Phoneme Sequence: {IH0 T W AH0 L IH0 N K L UW1 D DH AH0 B L AE1 K W AA1 CH sp DH AH0 R OY1 AH0 L HH AY1 L AH0 N D R EH1 JH AH0 M AH0 N T sp}\n"
     ]
    },
    {
     "name": "stderr",
     "output_type": "stream",
     "text": [
      "  0%|          | 0/1 [00:00<?, ?it/s]\n",
      "sample time step:   0%|          | 0/4 [00:00<?, ?it/s]\u001b[A/home/ydoit/AIGC/diffgan/diffgan/lib/python3.10/site-packages/torch/nn/modules/conv.py:306: UserWarning: Plan failed with a cudnnException: CUDNN_BACKEND_EXECUTION_PLAN_DESCRIPTOR: cudnnFinalize Descriptor Failed cudnn_status: CUDNN_STATUS_NOT_SUPPORTED (Triggered internally at ../aten/src/ATen/native/cudnn/Conv_v8.cpp:919.)\n",
      "  return F.conv1d(input, weight, bias, self.stride,\n",
      "\n",
      "sample time step: 100%|██████████| 4/4 [00:00<00:00,  8.65it/s]\u001b[A\n",
      "100%|██████████| 1/1 [00:02<00:00,  2.47s/it]\n",
      "2024-05-15 04:03:09.968576: I tensorflow/core/platform/cpu_feature_guard.cc:210] This TensorFlow binary is optimized to use available CPU instructions in performance-critical operations.\n",
      "To enable the following instructions: AVX2 FMA, in other operations, rebuild TensorFlow with the appropriate compiler flags.\n",
      "2024-05-15 04:03:10.783805: W tensorflow/compiler/tf2tensorrt/utils/py_utils.cc:38] TF-TRT Warning: Could not find TensorRT\n"
     ]
    },
    {
     "name": "stdout",
     "output_type": "stream",
     "text": [
      "\n",
      "==================================== Inference Configuration ====================================\n",
      " ---> Type of Modeling: naive\n",
      " ---> Total Batch Size: 32\n",
      " ---> Path of ckpt: ./output/ckpt/VCTK_naive\n",
      " ---> Path of log: ./output/log/VCTK_naive\n",
      " ---> Path of result: ./output/result/VCTK_naive\n",
      "================================================================================================\n"
     ]
    },
    {
     "name": "stderr",
     "output_type": "stream",
     "text": [
      "/home/ydoit/AIGC/diffgan/diffgan/lib/python3.10/site-packages/torch/nn/utils/weight_norm.py:28: UserWarning: torch.nn.utils.weight_norm is deprecated in favor of torch.nn.utils.parametrizations.weight_norm.\n",
      "  warnings.warn(\"torch.nn.utils.weight_norm is deprecated in favor of torch.nn.utils.parametrizations.weight_norm.\")\n"
     ]
    },
    {
     "name": "stdout",
     "output_type": "stream",
     "text": [
      "Removing weight norm...\n",
      "Raw Text Sequence: He's young enough and he must learn.\n",
      "\n",
      "Phoneme Sequence: {HH IY1 Z Y AH1 NG IH0 N AH1 F AE1 N D HH IY1 M AH1 S T L ER1 N sp}\n"
     ]
    },
    {
     "name": "stderr",
     "output_type": "stream",
     "text": [
      "  0%|          | 0/1 [00:00<?, ?it/s]\n",
      "sample time step:   0%|          | 0/4 [00:00<?, ?it/s]\u001b[A/home/ydoit/AIGC/diffgan/diffgan/lib/python3.10/site-packages/torch/nn/modules/conv.py:306: UserWarning: Plan failed with a cudnnException: CUDNN_BACKEND_EXECUTION_PLAN_DESCRIPTOR: cudnnFinalize Descriptor Failed cudnn_status: CUDNN_STATUS_NOT_SUPPORTED (Triggered internally at ../aten/src/ATen/native/cudnn/Conv_v8.cpp:919.)\n",
      "  return F.conv1d(input, weight, bias, self.stride,\n",
      "sample time step: 100%|██████████| 4/4 [00:00<00:00, 43.82it/s]\n",
      "100%|██████████| 1/1 [00:01<00:00,  1.50s/it]\n",
      "2024-05-15 04:03:24.743100: I tensorflow/core/platform/cpu_feature_guard.cc:210] This TensorFlow binary is optimized to use available CPU instructions in performance-critical operations.\n",
      "To enable the following instructions: AVX2 FMA, in other operations, rebuild TensorFlow with the appropriate compiler flags.\n",
      "2024-05-15 04:03:25.487746: W tensorflow/compiler/tf2tensorrt/utils/py_utils.cc:38] TF-TRT Warning: Could not find TensorRT\n"
     ]
    },
    {
     "name": "stdout",
     "output_type": "stream",
     "text": [
      "\n",
      "==================================== Inference Configuration ====================================\n",
      " ---> Type of Modeling: naive\n",
      " ---> Total Batch Size: 32\n",
      " ---> Path of ckpt: ./output/ckpt/VCTK_naive\n",
      " ---> Path of log: ./output/log/VCTK_naive\n",
      " ---> Path of result: ./output/result/VCTK_naive\n",
      "================================================================================================\n"
     ]
    },
    {
     "name": "stderr",
     "output_type": "stream",
     "text": [
      "/home/ydoit/AIGC/diffgan/diffgan/lib/python3.10/site-packages/torch/nn/utils/weight_norm.py:28: UserWarning: torch.nn.utils.weight_norm is deprecated in favor of torch.nn.utils.parametrizations.weight_norm.\n",
      "  warnings.warn(\"torch.nn.utils.weight_norm is deprecated in favor of torch.nn.utils.parametrizations.weight_norm.\")\n"
     ]
    },
    {
     "name": "stdout",
     "output_type": "stream",
     "text": [
      "Removing weight norm...\n",
      "Raw Text Sequence: Her life is now back on track.\n",
      "\n",
      "Phoneme Sequence: {HH ER0 L AY1 F IH0 Z N AW1 B AE1 K AA1 N T R AE1 K sp}\n"
     ]
    },
    {
     "name": "stderr",
     "output_type": "stream",
     "text": [
      "  0%|          | 0/1 [00:00<?, ?it/s]\n",
      "sample time step:   0%|          | 0/4 [00:00<?, ?it/s]\u001b[A/home/ydoit/AIGC/diffgan/diffgan/lib/python3.10/site-packages/torch/nn/modules/conv.py:306: UserWarning: Plan failed with a cudnnException: CUDNN_BACKEND_EXECUTION_PLAN_DESCRIPTOR: cudnnFinalize Descriptor Failed cudnn_status: CUDNN_STATUS_NOT_SUPPORTED (Triggered internally at ../aten/src/ATen/native/cudnn/Conv_v8.cpp:919.)\n",
      "  return F.conv1d(input, weight, bias, self.stride,\n",
      "sample time step: 100%|██████████| 4/4 [00:00<00:00, 40.88it/s]\n",
      "100%|██████████| 1/1 [00:01<00:00,  1.46s/it]\n",
      "2024-05-15 04:03:37.990866: I tensorflow/core/platform/cpu_feature_guard.cc:210] This TensorFlow binary is optimized to use available CPU instructions in performance-critical operations.\n",
      "To enable the following instructions: AVX2 FMA, in other operations, rebuild TensorFlow with the appropriate compiler flags.\n",
      "2024-05-15 04:03:38.719748: W tensorflow/compiler/tf2tensorrt/utils/py_utils.cc:38] TF-TRT Warning: Could not find TensorRT\n"
     ]
    },
    {
     "name": "stdout",
     "output_type": "stream",
     "text": [
      "\n",
      "==================================== Inference Configuration ====================================\n",
      " ---> Type of Modeling: naive\n",
      " ---> Total Batch Size: 32\n",
      " ---> Path of ckpt: ./output/ckpt/VCTK_naive\n",
      " ---> Path of log: ./output/log/VCTK_naive\n",
      " ---> Path of result: ./output/result/VCTK_naive\n",
      "================================================================================================\n"
     ]
    },
    {
     "name": "stderr",
     "output_type": "stream",
     "text": [
      "/home/ydoit/AIGC/diffgan/diffgan/lib/python3.10/site-packages/torch/nn/utils/weight_norm.py:28: UserWarning: torch.nn.utils.weight_norm is deprecated in favor of torch.nn.utils.parametrizations.weight_norm.\n",
      "  warnings.warn(\"torch.nn.utils.weight_norm is deprecated in favor of torch.nn.utils.parametrizations.weight_norm.\")\n"
     ]
    },
    {
     "name": "stdout",
     "output_type": "stream",
     "text": [
      "Removing weight norm...\n",
      "Raw Text Sequence: Royal Bank provided debt funding for the deals.\n",
      "\n",
      "Phoneme Sequence: {R OY1 AH0 L B AE1 NG K P R AH0 V AY1 D AH0 D D EH1 T F AH1 N D IH0 NG F AO1 R DH AH0 D IY1 L Z sp}\n"
     ]
    },
    {
     "name": "stderr",
     "output_type": "stream",
     "text": [
      "  0%|          | 0/1 [00:00<?, ?it/s]\n",
      "sample time step:   0%|          | 0/4 [00:00<?, ?it/s]\u001b[A\n",
      "sample time step: 100%|██████████| 4/4 [00:00<00:00,  8.59it/s]\u001b[A\n",
      "100%|██████████| 1/1 [00:01<00:00,  1.70s/it]\n",
      "2024-05-15 04:03:50.886912: I tensorflow/core/platform/cpu_feature_guard.cc:210] This TensorFlow binary is optimized to use available CPU instructions in performance-critical operations.\n",
      "To enable the following instructions: AVX2 FMA, in other operations, rebuild TensorFlow with the appropriate compiler flags.\n",
      "2024-05-15 04:03:51.640428: W tensorflow/compiler/tf2tensorrt/utils/py_utils.cc:38] TF-TRT Warning: Could not find TensorRT\n"
     ]
    },
    {
     "name": "stdout",
     "output_type": "stream",
     "text": [
      "\n",
      "==================================== Inference Configuration ====================================\n",
      " ---> Type of Modeling: naive\n",
      " ---> Total Batch Size: 32\n",
      " ---> Path of ckpt: ./output/ckpt/VCTK_naive\n",
      " ---> Path of log: ./output/log/VCTK_naive\n",
      " ---> Path of result: ./output/result/VCTK_naive\n",
      "================================================================================================\n"
     ]
    },
    {
     "name": "stderr",
     "output_type": "stream",
     "text": [
      "/home/ydoit/AIGC/diffgan/diffgan/lib/python3.10/site-packages/torch/nn/utils/weight_norm.py:28: UserWarning: torch.nn.utils.weight_norm is deprecated in favor of torch.nn.utils.parametrizations.weight_norm.\n",
      "  warnings.warn(\"torch.nn.utils.weight_norm is deprecated in favor of torch.nn.utils.parametrizations.weight_norm.\")\n"
     ]
    },
    {
     "name": "stdout",
     "output_type": "stream",
     "text": [
      "Removing weight norm...\n",
      "Raw Text Sequence: The professor said the results were positive.\n",
      "\n",
      "Phoneme Sequence: {DH AH0 P R AH0 F EH1 S ER0 S EH1 D DH AH0 R IH0 Z AH1 L T S W ER0 P AA1 Z AH0 T IH0 V sp}\n"
     ]
    },
    {
     "name": "stderr",
     "output_type": "stream",
     "text": [
      "  0%|          | 0/1 [00:00<?, ?it/s]\n",
      "sample time step:   0%|          | 0/4 [00:00<?, ?it/s]\u001b[A\n",
      "sample time step: 100%|██████████| 4/4 [00:00<00:00, 11.06it/s]\u001b[A\n",
      "100%|██████████| 1/1 [00:01<00:00,  1.67s/it]\n",
      "2024-05-15 04:04:06.694546: I tensorflow/core/platform/cpu_feature_guard.cc:210] This TensorFlow binary is optimized to use available CPU instructions in performance-critical operations.\n",
      "To enable the following instructions: AVX2 FMA, in other operations, rebuild TensorFlow with the appropriate compiler flags.\n",
      "2024-05-15 04:04:07.451464: W tensorflow/compiler/tf2tensorrt/utils/py_utils.cc:38] TF-TRT Warning: Could not find TensorRT\n"
     ]
    },
    {
     "name": "stdout",
     "output_type": "stream",
     "text": [
      "\n",
      "==================================== Inference Configuration ====================================\n",
      " ---> Type of Modeling: naive\n",
      " ---> Total Batch Size: 32\n",
      " ---> Path of ckpt: ./output/ckpt/VCTK_naive\n",
      " ---> Path of log: ./output/log/VCTK_naive\n",
      " ---> Path of result: ./output/result/VCTK_naive\n",
      "================================================================================================\n"
     ]
    },
    {
     "name": "stderr",
     "output_type": "stream",
     "text": [
      "/home/ydoit/AIGC/diffgan/diffgan/lib/python3.10/site-packages/torch/nn/utils/weight_norm.py:28: UserWarning: torch.nn.utils.weight_norm is deprecated in favor of torch.nn.utils.parametrizations.weight_norm.\n",
      "  warnings.warn(\"torch.nn.utils.weight_norm is deprecated in favor of torch.nn.utils.parametrizations.weight_norm.\")\n"
     ]
    },
    {
     "name": "stdout",
     "output_type": "stream",
     "text": [
      "Removing weight norm...\n",
      "Raw Text Sequence: I don't want to do too much.\n",
      "\n",
      "Phoneme Sequence: {AY1 D OW1 N W AA1 N T T AH0 D UW1 T UW1 M AH1 CH sp}\n"
     ]
    },
    {
     "name": "stderr",
     "output_type": "stream",
     "text": [
      "  0%|          | 0/1 [00:00<?, ?it/s]\n",
      "sample time step: 100%|██████████| 4/4 [00:00<00:00, 51.49it/s]\n",
      "100%|██████████| 1/1 [00:01<00:00,  1.89s/it]\n",
      "2024-05-15 04:04:20.402639: I tensorflow/core/platform/cpu_feature_guard.cc:210] This TensorFlow binary is optimized to use available CPU instructions in performance-critical operations.\n",
      "To enable the following instructions: AVX2 FMA, in other operations, rebuild TensorFlow with the appropriate compiler flags.\n",
      "2024-05-15 04:04:21.185596: W tensorflow/compiler/tf2tensorrt/utils/py_utils.cc:38] TF-TRT Warning: Could not find TensorRT\n"
     ]
    },
    {
     "name": "stdout",
     "output_type": "stream",
     "text": [
      "\n",
      "==================================== Inference Configuration ====================================\n",
      " ---> Type of Modeling: naive\n",
      " ---> Total Batch Size: 32\n",
      " ---> Path of ckpt: ./output/ckpt/VCTK_naive\n",
      " ---> Path of log: ./output/log/VCTK_naive\n",
      " ---> Path of result: ./output/result/VCTK_naive\n",
      "================================================================================================\n"
     ]
    },
    {
     "name": "stderr",
     "output_type": "stream",
     "text": [
      "/home/ydoit/AIGC/diffgan/diffgan/lib/python3.10/site-packages/torch/nn/utils/weight_norm.py:28: UserWarning: torch.nn.utils.weight_norm is deprecated in favor of torch.nn.utils.parametrizations.weight_norm.\n",
      "  warnings.warn(\"torch.nn.utils.weight_norm is deprecated in favor of torch.nn.utils.parametrizations.weight_norm.\")\n"
     ]
    },
    {
     "name": "stdout",
     "output_type": "stream",
     "text": [
      "Removing weight norm...\n",
      "Raw Text Sequence: That is where the club has gone wrong.\n",
      "\n",
      "Phoneme Sequence: {DH AE1 T IH0 Z HH W EH1 R DH AH0 K L AH1 B HH AE1 Z G AO1 N R AO1 NG sp}\n"
     ]
    },
    {
     "name": "stderr",
     "output_type": "stream",
     "text": [
      "  0%|          | 0/1 [00:00<?, ?it/s]\n",
      "sample time step: 100%|██████████| 4/4 [00:00<00:00, 43.90it/s]\n",
      "100%|██████████| 1/1 [00:01<00:00,  1.69s/it]\n",
      "2024-05-15 04:04:33.021413: I tensorflow/core/platform/cpu_feature_guard.cc:210] This TensorFlow binary is optimized to use available CPU instructions in performance-critical operations.\n",
      "To enable the following instructions: AVX2 FMA, in other operations, rebuild TensorFlow with the appropriate compiler flags.\n",
      "2024-05-15 04:04:33.773487: W tensorflow/compiler/tf2tensorrt/utils/py_utils.cc:38] TF-TRT Warning: Could not find TensorRT\n"
     ]
    },
    {
     "name": "stdout",
     "output_type": "stream",
     "text": [
      "\n",
      "==================================== Inference Configuration ====================================\n",
      " ---> Type of Modeling: naive\n",
      " ---> Total Batch Size: 32\n",
      " ---> Path of ckpt: ./output/ckpt/VCTK_naive\n",
      " ---> Path of log: ./output/log/VCTK_naive\n",
      " ---> Path of result: ./output/result/VCTK_naive\n",
      "================================================================================================\n"
     ]
    },
    {
     "name": "stderr",
     "output_type": "stream",
     "text": [
      "/home/ydoit/AIGC/diffgan/diffgan/lib/python3.10/site-packages/torch/nn/utils/weight_norm.py:28: UserWarning: torch.nn.utils.weight_norm is deprecated in favor of torch.nn.utils.parametrizations.weight_norm.\n",
      "  warnings.warn(\"torch.nn.utils.weight_norm is deprecated in favor of torch.nn.utils.parametrizations.weight_norm.\")\n"
     ]
    },
    {
     "name": "stdout",
     "output_type": "stream",
     "text": [
      "Removing weight norm...\n",
      "Raw Text Sequence: We want to know about the policy.\n",
      "\n",
      "Phoneme Sequence: {W IY1 W AA1 N T T AH0 N OW1 AH0 B AW1 T DH AH0 P AA1 L AH0 S IY0 sp}\n"
     ]
    },
    {
     "name": "stderr",
     "output_type": "stream",
     "text": [
      "  0%|          | 0/1 [00:00<?, ?it/s]\n",
      "sample time step:   0%|          | 0/4 [00:00<?, ?it/s]\u001b[A\n",
      "sample time step: 100%|██████████| 4/4 [00:00<00:00,  8.15it/s]\u001b[A\n",
      "100%|██████████| 1/1 [00:01<00:00,  1.59s/it]\n",
      "2024-05-15 04:04:46.015430: I tensorflow/core/platform/cpu_feature_guard.cc:210] This TensorFlow binary is optimized to use available CPU instructions in performance-critical operations.\n",
      "To enable the following instructions: AVX2 FMA, in other operations, rebuild TensorFlow with the appropriate compiler flags.\n",
      "2024-05-15 04:04:47.004933: W tensorflow/compiler/tf2tensorrt/utils/py_utils.cc:38] TF-TRT Warning: Could not find TensorRT\n"
     ]
    },
    {
     "name": "stdout",
     "output_type": "stream",
     "text": [
      "\n",
      "==================================== Inference Configuration ====================================\n",
      " ---> Type of Modeling: naive\n",
      " ---> Total Batch Size: 32\n",
      " ---> Path of ckpt: ./output/ckpt/VCTK_naive\n",
      " ---> Path of log: ./output/log/VCTK_naive\n",
      " ---> Path of result: ./output/result/VCTK_naive\n",
      "================================================================================================\n"
     ]
    },
    {
     "name": "stderr",
     "output_type": "stream",
     "text": [
      "/home/ydoit/AIGC/diffgan/diffgan/lib/python3.10/site-packages/torch/nn/utils/weight_norm.py:28: UserWarning: torch.nn.utils.weight_norm is deprecated in favor of torch.nn.utils.parametrizations.weight_norm.\n",
      "  warnings.warn(\"torch.nn.utils.weight_norm is deprecated in favor of torch.nn.utils.parametrizations.weight_norm.\")\n"
     ]
    },
    {
     "name": "stdout",
     "output_type": "stream",
     "text": [
      "Removing weight norm...\n",
      "Raw Text Sequence: The striker needed attention before he could resume.\n",
      "\n",
      "Phoneme Sequence: {DH AH0 S T R AY1 K ER0 N IY1 D AH0 D AH0 T EH1 N SH AH0 N B IH0 F AO1 R HH IY1 K UH1 D R EH1 Z AH0 M EY2 sp}\n"
     ]
    },
    {
     "name": "stderr",
     "output_type": "stream",
     "text": [
      "  0%|          | 0/1 [00:00<?, ?it/s]\n",
      "sample time step: 100%|██████████| 4/4 [00:00<00:00, 44.13it/s]\n",
      "100%|██████████| 1/1 [00:01<00:00,  1.75s/it]\n",
      "2024-05-15 04:04:59.099238: I tensorflow/core/platform/cpu_feature_guard.cc:210] This TensorFlow binary is optimized to use available CPU instructions in performance-critical operations.\n",
      "To enable the following instructions: AVX2 FMA, in other operations, rebuild TensorFlow with the appropriate compiler flags.\n",
      "2024-05-15 04:04:59.856676: W tensorflow/compiler/tf2tensorrt/utils/py_utils.cc:38] TF-TRT Warning: Could not find TensorRT\n"
     ]
    },
    {
     "name": "stdout",
     "output_type": "stream",
     "text": [
      "\n",
      "==================================== Inference Configuration ====================================\n",
      " ---> Type of Modeling: naive\n",
      " ---> Total Batch Size: 32\n",
      " ---> Path of ckpt: ./output/ckpt/VCTK_naive\n",
      " ---> Path of log: ./output/log/VCTK_naive\n",
      " ---> Path of result: ./output/result/VCTK_naive\n",
      "================================================================================================\n"
     ]
    },
    {
     "name": "stderr",
     "output_type": "stream",
     "text": [
      "/home/ydoit/AIGC/diffgan/diffgan/lib/python3.10/site-packages/torch/nn/utils/weight_norm.py:28: UserWarning: torch.nn.utils.weight_norm is deprecated in favor of torch.nn.utils.parametrizations.weight_norm.\n",
      "  warnings.warn(\"torch.nn.utils.weight_norm is deprecated in favor of torch.nn.utils.parametrizations.weight_norm.\")\n"
     ]
    },
    {
     "name": "stdout",
     "output_type": "stream",
     "text": [
      "Removing weight norm...\n",
      "Raw Text Sequence: It is a challenge for all of us.\n",
      "\n",
      "Phoneme Sequence: {IH0 T IH0 Z AH0 CH AE1 L AH0 N JH F AO1 R AO1 L AH0 V AH1 S sp}\n"
     ]
    },
    {
     "name": "stderr",
     "output_type": "stream",
     "text": [
      "  0%|          | 0/1 [00:00<?, ?it/s]\n",
      "sample time step:   0%|          | 0/4 [00:00<?, ?it/s]\u001b[A\n",
      "sample time step: 100%|██████████| 4/4 [00:00<00:00,  8.95it/s]\u001b[A\n",
      "100%|██████████| 1/1 [00:01<00:00,  1.71s/it]\n",
      "2024-05-15 04:05:11.963989: I tensorflow/core/platform/cpu_feature_guard.cc:210] This TensorFlow binary is optimized to use available CPU instructions in performance-critical operations.\n",
      "To enable the following instructions: AVX2 FMA, in other operations, rebuild TensorFlow with the appropriate compiler flags.\n",
      "2024-05-15 04:05:12.749964: W tensorflow/compiler/tf2tensorrt/utils/py_utils.cc:38] TF-TRT Warning: Could not find TensorRT\n"
     ]
    },
    {
     "name": "stdout",
     "output_type": "stream",
     "text": [
      "\n",
      "==================================== Inference Configuration ====================================\n",
      " ---> Type of Modeling: naive\n",
      " ---> Total Batch Size: 32\n",
      " ---> Path of ckpt: ./output/ckpt/VCTK_naive\n",
      " ---> Path of log: ./output/log/VCTK_naive\n",
      " ---> Path of result: ./output/result/VCTK_naive\n",
      "================================================================================================\n"
     ]
    },
    {
     "name": "stderr",
     "output_type": "stream",
     "text": [
      "/home/ydoit/AIGC/diffgan/diffgan/lib/python3.10/site-packages/torch/nn/utils/weight_norm.py:28: UserWarning: torch.nn.utils.weight_norm is deprecated in favor of torch.nn.utils.parametrizations.weight_norm.\n",
      "  warnings.warn(\"torch.nn.utils.weight_norm is deprecated in favor of torch.nn.utils.parametrizations.weight_norm.\")\n"
     ]
    },
    {
     "name": "stdout",
     "output_type": "stream",
     "text": [
      "Removing weight norm...\n",
      "Raw Text Sequence: I've never been one for complaining about the press.\n",
      "\n",
      "Phoneme Sequence: {AY1 V N EH1 V ER0 B AH0 N HH W AH1 N F AO1 R K AH0 M P L EY1 N IH0 NG AH0 B AW1 T DH AH0 P R EH1 S sp}\n"
     ]
    },
    {
     "name": "stderr",
     "output_type": "stream",
     "text": [
      "  0%|          | 0/1 [00:00<?, ?it/s]\n",
      "sample time step:   0%|          | 0/4 [00:00<?, ?it/s]\u001b[A\n",
      "sample time step: 100%|██████████| 4/4 [00:00<00:00,  8.77it/s]\u001b[A\n",
      "100%|██████████| 1/1 [00:01<00:00,  1.63s/it]\n",
      "2024-05-15 04:05:25.727682: I tensorflow/core/platform/cpu_feature_guard.cc:210] This TensorFlow binary is optimized to use available CPU instructions in performance-critical operations.\n",
      "To enable the following instructions: AVX2 FMA, in other operations, rebuild TensorFlow with the appropriate compiler flags.\n",
      "2024-05-15 04:05:26.457067: W tensorflow/compiler/tf2tensorrt/utils/py_utils.cc:38] TF-TRT Warning: Could not find TensorRT\n"
     ]
    },
    {
     "name": "stdout",
     "output_type": "stream",
     "text": [
      "\n",
      "==================================== Inference Configuration ====================================\n",
      " ---> Type of Modeling: naive\n",
      " ---> Total Batch Size: 32\n",
      " ---> Path of ckpt: ./output/ckpt/VCTK_naive\n",
      " ---> Path of log: ./output/log/VCTK_naive\n",
      " ---> Path of result: ./output/result/VCTK_naive\n",
      "================================================================================================\n"
     ]
    },
    {
     "name": "stderr",
     "output_type": "stream",
     "text": [
      "/home/ydoit/AIGC/diffgan/diffgan/lib/python3.10/site-packages/torch/nn/utils/weight_norm.py:28: UserWarning: torch.nn.utils.weight_norm is deprecated in favor of torch.nn.utils.parametrizations.weight_norm.\n",
      "  warnings.warn(\"torch.nn.utils.weight_norm is deprecated in favor of torch.nn.utils.parametrizations.weight_norm.\")\n"
     ]
    },
    {
     "name": "stdout",
     "output_type": "stream",
     "text": [
      "Removing weight norm...\n",
      "Raw Text Sequence: I knew that I needed to lower my ball flight.\n",
      "\n",
      "Phoneme Sequence: {AY1 N UW1 DH AE1 T AY1 N IY1 D AH0 D T AH0 L OW1 ER0 M AY1 B AO1 L F L AY1 T sp}\n"
     ]
    },
    {
     "name": "stderr",
     "output_type": "stream",
     "text": [
      "  0%|          | 0/1 [00:00<?, ?it/s]\n",
      "sample time step:   0%|          | 0/4 [00:00<?, ?it/s]\u001b[A/home/ydoit/AIGC/diffgan/diffgan/lib/python3.10/site-packages/torch/nn/modules/conv.py:306: UserWarning: Plan failed with a cudnnException: CUDNN_BACKEND_EXECUTION_PLAN_DESCRIPTOR: cudnnFinalize Descriptor Failed cudnn_status: CUDNN_STATUS_NOT_SUPPORTED (Triggered internally at ../aten/src/ATen/native/cudnn/Conv_v8.cpp:919.)\n",
      "  return F.conv1d(input, weight, bias, self.stride,\n",
      "\n",
      "sample time step: 100%|██████████| 4/4 [00:00<00:00, 10.42it/s]\u001b[A\n",
      "100%|██████████| 1/1 [00:01<00:00,  1.60s/it]\n",
      "2024-05-15 04:05:40.555861: I tensorflow/core/platform/cpu_feature_guard.cc:210] This TensorFlow binary is optimized to use available CPU instructions in performance-critical operations.\n",
      "To enable the following instructions: AVX2 FMA, in other operations, rebuild TensorFlow with the appropriate compiler flags.\n",
      "2024-05-15 04:05:41.293305: W tensorflow/compiler/tf2tensorrt/utils/py_utils.cc:38] TF-TRT Warning: Could not find TensorRT\n"
     ]
    },
    {
     "name": "stdout",
     "output_type": "stream",
     "text": [
      "\n",
      "==================================== Inference Configuration ====================================\n",
      " ---> Type of Modeling: naive\n",
      " ---> Total Batch Size: 32\n",
      " ---> Path of ckpt: ./output/ckpt/VCTK_naive\n",
      " ---> Path of log: ./output/log/VCTK_naive\n",
      " ---> Path of result: ./output/result/VCTK_naive\n",
      "================================================================================================\n"
     ]
    },
    {
     "name": "stderr",
     "output_type": "stream",
     "text": [
      "/home/ydoit/AIGC/diffgan/diffgan/lib/python3.10/site-packages/torch/nn/utils/weight_norm.py:28: UserWarning: torch.nn.utils.weight_norm is deprecated in favor of torch.nn.utils.parametrizations.weight_norm.\n",
      "  warnings.warn(\"torch.nn.utils.weight_norm is deprecated in favor of torch.nn.utils.parametrizations.weight_norm.\")\n"
     ]
    },
    {
     "name": "stdout",
     "output_type": "stream",
     "text": [
      "Removing weight norm...\n",
      "Raw Text Sequence: They couldn't keep it together.\n",
      "\n",
      "Phoneme Sequence: {DH EY1 K UH1 D AH0 N K IY1 P IH0 T T AH0 G EH1 DH ER0 sp}\n"
     ]
    },
    {
     "name": "stderr",
     "output_type": "stream",
     "text": [
      "  0%|          | 0/1 [00:00<?, ?it/s]\n",
      "sample time step:   0%|          | 0/4 [00:00<?, ?it/s]\u001b[A/home/ydoit/AIGC/diffgan/diffgan/lib/python3.10/site-packages/torch/nn/modules/conv.py:306: UserWarning: Plan failed with a cudnnException: CUDNN_BACKEND_EXECUTION_PLAN_DESCRIPTOR: cudnnFinalize Descriptor Failed cudnn_status: CUDNN_STATUS_NOT_SUPPORTED (Triggered internally at ../aten/src/ATen/native/cudnn/Conv_v8.cpp:919.)\n",
      "  return F.conv1d(input, weight, bias, self.stride,\n",
      "\n",
      "sample time step: 100%|██████████| 4/4 [00:00<00:00,  8.58it/s]\u001b[A\n",
      "100%|██████████| 1/1 [00:01<00:00,  1.56s/it]\n",
      "2024-05-15 04:05:53.538159: I tensorflow/core/platform/cpu_feature_guard.cc:210] This TensorFlow binary is optimized to use available CPU instructions in performance-critical operations.\n",
      "To enable the following instructions: AVX2 FMA, in other operations, rebuild TensorFlow with the appropriate compiler flags.\n",
      "2024-05-15 04:05:54.275762: W tensorflow/compiler/tf2tensorrt/utils/py_utils.cc:38] TF-TRT Warning: Could not find TensorRT\n"
     ]
    },
    {
     "name": "stdout",
     "output_type": "stream",
     "text": [
      "\n",
      "==================================== Inference Configuration ====================================\n",
      " ---> Type of Modeling: naive\n",
      " ---> Total Batch Size: 32\n",
      " ---> Path of ckpt: ./output/ckpt/VCTK_naive\n",
      " ---> Path of log: ./output/log/VCTK_naive\n",
      " ---> Path of result: ./output/result/VCTK_naive\n",
      "================================================================================================\n"
     ]
    },
    {
     "name": "stderr",
     "output_type": "stream",
     "text": [
      "/home/ydoit/AIGC/diffgan/diffgan/lib/python3.10/site-packages/torch/nn/utils/weight_norm.py:28: UserWarning: torch.nn.utils.weight_norm is deprecated in favor of torch.nn.utils.parametrizations.weight_norm.\n",
      "  warnings.warn(\"torch.nn.utils.weight_norm is deprecated in favor of torch.nn.utils.parametrizations.weight_norm.\")\n"
     ]
    },
    {
     "name": "stdout",
     "output_type": "stream",
     "text": [
      "Removing weight norm...\n",
      "Raw Text Sequence: We are going to go about our lives.\n",
      "\n",
      "Phoneme Sequence: {W IY1 AA1 R G OW1 IH0 N T AH0 G OW1 AH0 B AW1 T AA1 R L AY1 V Z sp}\n"
     ]
    },
    {
     "name": "stderr",
     "output_type": "stream",
     "text": [
      "  0%|          | 0/1 [00:00<?, ?it/s]\n",
      "sample time step:   0%|          | 0/4 [00:00<?, ?it/s]\u001b[A\n",
      "sample time step: 100%|██████████| 4/4 [00:00<00:00,  6.67it/s]\u001b[A\n",
      "100%|██████████| 1/1 [00:02<00:00,  2.35s/it]\n",
      "2024-05-15 04:06:06.909386: I tensorflow/core/platform/cpu_feature_guard.cc:210] This TensorFlow binary is optimized to use available CPU instructions in performance-critical operations.\n",
      "To enable the following instructions: AVX2 FMA, in other operations, rebuild TensorFlow with the appropriate compiler flags.\n",
      "2024-05-15 04:06:07.625226: W tensorflow/compiler/tf2tensorrt/utils/py_utils.cc:38] TF-TRT Warning: Could not find TensorRT\n"
     ]
    },
    {
     "name": "stdout",
     "output_type": "stream",
     "text": [
      "\n",
      "==================================== Inference Configuration ====================================\n",
      " ---> Type of Modeling: naive\n",
      " ---> Total Batch Size: 32\n",
      " ---> Path of ckpt: ./output/ckpt/VCTK_naive\n",
      " ---> Path of log: ./output/log/VCTK_naive\n",
      " ---> Path of result: ./output/result/VCTK_naive\n",
      "================================================================================================\n"
     ]
    },
    {
     "name": "stderr",
     "output_type": "stream",
     "text": [
      "/home/ydoit/AIGC/diffgan/diffgan/lib/python3.10/site-packages/torch/nn/utils/weight_norm.py:28: UserWarning: torch.nn.utils.weight_norm is deprecated in favor of torch.nn.utils.parametrizations.weight_norm.\n",
      "  warnings.warn(\"torch.nn.utils.weight_norm is deprecated in favor of torch.nn.utils.parametrizations.weight_norm.\")\n"
     ]
    },
    {
     "name": "stdout",
     "output_type": "stream",
     "text": [
      "Removing weight norm...\n",
      "Raw Text Sequence: The problem was he thought you were a big man.\n",
      "\n",
      "Phoneme Sequence: {DH AH0 P R AA1 B L AH0 M W AA1 Z HH IY1 TH AO1 T Y UW1 W ER0 AH0 B IH1 G M AE1 N sp}\n"
     ]
    },
    {
     "name": "stderr",
     "output_type": "stream",
     "text": [
      "  0%|          | 0/1 [00:00<?, ?it/s]\n",
      "sample time step:   0%|          | 0/4 [00:00<?, ?it/s]\u001b[A\n",
      "sample time step: 100%|██████████| 4/4 [00:00<00:00,  7.86it/s]\u001b[A\n",
      "100%|██████████| 1/1 [00:01<00:00,  1.84s/it]\n",
      "2024-05-15 04:06:20.758418: I tensorflow/core/platform/cpu_feature_guard.cc:210] This TensorFlow binary is optimized to use available CPU instructions in performance-critical operations.\n",
      "To enable the following instructions: AVX2 FMA, in other operations, rebuild TensorFlow with the appropriate compiler flags.\n",
      "2024-05-15 04:06:21.526612: W tensorflow/compiler/tf2tensorrt/utils/py_utils.cc:38] TF-TRT Warning: Could not find TensorRT\n"
     ]
    },
    {
     "name": "stdout",
     "output_type": "stream",
     "text": [
      "\n",
      "==================================== Inference Configuration ====================================\n",
      " ---> Type of Modeling: naive\n",
      " ---> Total Batch Size: 32\n",
      " ---> Path of ckpt: ./output/ckpt/VCTK_naive\n",
      " ---> Path of log: ./output/log/VCTK_naive\n",
      " ---> Path of result: ./output/result/VCTK_naive\n",
      "================================================================================================\n"
     ]
    },
    {
     "name": "stderr",
     "output_type": "stream",
     "text": [
      "/home/ydoit/AIGC/diffgan/diffgan/lib/python3.10/site-packages/torch/nn/utils/weight_norm.py:28: UserWarning: torch.nn.utils.weight_norm is deprecated in favor of torch.nn.utils.parametrizations.weight_norm.\n",
      "  warnings.warn(\"torch.nn.utils.weight_norm is deprecated in favor of torch.nn.utils.parametrizations.weight_norm.\")\n"
     ]
    },
    {
     "name": "stdout",
     "output_type": "stream",
     "text": [
      "Removing weight norm...\n",
      "Raw Text Sequence: He is in charge on the pitch.\n",
      "\n",
      "Phoneme Sequence: {HH IY1 IH0 Z IH0 N CH AA1 R JH AA1 N DH AH0 P IH1 CH sp}\n"
     ]
    },
    {
     "name": "stderr",
     "output_type": "stream",
     "text": [
      "  0%|          | 0/1 [00:00<?, ?it/s]\n",
      "sample time step: 100%|██████████| 4/4 [00:00<00:00, 49.11it/s]\n",
      "100%|██████████| 1/1 [00:01<00:00,  1.88s/it]\n",
      "2024-05-15 04:06:35.726046: I tensorflow/core/platform/cpu_feature_guard.cc:210] This TensorFlow binary is optimized to use available CPU instructions in performance-critical operations.\n",
      "To enable the following instructions: AVX2 FMA, in other operations, rebuild TensorFlow with the appropriate compiler flags.\n",
      "2024-05-15 04:06:36.492874: W tensorflow/compiler/tf2tensorrt/utils/py_utils.cc:38] TF-TRT Warning: Could not find TensorRT\n"
     ]
    },
    {
     "name": "stdout",
     "output_type": "stream",
     "text": [
      "\n",
      "==================================== Inference Configuration ====================================\n",
      " ---> Type of Modeling: naive\n",
      " ---> Total Batch Size: 32\n",
      " ---> Path of ckpt: ./output/ckpt/VCTK_naive\n",
      " ---> Path of log: ./output/log/VCTK_naive\n",
      " ---> Path of result: ./output/result/VCTK_naive\n",
      "================================================================================================\n"
     ]
    },
    {
     "name": "stderr",
     "output_type": "stream",
     "text": [
      "/home/ydoit/AIGC/diffgan/diffgan/lib/python3.10/site-packages/torch/nn/utils/weight_norm.py:28: UserWarning: torch.nn.utils.weight_norm is deprecated in favor of torch.nn.utils.parametrizations.weight_norm.\n",
      "  warnings.warn(\"torch.nn.utils.weight_norm is deprecated in favor of torch.nn.utils.parametrizations.weight_norm.\")\n"
     ]
    },
    {
     "name": "stdout",
     "output_type": "stream",
     "text": [
      "Removing weight norm...\n",
      "Raw Text Sequence: There was nothing anyone could do.\n",
      "\n",
      "Phoneme Sequence: {DH EH1 R W AA1 Z N AH1 TH IH0 NG EH1 N IY0 W AH0 N K UH1 D D UW1 sp}\n"
     ]
    },
    {
     "name": "stderr",
     "output_type": "stream",
     "text": [
      "  0%|          | 0/1 [00:00<?, ?it/s]\n",
      "sample time step:   0%|          | 0/4 [00:00<?, ?it/s]\u001b[A\n",
      "sample time step: 100%|██████████| 4/4 [00:00<00:00, 39.12it/s]\u001b[A\n",
      "100%|██████████| 1/1 [00:01<00:00,  1.79s/it]\n",
      "2024-05-15 04:06:48.459133: I tensorflow/core/platform/cpu_feature_guard.cc:210] This TensorFlow binary is optimized to use available CPU instructions in performance-critical operations.\n",
      "To enable the following instructions: AVX2 FMA, in other operations, rebuild TensorFlow with the appropriate compiler flags.\n",
      "2024-05-15 04:06:49.209834: W tensorflow/compiler/tf2tensorrt/utils/py_utils.cc:38] TF-TRT Warning: Could not find TensorRT\n"
     ]
    },
    {
     "name": "stdout",
     "output_type": "stream",
     "text": [
      "\n",
      "==================================== Inference Configuration ====================================\n",
      " ---> Type of Modeling: naive\n",
      " ---> Total Batch Size: 32\n",
      " ---> Path of ckpt: ./output/ckpt/VCTK_naive\n",
      " ---> Path of log: ./output/log/VCTK_naive\n",
      " ---> Path of result: ./output/result/VCTK_naive\n",
      "================================================================================================\n"
     ]
    },
    {
     "name": "stderr",
     "output_type": "stream",
     "text": [
      "/home/ydoit/AIGC/diffgan/diffgan/lib/python3.10/site-packages/torch/nn/utils/weight_norm.py:28: UserWarning: torch.nn.utils.weight_norm is deprecated in favor of torch.nn.utils.parametrizations.weight_norm.\n",
      "  warnings.warn(\"torch.nn.utils.weight_norm is deprecated in favor of torch.nn.utils.parametrizations.weight_norm.\")\n"
     ]
    },
    {
     "name": "stdout",
     "output_type": "stream",
     "text": [
      "Removing weight norm...\n",
      "Raw Text Sequence: People tended to stay there for some time.\n",
      "\n",
      "Phoneme Sequence: {P IY1 P AH0 L T EH1 N D AH0 D T AH0 S T EY1 DH EH1 R F AO1 R S AH1 M T AY1 M sp}\n"
     ]
    },
    {
     "name": "stderr",
     "output_type": "stream",
     "text": [
      "  0%|          | 0/1 [00:00<?, ?it/s]\n",
      "sample time step: 100%|██████████| 4/4 [00:00<00:00, 44.65it/s]\n",
      "100%|██████████| 1/1 [00:01<00:00,  1.76s/it]\n",
      "2024-05-15 04:07:01.831160: I tensorflow/core/platform/cpu_feature_guard.cc:210] This TensorFlow binary is optimized to use available CPU instructions in performance-critical operations.\n",
      "To enable the following instructions: AVX2 FMA, in other operations, rebuild TensorFlow with the appropriate compiler flags.\n",
      "2024-05-15 04:07:02.587053: W tensorflow/compiler/tf2tensorrt/utils/py_utils.cc:38] TF-TRT Warning: Could not find TensorRT\n"
     ]
    },
    {
     "name": "stdout",
     "output_type": "stream",
     "text": [
      "\n",
      "==================================== Inference Configuration ====================================\n",
      " ---> Type of Modeling: naive\n",
      " ---> Total Batch Size: 32\n",
      " ---> Path of ckpt: ./output/ckpt/VCTK_naive\n",
      " ---> Path of log: ./output/log/VCTK_naive\n",
      " ---> Path of result: ./output/result/VCTK_naive\n",
      "================================================================================================\n"
     ]
    },
    {
     "name": "stderr",
     "output_type": "stream",
     "text": [
      "/home/ydoit/AIGC/diffgan/diffgan/lib/python3.10/site-packages/torch/nn/utils/weight_norm.py:28: UserWarning: torch.nn.utils.weight_norm is deprecated in favor of torch.nn.utils.parametrizations.weight_norm.\n",
      "  warnings.warn(\"torch.nn.utils.weight_norm is deprecated in favor of torch.nn.utils.parametrizations.weight_norm.\")\n"
     ]
    },
    {
     "name": "stdout",
     "output_type": "stream",
     "text": [
      "Removing weight norm...\n",
      "Raw Text Sequence: This area is perfect for children.\n",
      "\n",
      "Phoneme Sequence: {DH IH0 S EH1 R IY0 AH0 IH0 Z P ER0 F EH1 K T F AO1 R CH IH1 L D R AH0 N sp}\n"
     ]
    },
    {
     "name": "stderr",
     "output_type": "stream",
     "text": [
      "  0%|          | 0/1 [00:00<?, ?it/s]\n",
      "sample time step:   0%|          | 0/4 [00:00<?, ?it/s]\u001b[A\n",
      "sample time step: 100%|██████████| 4/4 [00:00<00:00,  8.16it/s]\u001b[A\n",
      "100%|██████████| 1/1 [00:01<00:00,  1.93s/it]\n",
      "2024-05-15 04:07:14.942519: I tensorflow/core/platform/cpu_feature_guard.cc:210] This TensorFlow binary is optimized to use available CPU instructions in performance-critical operations.\n",
      "To enable the following instructions: AVX2 FMA, in other operations, rebuild TensorFlow with the appropriate compiler flags.\n",
      "2024-05-15 04:07:15.673374: W tensorflow/compiler/tf2tensorrt/utils/py_utils.cc:38] TF-TRT Warning: Could not find TensorRT\n"
     ]
    },
    {
     "name": "stdout",
     "output_type": "stream",
     "text": [
      "\n",
      "==================================== Inference Configuration ====================================\n",
      " ---> Type of Modeling: naive\n",
      " ---> Total Batch Size: 32\n",
      " ---> Path of ckpt: ./output/ckpt/VCTK_naive\n",
      " ---> Path of log: ./output/log/VCTK_naive\n",
      " ---> Path of result: ./output/result/VCTK_naive\n",
      "================================================================================================\n"
     ]
    },
    {
     "name": "stderr",
     "output_type": "stream",
     "text": [
      "/home/ydoit/AIGC/diffgan/diffgan/lib/python3.10/site-packages/torch/nn/utils/weight_norm.py:28: UserWarning: torch.nn.utils.weight_norm is deprecated in favor of torch.nn.utils.parametrizations.weight_norm.\n",
      "  warnings.warn(\"torch.nn.utils.weight_norm is deprecated in favor of torch.nn.utils.parametrizations.weight_norm.\")\n"
     ]
    },
    {
     "name": "stdout",
     "output_type": "stream",
     "text": [
      "Removing weight norm...\n",
      "Raw Text Sequence: It was not known to myself.\n",
      "\n",
      "Phoneme Sequence: {IH0 T W AA1 Z N AA1 T N OW1 N T AH0 M AY2 S EH1 L F sp}\n"
     ]
    },
    {
     "name": "stderr",
     "output_type": "stream",
     "text": [
      "  0%|          | 0/1 [00:00<?, ?it/s]\n",
      "sample time step:   0%|          | 0/4 [00:00<?, ?it/s]\u001b[A/home/ydoit/AIGC/diffgan/diffgan/lib/python3.10/site-packages/torch/nn/modules/conv.py:306: UserWarning: Plan failed with a cudnnException: CUDNN_BACKEND_EXECUTION_PLAN_DESCRIPTOR: cudnnFinalize Descriptor Failed cudnn_status: CUDNN_STATUS_NOT_SUPPORTED (Triggered internally at ../aten/src/ATen/native/cudnn/Conv_v8.cpp:919.)\n",
      "  return F.conv1d(input, weight, bias, self.stride,\n",
      "\n",
      "sample time step: 100%|██████████| 4/4 [00:00<00:00,  7.84it/s]\u001b[A\n",
      "100%|██████████| 1/1 [00:02<00:00,  2.20s/it]\n",
      "2024-05-15 04:07:29.808220: I tensorflow/core/platform/cpu_feature_guard.cc:210] This TensorFlow binary is optimized to use available CPU instructions in performance-critical operations.\n",
      "To enable the following instructions: AVX2 FMA, in other operations, rebuild TensorFlow with the appropriate compiler flags.\n",
      "2024-05-15 04:07:30.568922: W tensorflow/compiler/tf2tensorrt/utils/py_utils.cc:38] TF-TRT Warning: Could not find TensorRT\n"
     ]
    },
    {
     "name": "stdout",
     "output_type": "stream",
     "text": [
      "\n",
      "==================================== Inference Configuration ====================================\n",
      " ---> Type of Modeling: naive\n",
      " ---> Total Batch Size: 32\n",
      " ---> Path of ckpt: ./output/ckpt/VCTK_naive\n",
      " ---> Path of log: ./output/log/VCTK_naive\n",
      " ---> Path of result: ./output/result/VCTK_naive\n",
      "================================================================================================\n"
     ]
    },
    {
     "name": "stderr",
     "output_type": "stream",
     "text": [
      "/home/ydoit/AIGC/diffgan/diffgan/lib/python3.10/site-packages/torch/nn/utils/weight_norm.py:28: UserWarning: torch.nn.utils.weight_norm is deprecated in favor of torch.nn.utils.parametrizations.weight_norm.\n",
      "  warnings.warn(\"torch.nn.utils.weight_norm is deprecated in favor of torch.nn.utils.parametrizations.weight_norm.\")\n"
     ]
    },
    {
     "name": "stdout",
     "output_type": "stream",
     "text": [
      "Removing weight norm...\n",
      "Raw Text Sequence: That means no more taxation by stealth.\n",
      "\n",
      "Phoneme Sequence: {DH AE1 T M IY1 N Z N OW1 M AO1 R T AE0 K S EY1 SH AH0 N B AY1 S T EH1 L TH sp}\n"
     ]
    },
    {
     "name": "stderr",
     "output_type": "stream",
     "text": [
      "  0%|          | 0/1 [00:00<?, ?it/s]\n",
      "sample time step:   0%|          | 0/4 [00:00<?, ?it/s]\u001b[A\n",
      "sample time step: 100%|██████████| 4/4 [00:00<00:00,  7.75it/s]\u001b[A\n",
      "100%|██████████| 1/1 [00:02<00:00,  2.37s/it]\n",
      "2024-05-15 04:07:43.100532: I tensorflow/core/platform/cpu_feature_guard.cc:210] This TensorFlow binary is optimized to use available CPU instructions in performance-critical operations.\n",
      "To enable the following instructions: AVX2 FMA, in other operations, rebuild TensorFlow with the appropriate compiler flags.\n",
      "2024-05-15 04:07:43.821992: W tensorflow/compiler/tf2tensorrt/utils/py_utils.cc:38] TF-TRT Warning: Could not find TensorRT\n"
     ]
    },
    {
     "name": "stdout",
     "output_type": "stream",
     "text": [
      "\n",
      "==================================== Inference Configuration ====================================\n",
      " ---> Type of Modeling: naive\n",
      " ---> Total Batch Size: 32\n",
      " ---> Path of ckpt: ./output/ckpt/VCTK_naive\n",
      " ---> Path of log: ./output/log/VCTK_naive\n",
      " ---> Path of result: ./output/result/VCTK_naive\n",
      "================================================================================================\n"
     ]
    },
    {
     "name": "stderr",
     "output_type": "stream",
     "text": [
      "/home/ydoit/AIGC/diffgan/diffgan/lib/python3.10/site-packages/torch/nn/utils/weight_norm.py:28: UserWarning: torch.nn.utils.weight_norm is deprecated in favor of torch.nn.utils.parametrizations.weight_norm.\n",
      "  warnings.warn(\"torch.nn.utils.weight_norm is deprecated in favor of torch.nn.utils.parametrizations.weight_norm.\")\n"
     ]
    },
    {
     "name": "stdout",
     "output_type": "stream",
     "text": [
      "Removing weight norm...\n",
      "Raw Text Sequence: Then it was into a series of classes.\n",
      "\n",
      "Phoneme Sequence: {DH EH1 N IH0 T W AA1 Z IH0 N T AH0 AH0 S IH1 R IY0 Z AH0 V K L AE1 S AH0 Z sp}\n"
     ]
    },
    {
     "name": "stderr",
     "output_type": "stream",
     "text": [
      "  0%|          | 0/1 [00:00<?, ?it/s]\n",
      "sample time step:   0%|          | 0/4 [00:00<?, ?it/s]\u001b[A\n",
      "sample time step: 100%|██████████| 4/4 [00:00<00:00,  7.72it/s]\u001b[A\n",
      "100%|██████████| 1/1 [00:01<00:00,  1.77s/it]\n",
      "2024-05-15 04:07:55.939188: I tensorflow/core/platform/cpu_feature_guard.cc:210] This TensorFlow binary is optimized to use available CPU instructions in performance-critical operations.\n",
      "To enable the following instructions: AVX2 FMA, in other operations, rebuild TensorFlow with the appropriate compiler flags.\n",
      "2024-05-15 04:07:56.685921: W tensorflow/compiler/tf2tensorrt/utils/py_utils.cc:38] TF-TRT Warning: Could not find TensorRT\n"
     ]
    },
    {
     "name": "stdout",
     "output_type": "stream",
     "text": [
      "\n",
      "==================================== Inference Configuration ====================================\n",
      " ---> Type of Modeling: naive\n",
      " ---> Total Batch Size: 32\n",
      " ---> Path of ckpt: ./output/ckpt/VCTK_naive\n",
      " ---> Path of log: ./output/log/VCTK_naive\n",
      " ---> Path of result: ./output/result/VCTK_naive\n",
      "================================================================================================\n"
     ]
    },
    {
     "name": "stderr",
     "output_type": "stream",
     "text": [
      "/home/ydoit/AIGC/diffgan/diffgan/lib/python3.10/site-packages/torch/nn/utils/weight_norm.py:28: UserWarning: torch.nn.utils.weight_norm is deprecated in favor of torch.nn.utils.parametrizations.weight_norm.\n",
      "  warnings.warn(\"torch.nn.utils.weight_norm is deprecated in favor of torch.nn.utils.parametrizations.weight_norm.\")\n"
     ]
    },
    {
     "name": "stdout",
     "output_type": "stream",
     "text": [
      "Removing weight norm...\n",
      "Raw Text Sequence: I always loved the lightning in the movies.\n",
      "\n",
      "Phoneme Sequence: {AY1 AO1 L W EY2 Z L AH1 V D DH AH0 L AY1 T N IH0 NG IH0 N DH AH0 M UW1 V IY0 Z sp}\n"
     ]
    },
    {
     "name": "stderr",
     "output_type": "stream",
     "text": [
      "  0%|          | 0/1 [00:00<?, ?it/s]\n",
      "sample time step:   0%|          | 0/4 [00:00<?, ?it/s]\u001b[A\n",
      "sample time step: 100%|██████████| 4/4 [00:00<00:00,  6.06it/s]\u001b[A\n",
      "100%|██████████| 1/1 [00:02<00:00,  2.29s/it]\n",
      "2024-05-15 04:08:12.048705: I tensorflow/core/platform/cpu_feature_guard.cc:210] This TensorFlow binary is optimized to use available CPU instructions in performance-critical operations.\n",
      "To enable the following instructions: AVX2 FMA, in other operations, rebuild TensorFlow with the appropriate compiler flags.\n",
      "2024-05-15 04:08:12.791094: W tensorflow/compiler/tf2tensorrt/utils/py_utils.cc:38] TF-TRT Warning: Could not find TensorRT\n"
     ]
    },
    {
     "name": "stdout",
     "output_type": "stream",
     "text": [
      "\n",
      "==================================== Inference Configuration ====================================\n",
      " ---> Type of Modeling: naive\n",
      " ---> Total Batch Size: 32\n",
      " ---> Path of ckpt: ./output/ckpt/VCTK_naive\n",
      " ---> Path of log: ./output/log/VCTK_naive\n",
      " ---> Path of result: ./output/result/VCTK_naive\n",
      "================================================================================================\n"
     ]
    },
    {
     "name": "stderr",
     "output_type": "stream",
     "text": [
      "/home/ydoit/AIGC/diffgan/diffgan/lib/python3.10/site-packages/torch/nn/utils/weight_norm.py:28: UserWarning: torch.nn.utils.weight_norm is deprecated in favor of torch.nn.utils.parametrizations.weight_norm.\n",
      "  warnings.warn(\"torch.nn.utils.weight_norm is deprecated in favor of torch.nn.utils.parametrizations.weight_norm.\")\n"
     ]
    },
    {
     "name": "stdout",
     "output_type": "stream",
     "text": [
      "Removing weight norm...\n",
      "Raw Text Sequence: History is usually written by the victors.\n",
      "\n",
      "Phoneme Sequence: {HH IH1 S T ER0 IY0 IH0 Z Y UW1 ZH AH0 L IY0 R IH1 T AH0 N B AY1 DH AH0 V IH1 K T ER0 Z sp}\n"
     ]
    },
    {
     "name": "stderr",
     "output_type": "stream",
     "text": [
      "  0%|          | 0/1 [00:00<?, ?it/s]\n",
      "sample time step:   0%|          | 0/4 [00:00<?, ?it/s]\u001b[A\n",
      "sample time step: 100%|██████████| 4/4 [00:00<00:00,  9.62it/s]\u001b[A\n",
      "100%|██████████| 1/1 [00:01<00:00,  1.59s/it]\n",
      "2024-05-15 04:08:26.891504: I tensorflow/core/platform/cpu_feature_guard.cc:210] This TensorFlow binary is optimized to use available CPU instructions in performance-critical operations.\n",
      "To enable the following instructions: AVX2 FMA, in other operations, rebuild TensorFlow with the appropriate compiler flags.\n",
      "2024-05-15 04:08:27.657960: W tensorflow/compiler/tf2tensorrt/utils/py_utils.cc:38] TF-TRT Warning: Could not find TensorRT\n"
     ]
    },
    {
     "name": "stdout",
     "output_type": "stream",
     "text": [
      "\n",
      "==================================== Inference Configuration ====================================\n",
      " ---> Type of Modeling: naive\n",
      " ---> Total Batch Size: 32\n",
      " ---> Path of ckpt: ./output/ckpt/VCTK_naive\n",
      " ---> Path of log: ./output/log/VCTK_naive\n",
      " ---> Path of result: ./output/result/VCTK_naive\n",
      "================================================================================================\n"
     ]
    },
    {
     "name": "stderr",
     "output_type": "stream",
     "text": [
      "/home/ydoit/AIGC/diffgan/diffgan/lib/python3.10/site-packages/torch/nn/utils/weight_norm.py:28: UserWarning: torch.nn.utils.weight_norm is deprecated in favor of torch.nn.utils.parametrizations.weight_norm.\n",
      "  warnings.warn(\"torch.nn.utils.weight_norm is deprecated in favor of torch.nn.utils.parametrizations.weight_norm.\")\n"
     ]
    },
    {
     "name": "stdout",
     "output_type": "stream",
     "text": [
      "Removing weight norm...\n",
      "Raw Text Sequence: It has been in place since last July.\n",
      "\n",
      "Phoneme Sequence: {IH0 T HH AE1 Z B AH0 N IH0 N P L EY1 S S IH1 N S L AE1 S JH AH0 L AY1 sp}\n"
     ]
    },
    {
     "name": "stderr",
     "output_type": "stream",
     "text": [
      "  0%|          | 0/1 [00:00<?, ?it/s]\n",
      "sample time step: 100%|██████████| 4/4 [00:00<00:00, 46.71it/s]\n",
      "100%|██████████| 1/1 [00:01<00:00,  1.68s/it]\n",
      "2024-05-15 04:08:40.057588: I tensorflow/core/platform/cpu_feature_guard.cc:210] This TensorFlow binary is optimized to use available CPU instructions in performance-critical operations.\n",
      "To enable the following instructions: AVX2 FMA, in other operations, rebuild TensorFlow with the appropriate compiler flags.\n",
      "2024-05-15 04:08:40.806727: W tensorflow/compiler/tf2tensorrt/utils/py_utils.cc:38] TF-TRT Warning: Could not find TensorRT\n"
     ]
    },
    {
     "name": "stdout",
     "output_type": "stream",
     "text": [
      "\n",
      "==================================== Inference Configuration ====================================\n",
      " ---> Type of Modeling: naive\n",
      " ---> Total Batch Size: 32\n",
      " ---> Path of ckpt: ./output/ckpt/VCTK_naive\n",
      " ---> Path of log: ./output/log/VCTK_naive\n",
      " ---> Path of result: ./output/result/VCTK_naive\n",
      "================================================================================================\n"
     ]
    },
    {
     "name": "stderr",
     "output_type": "stream",
     "text": [
      "/home/ydoit/AIGC/diffgan/diffgan/lib/python3.10/site-packages/torch/nn/utils/weight_norm.py:28: UserWarning: torch.nn.utils.weight_norm is deprecated in favor of torch.nn.utils.parametrizations.weight_norm.\n",
      "  warnings.warn(\"torch.nn.utils.weight_norm is deprecated in favor of torch.nn.utils.parametrizations.weight_norm.\")\n"
     ]
    },
    {
     "name": "stdout",
     "output_type": "stream",
     "text": [
      "Removing weight norm...\n",
      "Raw Text Sequence: This is a completely new experience for me.\n",
      "\n",
      "Phoneme Sequence: {DH IH0 S IH0 Z AH0 K AH0 M P L IY1 T L IY0 N UW1 IH0 K S P IH1 R IY0 AH0 N S F AO1 R M IY1 sp}\n"
     ]
    },
    {
     "name": "stderr",
     "output_type": "stream",
     "text": [
      "  0%|          | 0/1 [00:00<?, ?it/s]\n",
      "sample time step:   0%|          | 0/4 [00:00<?, ?it/s]\u001b[A/home/ydoit/AIGC/diffgan/diffgan/lib/python3.10/site-packages/torch/nn/modules/conv.py:306: UserWarning: Plan failed with a cudnnException: CUDNN_BACKEND_EXECUTION_PLAN_DESCRIPTOR: cudnnFinalize Descriptor Failed cudnn_status: CUDNN_STATUS_NOT_SUPPORTED (Triggered internally at ../aten/src/ATen/native/cudnn/Conv_v8.cpp:919.)\n",
      "  return F.conv1d(input, weight, bias, self.stride,\n",
      "sample time step: 100%|██████████| 4/4 [00:00<00:00, 45.13it/s]\n",
      "100%|██████████| 1/1 [00:01<00:00,  1.98s/it]\n",
      "2024-05-15 04:08:53.096388: I tensorflow/core/platform/cpu_feature_guard.cc:210] This TensorFlow binary is optimized to use available CPU instructions in performance-critical operations.\n",
      "To enable the following instructions: AVX2 FMA, in other operations, rebuild TensorFlow with the appropriate compiler flags.\n",
      "2024-05-15 04:08:53.837234: W tensorflow/compiler/tf2tensorrt/utils/py_utils.cc:38] TF-TRT Warning: Could not find TensorRT\n"
     ]
    },
    {
     "name": "stdout",
     "output_type": "stream",
     "text": [
      "\n",
      "==================================== Inference Configuration ====================================\n",
      " ---> Type of Modeling: naive\n",
      " ---> Total Batch Size: 32\n",
      " ---> Path of ckpt: ./output/ckpt/VCTK_naive\n",
      " ---> Path of log: ./output/log/VCTK_naive\n",
      " ---> Path of result: ./output/result/VCTK_naive\n",
      "================================================================================================\n"
     ]
    },
    {
     "name": "stderr",
     "output_type": "stream",
     "text": [
      "/home/ydoit/AIGC/diffgan/diffgan/lib/python3.10/site-packages/torch/nn/utils/weight_norm.py:28: UserWarning: torch.nn.utils.weight_norm is deprecated in favor of torch.nn.utils.parametrizations.weight_norm.\n",
      "  warnings.warn(\"torch.nn.utils.weight_norm is deprecated in favor of torch.nn.utils.parametrizations.weight_norm.\")\n"
     ]
    },
    {
     "name": "stdout",
     "output_type": "stream",
     "text": [
      "Removing weight norm...\n",
      "Raw Text Sequence: It was that kind of match.\n",
      "\n",
      "Phoneme Sequence: {IH0 T W AA1 Z DH AE1 T K AY1 N D AH0 V M AE1 CH sp}\n"
     ]
    },
    {
     "name": "stderr",
     "output_type": "stream",
     "text": [
      "  0%|          | 0/1 [00:00<?, ?it/s]\n",
      "sample time step:   0%|          | 0/4 [00:00<?, ?it/s]\u001b[A/home/ydoit/AIGC/diffgan/diffgan/lib/python3.10/site-packages/torch/nn/modules/conv.py:306: UserWarning: Plan failed with a cudnnException: CUDNN_BACKEND_EXECUTION_PLAN_DESCRIPTOR: cudnnFinalize Descriptor Failed cudnn_status: CUDNN_STATUS_NOT_SUPPORTED (Triggered internally at ../aten/src/ATen/native/cudnn/Conv_v8.cpp:919.)\n",
      "  return F.conv1d(input, weight, bias, self.stride,\n",
      "sample time step: 100%|██████████| 4/4 [00:00<00:00, 46.08it/s]\n",
      "100%|██████████| 1/1 [00:01<00:00,  1.49s/it]\n",
      "2024-05-15 04:09:07.054379: I tensorflow/core/platform/cpu_feature_guard.cc:210] This TensorFlow binary is optimized to use available CPU instructions in performance-critical operations.\n",
      "To enable the following instructions: AVX2 FMA, in other operations, rebuild TensorFlow with the appropriate compiler flags.\n",
      "2024-05-15 04:09:07.807611: W tensorflow/compiler/tf2tensorrt/utils/py_utils.cc:38] TF-TRT Warning: Could not find TensorRT\n"
     ]
    },
    {
     "name": "stdout",
     "output_type": "stream",
     "text": [
      "\n",
      "==================================== Inference Configuration ====================================\n",
      " ---> Type of Modeling: naive\n",
      " ---> Total Batch Size: 32\n",
      " ---> Path of ckpt: ./output/ckpt/VCTK_naive\n",
      " ---> Path of log: ./output/log/VCTK_naive\n",
      " ---> Path of result: ./output/result/VCTK_naive\n",
      "================================================================================================\n"
     ]
    },
    {
     "name": "stderr",
     "output_type": "stream",
     "text": [
      "/home/ydoit/AIGC/diffgan/diffgan/lib/python3.10/site-packages/torch/nn/utils/weight_norm.py:28: UserWarning: torch.nn.utils.weight_norm is deprecated in favor of torch.nn.utils.parametrizations.weight_norm.\n",
      "  warnings.warn(\"torch.nn.utils.weight_norm is deprecated in favor of torch.nn.utils.parametrizations.weight_norm.\")\n"
     ]
    },
    {
     "name": "stdout",
     "output_type": "stream",
     "text": [
      "Removing weight norm...\n",
      "Raw Text Sequence: The website has changed the company.\n",
      "\n",
      "Phoneme Sequence: {DH AH0 W EH1 B S AY2 T HH AE1 Z CH EY1 N JH D DH AH0 K AH1 M P AH0 N IY0 sp}\n"
     ]
    },
    {
     "name": "stderr",
     "output_type": "stream",
     "text": [
      "  0%|          | 0/1 [00:00<?, ?it/s]\n",
      "sample time step: 100%|██████████| 4/4 [00:00<00:00, 52.71it/s]\n",
      "100%|██████████| 1/1 [00:01<00:00,  1.77s/it]\n",
      "2024-05-15 04:09:21.450194: I tensorflow/core/platform/cpu_feature_guard.cc:210] This TensorFlow binary is optimized to use available CPU instructions in performance-critical operations.\n",
      "To enable the following instructions: AVX2 FMA, in other operations, rebuild TensorFlow with the appropriate compiler flags.\n",
      "2024-05-15 04:09:22.206612: W tensorflow/compiler/tf2tensorrt/utils/py_utils.cc:38] TF-TRT Warning: Could not find TensorRT\n"
     ]
    },
    {
     "name": "stdout",
     "output_type": "stream",
     "text": [
      "\n",
      "==================================== Inference Configuration ====================================\n",
      " ---> Type of Modeling: naive\n",
      " ---> Total Batch Size: 32\n",
      " ---> Path of ckpt: ./output/ckpt/VCTK_naive\n",
      " ---> Path of log: ./output/log/VCTK_naive\n",
      " ---> Path of result: ./output/result/VCTK_naive\n",
      "================================================================================================\n"
     ]
    },
    {
     "name": "stderr",
     "output_type": "stream",
     "text": [
      "/home/ydoit/AIGC/diffgan/diffgan/lib/python3.10/site-packages/torch/nn/utils/weight_norm.py:28: UserWarning: torch.nn.utils.weight_norm is deprecated in favor of torch.nn.utils.parametrizations.weight_norm.\n",
      "  warnings.warn(\"torch.nn.utils.weight_norm is deprecated in favor of torch.nn.utils.parametrizations.weight_norm.\")\n"
     ]
    },
    {
     "name": "stdout",
     "output_type": "stream",
     "text": [
      "Removing weight norm...\n",
      "Raw Text Sequence: It's so awful.\n",
      "\n",
      "Phoneme Sequence: {IH0 T S S OW1 AA1 F AH0 L sp}\n"
     ]
    },
    {
     "name": "stderr",
     "output_type": "stream",
     "text": [
      "  0%|          | 0/1 [00:00<?, ?it/s]\n",
      "sample time step:   0%|          | 0/4 [00:00<?, ?it/s]\u001b[A\n",
      "sample time step: 100%|██████████| 4/4 [00:00<00:00,  9.14it/s]\u001b[A\n",
      "100%|██████████| 1/1 [00:01<00:00,  1.71s/it]\n",
      "2024-05-15 04:09:35.190415: I tensorflow/core/platform/cpu_feature_guard.cc:210] This TensorFlow binary is optimized to use available CPU instructions in performance-critical operations.\n",
      "To enable the following instructions: AVX2 FMA, in other operations, rebuild TensorFlow with the appropriate compiler flags.\n",
      "2024-05-15 04:09:36.001721: W tensorflow/compiler/tf2tensorrt/utils/py_utils.cc:38] TF-TRT Warning: Could not find TensorRT\n"
     ]
    },
    {
     "name": "stdout",
     "output_type": "stream",
     "text": [
      "\n",
      "==================================== Inference Configuration ====================================\n",
      " ---> Type of Modeling: naive\n",
      " ---> Total Batch Size: 32\n",
      " ---> Path of ckpt: ./output/ckpt/VCTK_naive\n",
      " ---> Path of log: ./output/log/VCTK_naive\n",
      " ---> Path of result: ./output/result/VCTK_naive\n",
      "================================================================================================\n"
     ]
    },
    {
     "name": "stderr",
     "output_type": "stream",
     "text": [
      "/home/ydoit/AIGC/diffgan/diffgan/lib/python3.10/site-packages/torch/nn/utils/weight_norm.py:28: UserWarning: torch.nn.utils.weight_norm is deprecated in favor of torch.nn.utils.parametrizations.weight_norm.\n",
      "  warnings.warn(\"torch.nn.utils.weight_norm is deprecated in favor of torch.nn.utils.parametrizations.weight_norm.\")\n"
     ]
    },
    {
     "name": "stdout",
     "output_type": "stream",
     "text": [
      "Removing weight norm...\n",
      "Raw Text Sequence: There were no grounds for his action.\n",
      "\n",
      "Phoneme Sequence: {DH EH1 R W ER0 N OW1 G R AW1 N D Z F AO1 R HH IH0 Z AE1 K SH AH0 N sp}\n"
     ]
    },
    {
     "name": "stderr",
     "output_type": "stream",
     "text": [
      "  0%|          | 0/1 [00:00<?, ?it/s]\n",
      "sample time step:   0%|          | 0/4 [00:00<?, ?it/s]\u001b[A/home/ydoit/AIGC/diffgan/diffgan/lib/python3.10/site-packages/torch/nn/modules/conv.py:306: UserWarning: Plan failed with a cudnnException: CUDNN_BACKEND_EXECUTION_PLAN_DESCRIPTOR: cudnnFinalize Descriptor Failed cudnn_status: CUDNN_STATUS_NOT_SUPPORTED (Triggered internally at ../aten/src/ATen/native/cudnn/Conv_v8.cpp:919.)\n",
      "  return F.conv1d(input, weight, bias, self.stride,\n",
      "\n",
      "sample time step: 100%|██████████| 4/4 [00:00<00:00,  7.22it/s]\u001b[A\n",
      "100%|██████████| 1/1 [00:02<00:00,  2.34s/it]\n",
      "2024-05-15 04:09:48.629087: I tensorflow/core/platform/cpu_feature_guard.cc:210] This TensorFlow binary is optimized to use available CPU instructions in performance-critical operations.\n",
      "To enable the following instructions: AVX2 FMA, in other operations, rebuild TensorFlow with the appropriate compiler flags.\n",
      "2024-05-15 04:09:49.362797: W tensorflow/compiler/tf2tensorrt/utils/py_utils.cc:38] TF-TRT Warning: Could not find TensorRT\n"
     ]
    },
    {
     "name": "stdout",
     "output_type": "stream",
     "text": [
      "\n",
      "==================================== Inference Configuration ====================================\n",
      " ---> Type of Modeling: naive\n",
      " ---> Total Batch Size: 32\n",
      " ---> Path of ckpt: ./output/ckpt/VCTK_naive\n",
      " ---> Path of log: ./output/log/VCTK_naive\n",
      " ---> Path of result: ./output/result/VCTK_naive\n",
      "================================================================================================\n"
     ]
    },
    {
     "name": "stderr",
     "output_type": "stream",
     "text": [
      "/home/ydoit/AIGC/diffgan/diffgan/lib/python3.10/site-packages/torch/nn/utils/weight_norm.py:28: UserWarning: torch.nn.utils.weight_norm is deprecated in favor of torch.nn.utils.parametrizations.weight_norm.\n",
      "  warnings.warn(\"torch.nn.utils.weight_norm is deprecated in favor of torch.nn.utils.parametrizations.weight_norm.\")\n"
     ]
    },
    {
     "name": "stdout",
     "output_type": "stream",
     "text": [
      "Removing weight norm...\n",
      "Raw Text Sequence: It is something that we would support.\n",
      "\n",
      "Phoneme Sequence: {IH0 T IH0 Z S AH1 M TH IH0 NG DH AE1 T W IY1 W UH1 D S AH0 P AO1 R T sp}\n"
     ]
    },
    {
     "name": "stderr",
     "output_type": "stream",
     "text": [
      "  0%|          | 0/1 [00:00<?, ?it/s]\n",
      "sample time step:   0%|          | 0/4 [00:00<?, ?it/s]\u001b[A/home/ydoit/AIGC/diffgan/diffgan/lib/python3.10/site-packages/torch/nn/modules/conv.py:306: UserWarning: Plan failed with a cudnnException: CUDNN_BACKEND_EXECUTION_PLAN_DESCRIPTOR: cudnnFinalize Descriptor Failed cudnn_status: CUDNN_STATUS_NOT_SUPPORTED (Triggered internally at ../aten/src/ATen/native/cudnn/Conv_v8.cpp:919.)\n",
      "  return F.conv1d(input, weight, bias, self.stride,\n",
      "\n",
      "sample time step: 100%|██████████| 4/4 [00:00<00:00,  7.51it/s]\u001b[A\n",
      "100%|██████████| 1/1 [00:02<00:00,  2.24s/it]\n",
      "2024-05-15 04:10:04.277315: I tensorflow/core/platform/cpu_feature_guard.cc:210] This TensorFlow binary is optimized to use available CPU instructions in performance-critical operations.\n",
      "To enable the following instructions: AVX2 FMA, in other operations, rebuild TensorFlow with the appropriate compiler flags.\n",
      "2024-05-15 04:10:04.992966: W tensorflow/compiler/tf2tensorrt/utils/py_utils.cc:38] TF-TRT Warning: Could not find TensorRT\n"
     ]
    },
    {
     "name": "stdout",
     "output_type": "stream",
     "text": [
      "\n",
      "==================================== Inference Configuration ====================================\n",
      " ---> Type of Modeling: naive\n",
      " ---> Total Batch Size: 32\n",
      " ---> Path of ckpt: ./output/ckpt/VCTK_naive\n",
      " ---> Path of log: ./output/log/VCTK_naive\n",
      " ---> Path of result: ./output/result/VCTK_naive\n",
      "================================================================================================\n"
     ]
    },
    {
     "name": "stderr",
     "output_type": "stream",
     "text": [
      "/home/ydoit/AIGC/diffgan/diffgan/lib/python3.10/site-packages/torch/nn/utils/weight_norm.py:28: UserWarning: torch.nn.utils.weight_norm is deprecated in favor of torch.nn.utils.parametrizations.weight_norm.\n",
      "  warnings.warn(\"torch.nn.utils.weight_norm is deprecated in favor of torch.nn.utils.parametrizations.weight_norm.\")\n"
     ]
    },
    {
     "name": "stdout",
     "output_type": "stream",
     "text": [
      "Removing weight norm...\n",
      "Raw Text Sequence: We can hardly talk about it.\n",
      "\n",
      "Phoneme Sequence: {W IY1 K AE1 N HH AA1 R D L IY0 T AO1 K AH0 B AW1 T IH0 T sp}\n"
     ]
    },
    {
     "name": "stderr",
     "output_type": "stream",
     "text": [
      "  0%|          | 0/1 [00:00<?, ?it/s]\n",
      "sample time step:   0%|          | 0/4 [00:00<?, ?it/s]\u001b[A/home/ydoit/AIGC/diffgan/diffgan/lib/python3.10/site-packages/torch/nn/modules/conv.py:306: UserWarning: Plan failed with a cudnnException: CUDNN_BACKEND_EXECUTION_PLAN_DESCRIPTOR: cudnnFinalize Descriptor Failed cudnn_status: CUDNN_STATUS_NOT_SUPPORTED (Triggered internally at ../aten/src/ATen/native/cudnn/Conv_v8.cpp:919.)\n",
      "  return F.conv1d(input, weight, bias, self.stride,\n",
      "\n",
      "sample time step: 100%|██████████| 4/4 [00:00<00:00,  8.66it/s]\u001b[A\n",
      "100%|██████████| 1/1 [00:01<00:00,  1.63s/it]\n",
      "2024-05-15 04:10:17.069994: I tensorflow/core/platform/cpu_feature_guard.cc:210] This TensorFlow binary is optimized to use available CPU instructions in performance-critical operations.\n",
      "To enable the following instructions: AVX2 FMA, in other operations, rebuild TensorFlow with the appropriate compiler flags.\n",
      "2024-05-15 04:10:17.802308: W tensorflow/compiler/tf2tensorrt/utils/py_utils.cc:38] TF-TRT Warning: Could not find TensorRT\n"
     ]
    },
    {
     "name": "stdout",
     "output_type": "stream",
     "text": [
      "\n",
      "==================================== Inference Configuration ====================================\n",
      " ---> Type of Modeling: naive\n",
      " ---> Total Batch Size: 32\n",
      " ---> Path of ckpt: ./output/ckpt/VCTK_naive\n",
      " ---> Path of log: ./output/log/VCTK_naive\n",
      " ---> Path of result: ./output/result/VCTK_naive\n",
      "================================================================================================\n"
     ]
    },
    {
     "name": "stderr",
     "output_type": "stream",
     "text": [
      "/home/ydoit/AIGC/diffgan/diffgan/lib/python3.10/site-packages/torch/nn/utils/weight_norm.py:28: UserWarning: torch.nn.utils.weight_norm is deprecated in favor of torch.nn.utils.parametrizations.weight_norm.\n",
      "  warnings.warn(\"torch.nn.utils.weight_norm is deprecated in favor of torch.nn.utils.parametrizations.weight_norm.\")\n"
     ]
    },
    {
     "name": "stdout",
     "output_type": "stream",
     "text": [
      "Removing weight norm...\n",
      "Raw Text Sequence: This is a major step forward.\n",
      "\n",
      "Phoneme Sequence: {DH IH0 S IH0 Z AH0 M EY1 JH ER0 S T EH1 P F AO1 R W ER0 D sp}\n"
     ]
    },
    {
     "name": "stderr",
     "output_type": "stream",
     "text": [
      "  0%|          | 0/1 [00:00<?, ?it/s]\n",
      "sample time step:   0%|          | 0/4 [00:00<?, ?it/s]\u001b[A/home/ydoit/AIGC/diffgan/diffgan/lib/python3.10/site-packages/torch/nn/modules/conv.py:306: UserWarning: Plan failed with a cudnnException: CUDNN_BACKEND_EXECUTION_PLAN_DESCRIPTOR: cudnnFinalize Descriptor Failed cudnn_status: CUDNN_STATUS_NOT_SUPPORTED (Triggered internally at ../aten/src/ATen/native/cudnn/Conv_v8.cpp:919.)\n",
      "  return F.conv1d(input, weight, bias, self.stride,\n",
      "\n",
      "sample time step: 100%|██████████| 4/4 [00:00<00:00,  8.03it/s]\u001b[A\n",
      "100%|██████████| 1/1 [00:01<00:00,  1.87s/it]\n",
      "2024-05-15 04:10:30.226604: I tensorflow/core/platform/cpu_feature_guard.cc:210] This TensorFlow binary is optimized to use available CPU instructions in performance-critical operations.\n",
      "To enable the following instructions: AVX2 FMA, in other operations, rebuild TensorFlow with the appropriate compiler flags.\n",
      "2024-05-15 04:10:30.957975: W tensorflow/compiler/tf2tensorrt/utils/py_utils.cc:38] TF-TRT Warning: Could not find TensorRT\n"
     ]
    },
    {
     "name": "stdout",
     "output_type": "stream",
     "text": [
      "\n",
      "==================================== Inference Configuration ====================================\n",
      " ---> Type of Modeling: naive\n",
      " ---> Total Batch Size: 32\n",
      " ---> Path of ckpt: ./output/ckpt/VCTK_naive\n",
      " ---> Path of log: ./output/log/VCTK_naive\n",
      " ---> Path of result: ./output/result/VCTK_naive\n",
      "================================================================================================\n"
     ]
    },
    {
     "name": "stderr",
     "output_type": "stream",
     "text": [
      "/home/ydoit/AIGC/diffgan/diffgan/lib/python3.10/site-packages/torch/nn/utils/weight_norm.py:28: UserWarning: torch.nn.utils.weight_norm is deprecated in favor of torch.nn.utils.parametrizations.weight_norm.\n",
      "  warnings.warn(\"torch.nn.utils.weight_norm is deprecated in favor of torch.nn.utils.parametrizations.weight_norm.\")\n"
     ]
    },
    {
     "name": "stdout",
     "output_type": "stream",
     "text": [
      "Removing weight norm...\n",
      "Raw Text Sequence: I only found out about it this morning.\n",
      "\n",
      "Phoneme Sequence: {AY1 OW1 N L IY0 F AW1 N D AW1 T AH0 B AW1 T IH0 T DH IH0 S M AO1 R N IH0 NG sp}\n"
     ]
    },
    {
     "name": "stderr",
     "output_type": "stream",
     "text": [
      "  0%|          | 0/1 [00:00<?, ?it/s]\n",
      "sample time step:   0%|          | 0/4 [00:00<?, ?it/s]\u001b[A/home/ydoit/AIGC/diffgan/diffgan/lib/python3.10/site-packages/torch/nn/modules/conv.py:306: UserWarning: Plan failed with a cudnnException: CUDNN_BACKEND_EXECUTION_PLAN_DESCRIPTOR: cudnnFinalize Descriptor Failed cudnn_status: CUDNN_STATUS_NOT_SUPPORTED (Triggered internally at ../aten/src/ATen/native/cudnn/Conv_v8.cpp:919.)\n",
      "  return F.conv1d(input, weight, bias, self.stride,\n",
      "\n",
      "sample time step: 100%|██████████| 4/4 [00:00<00:00,  8.20it/s]\u001b[A\n",
      "100%|██████████| 1/1 [00:01<00:00,  1.81s/it]\n",
      "2024-05-15 04:10:43.362935: I tensorflow/core/platform/cpu_feature_guard.cc:210] This TensorFlow binary is optimized to use available CPU instructions in performance-critical operations.\n",
      "To enable the following instructions: AVX2 FMA, in other operations, rebuild TensorFlow with the appropriate compiler flags.\n",
      "2024-05-15 04:10:44.096255: W tensorflow/compiler/tf2tensorrt/utils/py_utils.cc:38] TF-TRT Warning: Could not find TensorRT\n"
     ]
    },
    {
     "name": "stdout",
     "output_type": "stream",
     "text": [
      "\n",
      "==================================== Inference Configuration ====================================\n",
      " ---> Type of Modeling: naive\n",
      " ---> Total Batch Size: 32\n",
      " ---> Path of ckpt: ./output/ckpt/VCTK_naive\n",
      " ---> Path of log: ./output/log/VCTK_naive\n",
      " ---> Path of result: ./output/result/VCTK_naive\n",
      "================================================================================================\n"
     ]
    },
    {
     "name": "stderr",
     "output_type": "stream",
     "text": [
      "/home/ydoit/AIGC/diffgan/diffgan/lib/python3.10/site-packages/torch/nn/utils/weight_norm.py:28: UserWarning: torch.nn.utils.weight_norm is deprecated in favor of torch.nn.utils.parametrizations.weight_norm.\n",
      "  warnings.warn(\"torch.nn.utils.weight_norm is deprecated in favor of torch.nn.utils.parametrizations.weight_norm.\")\n"
     ]
    },
    {
     "name": "stdout",
     "output_type": "stream",
     "text": [
      "Removing weight norm...\n",
      "Raw Text Sequence: They haven't got the uniform.\n",
      "\n",
      "Phoneme Sequence: {DH EY1 HH AE1 V AH0 N G AA1 T DH AH0 Y UW1 N AH0 F AO2 R M sp}\n"
     ]
    },
    {
     "name": "stderr",
     "output_type": "stream",
     "text": [
      "  0%|          | 0/1 [00:00<?, ?it/s]\n",
      "sample time step:   0%|          | 0/4 [00:00<?, ?it/s]\u001b[A/home/ydoit/AIGC/diffgan/diffgan/lib/python3.10/site-packages/torch/nn/modules/conv.py:306: UserWarning: Plan failed with a cudnnException: CUDNN_BACKEND_EXECUTION_PLAN_DESCRIPTOR: cudnnFinalize Descriptor Failed cudnn_status: CUDNN_STATUS_NOT_SUPPORTED (Triggered internally at ../aten/src/ATen/native/cudnn/Conv_v8.cpp:919.)\n",
      "  return F.conv1d(input, weight, bias, self.stride,\n",
      "\n",
      "sample time step: 100%|██████████| 4/4 [00:00<00:00, 38.11it/s]\u001b[A\n",
      "100%|██████████| 1/1 [00:01<00:00,  1.72s/it]\n",
      "2024-05-15 04:10:58.307710: I tensorflow/core/platform/cpu_feature_guard.cc:210] This TensorFlow binary is optimized to use available CPU instructions in performance-critical operations.\n",
      "To enable the following instructions: AVX2 FMA, in other operations, rebuild TensorFlow with the appropriate compiler flags.\n",
      "2024-05-15 04:10:59.035643: W tensorflow/compiler/tf2tensorrt/utils/py_utils.cc:38] TF-TRT Warning: Could not find TensorRT\n"
     ]
    },
    {
     "name": "stdout",
     "output_type": "stream",
     "text": [
      "\n",
      "==================================== Inference Configuration ====================================\n",
      " ---> Type of Modeling: naive\n",
      " ---> Total Batch Size: 32\n",
      " ---> Path of ckpt: ./output/ckpt/VCTK_naive\n",
      " ---> Path of log: ./output/log/VCTK_naive\n",
      " ---> Path of result: ./output/result/VCTK_naive\n",
      "================================================================================================\n"
     ]
    },
    {
     "name": "stderr",
     "output_type": "stream",
     "text": [
      "/home/ydoit/AIGC/diffgan/diffgan/lib/python3.10/site-packages/torch/nn/utils/weight_norm.py:28: UserWarning: torch.nn.utils.weight_norm is deprecated in favor of torch.nn.utils.parametrizations.weight_norm.\n",
      "  warnings.warn(\"torch.nn.utils.weight_norm is deprecated in favor of torch.nn.utils.parametrizations.weight_norm.\")\n"
     ]
    },
    {
     "name": "stdout",
     "output_type": "stream",
     "text": [
      "Removing weight norm...\n",
      "Raw Text Sequence: I am getting long in the tooth.\n",
      "\n",
      "Phoneme Sequence: {AY1 AE1 M G EH1 T IH0 NG L AO1 NG IH0 N DH AH0 T UW1 TH sp}\n"
     ]
    },
    {
     "name": "stderr",
     "output_type": "stream",
     "text": [
      "  0%|          | 0/1 [00:00<?, ?it/s]\n",
      "sample time step: 100%|██████████| 4/4 [00:00<00:00, 50.44it/s]\n",
      "100%|██████████| 1/1 [00:01<00:00,  1.93s/it]\n",
      "2024-05-15 04:11:13.268775: I tensorflow/core/platform/cpu_feature_guard.cc:210] This TensorFlow binary is optimized to use available CPU instructions in performance-critical operations.\n",
      "To enable the following instructions: AVX2 FMA, in other operations, rebuild TensorFlow with the appropriate compiler flags.\n",
      "2024-05-15 04:11:13.999794: W tensorflow/compiler/tf2tensorrt/utils/py_utils.cc:38] TF-TRT Warning: Could not find TensorRT\n"
     ]
    },
    {
     "name": "stdout",
     "output_type": "stream",
     "text": [
      "\n",
      "==================================== Inference Configuration ====================================\n",
      " ---> Type of Modeling: naive\n",
      " ---> Total Batch Size: 32\n",
      " ---> Path of ckpt: ./output/ckpt/VCTK_naive\n",
      " ---> Path of log: ./output/log/VCTK_naive\n",
      " ---> Path of result: ./output/result/VCTK_naive\n",
      "================================================================================================\n"
     ]
    },
    {
     "name": "stderr",
     "output_type": "stream",
     "text": [
      "/home/ydoit/AIGC/diffgan/diffgan/lib/python3.10/site-packages/torch/nn/utils/weight_norm.py:28: UserWarning: torch.nn.utils.weight_norm is deprecated in favor of torch.nn.utils.parametrizations.weight_norm.\n",
      "  warnings.warn(\"torch.nn.utils.weight_norm is deprecated in favor of torch.nn.utils.parametrizations.weight_norm.\")\n"
     ]
    },
    {
     "name": "stdout",
     "output_type": "stream",
     "text": [
      "Removing weight norm...\n",
      "Raw Text Sequence: You should be there with six different characters.\n",
      "\n",
      "Phoneme Sequence: {Y UW1 SH UH1 D B IY0 DH EH1 R W IH0 DH S IH1 K S D IH1 F ER0 AH0 N T K AE1 R IH0 K T ER0 Z sp}\n"
     ]
    },
    {
     "name": "stderr",
     "output_type": "stream",
     "text": [
      "  0%|          | 0/1 [00:00<?, ?it/s]\n",
      "sample time step:   0%|          | 0/4 [00:00<?, ?it/s]\u001b[A\n",
      "sample time step: 100%|██████████| 4/4 [00:00<00:00, 10.34it/s]\u001b[A\n",
      "100%|██████████| 1/1 [00:01<00:00,  1.69s/it]\n",
      "2024-05-15 04:11:26.239808: I tensorflow/core/platform/cpu_feature_guard.cc:210] This TensorFlow binary is optimized to use available CPU instructions in performance-critical operations.\n",
      "To enable the following instructions: AVX2 FMA, in other operations, rebuild TensorFlow with the appropriate compiler flags.\n",
      "2024-05-15 04:11:26.949304: W tensorflow/compiler/tf2tensorrt/utils/py_utils.cc:38] TF-TRT Warning: Could not find TensorRT\n"
     ]
    },
    {
     "name": "stdout",
     "output_type": "stream",
     "text": [
      "\n",
      "==================================== Inference Configuration ====================================\n",
      " ---> Type of Modeling: naive\n",
      " ---> Total Batch Size: 32\n",
      " ---> Path of ckpt: ./output/ckpt/VCTK_naive\n",
      " ---> Path of log: ./output/log/VCTK_naive\n",
      " ---> Path of result: ./output/result/VCTK_naive\n",
      "================================================================================================\n"
     ]
    },
    {
     "name": "stderr",
     "output_type": "stream",
     "text": [
      "/home/ydoit/AIGC/diffgan/diffgan/lib/python3.10/site-packages/torch/nn/utils/weight_norm.py:28: UserWarning: torch.nn.utils.weight_norm is deprecated in favor of torch.nn.utils.parametrizations.weight_norm.\n",
      "  warnings.warn(\"torch.nn.utils.weight_norm is deprecated in favor of torch.nn.utils.parametrizations.weight_norm.\")\n"
     ]
    },
    {
     "name": "stdout",
     "output_type": "stream",
     "text": [
      "Removing weight norm...\n",
      "Raw Text Sequence: The Scottish management team will settle for that.\n",
      "\n",
      "Phoneme Sequence: {DH AH0 S K AA1 T IH0 SH M AE1 N AH0 JH M AH0 N T T IY1 M W AH0 L S EH1 T AH0 L F AO1 R DH AE1 T sp}\n"
     ]
    },
    {
     "name": "stderr",
     "output_type": "stream",
     "text": [
      "  0%|          | 0/1 [00:00<?, ?it/s]\n",
      "sample time step:   0%|          | 0/4 [00:00<?, ?it/s]\u001b[A\n",
      "sample time step: 100%|██████████| 4/4 [00:00<00:00,  9.13it/s]\u001b[A\n",
      "100%|██████████| 1/1 [00:01<00:00,  1.95s/it]\n",
      "2024-05-15 04:11:39.481857: I tensorflow/core/platform/cpu_feature_guard.cc:210] This TensorFlow binary is optimized to use available CPU instructions in performance-critical operations.\n",
      "To enable the following instructions: AVX2 FMA, in other operations, rebuild TensorFlow with the appropriate compiler flags.\n",
      "2024-05-15 04:11:40.245131: W tensorflow/compiler/tf2tensorrt/utils/py_utils.cc:38] TF-TRT Warning: Could not find TensorRT\n"
     ]
    },
    {
     "name": "stdout",
     "output_type": "stream",
     "text": [
      "\n",
      "==================================== Inference Configuration ====================================\n",
      " ---> Type of Modeling: naive\n",
      " ---> Total Batch Size: 32\n",
      " ---> Path of ckpt: ./output/ckpt/VCTK_naive\n",
      " ---> Path of log: ./output/log/VCTK_naive\n",
      " ---> Path of result: ./output/result/VCTK_naive\n",
      "================================================================================================\n"
     ]
    },
    {
     "name": "stderr",
     "output_type": "stream",
     "text": [
      "/home/ydoit/AIGC/diffgan/diffgan/lib/python3.10/site-packages/torch/nn/utils/weight_norm.py:28: UserWarning: torch.nn.utils.weight_norm is deprecated in favor of torch.nn.utils.parametrizations.weight_norm.\n",
      "  warnings.warn(\"torch.nn.utils.weight_norm is deprecated in favor of torch.nn.utils.parametrizations.weight_norm.\")\n"
     ]
    },
    {
     "name": "stdout",
     "output_type": "stream",
     "text": [
      "Removing weight norm...\n",
      "Raw Text Sequence: Everyone has to prove a point when they cross that white line.\n",
      "\n",
      "Phoneme Sequence: {EH1 V R IY0 W AH2 N HH AE1 Z T AH0 P R UW1 V AH0 P OY1 N T HH W EH1 N DH EY1 K R AO1 S DH AE1 T HH W AY1 T L AY1 N sp}\n"
     ]
    },
    {
     "name": "stderr",
     "output_type": "stream",
     "text": [
      "  0%|          | 0/1 [00:00<?, ?it/s]\n",
      "sample time step:   0%|          | 0/4 [00:00<?, ?it/s]\u001b[A\n",
      "sample time step: 100%|██████████| 4/4 [00:00<00:00,  9.37it/s]\u001b[A\n",
      "100%|██████████| 1/1 [00:01<00:00,  1.70s/it]\n",
      "2024-05-15 04:11:52.457791: I tensorflow/core/platform/cpu_feature_guard.cc:210] This TensorFlow binary is optimized to use available CPU instructions in performance-critical operations.\n",
      "To enable the following instructions: AVX2 FMA, in other operations, rebuild TensorFlow with the appropriate compiler flags.\n",
      "2024-05-15 04:11:53.238746: W tensorflow/compiler/tf2tensorrt/utils/py_utils.cc:38] TF-TRT Warning: Could not find TensorRT\n"
     ]
    },
    {
     "name": "stdout",
     "output_type": "stream",
     "text": [
      "\n",
      "==================================== Inference Configuration ====================================\n",
      " ---> Type of Modeling: naive\n",
      " ---> Total Batch Size: 32\n",
      " ---> Path of ckpt: ./output/ckpt/VCTK_naive\n",
      " ---> Path of log: ./output/log/VCTK_naive\n",
      " ---> Path of result: ./output/result/VCTK_naive\n",
      "================================================================================================\n"
     ]
    },
    {
     "name": "stderr",
     "output_type": "stream",
     "text": [
      "/home/ydoit/AIGC/diffgan/diffgan/lib/python3.10/site-packages/torch/nn/utils/weight_norm.py:28: UserWarning: torch.nn.utils.weight_norm is deprecated in favor of torch.nn.utils.parametrizations.weight_norm.\n",
      "  warnings.warn(\"torch.nn.utils.weight_norm is deprecated in favor of torch.nn.utils.parametrizations.weight_norm.\")\n"
     ]
    },
    {
     "name": "stdout",
     "output_type": "stream",
     "text": [
      "Removing weight norm...\n",
      "Raw Text Sequence: The pilot was making a visual approach.\n",
      "\n",
      "Phoneme Sequence: {DH AH0 P AY1 L AH0 T W AA1 Z M EY1 K IH0 NG AH0 V IH1 ZH AH0 W AH0 L AH0 P R OW1 CH sp}\n"
     ]
    },
    {
     "name": "stderr",
     "output_type": "stream",
     "text": [
      "  0%|          | 0/1 [00:00<?, ?it/s]\n",
      "sample time step:   0%|          | 0/4 [00:00<?, ?it/s]\u001b[A\n",
      "sample time step: 100%|██████████| 4/4 [00:00<00:00,  8.64it/s]\u001b[A\n",
      "100%|██████████| 1/1 [00:01<00:00,  1.71s/it]\n",
      "2024-05-15 04:12:05.428224: I tensorflow/core/platform/cpu_feature_guard.cc:210] This TensorFlow binary is optimized to use available CPU instructions in performance-critical operations.\n",
      "To enable the following instructions: AVX2 FMA, in other operations, rebuild TensorFlow with the appropriate compiler flags.\n",
      "2024-05-15 04:12:06.144143: W tensorflow/compiler/tf2tensorrt/utils/py_utils.cc:38] TF-TRT Warning: Could not find TensorRT\n"
     ]
    },
    {
     "name": "stdout",
     "output_type": "stream",
     "text": [
      "\n",
      "==================================== Inference Configuration ====================================\n",
      " ---> Type of Modeling: naive\n",
      " ---> Total Batch Size: 32\n",
      " ---> Path of ckpt: ./output/ckpt/VCTK_naive\n",
      " ---> Path of log: ./output/log/VCTK_naive\n",
      " ---> Path of result: ./output/result/VCTK_naive\n",
      "================================================================================================\n"
     ]
    },
    {
     "name": "stderr",
     "output_type": "stream",
     "text": [
      "/home/ydoit/AIGC/diffgan/diffgan/lib/python3.10/site-packages/torch/nn/utils/weight_norm.py:28: UserWarning: torch.nn.utils.weight_norm is deprecated in favor of torch.nn.utils.parametrizations.weight_norm.\n",
      "  warnings.warn(\"torch.nn.utils.weight_norm is deprecated in favor of torch.nn.utils.parametrizations.weight_norm.\")\n"
     ]
    },
    {
     "name": "stdout",
     "output_type": "stream",
     "text": [
      "Removing weight norm...\n",
      "Raw Text Sequence: Time is now very short.\n",
      "\n",
      "Phoneme Sequence: {T AY1 M IH0 Z N AW1 V EH1 R IY0 SH AO1 R T sp}\n"
     ]
    },
    {
     "name": "stderr",
     "output_type": "stream",
     "text": [
      "  0%|          | 0/1 [00:00<?, ?it/s]\n",
      "sample time step:   0%|          | 0/4 [00:00<?, ?it/s]\u001b[A/home/ydoit/AIGC/diffgan/diffgan/lib/python3.10/site-packages/torch/nn/modules/conv.py:306: UserWarning: Plan failed with a cudnnException: CUDNN_BACKEND_EXECUTION_PLAN_DESCRIPTOR: cudnnFinalize Descriptor Failed cudnn_status: CUDNN_STATUS_NOT_SUPPORTED (Triggered internally at ../aten/src/ATen/native/cudnn/Conv_v8.cpp:919.)\n",
      "  return F.conv1d(input, weight, bias, self.stride,\n",
      "\n",
      "sample time step: 100%|██████████| 4/4 [00:00<00:00,  9.09it/s]\u001b[A\n",
      "100%|██████████| 1/1 [00:01<00:00,  1.82s/it]\n",
      "2024-05-15 04:12:18.401329: I tensorflow/core/platform/cpu_feature_guard.cc:210] This TensorFlow binary is optimized to use available CPU instructions in performance-critical operations.\n",
      "To enable the following instructions: AVX2 FMA, in other operations, rebuild TensorFlow with the appropriate compiler flags.\n",
      "2024-05-15 04:12:19.155164: W tensorflow/compiler/tf2tensorrt/utils/py_utils.cc:38] TF-TRT Warning: Could not find TensorRT\n"
     ]
    },
    {
     "name": "stdout",
     "output_type": "stream",
     "text": [
      "\n",
      "==================================== Inference Configuration ====================================\n",
      " ---> Type of Modeling: naive\n",
      " ---> Total Batch Size: 32\n",
      " ---> Path of ckpt: ./output/ckpt/VCTK_naive\n",
      " ---> Path of log: ./output/log/VCTK_naive\n",
      " ---> Path of result: ./output/result/VCTK_naive\n",
      "================================================================================================\n"
     ]
    },
    {
     "name": "stderr",
     "output_type": "stream",
     "text": [
      "/home/ydoit/AIGC/diffgan/diffgan/lib/python3.10/site-packages/torch/nn/utils/weight_norm.py:28: UserWarning: torch.nn.utils.weight_norm is deprecated in favor of torch.nn.utils.parametrizations.weight_norm.\n",
      "  warnings.warn(\"torch.nn.utils.weight_norm is deprecated in favor of torch.nn.utils.parametrizations.weight_norm.\")\n"
     ]
    },
    {
     "name": "stdout",
     "output_type": "stream",
     "text": [
      "Removing weight norm...\n",
      "Raw Text Sequence: We are taking advice on this.\n",
      "\n",
      "Phoneme Sequence: {W IY1 AA1 R T EY1 K IH0 NG AE0 D V AY1 S AA1 N DH IH0 S sp}\n"
     ]
    },
    {
     "name": "stderr",
     "output_type": "stream",
     "text": [
      "  0%|          | 0/1 [00:00<?, ?it/s]\n",
      "sample time step:   0%|          | 0/4 [00:00<?, ?it/s]\u001b[A/home/ydoit/AIGC/diffgan/diffgan/lib/python3.10/site-packages/torch/nn/modules/conv.py:306: UserWarning: Plan failed with a cudnnException: CUDNN_BACKEND_EXECUTION_PLAN_DESCRIPTOR: cudnnFinalize Descriptor Failed cudnn_status: CUDNN_STATUS_NOT_SUPPORTED (Triggered internally at ../aten/src/ATen/native/cudnn/Conv_v8.cpp:919.)\n",
      "  return F.conv1d(input, weight, bias, self.stride,\n",
      "\n",
      "sample time step: 100%|██████████| 4/4 [00:00<00:00,  9.80it/s]\u001b[A\n",
      "100%|██████████| 1/1 [00:01<00:00,  1.60s/it]\n",
      "2024-05-15 04:12:32.160032: I tensorflow/core/platform/cpu_feature_guard.cc:210] This TensorFlow binary is optimized to use available CPU instructions in performance-critical operations.\n",
      "To enable the following instructions: AVX2 FMA, in other operations, rebuild TensorFlow with the appropriate compiler flags.\n",
      "2024-05-15 04:12:32.922839: W tensorflow/compiler/tf2tensorrt/utils/py_utils.cc:38] TF-TRT Warning: Could not find TensorRT\n"
     ]
    },
    {
     "name": "stdout",
     "output_type": "stream",
     "text": [
      "\n",
      "==================================== Inference Configuration ====================================\n",
      " ---> Type of Modeling: naive\n",
      " ---> Total Batch Size: 32\n",
      " ---> Path of ckpt: ./output/ckpt/VCTK_naive\n",
      " ---> Path of log: ./output/log/VCTK_naive\n",
      " ---> Path of result: ./output/result/VCTK_naive\n",
      "================================================================================================\n"
     ]
    },
    {
     "name": "stderr",
     "output_type": "stream",
     "text": [
      "/home/ydoit/AIGC/diffgan/diffgan/lib/python3.10/site-packages/torch/nn/utils/weight_norm.py:28: UserWarning: torch.nn.utils.weight_norm is deprecated in favor of torch.nn.utils.parametrizations.weight_norm.\n",
      "  warnings.warn(\"torch.nn.utils.weight_norm is deprecated in favor of torch.nn.utils.parametrizations.weight_norm.\")\n"
     ]
    },
    {
     "name": "stdout",
     "output_type": "stream",
     "text": [
      "Removing weight norm...\n",
      "Raw Text Sequence: We wish to win, but not at any price.\n",
      "\n",
      "Phoneme Sequence: {W IY1 W IH1 SH T AH0 W IH1 N sp B AH1 T N AA1 T AE1 T EH1 N IY0 P R AY1 S sp}\n"
     ]
    },
    {
     "name": "stderr",
     "output_type": "stream",
     "text": [
      "  0%|          | 0/1 [00:00<?, ?it/s]\n",
      "sample time step: 100%|██████████| 4/4 [00:00<00:00, 46.25it/s]\n",
      "100%|██████████| 1/1 [00:01<00:00,  1.94s/it]\n",
      "2024-05-15 04:12:44.602162: I tensorflow/core/platform/cpu_feature_guard.cc:210] This TensorFlow binary is optimized to use available CPU instructions in performance-critical operations.\n",
      "To enable the following instructions: AVX2 FMA, in other operations, rebuild TensorFlow with the appropriate compiler flags.\n",
      "2024-05-15 04:12:45.390051: W tensorflow/compiler/tf2tensorrt/utils/py_utils.cc:38] TF-TRT Warning: Could not find TensorRT\n"
     ]
    },
    {
     "name": "stdout",
     "output_type": "stream",
     "text": [
      "\n",
      "==================================== Inference Configuration ====================================\n",
      " ---> Type of Modeling: naive\n",
      " ---> Total Batch Size: 32\n",
      " ---> Path of ckpt: ./output/ckpt/VCTK_naive\n",
      " ---> Path of log: ./output/log/VCTK_naive\n",
      " ---> Path of result: ./output/result/VCTK_naive\n",
      "================================================================================================\n"
     ]
    },
    {
     "name": "stderr",
     "output_type": "stream",
     "text": [
      "/home/ydoit/AIGC/diffgan/diffgan/lib/python3.10/site-packages/torch/nn/utils/weight_norm.py:28: UserWarning: torch.nn.utils.weight_norm is deprecated in favor of torch.nn.utils.parametrizations.weight_norm.\n",
      "  warnings.warn(\"torch.nn.utils.weight_norm is deprecated in favor of torch.nn.utils.parametrizations.weight_norm.\")\n"
     ]
    },
    {
     "name": "stdout",
     "output_type": "stream",
     "text": [
      "Removing weight norm...\n",
      "Raw Text Sequence: There will not be any charges.\n",
      "\n",
      "Phoneme Sequence: {DH EH1 R W AH0 L N AA1 T B IY0 EH1 N IY0 CH AA1 R JH AH0 Z sp}\n"
     ]
    },
    {
     "name": "stderr",
     "output_type": "stream",
     "text": [
      "  0%|          | 0/1 [00:00<?, ?it/s]\n",
      "sample time step:   0%|          | 0/4 [00:00<?, ?it/s]\u001b[A/home/ydoit/AIGC/diffgan/diffgan/lib/python3.10/site-packages/torch/nn/modules/conv.py:306: UserWarning: Plan failed with a cudnnException: CUDNN_BACKEND_EXECUTION_PLAN_DESCRIPTOR: cudnnFinalize Descriptor Failed cudnn_status: CUDNN_STATUS_NOT_SUPPORTED (Triggered internally at ../aten/src/ATen/native/cudnn/Conv_v8.cpp:919.)\n",
      "  return F.conv1d(input, weight, bias, self.stride,\n",
      "sample time step: 100%|██████████| 4/4 [00:00<00:00, 49.27it/s]\n",
      "100%|██████████| 1/1 [00:01<00:00,  1.86s/it]\n",
      "2024-05-15 04:12:58.790359: I tensorflow/core/platform/cpu_feature_guard.cc:210] This TensorFlow binary is optimized to use available CPU instructions in performance-critical operations.\n",
      "To enable the following instructions: AVX2 FMA, in other operations, rebuild TensorFlow with the appropriate compiler flags.\n",
      "2024-05-15 04:12:59.736246: W tensorflow/compiler/tf2tensorrt/utils/py_utils.cc:38] TF-TRT Warning: Could not find TensorRT\n"
     ]
    },
    {
     "name": "stdout",
     "output_type": "stream",
     "text": [
      "\n",
      "==================================== Inference Configuration ====================================\n",
      " ---> Type of Modeling: naive\n",
      " ---> Total Batch Size: 32\n",
      " ---> Path of ckpt: ./output/ckpt/VCTK_naive\n",
      " ---> Path of log: ./output/log/VCTK_naive\n",
      " ---> Path of result: ./output/result/VCTK_naive\n",
      "================================================================================================\n"
     ]
    },
    {
     "name": "stderr",
     "output_type": "stream",
     "text": [
      "/home/ydoit/AIGC/diffgan/diffgan/lib/python3.10/site-packages/torch/nn/utils/weight_norm.py:28: UserWarning: torch.nn.utils.weight_norm is deprecated in favor of torch.nn.utils.parametrizations.weight_norm.\n",
      "  warnings.warn(\"torch.nn.utils.weight_norm is deprecated in favor of torch.nn.utils.parametrizations.weight_norm.\")\n"
     ]
    },
    {
     "name": "stdout",
     "output_type": "stream",
     "text": [
      "Removing weight norm...\n",
      "Raw Text Sequence: Success in Scotland is important.\n",
      "\n",
      "Phoneme Sequence: {S AH0 K S EH1 S IH0 N S K AA1 T L AH0 N D IH0 Z IH0 M P AO1 R T AH0 N T sp}\n"
     ]
    },
    {
     "name": "stderr",
     "output_type": "stream",
     "text": [
      "  0%|          | 0/1 [00:00<?, ?it/s]\n",
      "sample time step:   0%|          | 0/4 [00:00<?, ?it/s]\u001b[A/home/ydoit/AIGC/diffgan/diffgan/lib/python3.10/site-packages/torch/nn/modules/conv.py:306: UserWarning: Plan failed with a cudnnException: CUDNN_BACKEND_EXECUTION_PLAN_DESCRIPTOR: cudnnFinalize Descriptor Failed cudnn_status: CUDNN_STATUS_NOT_SUPPORTED (Triggered internally at ../aten/src/ATen/native/cudnn/Conv_v8.cpp:919.)\n",
      "  return F.conv1d(input, weight, bias, self.stride,\n",
      "\n",
      "sample time step: 100%|██████████| 4/4 [00:00<00:00,  7.38it/s]\u001b[A\n",
      "100%|██████████| 1/1 [00:01<00:00,  1.98s/it]\n",
      "2024-05-15 04:13:13.074938: I tensorflow/core/platform/cpu_feature_guard.cc:210] This TensorFlow binary is optimized to use available CPU instructions in performance-critical operations.\n",
      "To enable the following instructions: AVX2 FMA, in other operations, rebuild TensorFlow with the appropriate compiler flags.\n",
      "2024-05-15 04:13:13.839629: W tensorflow/compiler/tf2tensorrt/utils/py_utils.cc:38] TF-TRT Warning: Could not find TensorRT\n"
     ]
    },
    {
     "name": "stdout",
     "output_type": "stream",
     "text": [
      "\n",
      "==================================== Inference Configuration ====================================\n",
      " ---> Type of Modeling: naive\n",
      " ---> Total Batch Size: 32\n",
      " ---> Path of ckpt: ./output/ckpt/VCTK_naive\n",
      " ---> Path of log: ./output/log/VCTK_naive\n",
      " ---> Path of result: ./output/result/VCTK_naive\n",
      "================================================================================================\n"
     ]
    },
    {
     "name": "stderr",
     "output_type": "stream",
     "text": [
      "/home/ydoit/AIGC/diffgan/diffgan/lib/python3.10/site-packages/torch/nn/utils/weight_norm.py:28: UserWarning: torch.nn.utils.weight_norm is deprecated in favor of torch.nn.utils.parametrizations.weight_norm.\n",
      "  warnings.warn(\"torch.nn.utils.weight_norm is deprecated in favor of torch.nn.utils.parametrizations.weight_norm.\")\n"
     ]
    },
    {
     "name": "stdout",
     "output_type": "stream",
     "text": [
      "Removing weight norm...\n",
      "Raw Text Sequence: People look, but no one ever finds it. \n",
      "\n",
      "Phoneme Sequence: {P IY1 P AH0 L L UH1 K sp B AH1 T N OW1 HH W AH1 N EH1 V ER0 F AY1 N D Z IH0 T sp}\n"
     ]
    },
    {
     "name": "stderr",
     "output_type": "stream",
     "text": [
      "  0%|          | 0/1 [00:00<?, ?it/s]\n",
      "sample time step:   0%|          | 0/4 [00:00<?, ?it/s]\u001b[A\n",
      "sample time step: 100%|██████████| 4/4 [00:00<00:00,  7.36it/s]\u001b[A\n",
      "100%|██████████| 1/1 [00:02<00:00,  2.60s/it]\n",
      "2024-05-15 04:13:26.895981: I tensorflow/core/platform/cpu_feature_guard.cc:210] This TensorFlow binary is optimized to use available CPU instructions in performance-critical operations.\n",
      "To enable the following instructions: AVX2 FMA, in other operations, rebuild TensorFlow with the appropriate compiler flags.\n",
      "2024-05-15 04:13:27.677108: W tensorflow/compiler/tf2tensorrt/utils/py_utils.cc:38] TF-TRT Warning: Could not find TensorRT\n"
     ]
    },
    {
     "name": "stdout",
     "output_type": "stream",
     "text": [
      "\n",
      "==================================== Inference Configuration ====================================\n",
      " ---> Type of Modeling: naive\n",
      " ---> Total Batch Size: 32\n",
      " ---> Path of ckpt: ./output/ckpt/VCTK_naive\n",
      " ---> Path of log: ./output/log/VCTK_naive\n",
      " ---> Path of result: ./output/result/VCTK_naive\n",
      "================================================================================================\n"
     ]
    },
    {
     "name": "stderr",
     "output_type": "stream",
     "text": [
      "/home/ydoit/AIGC/diffgan/diffgan/lib/python3.10/site-packages/torch/nn/utils/weight_norm.py:28: UserWarning: torch.nn.utils.weight_norm is deprecated in favor of torch.nn.utils.parametrizations.weight_norm.\n",
      "  warnings.warn(\"torch.nn.utils.weight_norm is deprecated in favor of torch.nn.utils.parametrizations.weight_norm.\")\n"
     ]
    },
    {
     "name": "stdout",
     "output_type": "stream",
     "text": [
      "Removing weight norm...\n",
      "Raw Text Sequence: Or so we thought.\n",
      "\n",
      "Phoneme Sequence: {AO1 R S OW1 W IY1 TH AO1 T sp}\n"
     ]
    },
    {
     "name": "stderr",
     "output_type": "stream",
     "text": [
      "  0%|          | 0/1 [00:00<?, ?it/s]\n",
      "sample time step:   0%|          | 0/4 [00:00<?, ?it/s]\u001b[A\n",
      "sample time step: 100%|██████████| 4/4 [00:00<00:00,  9.71it/s]\u001b[A\n",
      "100%|██████████| 1/1 [00:01<00:00,  1.90s/it]\n",
      "2024-05-15 04:13:43.613988: I tensorflow/core/platform/cpu_feature_guard.cc:210] This TensorFlow binary is optimized to use available CPU instructions in performance-critical operations.\n",
      "To enable the following instructions: AVX2 FMA, in other operations, rebuild TensorFlow with the appropriate compiler flags.\n",
      "2024-05-15 04:13:44.365366: W tensorflow/compiler/tf2tensorrt/utils/py_utils.cc:38] TF-TRT Warning: Could not find TensorRT\n"
     ]
    },
    {
     "name": "stdout",
     "output_type": "stream",
     "text": [
      "\n",
      "==================================== Inference Configuration ====================================\n",
      " ---> Type of Modeling: naive\n",
      " ---> Total Batch Size: 32\n",
      " ---> Path of ckpt: ./output/ckpt/VCTK_naive\n",
      " ---> Path of log: ./output/log/VCTK_naive\n",
      " ---> Path of result: ./output/result/VCTK_naive\n",
      "================================================================================================\n"
     ]
    },
    {
     "name": "stderr",
     "output_type": "stream",
     "text": [
      "/home/ydoit/AIGC/diffgan/diffgan/lib/python3.10/site-packages/torch/nn/utils/weight_norm.py:28: UserWarning: torch.nn.utils.weight_norm is deprecated in favor of torch.nn.utils.parametrizations.weight_norm.\n",
      "  warnings.warn(\"torch.nn.utils.weight_norm is deprecated in favor of torch.nn.utils.parametrizations.weight_norm.\")\n"
     ]
    },
    {
     "name": "stdout",
     "output_type": "stream",
     "text": [
      "Removing weight norm...\n",
      "Raw Text Sequence: Workers will now be balloted on the offer.\n",
      "\n",
      "Phoneme Sequence: {W ER1 K ER0 Z W AH0 L N AW1 B IY0 B AE1 L AH0 T IH0 D AA1 N DH AH0 AO1 F ER0 sp}\n"
     ]
    },
    {
     "name": "stderr",
     "output_type": "stream",
     "text": [
      "  0%|          | 0/1 [00:00<?, ?it/s]\n",
      "sample time step: 100%|██████████| 4/4 [00:00<00:00, 51.61it/s]\n",
      "100%|██████████| 1/1 [00:01<00:00,  1.71s/it]\n",
      "2024-05-15 04:13:56.525560: I tensorflow/core/platform/cpu_feature_guard.cc:210] This TensorFlow binary is optimized to use available CPU instructions in performance-critical operations.\n",
      "To enable the following instructions: AVX2 FMA, in other operations, rebuild TensorFlow with the appropriate compiler flags.\n",
      "2024-05-15 04:13:57.275477: W tensorflow/compiler/tf2tensorrt/utils/py_utils.cc:38] TF-TRT Warning: Could not find TensorRT\n"
     ]
    },
    {
     "name": "stdout",
     "output_type": "stream",
     "text": [
      "\n",
      "==================================== Inference Configuration ====================================\n",
      " ---> Type of Modeling: naive\n",
      " ---> Total Batch Size: 32\n",
      " ---> Path of ckpt: ./output/ckpt/VCTK_naive\n",
      " ---> Path of log: ./output/log/VCTK_naive\n",
      " ---> Path of result: ./output/result/VCTK_naive\n",
      "================================================================================================\n"
     ]
    },
    {
     "name": "stderr",
     "output_type": "stream",
     "text": [
      "/home/ydoit/AIGC/diffgan/diffgan/lib/python3.10/site-packages/torch/nn/utils/weight_norm.py:28: UserWarning: torch.nn.utils.weight_norm is deprecated in favor of torch.nn.utils.parametrizations.weight_norm.\n",
      "  warnings.warn(\"torch.nn.utils.weight_norm is deprecated in favor of torch.nn.utils.parametrizations.weight_norm.\")\n"
     ]
    },
    {
     "name": "stdout",
     "output_type": "stream",
     "text": [
      "Removing weight norm...\n",
      "Raw Text Sequence: I think we could do well in Europe.\n",
      "\n",
      "Phoneme Sequence: {AY1 TH IH1 NG K W IY1 K UH1 D D UW1 W EH1 L IH0 N Y UH1 R AH0 P sp}\n"
     ]
    },
    {
     "name": "stderr",
     "output_type": "stream",
     "text": [
      "  0%|          | 0/1 [00:00<?, ?it/s]\n",
      "sample time step:   0%|          | 0/4 [00:00<?, ?it/s]\u001b[A/home/ydoit/AIGC/diffgan/diffgan/lib/python3.10/site-packages/torch/nn/modules/conv.py:306: UserWarning: Plan failed with a cudnnException: CUDNN_BACKEND_EXECUTION_PLAN_DESCRIPTOR: cudnnFinalize Descriptor Failed cudnn_status: CUDNN_STATUS_NOT_SUPPORTED (Triggered internally at ../aten/src/ATen/native/cudnn/Conv_v8.cpp:919.)\n",
      "  return F.conv1d(input, weight, bias, self.stride,\n",
      "\n",
      "sample time step: 100%|██████████| 4/4 [00:00<00:00, 10.45it/s]\u001b[A\n",
      "100%|██████████| 1/1 [00:01<00:00,  1.70s/it]\n",
      "2024-05-15 04:14:09.623201: I tensorflow/core/platform/cpu_feature_guard.cc:210] This TensorFlow binary is optimized to use available CPU instructions in performance-critical operations.\n",
      "To enable the following instructions: AVX2 FMA, in other operations, rebuild TensorFlow with the appropriate compiler flags.\n",
      "2024-05-15 04:14:10.329253: W tensorflow/compiler/tf2tensorrt/utils/py_utils.cc:38] TF-TRT Warning: Could not find TensorRT\n"
     ]
    },
    {
     "name": "stdout",
     "output_type": "stream",
     "text": [
      "\n",
      "==================================== Inference Configuration ====================================\n",
      " ---> Type of Modeling: naive\n",
      " ---> Total Batch Size: 32\n",
      " ---> Path of ckpt: ./output/ckpt/VCTK_naive\n",
      " ---> Path of log: ./output/log/VCTK_naive\n",
      " ---> Path of result: ./output/result/VCTK_naive\n",
      "================================================================================================\n"
     ]
    },
    {
     "name": "stderr",
     "output_type": "stream",
     "text": [
      "/home/ydoit/AIGC/diffgan/diffgan/lib/python3.10/site-packages/torch/nn/utils/weight_norm.py:28: UserWarning: torch.nn.utils.weight_norm is deprecated in favor of torch.nn.utils.parametrizations.weight_norm.\n",
      "  warnings.warn(\"torch.nn.utils.weight_norm is deprecated in favor of torch.nn.utils.parametrizations.weight_norm.\")\n"
     ]
    },
    {
     "name": "stdout",
     "output_type": "stream",
     "text": [
      "Removing weight norm...\n",
      "Raw Text Sequence: Either way, the investor retains the premium.\n",
      "\n",
      "Phoneme Sequence: {AY1 DH ER0 W EY1 sp DH AH0 IH0 N V EH1 S T ER0 R IH0 T EY1 N Z DH AH0 P R IY1 M IY0 AH0 M sp}\n"
     ]
    },
    {
     "name": "stderr",
     "output_type": "stream",
     "text": [
      "  0%|          | 0/1 [00:00<?, ?it/s]\n",
      "sample time step: 100%|██████████| 4/4 [00:00<00:00, 43.32it/s]\n",
      "100%|██████████| 1/1 [00:01<00:00,  1.75s/it]\n",
      "2024-05-15 04:14:23.493117: I tensorflow/core/platform/cpu_feature_guard.cc:210] This TensorFlow binary is optimized to use available CPU instructions in performance-critical operations.\n",
      "To enable the following instructions: AVX2 FMA, in other operations, rebuild TensorFlow with the appropriate compiler flags.\n",
      "2024-05-15 04:14:24.256682: W tensorflow/compiler/tf2tensorrt/utils/py_utils.cc:38] TF-TRT Warning: Could not find TensorRT\n"
     ]
    },
    {
     "name": "stdout",
     "output_type": "stream",
     "text": [
      "\n",
      "==================================== Inference Configuration ====================================\n",
      " ---> Type of Modeling: naive\n",
      " ---> Total Batch Size: 32\n",
      " ---> Path of ckpt: ./output/ckpt/VCTK_naive\n",
      " ---> Path of log: ./output/log/VCTK_naive\n",
      " ---> Path of result: ./output/result/VCTK_naive\n",
      "================================================================================================\n"
     ]
    },
    {
     "name": "stderr",
     "output_type": "stream",
     "text": [
      "/home/ydoit/AIGC/diffgan/diffgan/lib/python3.10/site-packages/torch/nn/utils/weight_norm.py:28: UserWarning: torch.nn.utils.weight_norm is deprecated in favor of torch.nn.utils.parametrizations.weight_norm.\n",
      "  warnings.warn(\"torch.nn.utils.weight_norm is deprecated in favor of torch.nn.utils.parametrizations.weight_norm.\")\n"
     ]
    },
    {
     "name": "stdout",
     "output_type": "stream",
     "text": [
      "Removing weight norm...\n",
      "Raw Text Sequence: I haven't spoken to anyone about that, not even my wife.\n",
      "\n",
      "Phoneme Sequence: {AY1 HH AE1 V AH0 N S P OW1 K AH0 N T AH0 EH1 N IY0 W AH0 N AH0 B AW1 T DH AE1 T sp N AA1 T IY1 V IH0 N M AY1 W AY1 F sp}\n"
     ]
    },
    {
     "name": "stderr",
     "output_type": "stream",
     "text": [
      "  0%|          | 0/1 [00:00<?, ?it/s]\n",
      "sample time step:   0%|          | 0/4 [00:00<?, ?it/s]\u001b[A\n",
      "sample time step: 100%|██████████| 4/4 [00:00<00:00,  5.86it/s]\u001b[A\n",
      "100%|██████████| 1/1 [00:02<00:00,  2.54s/it]\n",
      "2024-05-15 04:14:36.726955: I tensorflow/core/platform/cpu_feature_guard.cc:210] This TensorFlow binary is optimized to use available CPU instructions in performance-critical operations.\n",
      "To enable the following instructions: AVX2 FMA, in other operations, rebuild TensorFlow with the appropriate compiler flags.\n",
      "2024-05-15 04:14:37.572237: W tensorflow/compiler/tf2tensorrt/utils/py_utils.cc:38] TF-TRT Warning: Could not find TensorRT\n"
     ]
    },
    {
     "name": "stdout",
     "output_type": "stream",
     "text": [
      "\n",
      "==================================== Inference Configuration ====================================\n",
      " ---> Type of Modeling: naive\n",
      " ---> Total Batch Size: 32\n",
      " ---> Path of ckpt: ./output/ckpt/VCTK_naive\n",
      " ---> Path of log: ./output/log/VCTK_naive\n",
      " ---> Path of result: ./output/result/VCTK_naive\n",
      "================================================================================================\n"
     ]
    },
    {
     "name": "stderr",
     "output_type": "stream",
     "text": [
      "/home/ydoit/AIGC/diffgan/diffgan/lib/python3.10/site-packages/torch/nn/utils/weight_norm.py:28: UserWarning: torch.nn.utils.weight_norm is deprecated in favor of torch.nn.utils.parametrizations.weight_norm.\n",
      "  warnings.warn(\"torch.nn.utils.weight_norm is deprecated in favor of torch.nn.utils.parametrizations.weight_norm.\")\n"
     ]
    },
    {
     "name": "stdout",
     "output_type": "stream",
     "text": [
      "Removing weight norm...\n",
      "Raw Text Sequence: The way forward is working with other disciplines.\n",
      "\n",
      "Phoneme Sequence: {DH AH0 W EY1 F AO1 R W ER0 D IH0 Z W ER1 K IH0 NG W IH0 DH AH1 DH ER0 D IH1 S AH0 P L AH0 N Z sp}\n"
     ]
    },
    {
     "name": "stderr",
     "output_type": "stream",
     "text": [
      "  0%|          | 0/1 [00:00<?, ?it/s]\n",
      "sample time step:   0%|          | 0/4 [00:00<?, ?it/s]\u001b[A\n",
      "sample time step: 100%|██████████| 4/4 [00:00<00:00,  8.75it/s]\u001b[A\n",
      "100%|██████████| 1/1 [00:02<00:00,  2.39s/it]\n",
      "2024-05-15 04:14:50.758694: I tensorflow/core/platform/cpu_feature_guard.cc:210] This TensorFlow binary is optimized to use available CPU instructions in performance-critical operations.\n",
      "To enable the following instructions: AVX2 FMA, in other operations, rebuild TensorFlow with the appropriate compiler flags.\n",
      "2024-05-15 04:14:51.640005: W tensorflow/compiler/tf2tensorrt/utils/py_utils.cc:38] TF-TRT Warning: Could not find TensorRT\n"
     ]
    },
    {
     "name": "stdout",
     "output_type": "stream",
     "text": [
      "\n",
      "==================================== Inference Configuration ====================================\n",
      " ---> Type of Modeling: naive\n",
      " ---> Total Batch Size: 32\n",
      " ---> Path of ckpt: ./output/ckpt/VCTK_naive\n",
      " ---> Path of log: ./output/log/VCTK_naive\n",
      " ---> Path of result: ./output/result/VCTK_naive\n",
      "================================================================================================\n"
     ]
    },
    {
     "name": "stderr",
     "output_type": "stream",
     "text": [
      "/home/ydoit/AIGC/diffgan/diffgan/lib/python3.10/site-packages/torch/nn/utils/weight_norm.py:28: UserWarning: torch.nn.utils.weight_norm is deprecated in favor of torch.nn.utils.parametrizations.weight_norm.\n",
      "  warnings.warn(\"torch.nn.utils.weight_norm is deprecated in favor of torch.nn.utils.parametrizations.weight_norm.\")\n"
     ]
    },
    {
     "name": "stdout",
     "output_type": "stream",
     "text": [
      "Removing weight norm...\n",
      "Raw Text Sequence: How come it is so often unnoticed?\n",
      "\n",
      "Phoneme Sequence: {HH AW1 K AH1 M IH0 T IH0 Z S OW1 AO1 F AH0 N AH0 N N OW1 T IH0 S T sp}\n"
     ]
    },
    {
     "name": "stderr",
     "output_type": "stream",
     "text": [
      "  0%|          | 0/1 [00:00<?, ?it/s]\n",
      "sample time step:   0%|          | 0/4 [00:00<?, ?it/s]\u001b[A\n",
      "sample time step: 100%|██████████| 4/4 [00:00<00:00,  6.98it/s]\u001b[A\n",
      "100%|██████████| 1/1 [00:02<00:00,  2.18s/it]\n",
      "2024-05-15 04:15:06.416641: I tensorflow/core/platform/cpu_feature_guard.cc:210] This TensorFlow binary is optimized to use available CPU instructions in performance-critical operations.\n",
      "To enable the following instructions: AVX2 FMA, in other operations, rebuild TensorFlow with the appropriate compiler flags.\n",
      "2024-05-15 04:15:07.160773: W tensorflow/compiler/tf2tensorrt/utils/py_utils.cc:38] TF-TRT Warning: Could not find TensorRT\n"
     ]
    },
    {
     "name": "stdout",
     "output_type": "stream",
     "text": [
      "\n",
      "==================================== Inference Configuration ====================================\n",
      " ---> Type of Modeling: naive\n",
      " ---> Total Batch Size: 32\n",
      " ---> Path of ckpt: ./output/ckpt/VCTK_naive\n",
      " ---> Path of log: ./output/log/VCTK_naive\n",
      " ---> Path of result: ./output/result/VCTK_naive\n",
      "================================================================================================\n"
     ]
    },
    {
     "name": "stderr",
     "output_type": "stream",
     "text": [
      "/home/ydoit/AIGC/diffgan/diffgan/lib/python3.10/site-packages/torch/nn/utils/weight_norm.py:28: UserWarning: torch.nn.utils.weight_norm is deprecated in favor of torch.nn.utils.parametrizations.weight_norm.\n",
      "  warnings.warn(\"torch.nn.utils.weight_norm is deprecated in favor of torch.nn.utils.parametrizations.weight_norm.\")\n"
     ]
    },
    {
     "name": "stdout",
     "output_type": "stream",
     "text": [
      "Removing weight norm...\n",
      "Raw Text Sequence: More patience and composure was required.\n",
      "\n",
      "Phoneme Sequence: {M AO1 R P EY1 SH AH0 N S AE1 N D K AH0 M P OW1 ZH ER0 W AA1 Z R IY0 K W AY1 ER0 D sp}\n"
     ]
    },
    {
     "name": "stderr",
     "output_type": "stream",
     "text": [
      "  0%|          | 0/1 [00:00<?, ?it/s]\n",
      "sample time step:   0%|          | 0/4 [00:00<?, ?it/s]\u001b[A\n",
      "sample time step: 100%|██████████| 4/4 [00:00<00:00,  7.93it/s]\u001b[A\n",
      "100%|██████████| 1/1 [00:01<00:00,  1.89s/it]\n",
      "2024-05-15 04:15:19.830984: I tensorflow/core/platform/cpu_feature_guard.cc:210] This TensorFlow binary is optimized to use available CPU instructions in performance-critical operations.\n",
      "To enable the following instructions: AVX2 FMA, in other operations, rebuild TensorFlow with the appropriate compiler flags.\n",
      "2024-05-15 04:15:20.584157: W tensorflow/compiler/tf2tensorrt/utils/py_utils.cc:38] TF-TRT Warning: Could not find TensorRT\n"
     ]
    },
    {
     "name": "stdout",
     "output_type": "stream",
     "text": [
      "\n",
      "==================================== Inference Configuration ====================================\n",
      " ---> Type of Modeling: naive\n",
      " ---> Total Batch Size: 32\n",
      " ---> Path of ckpt: ./output/ckpt/VCTK_naive\n",
      " ---> Path of log: ./output/log/VCTK_naive\n",
      " ---> Path of result: ./output/result/VCTK_naive\n",
      "================================================================================================\n"
     ]
    },
    {
     "name": "stderr",
     "output_type": "stream",
     "text": [
      "/home/ydoit/AIGC/diffgan/diffgan/lib/python3.10/site-packages/torch/nn/utils/weight_norm.py:28: UserWarning: torch.nn.utils.weight_norm is deprecated in favor of torch.nn.utils.parametrizations.weight_norm.\n",
      "  warnings.warn(\"torch.nn.utils.weight_norm is deprecated in favor of torch.nn.utils.parametrizations.weight_norm.\")\n"
     ]
    },
    {
     "name": "stdout",
     "output_type": "stream",
     "text": [
      "Removing weight norm...\n",
      "Raw Text Sequence: I've not thought about it.\n",
      "\n",
      "Phoneme Sequence: {AY1 V N AA1 T TH AO1 T AH0 B AW1 T IH0 T sp}\n"
     ]
    },
    {
     "name": "stderr",
     "output_type": "stream",
     "text": [
      "  0%|          | 0/1 [00:00<?, ?it/s]\n",
      "sample time step:   0%|          | 0/4 [00:00<?, ?it/s]\u001b[A\n",
      "sample time step: 100%|██████████| 4/4 [00:00<00:00,  7.21it/s]\u001b[A\n",
      "100%|██████████| 1/1 [00:02<00:00,  2.22s/it]\n",
      "2024-05-15 04:15:34.839049: I tensorflow/core/platform/cpu_feature_guard.cc:210] This TensorFlow binary is optimized to use available CPU instructions in performance-critical operations.\n",
      "To enable the following instructions: AVX2 FMA, in other operations, rebuild TensorFlow with the appropriate compiler flags.\n",
      "2024-05-15 04:15:35.607807: W tensorflow/compiler/tf2tensorrt/utils/py_utils.cc:38] TF-TRT Warning: Could not find TensorRT\n"
     ]
    },
    {
     "name": "stdout",
     "output_type": "stream",
     "text": [
      "\n",
      "==================================== Inference Configuration ====================================\n",
      " ---> Type of Modeling: naive\n",
      " ---> Total Batch Size: 32\n",
      " ---> Path of ckpt: ./output/ckpt/VCTK_naive\n",
      " ---> Path of log: ./output/log/VCTK_naive\n",
      " ---> Path of result: ./output/result/VCTK_naive\n",
      "================================================================================================\n"
     ]
    },
    {
     "name": "stderr",
     "output_type": "stream",
     "text": [
      "/home/ydoit/AIGC/diffgan/diffgan/lib/python3.10/site-packages/torch/nn/utils/weight_norm.py:28: UserWarning: torch.nn.utils.weight_norm is deprecated in favor of torch.nn.utils.parametrizations.weight_norm.\n",
      "  warnings.warn(\"torch.nn.utils.weight_norm is deprecated in favor of torch.nn.utils.parametrizations.weight_norm.\")\n"
     ]
    },
    {
     "name": "stdout",
     "output_type": "stream",
     "text": [
      "Removing weight norm...\n",
      "Raw Text Sequence: This will be no easy option.\n",
      "\n",
      "Phoneme Sequence: {DH IH0 S W AH0 L B IY0 N OW1 IY1 Z IY0 AA1 P SH AH0 N sp}\n"
     ]
    },
    {
     "name": "stderr",
     "output_type": "stream",
     "text": [
      "  0%|          | 0/1 [00:00<?, ?it/s]\n",
      "sample time step:   0%|          | 0/4 [00:00<?, ?it/s]\u001b[A/home/ydoit/AIGC/diffgan/diffgan/lib/python3.10/site-packages/torch/nn/modules/conv.py:306: UserWarning: Plan failed with a cudnnException: CUDNN_BACKEND_EXECUTION_PLAN_DESCRIPTOR: cudnnFinalize Descriptor Failed cudnn_status: CUDNN_STATUS_NOT_SUPPORTED (Triggered internally at ../aten/src/ATen/native/cudnn/Conv_v8.cpp:919.)\n",
      "  return F.conv1d(input, weight, bias, self.stride,\n",
      "sample time step: 100%|██████████| 4/4 [00:00<00:00, 42.43it/s]\n",
      "100%|██████████| 1/1 [00:02<00:00,  2.11s/it]\n",
      "2024-05-15 04:15:47.838902: I tensorflow/core/platform/cpu_feature_guard.cc:210] This TensorFlow binary is optimized to use available CPU instructions in performance-critical operations.\n",
      "To enable the following instructions: AVX2 FMA, in other operations, rebuild TensorFlow with the appropriate compiler flags.\n",
      "2024-05-15 04:15:48.592055: W tensorflow/compiler/tf2tensorrt/utils/py_utils.cc:38] TF-TRT Warning: Could not find TensorRT\n"
     ]
    },
    {
     "name": "stdout",
     "output_type": "stream",
     "text": [
      "\n",
      "==================================== Inference Configuration ====================================\n",
      " ---> Type of Modeling: naive\n",
      " ---> Total Batch Size: 32\n",
      " ---> Path of ckpt: ./output/ckpt/VCTK_naive\n",
      " ---> Path of log: ./output/log/VCTK_naive\n",
      " ---> Path of result: ./output/result/VCTK_naive\n",
      "================================================================================================\n"
     ]
    },
    {
     "name": "stderr",
     "output_type": "stream",
     "text": [
      "/home/ydoit/AIGC/diffgan/diffgan/lib/python3.10/site-packages/torch/nn/utils/weight_norm.py:28: UserWarning: torch.nn.utils.weight_norm is deprecated in favor of torch.nn.utils.parametrizations.weight_norm.\n",
      "  warnings.warn(\"torch.nn.utils.weight_norm is deprecated in favor of torch.nn.utils.parametrizations.weight_norm.\")\n"
     ]
    },
    {
     "name": "stdout",
     "output_type": "stream",
     "text": [
      "Removing weight norm...\n",
      "Raw Text Sequence: This will have no effect on the championship.\n",
      "\n",
      "Phoneme Sequence: {DH IH0 S W AH0 L HH AE1 V N OW1 AH0 F EH1 K T AA1 N DH AH0 CH AE1 M P IY0 AH0 N SH IH2 P sp}\n"
     ]
    },
    {
     "name": "stderr",
     "output_type": "stream",
     "text": [
      "  0%|          | 0/1 [00:00<?, ?it/s]\n",
      "sample time step:   0%|          | 0/4 [00:00<?, ?it/s]\u001b[A/home/ydoit/AIGC/diffgan/diffgan/lib/python3.10/site-packages/torch/nn/modules/conv.py:306: UserWarning: Plan failed with a cudnnException: CUDNN_BACKEND_EXECUTION_PLAN_DESCRIPTOR: cudnnFinalize Descriptor Failed cudnn_status: CUDNN_STATUS_NOT_SUPPORTED (Triggered internally at ../aten/src/ATen/native/cudnn/Conv_v8.cpp:919.)\n",
      "  return F.conv1d(input, weight, bias, self.stride,\n",
      "\n",
      "sample time step: 100%|██████████| 4/4 [00:00<00:00,  7.13it/s]\u001b[A\n",
      "100%|██████████| 1/1 [00:02<00:00,  2.29s/it]\n",
      "2024-05-15 04:16:01.914314: I tensorflow/core/platform/cpu_feature_guard.cc:210] This TensorFlow binary is optimized to use available CPU instructions in performance-critical operations.\n",
      "To enable the following instructions: AVX2 FMA, in other operations, rebuild TensorFlow with the appropriate compiler flags.\n",
      "2024-05-15 04:16:02.667055: W tensorflow/compiler/tf2tensorrt/utils/py_utils.cc:38] TF-TRT Warning: Could not find TensorRT\n"
     ]
    },
    {
     "name": "stdout",
     "output_type": "stream",
     "text": [
      "\n",
      "==================================== Inference Configuration ====================================\n",
      " ---> Type of Modeling: naive\n",
      " ---> Total Batch Size: 32\n",
      " ---> Path of ckpt: ./output/ckpt/VCTK_naive\n",
      " ---> Path of log: ./output/log/VCTK_naive\n",
      " ---> Path of result: ./output/result/VCTK_naive\n",
      "================================================================================================\n"
     ]
    },
    {
     "name": "stderr",
     "output_type": "stream",
     "text": [
      "/home/ydoit/AIGC/diffgan/diffgan/lib/python3.10/site-packages/torch/nn/utils/weight_norm.py:28: UserWarning: torch.nn.utils.weight_norm is deprecated in favor of torch.nn.utils.parametrizations.weight_norm.\n",
      "  warnings.warn(\"torch.nn.utils.weight_norm is deprecated in favor of torch.nn.utils.parametrizations.weight_norm.\")\n"
     ]
    },
    {
     "name": "stdout",
     "output_type": "stream",
     "text": [
      "Removing weight norm...\n",
      "Raw Text Sequence: We will likely look for new investors.\n",
      "\n",
      "Phoneme Sequence: {W IY1 W AH0 L L AY1 K L IY0 L UH1 K F AO1 R N UW1 IH0 N V EH1 S T ER0 Z sp}\n"
     ]
    },
    {
     "name": "stderr",
     "output_type": "stream",
     "text": [
      "  0%|          | 0/1 [00:00<?, ?it/s]\n",
      "sample time step:   0%|          | 0/4 [00:00<?, ?it/s]\u001b[A\n",
      "sample time step: 100%|██████████| 4/4 [00:00<00:00,  7.34it/s]\u001b[A\n",
      "100%|██████████| 1/1 [00:02<00:00,  2.20s/it]\n",
      "2024-05-15 04:16:16.895270: I tensorflow/core/platform/cpu_feature_guard.cc:210] This TensorFlow binary is optimized to use available CPU instructions in performance-critical operations.\n",
      "To enable the following instructions: AVX2 FMA, in other operations, rebuild TensorFlow with the appropriate compiler flags.\n",
      "2024-05-15 04:16:17.662916: W tensorflow/compiler/tf2tensorrt/utils/py_utils.cc:38] TF-TRT Warning: Could not find TensorRT\n"
     ]
    },
    {
     "name": "stdout",
     "output_type": "stream",
     "text": [
      "\n",
      "==================================== Inference Configuration ====================================\n",
      " ---> Type of Modeling: naive\n",
      " ---> Total Batch Size: 32\n",
      " ---> Path of ckpt: ./output/ckpt/VCTK_naive\n",
      " ---> Path of log: ./output/log/VCTK_naive\n",
      " ---> Path of result: ./output/result/VCTK_naive\n",
      "================================================================================================\n"
     ]
    },
    {
     "name": "stderr",
     "output_type": "stream",
     "text": [
      "/home/ydoit/AIGC/diffgan/diffgan/lib/python3.10/site-packages/torch/nn/utils/weight_norm.py:28: UserWarning: torch.nn.utils.weight_norm is deprecated in favor of torch.nn.utils.parametrizations.weight_norm.\n",
      "  warnings.warn(\"torch.nn.utils.weight_norm is deprecated in favor of torch.nn.utils.parametrizations.weight_norm.\")\n"
     ]
    },
    {
     "name": "stdout",
     "output_type": "stream",
     "text": [
      "Removing weight norm...\n",
      "Raw Text Sequence: Well, that's just a third district.\n",
      "\n",
      "Phoneme Sequence: {W EH1 L sp DH AE1 T S JH AH1 S T AH0 TH ER1 D D IH1 S T R IH0 K T sp}\n"
     ]
    },
    {
     "name": "stderr",
     "output_type": "stream",
     "text": [
      "  0%|          | 0/1 [00:00<?, ?it/s]\n",
      "sample time step:   0%|          | 0/4 [00:00<?, ?it/s]\u001b[A\n",
      "sample time step: 100%|██████████| 4/4 [00:00<00:00,  9.47it/s]\u001b[A\n",
      "100%|██████████| 1/1 [00:01<00:00,  1.67s/it]\n",
      "2024-05-15 04:16:31.497585: I tensorflow/core/platform/cpu_feature_guard.cc:210] This TensorFlow binary is optimized to use available CPU instructions in performance-critical operations.\n",
      "To enable the following instructions: AVX2 FMA, in other operations, rebuild TensorFlow with the appropriate compiler flags.\n",
      "2024-05-15 04:16:32.232976: W tensorflow/compiler/tf2tensorrt/utils/py_utils.cc:38] TF-TRT Warning: Could not find TensorRT\n"
     ]
    },
    {
     "name": "stdout",
     "output_type": "stream",
     "text": [
      "\n",
      "==================================== Inference Configuration ====================================\n",
      " ---> Type of Modeling: naive\n",
      " ---> Total Batch Size: 32\n",
      " ---> Path of ckpt: ./output/ckpt/VCTK_naive\n",
      " ---> Path of log: ./output/log/VCTK_naive\n",
      " ---> Path of result: ./output/result/VCTK_naive\n",
      "================================================================================================\n"
     ]
    },
    {
     "name": "stderr",
     "output_type": "stream",
     "text": [
      "/home/ydoit/AIGC/diffgan/diffgan/lib/python3.10/site-packages/torch/nn/utils/weight_norm.py:28: UserWarning: torch.nn.utils.weight_norm is deprecated in favor of torch.nn.utils.parametrizations.weight_norm.\n",
      "  warnings.warn(\"torch.nn.utils.weight_norm is deprecated in favor of torch.nn.utils.parametrizations.weight_norm.\")\n"
     ]
    },
    {
     "name": "stdout",
     "output_type": "stream",
     "text": [
      "Removing weight norm...\n",
      "Raw Text Sequence: He told us about it the next day.\n",
      "\n",
      "Phoneme Sequence: {HH IY1 T OW1 L D AH1 S AH0 B AW1 T IH0 T DH AH0 N EH1 K S D EY1 sp}\n"
     ]
    },
    {
     "name": "stderr",
     "output_type": "stream",
     "text": [
      "  0%|          | 0/1 [00:00<?, ?it/s]\n",
      "sample time step:   0%|          | 0/4 [00:00<?, ?it/s]\u001b[A\n",
      "sample time step: 100%|██████████| 4/4 [00:00<00:00,  7.32it/s]\u001b[A\n",
      "100%|██████████| 1/1 [00:01<00:00,  1.99s/it]\n",
      "2024-05-15 04:16:47.434402: I tensorflow/core/platform/cpu_feature_guard.cc:210] This TensorFlow binary is optimized to use available CPU instructions in performance-critical operations.\n",
      "To enable the following instructions: AVX2 FMA, in other operations, rebuild TensorFlow with the appropriate compiler flags.\n",
      "2024-05-15 04:16:48.184932: W tensorflow/compiler/tf2tensorrt/utils/py_utils.cc:38] TF-TRT Warning: Could not find TensorRT\n"
     ]
    },
    {
     "name": "stdout",
     "output_type": "stream",
     "text": [
      "\n",
      "==================================== Inference Configuration ====================================\n",
      " ---> Type of Modeling: naive\n",
      " ---> Total Batch Size: 32\n",
      " ---> Path of ckpt: ./output/ckpt/VCTK_naive\n",
      " ---> Path of log: ./output/log/VCTK_naive\n",
      " ---> Path of result: ./output/result/VCTK_naive\n",
      "================================================================================================\n"
     ]
    },
    {
     "name": "stderr",
     "output_type": "stream",
     "text": [
      "/home/ydoit/AIGC/diffgan/diffgan/lib/python3.10/site-packages/torch/nn/utils/weight_norm.py:28: UserWarning: torch.nn.utils.weight_norm is deprecated in favor of torch.nn.utils.parametrizations.weight_norm.\n",
      "  warnings.warn(\"torch.nn.utils.weight_norm is deprecated in favor of torch.nn.utils.parametrizations.weight_norm.\")\n"
     ]
    },
    {
     "name": "stdout",
     "output_type": "stream",
     "text": [
      "Removing weight norm...\n",
      "Raw Text Sequence: It's only a matter of scale.\n",
      "\n",
      "Phoneme Sequence: {IH0 T S OW1 N L IY0 AH0 M AE1 T ER0 AH0 V S K EY1 L sp}\n"
     ]
    },
    {
     "name": "stderr",
     "output_type": "stream",
     "text": [
      "  0%|          | 0/1 [00:00<?, ?it/s]\n",
      "sample time step:   0%|          | 0/4 [00:00<?, ?it/s]\u001b[A/home/ydoit/AIGC/diffgan/diffgan/lib/python3.10/site-packages/torch/nn/modules/conv.py:306: UserWarning: Plan failed with a cudnnException: CUDNN_BACKEND_EXECUTION_PLAN_DESCRIPTOR: cudnnFinalize Descriptor Failed cudnn_status: CUDNN_STATUS_NOT_SUPPORTED (Triggered internally at ../aten/src/ATen/native/cudnn/Conv_v8.cpp:919.)\n",
      "  return F.conv1d(input, weight, bias, self.stride,\n",
      "\n",
      "sample time step: 100%|██████████| 4/4 [00:00<00:00, 10.29it/s]\u001b[A\n",
      "100%|██████████| 1/1 [00:01<00:00,  1.53s/it]\n",
      "2024-05-15 04:17:00.449059: I tensorflow/core/platform/cpu_feature_guard.cc:210] This TensorFlow binary is optimized to use available CPU instructions in performance-critical operations.\n",
      "To enable the following instructions: AVX2 FMA, in other operations, rebuild TensorFlow with the appropriate compiler flags.\n",
      "2024-05-15 04:17:01.183381: W tensorflow/compiler/tf2tensorrt/utils/py_utils.cc:38] TF-TRT Warning: Could not find TensorRT\n"
     ]
    },
    {
     "name": "stdout",
     "output_type": "stream",
     "text": [
      "\n",
      "==================================== Inference Configuration ====================================\n",
      " ---> Type of Modeling: naive\n",
      " ---> Total Batch Size: 32\n",
      " ---> Path of ckpt: ./output/ckpt/VCTK_naive\n",
      " ---> Path of log: ./output/log/VCTK_naive\n",
      " ---> Path of result: ./output/result/VCTK_naive\n",
      "================================================================================================\n"
     ]
    },
    {
     "name": "stderr",
     "output_type": "stream",
     "text": [
      "/home/ydoit/AIGC/diffgan/diffgan/lib/python3.10/site-packages/torch/nn/utils/weight_norm.py:28: UserWarning: torch.nn.utils.weight_norm is deprecated in favor of torch.nn.utils.parametrizations.weight_norm.\n",
      "  warnings.warn(\"torch.nn.utils.weight_norm is deprecated in favor of torch.nn.utils.parametrizations.weight_norm.\")\n"
     ]
    },
    {
     "name": "stdout",
     "output_type": "stream",
     "text": [
      "Removing weight norm...\n",
      "Raw Text Sequence: But someone forgot to tell the Chechens.\n",
      "\n",
      "Phoneme Sequence: {B AH1 T S AH1 M W AH2 N F AO0 R G AA1 T T AH0 T EH1 L DH AH0 CH EH1 CH IH0 N Z sp}\n"
     ]
    },
    {
     "name": "stderr",
     "output_type": "stream",
     "text": [
      "  0%|          | 0/1 [00:00<?, ?it/s]\n",
      "sample time step:   0%|          | 0/4 [00:00<?, ?it/s]\u001b[A\n",
      "sample time step: 100%|██████████| 4/4 [00:00<00:00,  8.80it/s]\u001b[A\n",
      "100%|██████████| 1/1 [00:01<00:00,  1.73s/it]\n",
      "2024-05-15 04:17:13.675764: I tensorflow/core/platform/cpu_feature_guard.cc:210] This TensorFlow binary is optimized to use available CPU instructions in performance-critical operations.\n",
      "To enable the following instructions: AVX2 FMA, in other operations, rebuild TensorFlow with the appropriate compiler flags.\n",
      "2024-05-15 04:17:14.424339: W tensorflow/compiler/tf2tensorrt/utils/py_utils.cc:38] TF-TRT Warning: Could not find TensorRT\n"
     ]
    },
    {
     "name": "stdout",
     "output_type": "stream",
     "text": [
      "\n",
      "==================================== Inference Configuration ====================================\n",
      " ---> Type of Modeling: naive\n",
      " ---> Total Batch Size: 32\n",
      " ---> Path of ckpt: ./output/ckpt/VCTK_naive\n",
      " ---> Path of log: ./output/log/VCTK_naive\n",
      " ---> Path of result: ./output/result/VCTK_naive\n",
      "================================================================================================\n"
     ]
    },
    {
     "name": "stderr",
     "output_type": "stream",
     "text": [
      "/home/ydoit/AIGC/diffgan/diffgan/lib/python3.10/site-packages/torch/nn/utils/weight_norm.py:28: UserWarning: torch.nn.utils.weight_norm is deprecated in favor of torch.nn.utils.parametrizations.weight_norm.\n",
      "  warnings.warn(\"torch.nn.utils.weight_norm is deprecated in favor of torch.nn.utils.parametrizations.weight_norm.\")\n"
     ]
    },
    {
     "name": "stdout",
     "output_type": "stream",
     "text": [
      "Removing weight norm...\n",
      "Raw Text Sequence: I'm so grateful for that.\n",
      "\n",
      "Phoneme Sequence: {AH0 M S OW1 G R EY1 T F AH0 L F AO1 R DH AE1 T sp}\n"
     ]
    },
    {
     "name": "stderr",
     "output_type": "stream",
     "text": [
      "  0%|          | 0/1 [00:00<?, ?it/s]\n",
      "sample time step:   0%|          | 0/4 [00:00<?, ?it/s]\u001b[A/home/ydoit/AIGC/diffgan/diffgan/lib/python3.10/site-packages/torch/nn/modules/conv.py:306: UserWarning: Plan failed with a cudnnException: CUDNN_BACKEND_EXECUTION_PLAN_DESCRIPTOR: cudnnFinalize Descriptor Failed cudnn_status: CUDNN_STATUS_NOT_SUPPORTED (Triggered internally at ../aten/src/ATen/native/cudnn/Conv_v8.cpp:919.)\n",
      "  return F.conv1d(input, weight, bias, self.stride,\n",
      "sample time step: 100%|██████████| 4/4 [00:00<00:00, 40.89it/s]\n",
      "100%|██████████| 1/1 [00:02<00:00,  2.26s/it]\n",
      "2024-05-15 04:17:29.259764: I tensorflow/core/platform/cpu_feature_guard.cc:210] This TensorFlow binary is optimized to use available CPU instructions in performance-critical operations.\n",
      "To enable the following instructions: AVX2 FMA, in other operations, rebuild TensorFlow with the appropriate compiler flags.\n",
      "2024-05-15 04:17:30.013712: W tensorflow/compiler/tf2tensorrt/utils/py_utils.cc:38] TF-TRT Warning: Could not find TensorRT\n"
     ]
    },
    {
     "name": "stdout",
     "output_type": "stream",
     "text": [
      "\n",
      "==================================== Inference Configuration ====================================\n",
      " ---> Type of Modeling: naive\n",
      " ---> Total Batch Size: 32\n",
      " ---> Path of ckpt: ./output/ckpt/VCTK_naive\n",
      " ---> Path of log: ./output/log/VCTK_naive\n",
      " ---> Path of result: ./output/result/VCTK_naive\n",
      "================================================================================================\n"
     ]
    },
    {
     "name": "stderr",
     "output_type": "stream",
     "text": [
      "/home/ydoit/AIGC/diffgan/diffgan/lib/python3.10/site-packages/torch/nn/utils/weight_norm.py:28: UserWarning: torch.nn.utils.weight_norm is deprecated in favor of torch.nn.utils.parametrizations.weight_norm.\n",
      "  warnings.warn(\"torch.nn.utils.weight_norm is deprecated in favor of torch.nn.utils.parametrizations.weight_norm.\")\n"
     ]
    },
    {
     "name": "stdout",
     "output_type": "stream",
     "text": [
      "Removing weight norm...\n",
      "Raw Text Sequence: We've just decided to do something about it.\n",
      "\n",
      "Phoneme Sequence: {W IY1 V JH AH1 S T D IH2 S AY1 D IH0 D T AH0 D UW1 S AH1 M TH IH0 NG AH0 B AW1 T IH0 T sp}\n"
     ]
    },
    {
     "name": "stderr",
     "output_type": "stream",
     "text": [
      "  0%|          | 0/1 [00:00<?, ?it/s]\n",
      "sample time step:   0%|          | 0/4 [00:00<?, ?it/s]\u001b[A/home/ydoit/AIGC/diffgan/diffgan/lib/python3.10/site-packages/torch/nn/modules/conv.py:306: UserWarning: Plan failed with a cudnnException: CUDNN_BACKEND_EXECUTION_PLAN_DESCRIPTOR: cudnnFinalize Descriptor Failed cudnn_status: CUDNN_STATUS_NOT_SUPPORTED (Triggered internally at ../aten/src/ATen/native/cudnn/Conv_v8.cpp:919.)\n",
      "  return F.conv1d(input, weight, bias, self.stride,\n",
      "sample time step: 100%|██████████| 4/4 [00:00<00:00, 41.69it/s]\n",
      "100%|██████████| 1/1 [00:02<00:00,  2.07s/it]\n",
      "2024-05-15 04:17:42.084711: I tensorflow/core/platform/cpu_feature_guard.cc:210] This TensorFlow binary is optimized to use available CPU instructions in performance-critical operations.\n",
      "To enable the following instructions: AVX2 FMA, in other operations, rebuild TensorFlow with the appropriate compiler flags.\n",
      "2024-05-15 04:17:42.831358: W tensorflow/compiler/tf2tensorrt/utils/py_utils.cc:38] TF-TRT Warning: Could not find TensorRT\n"
     ]
    },
    {
     "name": "stdout",
     "output_type": "stream",
     "text": [
      "\n",
      "==================================== Inference Configuration ====================================\n",
      " ---> Type of Modeling: naive\n",
      " ---> Total Batch Size: 32\n",
      " ---> Path of ckpt: ./output/ckpt/VCTK_naive\n",
      " ---> Path of log: ./output/log/VCTK_naive\n",
      " ---> Path of result: ./output/result/VCTK_naive\n",
      "================================================================================================\n"
     ]
    },
    {
     "name": "stderr",
     "output_type": "stream",
     "text": [
      "/home/ydoit/AIGC/diffgan/diffgan/lib/python3.10/site-packages/torch/nn/utils/weight_norm.py:28: UserWarning: torch.nn.utils.weight_norm is deprecated in favor of torch.nn.utils.parametrizations.weight_norm.\n",
      "  warnings.warn(\"torch.nn.utils.weight_norm is deprecated in favor of torch.nn.utils.parametrizations.weight_norm.\")\n"
     ]
    },
    {
     "name": "stdout",
     "output_type": "stream",
     "text": [
      "Removing weight norm...\n",
      "Raw Text Sequence: It's a dead end.\n",
      "\n",
      "Phoneme Sequence: {IH0 T S AH0 D EH1 D EH1 N D sp}\n"
     ]
    },
    {
     "name": "stderr",
     "output_type": "stream",
     "text": [
      "  0%|          | 0/1 [00:00<?, ?it/s]\n",
      "sample time step:   0%|          | 0/4 [00:00<?, ?it/s]\u001b[A\n",
      "sample time step: 100%|██████████| 4/4 [00:00<00:00, 10.79it/s]\u001b[A\n",
      "100%|██████████| 1/1 [00:01<00:00,  1.73s/it]\n",
      "2024-05-15 04:17:55.220176: I tensorflow/core/platform/cpu_feature_guard.cc:210] This TensorFlow binary is optimized to use available CPU instructions in performance-critical operations.\n",
      "To enable the following instructions: AVX2 FMA, in other operations, rebuild TensorFlow with the appropriate compiler flags.\n",
      "2024-05-15 04:17:55.941189: W tensorflow/compiler/tf2tensorrt/utils/py_utils.cc:38] TF-TRT Warning: Could not find TensorRT\n"
     ]
    },
    {
     "name": "stdout",
     "output_type": "stream",
     "text": [
      "\n",
      "==================================== Inference Configuration ====================================\n",
      " ---> Type of Modeling: naive\n",
      " ---> Total Batch Size: 32\n",
      " ---> Path of ckpt: ./output/ckpt/VCTK_naive\n",
      " ---> Path of log: ./output/log/VCTK_naive\n",
      " ---> Path of result: ./output/result/VCTK_naive\n",
      "================================================================================================\n"
     ]
    },
    {
     "name": "stderr",
     "output_type": "stream",
     "text": [
      "/home/ydoit/AIGC/diffgan/diffgan/lib/python3.10/site-packages/torch/nn/utils/weight_norm.py:28: UserWarning: torch.nn.utils.weight_norm is deprecated in favor of torch.nn.utils.parametrizations.weight_norm.\n",
      "  warnings.warn(\"torch.nn.utils.weight_norm is deprecated in favor of torch.nn.utils.parametrizations.weight_norm.\")\n"
     ]
    },
    {
     "name": "stdout",
     "output_type": "stream",
     "text": [
      "Removing weight norm...\n",
      "Raw Text Sequence: Little Voice is on general release.\n",
      "\n",
      "Phoneme Sequence: {L IH1 T AH0 L V OY1 S IH0 Z AA1 N JH EH1 N ER0 AH0 L R IY0 L IY1 S sp}\n"
     ]
    },
    {
     "name": "stderr",
     "output_type": "stream",
     "text": [
      "  0%|          | 0/1 [00:00<?, ?it/s]\n",
      "sample time step:   0%|          | 0/4 [00:00<?, ?it/s]\u001b[A/home/ydoit/AIGC/diffgan/diffgan/lib/python3.10/site-packages/torch/nn/modules/conv.py:306: UserWarning: Plan failed with a cudnnException: CUDNN_BACKEND_EXECUTION_PLAN_DESCRIPTOR: cudnnFinalize Descriptor Failed cudnn_status: CUDNN_STATUS_NOT_SUPPORTED (Triggered internally at ../aten/src/ATen/native/cudnn/Conv_v8.cpp:919.)\n",
      "  return F.conv1d(input, weight, bias, self.stride,\n",
      "\n",
      "sample time step: 100%|██████████| 4/4 [00:00<00:00,  9.87it/s]\u001b[A\n",
      "100%|██████████| 1/1 [00:01<00:00,  1.74s/it]\n",
      "2024-05-15 04:18:08.073262: I tensorflow/core/platform/cpu_feature_guard.cc:210] This TensorFlow binary is optimized to use available CPU instructions in performance-critical operations.\n",
      "To enable the following instructions: AVX2 FMA, in other operations, rebuild TensorFlow with the appropriate compiler flags.\n",
      "2024-05-15 04:18:08.789680: W tensorflow/compiler/tf2tensorrt/utils/py_utils.cc:38] TF-TRT Warning: Could not find TensorRT\n"
     ]
    },
    {
     "name": "stdout",
     "output_type": "stream",
     "text": [
      "\n",
      "==================================== Inference Configuration ====================================\n",
      " ---> Type of Modeling: naive\n",
      " ---> Total Batch Size: 32\n",
      " ---> Path of ckpt: ./output/ckpt/VCTK_naive\n",
      " ---> Path of log: ./output/log/VCTK_naive\n",
      " ---> Path of result: ./output/result/VCTK_naive\n",
      "================================================================================================\n"
     ]
    },
    {
     "name": "stderr",
     "output_type": "stream",
     "text": [
      "/home/ydoit/AIGC/diffgan/diffgan/lib/python3.10/site-packages/torch/nn/utils/weight_norm.py:28: UserWarning: torch.nn.utils.weight_norm is deprecated in favor of torch.nn.utils.parametrizations.weight_norm.\n",
      "  warnings.warn(\"torch.nn.utils.weight_norm is deprecated in favor of torch.nn.utils.parametrizations.weight_norm.\")\n"
     ]
    },
    {
     "name": "stdout",
     "output_type": "stream",
     "text": [
      "Removing weight norm...\n",
      "Raw Text Sequence: I am an innocent man.\n",
      "\n",
      "Phoneme Sequence: {AY1 AE1 M AE1 N IH1 N AH0 S AH0 N T M AE1 N sp}\n"
     ]
    },
    {
     "name": "stderr",
     "output_type": "stream",
     "text": [
      "  0%|          | 0/1 [00:00<?, ?it/s]\n",
      "sample time step:   0%|          | 0/4 [00:00<?, ?it/s]\u001b[A/home/ydoit/AIGC/diffgan/diffgan/lib/python3.10/site-packages/torch/nn/modules/conv.py:306: UserWarning: Plan failed with a cudnnException: CUDNN_BACKEND_EXECUTION_PLAN_DESCRIPTOR: cudnnFinalize Descriptor Failed cudnn_status: CUDNN_STATUS_NOT_SUPPORTED (Triggered internally at ../aten/src/ATen/native/cudnn/Conv_v8.cpp:919.)\n",
      "  return F.conv1d(input, weight, bias, self.stride,\n",
      "sample time step: 100%|██████████| 4/4 [00:00<00:00, 42.40it/s]\n",
      "100%|██████████| 1/1 [00:02<00:00,  2.07s/it]\n",
      "2024-05-15 04:18:21.417008: I tensorflow/core/platform/cpu_feature_guard.cc:210] This TensorFlow binary is optimized to use available CPU instructions in performance-critical operations.\n",
      "To enable the following instructions: AVX2 FMA, in other operations, rebuild TensorFlow with the appropriate compiler flags.\n",
      "2024-05-15 04:18:22.194721: W tensorflow/compiler/tf2tensorrt/utils/py_utils.cc:38] TF-TRT Warning: Could not find TensorRT\n"
     ]
    },
    {
     "name": "stdout",
     "output_type": "stream",
     "text": [
      "\n",
      "==================================== Inference Configuration ====================================\n",
      " ---> Type of Modeling: naive\n",
      " ---> Total Batch Size: 32\n",
      " ---> Path of ckpt: ./output/ckpt/VCTK_naive\n",
      " ---> Path of log: ./output/log/VCTK_naive\n",
      " ---> Path of result: ./output/result/VCTK_naive\n",
      "================================================================================================\n"
     ]
    },
    {
     "name": "stderr",
     "output_type": "stream",
     "text": [
      "/home/ydoit/AIGC/diffgan/diffgan/lib/python3.10/site-packages/torch/nn/utils/weight_norm.py:28: UserWarning: torch.nn.utils.weight_norm is deprecated in favor of torch.nn.utils.parametrizations.weight_norm.\n",
      "  warnings.warn(\"torch.nn.utils.weight_norm is deprecated in favor of torch.nn.utils.parametrizations.weight_norm.\")\n"
     ]
    },
    {
     "name": "stdout",
     "output_type": "stream",
     "text": [
      "Removing weight norm...\n",
      "Raw Text Sequence: They are only interested in attacking Labour.\n",
      "\n",
      "Phoneme Sequence: {DH EY1 AA1 R OW1 N L IY0 IH1 N T ER0 AH0 S T AH0 D IH0 N AH0 T AE1 K IH0 NG L EY1 B AW2 R sp}\n"
     ]
    },
    {
     "name": "stderr",
     "output_type": "stream",
     "text": [
      "  0%|          | 0/1 [00:00<?, ?it/s]\n",
      "sample time step:   0%|          | 0/4 [00:00<?, ?it/s]\u001b[A\n",
      "sample time step: 100%|██████████| 4/4 [00:00<00:00,  8.14it/s]\u001b[A\n",
      "100%|██████████| 1/1 [00:01<00:00,  1.70s/it]\n",
      "2024-05-15 04:18:36.305065: I tensorflow/core/platform/cpu_feature_guard.cc:210] This TensorFlow binary is optimized to use available CPU instructions in performance-critical operations.\n",
      "To enable the following instructions: AVX2 FMA, in other operations, rebuild TensorFlow with the appropriate compiler flags.\n",
      "2024-05-15 04:18:37.005494: W tensorflow/compiler/tf2tensorrt/utils/py_utils.cc:38] TF-TRT Warning: Could not find TensorRT\n"
     ]
    },
    {
     "name": "stdout",
     "output_type": "stream",
     "text": [
      "\n",
      "==================================== Inference Configuration ====================================\n",
      " ---> Type of Modeling: naive\n",
      " ---> Total Batch Size: 32\n",
      " ---> Path of ckpt: ./output/ckpt/VCTK_naive\n",
      " ---> Path of log: ./output/log/VCTK_naive\n",
      " ---> Path of result: ./output/result/VCTK_naive\n",
      "================================================================================================\n"
     ]
    },
    {
     "name": "stderr",
     "output_type": "stream",
     "text": [
      "/home/ydoit/AIGC/diffgan/diffgan/lib/python3.10/site-packages/torch/nn/utils/weight_norm.py:28: UserWarning: torch.nn.utils.weight_norm is deprecated in favor of torch.nn.utils.parametrizations.weight_norm.\n",
      "  warnings.warn(\"torch.nn.utils.weight_norm is deprecated in favor of torch.nn.utils.parametrizations.weight_norm.\")\n"
     ]
    },
    {
     "name": "stdout",
     "output_type": "stream",
     "text": [
      "Removing weight norm...\n",
      "Raw Text Sequence: There is no date on this document.\n",
      "\n",
      "Phoneme Sequence: {DH EH1 R IH0 Z N OW1 D EY1 T AA1 N DH IH0 S D AA1 K Y AH0 M EH0 N T sp}\n"
     ]
    },
    {
     "name": "stderr",
     "output_type": "stream",
     "text": [
      "  0%|          | 0/1 [00:00<?, ?it/s]\n",
      "sample time step:   0%|          | 0/4 [00:00<?, ?it/s]\u001b[A\n",
      "sample time step: 100%|██████████| 4/4 [00:00<00:00,  6.78it/s]\u001b[A\n",
      "100%|██████████| 1/1 [00:02<00:00,  2.62s/it]\n",
      "2024-05-15 04:18:51.263022: I tensorflow/core/platform/cpu_feature_guard.cc:210] This TensorFlow binary is optimized to use available CPU instructions in performance-critical operations.\n",
      "To enable the following instructions: AVX2 FMA, in other operations, rebuild TensorFlow with the appropriate compiler flags.\n",
      "2024-05-15 04:18:51.985406: W tensorflow/compiler/tf2tensorrt/utils/py_utils.cc:38] TF-TRT Warning: Could not find TensorRT\n"
     ]
    },
    {
     "name": "stdout",
     "output_type": "stream",
     "text": [
      "\n",
      "==================================== Inference Configuration ====================================\n",
      " ---> Type of Modeling: naive\n",
      " ---> Total Batch Size: 32\n",
      " ---> Path of ckpt: ./output/ckpt/VCTK_naive\n",
      " ---> Path of log: ./output/log/VCTK_naive\n",
      " ---> Path of result: ./output/result/VCTK_naive\n",
      "================================================================================================\n"
     ]
    },
    {
     "name": "stderr",
     "output_type": "stream",
     "text": [
      "/home/ydoit/AIGC/diffgan/diffgan/lib/python3.10/site-packages/torch/nn/utils/weight_norm.py:28: UserWarning: torch.nn.utils.weight_norm is deprecated in favor of torch.nn.utils.parametrizations.weight_norm.\n",
      "  warnings.warn(\"torch.nn.utils.weight_norm is deprecated in favor of torch.nn.utils.parametrizations.weight_norm.\")\n"
     ]
    },
    {
     "name": "stdout",
     "output_type": "stream",
     "text": [
      "Removing weight norm...\n",
      "Raw Text Sequence: That would open the gates of hell.\n",
      "\n",
      "Phoneme Sequence: {DH AE1 T W UH1 D OW1 P AH0 N DH AH0 G EY1 T S AH0 V HH EH1 L sp}\n"
     ]
    },
    {
     "name": "stderr",
     "output_type": "stream",
     "text": [
      "  0%|          | 0/1 [00:00<?, ?it/s]\n",
      "sample time step: 100%|██████████| 4/4 [00:00<00:00, 47.64it/s]\n",
      "100%|██████████| 1/1 [00:01<00:00,  1.72s/it]\n",
      "2024-05-15 04:19:03.728856: I tensorflow/core/platform/cpu_feature_guard.cc:210] This TensorFlow binary is optimized to use available CPU instructions in performance-critical operations.\n",
      "To enable the following instructions: AVX2 FMA, in other operations, rebuild TensorFlow with the appropriate compiler flags.\n",
      "2024-05-15 04:19:04.459647: W tensorflow/compiler/tf2tensorrt/utils/py_utils.cc:38] TF-TRT Warning: Could not find TensorRT\n"
     ]
    },
    {
     "name": "stdout",
     "output_type": "stream",
     "text": [
      "\n",
      "==================================== Inference Configuration ====================================\n",
      " ---> Type of Modeling: naive\n",
      " ---> Total Batch Size: 32\n",
      " ---> Path of ckpt: ./output/ckpt/VCTK_naive\n",
      " ---> Path of log: ./output/log/VCTK_naive\n",
      " ---> Path of result: ./output/result/VCTK_naive\n",
      "================================================================================================\n"
     ]
    },
    {
     "name": "stderr",
     "output_type": "stream",
     "text": [
      "/home/ydoit/AIGC/diffgan/diffgan/lib/python3.10/site-packages/torch/nn/utils/weight_norm.py:28: UserWarning: torch.nn.utils.weight_norm is deprecated in favor of torch.nn.utils.parametrizations.weight_norm.\n",
      "  warnings.warn(\"torch.nn.utils.weight_norm is deprecated in favor of torch.nn.utils.parametrizations.weight_norm.\")\n"
     ]
    },
    {
     "name": "stdout",
     "output_type": "stream",
     "text": [
      "Removing weight norm...\n",
      "Raw Text Sequence: In addition, certain areas are closed at certain times.\n",
      "\n",
      "Phoneme Sequence: {IH0 N AH0 D IH1 SH AH0 N sp S ER1 T AH0 N EH1 R IY0 AH0 Z AA1 R K L OW1 Z D AE1 T S ER1 T AH0 N T AY1 M Z sp}\n"
     ]
    },
    {
     "name": "stderr",
     "output_type": "stream",
     "text": [
      "  0%|          | 0/1 [00:00<?, ?it/s]\n",
      "sample time step:   0%|          | 0/4 [00:00<?, ?it/s]\u001b[A\n",
      "sample time step: 100%|██████████| 4/4 [00:00<00:00,  8.92it/s]\u001b[A\n",
      "100%|██████████| 1/1 [00:01<00:00,  1.71s/it]\n",
      "2024-05-15 04:19:16.634965: I tensorflow/core/platform/cpu_feature_guard.cc:210] This TensorFlow binary is optimized to use available CPU instructions in performance-critical operations.\n",
      "To enable the following instructions: AVX2 FMA, in other operations, rebuild TensorFlow with the appropriate compiler flags.\n",
      "2024-05-15 04:19:17.361830: W tensorflow/compiler/tf2tensorrt/utils/py_utils.cc:38] TF-TRT Warning: Could not find TensorRT\n"
     ]
    },
    {
     "name": "stdout",
     "output_type": "stream",
     "text": [
      "\n",
      "==================================== Inference Configuration ====================================\n",
      " ---> Type of Modeling: naive\n",
      " ---> Total Batch Size: 32\n",
      " ---> Path of ckpt: ./output/ckpt/VCTK_naive\n",
      " ---> Path of log: ./output/log/VCTK_naive\n",
      " ---> Path of result: ./output/result/VCTK_naive\n",
      "================================================================================================\n"
     ]
    },
    {
     "name": "stderr",
     "output_type": "stream",
     "text": [
      "/home/ydoit/AIGC/diffgan/diffgan/lib/python3.10/site-packages/torch/nn/utils/weight_norm.py:28: UserWarning: torch.nn.utils.weight_norm is deprecated in favor of torch.nn.utils.parametrizations.weight_norm.\n",
      "  warnings.warn(\"torch.nn.utils.weight_norm is deprecated in favor of torch.nn.utils.parametrizations.weight_norm.\")\n"
     ]
    },
    {
     "name": "stdout",
     "output_type": "stream",
     "text": [
      "Removing weight norm...\n",
      "Raw Text Sequence: I can't believe we didn't win that game.\n",
      "\n",
      "Phoneme Sequence: {AY1 K AE1 N T B IH0 L IY1 V W IY1 D IH1 D AH0 N W IH1 N DH AE1 T G EY1 M sp}\n"
     ]
    },
    {
     "name": "stderr",
     "output_type": "stream",
     "text": [
      "  0%|          | 0/1 [00:00<?, ?it/s]\n",
      "sample time step:   0%|          | 0/4 [00:00<?, ?it/s]\u001b[A\n",
      "sample time step: 100%|██████████| 4/4 [00:00<00:00,  9.77it/s]\u001b[A\n",
      "100%|██████████| 1/1 [00:01<00:00,  1.80s/it]\n",
      "2024-05-15 04:19:29.797812: I tensorflow/core/platform/cpu_feature_guard.cc:210] This TensorFlow binary is optimized to use available CPU instructions in performance-critical operations.\n",
      "To enable the following instructions: AVX2 FMA, in other operations, rebuild TensorFlow with the appropriate compiler flags.\n",
      "2024-05-15 04:19:30.592633: W tensorflow/compiler/tf2tensorrt/utils/py_utils.cc:38] TF-TRT Warning: Could not find TensorRT\n"
     ]
    },
    {
     "name": "stdout",
     "output_type": "stream",
     "text": [
      "\n",
      "==================================== Inference Configuration ====================================\n",
      " ---> Type of Modeling: naive\n",
      " ---> Total Batch Size: 32\n",
      " ---> Path of ckpt: ./output/ckpt/VCTK_naive\n",
      " ---> Path of log: ./output/log/VCTK_naive\n",
      " ---> Path of result: ./output/result/VCTK_naive\n",
      "================================================================================================\n"
     ]
    },
    {
     "name": "stderr",
     "output_type": "stream",
     "text": [
      "/home/ydoit/AIGC/diffgan/diffgan/lib/python3.10/site-packages/torch/nn/utils/weight_norm.py:28: UserWarning: torch.nn.utils.weight_norm is deprecated in favor of torch.nn.utils.parametrizations.weight_norm.\n",
      "  warnings.warn(\"torch.nn.utils.weight_norm is deprecated in favor of torch.nn.utils.parametrizations.weight_norm.\")\n"
     ]
    },
    {
     "name": "stdout",
     "output_type": "stream",
     "text": [
      "Removing weight norm...\n",
      "Raw Text Sequence: I decided it is going to be William.\n",
      "\n",
      "Phoneme Sequence: {AY1 D IH2 S AY1 D IH0 D IH0 T IH0 Z G OW1 IH0 N T AH0 B IY0 W IH1 L Y AH0 M sp}\n"
     ]
    },
    {
     "name": "stderr",
     "output_type": "stream",
     "text": [
      "  0%|          | 0/1 [00:00<?, ?it/s]\n",
      "sample time step: 100%|██████████| 4/4 [00:00<00:00, 45.78it/s]\n",
      "100%|██████████| 1/1 [00:01<00:00,  1.72s/it]\n",
      "2024-05-15 04:19:43.143389: I tensorflow/core/platform/cpu_feature_guard.cc:210] This TensorFlow binary is optimized to use available CPU instructions in performance-critical operations.\n",
      "To enable the following instructions: AVX2 FMA, in other operations, rebuild TensorFlow with the appropriate compiler flags.\n",
      "2024-05-15 04:19:43.963155: W tensorflow/compiler/tf2tensorrt/utils/py_utils.cc:38] TF-TRT Warning: Could not find TensorRT\n"
     ]
    },
    {
     "name": "stdout",
     "output_type": "stream",
     "text": [
      "\n",
      "==================================== Inference Configuration ====================================\n",
      " ---> Type of Modeling: naive\n",
      " ---> Total Batch Size: 32\n",
      " ---> Path of ckpt: ./output/ckpt/VCTK_naive\n",
      " ---> Path of log: ./output/log/VCTK_naive\n",
      " ---> Path of result: ./output/result/VCTK_naive\n",
      "================================================================================================\n"
     ]
    },
    {
     "name": "stderr",
     "output_type": "stream",
     "text": [
      "/home/ydoit/AIGC/diffgan/diffgan/lib/python3.10/site-packages/torch/nn/utils/weight_norm.py:28: UserWarning: torch.nn.utils.weight_norm is deprecated in favor of torch.nn.utils.parametrizations.weight_norm.\n",
      "  warnings.warn(\"torch.nn.utils.weight_norm is deprecated in favor of torch.nn.utils.parametrizations.weight_norm.\")\n"
     ]
    },
    {
     "name": "stdout",
     "output_type": "stream",
     "text": [
      "Removing weight norm...\n",
      "Raw Text Sequence: This is a scheme that has a lot of potential.\n",
      "\n",
      "Phoneme Sequence: {DH IH0 S IH0 Z AH0 S K IY1 M DH AE1 T HH AE1 Z AH0 L AA1 T AH0 V P AH0 T EH1 N CH AH0 L sp}\n"
     ]
    },
    {
     "name": "stderr",
     "output_type": "stream",
     "text": [
      "  0%|          | 0/1 [00:00<?, ?it/s]\n",
      "sample time step: 100%|██████████| 4/4 [00:00<00:00, 45.08it/s]\n",
      "100%|██████████| 1/1 [00:02<00:00,  2.21s/it]\n",
      "2024-05-15 04:19:56.164730: I tensorflow/core/platform/cpu_feature_guard.cc:210] This TensorFlow binary is optimized to use available CPU instructions in performance-critical operations.\n",
      "To enable the following instructions: AVX2 FMA, in other operations, rebuild TensorFlow with the appropriate compiler flags.\n",
      "2024-05-15 04:19:56.920159: W tensorflow/compiler/tf2tensorrt/utils/py_utils.cc:38] TF-TRT Warning: Could not find TensorRT\n"
     ]
    },
    {
     "name": "stdout",
     "output_type": "stream",
     "text": [
      "\n",
      "==================================== Inference Configuration ====================================\n",
      " ---> Type of Modeling: naive\n",
      " ---> Total Batch Size: 32\n",
      " ---> Path of ckpt: ./output/ckpt/VCTK_naive\n",
      " ---> Path of log: ./output/log/VCTK_naive\n",
      " ---> Path of result: ./output/result/VCTK_naive\n",
      "================================================================================================\n"
     ]
    },
    {
     "name": "stderr",
     "output_type": "stream",
     "text": [
      "/home/ydoit/AIGC/diffgan/diffgan/lib/python3.10/site-packages/torch/nn/utils/weight_norm.py:28: UserWarning: torch.nn.utils.weight_norm is deprecated in favor of torch.nn.utils.parametrizations.weight_norm.\n",
      "  warnings.warn(\"torch.nn.utils.weight_norm is deprecated in favor of torch.nn.utils.parametrizations.weight_norm.\")\n"
     ]
    },
    {
     "name": "stdout",
     "output_type": "stream",
     "text": [
      "Removing weight norm...\n",
      "Raw Text Sequence: The youngsters have put us in a strong position.\n",
      "\n",
      "Phoneme Sequence: {DH AH0 Y AH1 NG S T ER0 Z HH AE1 V P UH1 T AH1 S IH0 N AH0 S T R AO1 NG P AH0 Z IH1 SH AH0 N sp}\n"
     ]
    },
    {
     "name": "stderr",
     "output_type": "stream",
     "text": [
      "  0%|          | 0/1 [00:00<?, ?it/s]\n",
      "sample time step:   0%|          | 0/4 [00:00<?, ?it/s]\u001b[A\n",
      "sample time step: 100%|██████████| 4/4 [00:00<00:00,  6.42it/s]\u001b[A\n",
      "100%|██████████| 1/1 [00:02<00:00,  2.51s/it]\n",
      "2024-05-15 04:20:10.601145: I tensorflow/core/platform/cpu_feature_guard.cc:210] This TensorFlow binary is optimized to use available CPU instructions in performance-critical operations.\n",
      "To enable the following instructions: AVX2 FMA, in other operations, rebuild TensorFlow with the appropriate compiler flags.\n",
      "2024-05-15 04:20:11.356847: W tensorflow/compiler/tf2tensorrt/utils/py_utils.cc:38] TF-TRT Warning: Could not find TensorRT\n"
     ]
    },
    {
     "name": "stdout",
     "output_type": "stream",
     "text": [
      "\n",
      "==================================== Inference Configuration ====================================\n",
      " ---> Type of Modeling: naive\n",
      " ---> Total Batch Size: 32\n",
      " ---> Path of ckpt: ./output/ckpt/VCTK_naive\n",
      " ---> Path of log: ./output/log/VCTK_naive\n",
      " ---> Path of result: ./output/result/VCTK_naive\n",
      "================================================================================================\n"
     ]
    },
    {
     "name": "stderr",
     "output_type": "stream",
     "text": [
      "/home/ydoit/AIGC/diffgan/diffgan/lib/python3.10/site-packages/torch/nn/utils/weight_norm.py:28: UserWarning: torch.nn.utils.weight_norm is deprecated in favor of torch.nn.utils.parametrizations.weight_norm.\n",
      "  warnings.warn(\"torch.nn.utils.weight_norm is deprecated in favor of torch.nn.utils.parametrizations.weight_norm.\")\n"
     ]
    },
    {
     "name": "stdout",
     "output_type": "stream",
     "text": [
      "Removing weight norm...\n",
      "Raw Text Sequence: She was so full of life.\n",
      "\n",
      "Phoneme Sequence: {SH IY1 W AA1 Z S OW1 F UH1 L AH0 V L AY1 F sp}\n"
     ]
    },
    {
     "name": "stderr",
     "output_type": "stream",
     "text": [
      "  0%|          | 0/1 [00:00<?, ?it/s]\n",
      "sample time step:   0%|          | 0/4 [00:00<?, ?it/s]\u001b[A/home/ydoit/AIGC/diffgan/diffgan/lib/python3.10/site-packages/torch/nn/modules/conv.py:306: UserWarning: Plan failed with a cudnnException: CUDNN_BACKEND_EXECUTION_PLAN_DESCRIPTOR: cudnnFinalize Descriptor Failed cudnn_status: CUDNN_STATUS_NOT_SUPPORTED (Triggered internally at ../aten/src/ATen/native/cudnn/Conv_v8.cpp:919.)\n",
      "  return F.conv1d(input, weight, bias, self.stride,\n",
      "\n",
      "sample time step: 100%|██████████| 4/4 [00:00<00:00,  5.99it/s]\u001b[A\n",
      "100%|██████████| 1/1 [00:02<00:00,  2.50s/it]\n",
      "2024-05-15 04:20:26.356899: I tensorflow/core/platform/cpu_feature_guard.cc:210] This TensorFlow binary is optimized to use available CPU instructions in performance-critical operations.\n",
      "To enable the following instructions: AVX2 FMA, in other operations, rebuild TensorFlow with the appropriate compiler flags.\n",
      "2024-05-15 04:20:27.133559: W tensorflow/compiler/tf2tensorrt/utils/py_utils.cc:38] TF-TRT Warning: Could not find TensorRT\n"
     ]
    },
    {
     "name": "stdout",
     "output_type": "stream",
     "text": [
      "\n",
      "==================================== Inference Configuration ====================================\n",
      " ---> Type of Modeling: naive\n",
      " ---> Total Batch Size: 32\n",
      " ---> Path of ckpt: ./output/ckpt/VCTK_naive\n",
      " ---> Path of log: ./output/log/VCTK_naive\n",
      " ---> Path of result: ./output/result/VCTK_naive\n",
      "================================================================================================\n"
     ]
    },
    {
     "name": "stderr",
     "output_type": "stream",
     "text": [
      "/home/ydoit/AIGC/diffgan/diffgan/lib/python3.10/site-packages/torch/nn/utils/weight_norm.py:28: UserWarning: torch.nn.utils.weight_norm is deprecated in favor of torch.nn.utils.parametrizations.weight_norm.\n",
      "  warnings.warn(\"torch.nn.utils.weight_norm is deprecated in favor of torch.nn.utils.parametrizations.weight_norm.\")\n"
     ]
    },
    {
     "name": "stdout",
     "output_type": "stream",
     "text": [
      "Removing weight norm...\n",
      "Raw Text Sequence: We are entirely happy with Russell.\n",
      "\n",
      "Phoneme Sequence: {W IY1 AA1 R IH0 N T AY1 ER0 L IY0 HH AE1 P IY0 W IH0 DH R AH1 S AH0 L sp}\n"
     ]
    },
    {
     "name": "stderr",
     "output_type": "stream",
     "text": [
      "  0%|          | 0/1 [00:00<?, ?it/s]\n",
      "sample time step: 100%|██████████| 4/4 [00:00<00:00, 42.08it/s]\n",
      "100%|██████████| 1/1 [00:01<00:00,  1.93s/it]\n",
      "2024-05-15 04:20:40.522140: I tensorflow/core/platform/cpu_feature_guard.cc:210] This TensorFlow binary is optimized to use available CPU instructions in performance-critical operations.\n",
      "To enable the following instructions: AVX2 FMA, in other operations, rebuild TensorFlow with the appropriate compiler flags.\n",
      "2024-05-15 04:20:41.252153: W tensorflow/compiler/tf2tensorrt/utils/py_utils.cc:38] TF-TRT Warning: Could not find TensorRT\n"
     ]
    },
    {
     "name": "stdout",
     "output_type": "stream",
     "text": [
      "\n",
      "==================================== Inference Configuration ====================================\n",
      " ---> Type of Modeling: naive\n",
      " ---> Total Batch Size: 32\n",
      " ---> Path of ckpt: ./output/ckpt/VCTK_naive\n",
      " ---> Path of log: ./output/log/VCTK_naive\n",
      " ---> Path of result: ./output/result/VCTK_naive\n",
      "================================================================================================\n"
     ]
    },
    {
     "name": "stderr",
     "output_type": "stream",
     "text": [
      "/home/ydoit/AIGC/diffgan/diffgan/lib/python3.10/site-packages/torch/nn/utils/weight_norm.py:28: UserWarning: torch.nn.utils.weight_norm is deprecated in favor of torch.nn.utils.parametrizations.weight_norm.\n",
      "  warnings.warn(\"torch.nn.utils.weight_norm is deprecated in favor of torch.nn.utils.parametrizations.weight_norm.\")\n"
     ]
    },
    {
     "name": "stdout",
     "output_type": "stream",
     "text": [
      "Removing weight norm...\n",
      "Raw Text Sequence: And Rangers think they have problems.\n",
      "\n",
      "Phoneme Sequence: {AE1 N D R EY1 N JH ER0 Z TH IH1 NG K DH EY1 HH AE1 V P R AA1 B L AH0 M Z sp}\n"
     ]
    },
    {
     "name": "stderr",
     "output_type": "stream",
     "text": [
      "  0%|          | 0/1 [00:00<?, ?it/s]\n",
      "sample time step: 100%|██████████| 4/4 [00:00<00:00, 42.35it/s]\n",
      "100%|██████████| 1/1 [00:02<00:00,  2.07s/it]\n",
      "2024-05-15 04:20:53.803881: I tensorflow/core/platform/cpu_feature_guard.cc:210] This TensorFlow binary is optimized to use available CPU instructions in performance-critical operations.\n",
      "To enable the following instructions: AVX2 FMA, in other operations, rebuild TensorFlow with the appropriate compiler flags.\n",
      "2024-05-15 04:20:54.537119: W tensorflow/compiler/tf2tensorrt/utils/py_utils.cc:38] TF-TRT Warning: Could not find TensorRT\n"
     ]
    },
    {
     "name": "stdout",
     "output_type": "stream",
     "text": [
      "\n",
      "==================================== Inference Configuration ====================================\n",
      " ---> Type of Modeling: naive\n",
      " ---> Total Batch Size: 32\n",
      " ---> Path of ckpt: ./output/ckpt/VCTK_naive\n",
      " ---> Path of log: ./output/log/VCTK_naive\n",
      " ---> Path of result: ./output/result/VCTK_naive\n",
      "================================================================================================\n"
     ]
    },
    {
     "name": "stderr",
     "output_type": "stream",
     "text": [
      "/home/ydoit/AIGC/diffgan/diffgan/lib/python3.10/site-packages/torch/nn/utils/weight_norm.py:28: UserWarning: torch.nn.utils.weight_norm is deprecated in favor of torch.nn.utils.parametrizations.weight_norm.\n",
      "  warnings.warn(\"torch.nn.utils.weight_norm is deprecated in favor of torch.nn.utils.parametrizations.weight_norm.\")\n"
     ]
    },
    {
     "name": "stdout",
     "output_type": "stream",
     "text": [
      "Removing weight norm...\n",
      "Raw Text Sequence: You can buy them over the counter, anywhere.\n",
      "\n",
      "Phoneme Sequence: {Y UW1 K AE1 N B AY1 DH AH0 M OW1 V ER0 DH AH0 K AW1 N T ER0 sp EH1 N IY0 HH W EH2 R sp}\n"
     ]
    },
    {
     "name": "stderr",
     "output_type": "stream",
     "text": [
      "  0%|          | 0/1 [00:00<?, ?it/s]\n",
      "sample time step:   0%|          | 0/4 [00:00<?, ?it/s]\u001b[A\n",
      "sample time step: 100%|██████████| 4/4 [00:00<00:00,  9.15it/s]\u001b[A\n",
      "100%|██████████| 1/1 [00:01<00:00,  1.76s/it]\n",
      "2024-05-15 04:21:07.887350: I tensorflow/core/platform/cpu_feature_guard.cc:210] This TensorFlow binary is optimized to use available CPU instructions in performance-critical operations.\n",
      "To enable the following instructions: AVX2 FMA, in other operations, rebuild TensorFlow with the appropriate compiler flags.\n",
      "2024-05-15 04:21:08.637857: W tensorflow/compiler/tf2tensorrt/utils/py_utils.cc:38] TF-TRT Warning: Could not find TensorRT\n"
     ]
    },
    {
     "name": "stdout",
     "output_type": "stream",
     "text": [
      "\n",
      "==================================== Inference Configuration ====================================\n",
      " ---> Type of Modeling: naive\n",
      " ---> Total Batch Size: 32\n",
      " ---> Path of ckpt: ./output/ckpt/VCTK_naive\n",
      " ---> Path of log: ./output/log/VCTK_naive\n",
      " ---> Path of result: ./output/result/VCTK_naive\n",
      "================================================================================================\n"
     ]
    },
    {
     "name": "stderr",
     "output_type": "stream",
     "text": [
      "/home/ydoit/AIGC/diffgan/diffgan/lib/python3.10/site-packages/torch/nn/utils/weight_norm.py:28: UserWarning: torch.nn.utils.weight_norm is deprecated in favor of torch.nn.utils.parametrizations.weight_norm.\n",
      "  warnings.warn(\"torch.nn.utils.weight_norm is deprecated in favor of torch.nn.utils.parametrizations.weight_norm.\")\n"
     ]
    },
    {
     "name": "stdout",
     "output_type": "stream",
     "text": [
      "Removing weight norm...\n",
      "Raw Text Sequence: The look on his face was something special.\n",
      "\n",
      "Phoneme Sequence: {DH AH0 L UH1 K AA1 N HH IH0 Z F EY1 S W AA1 Z S AH1 M TH IH0 NG S P EH1 SH AH0 L sp}\n"
     ]
    },
    {
     "name": "stderr",
     "output_type": "stream",
     "text": [
      "  0%|          | 0/1 [00:00<?, ?it/s]\n",
      "sample time step: 100%|██████████| 4/4 [00:00<00:00, 47.60it/s]\n",
      "100%|██████████| 1/1 [00:01<00:00,  1.70s/it]\n",
      "2024-05-15 04:21:21.023632: I tensorflow/core/platform/cpu_feature_guard.cc:210] This TensorFlow binary is optimized to use available CPU instructions in performance-critical operations.\n",
      "To enable the following instructions: AVX2 FMA, in other operations, rebuild TensorFlow with the appropriate compiler flags.\n",
      "2024-05-15 04:21:21.760357: W tensorflow/compiler/tf2tensorrt/utils/py_utils.cc:38] TF-TRT Warning: Could not find TensorRT\n"
     ]
    },
    {
     "name": "stdout",
     "output_type": "stream",
     "text": [
      "\n",
      "==================================== Inference Configuration ====================================\n",
      " ---> Type of Modeling: naive\n",
      " ---> Total Batch Size: 32\n",
      " ---> Path of ckpt: ./output/ckpt/VCTK_naive\n",
      " ---> Path of log: ./output/log/VCTK_naive\n",
      " ---> Path of result: ./output/result/VCTK_naive\n",
      "================================================================================================\n"
     ]
    },
    {
     "name": "stderr",
     "output_type": "stream",
     "text": [
      "/home/ydoit/AIGC/diffgan/diffgan/lib/python3.10/site-packages/torch/nn/utils/weight_norm.py:28: UserWarning: torch.nn.utils.weight_norm is deprecated in favor of torch.nn.utils.parametrizations.weight_norm.\n",
      "  warnings.warn(\"torch.nn.utils.weight_norm is deprecated in favor of torch.nn.utils.parametrizations.weight_norm.\")\n"
     ]
    },
    {
     "name": "stdout",
     "output_type": "stream",
     "text": [
      "Removing weight norm...\n",
      "Raw Text Sequence: That's my big challenge.\n",
      "\n",
      "Phoneme Sequence: {DH AE1 T S M AY1 B IH1 G CH AE1 L AH0 N JH sp}\n"
     ]
    },
    {
     "name": "stderr",
     "output_type": "stream",
     "text": [
      "  0%|          | 0/1 [00:00<?, ?it/s]\n",
      "sample time step:   0%|          | 0/4 [00:00<?, ?it/s]\u001b[A/home/ydoit/AIGC/diffgan/diffgan/lib/python3.10/site-packages/torch/nn/modules/conv.py:306: UserWarning: Plan failed with a cudnnException: CUDNN_BACKEND_EXECUTION_PLAN_DESCRIPTOR: cudnnFinalize Descriptor Failed cudnn_status: CUDNN_STATUS_NOT_SUPPORTED (Triggered internally at ../aten/src/ATen/native/cudnn/Conv_v8.cpp:919.)\n",
      "  return F.conv1d(input, weight, bias, self.stride,\n",
      "sample time step: 100%|██████████| 4/4 [00:00<00:00, 42.26it/s]\n",
      "100%|██████████| 1/1 [00:02<00:00,  2.02s/it]\n",
      "2024-05-15 04:21:33.605962: I tensorflow/core/platform/cpu_feature_guard.cc:210] This TensorFlow binary is optimized to use available CPU instructions in performance-critical operations.\n",
      "To enable the following instructions: AVX2 FMA, in other operations, rebuild TensorFlow with the appropriate compiler flags.\n",
      "2024-05-15 04:21:34.337087: W tensorflow/compiler/tf2tensorrt/utils/py_utils.cc:38] TF-TRT Warning: Could not find TensorRT\n"
     ]
    },
    {
     "name": "stdout",
     "output_type": "stream",
     "text": [
      "\n",
      "==================================== Inference Configuration ====================================\n",
      " ---> Type of Modeling: naive\n",
      " ---> Total Batch Size: 32\n",
      " ---> Path of ckpt: ./output/ckpt/VCTK_naive\n",
      " ---> Path of log: ./output/log/VCTK_naive\n",
      " ---> Path of result: ./output/result/VCTK_naive\n",
      "================================================================================================\n"
     ]
    },
    {
     "name": "stderr",
     "output_type": "stream",
     "text": [
      "/home/ydoit/AIGC/diffgan/diffgan/lib/python3.10/site-packages/torch/nn/utils/weight_norm.py:28: UserWarning: torch.nn.utils.weight_norm is deprecated in favor of torch.nn.utils.parametrizations.weight_norm.\n",
      "  warnings.warn(\"torch.nn.utils.weight_norm is deprecated in favor of torch.nn.utils.parametrizations.weight_norm.\")\n"
     ]
    },
    {
     "name": "stdout",
     "output_type": "stream",
     "text": [
      "Removing weight norm...\n",
      "Raw Text Sequence: To me, it was just a miracle.\n",
      "\n",
      "Phoneme Sequence: {T AH0 M IY1 sp IH0 T W AA1 Z JH AH1 S T AH0 M IH1 R AH0 K AH0 L sp}\n"
     ]
    },
    {
     "name": "stderr",
     "output_type": "stream",
     "text": [
      "  0%|          | 0/1 [00:00<?, ?it/s]\n",
      "sample time step: 100%|██████████| 4/4 [00:00<00:00, 50.25it/s]\n",
      "100%|██████████| 1/1 [00:01<00:00,  1.76s/it]\n",
      "2024-05-15 04:21:46.634972: I tensorflow/core/platform/cpu_feature_guard.cc:210] This TensorFlow binary is optimized to use available CPU instructions in performance-critical operations.\n",
      "To enable the following instructions: AVX2 FMA, in other operations, rebuild TensorFlow with the appropriate compiler flags.\n",
      "2024-05-15 04:21:47.381818: W tensorflow/compiler/tf2tensorrt/utils/py_utils.cc:38] TF-TRT Warning: Could not find TensorRT\n"
     ]
    },
    {
     "name": "stdout",
     "output_type": "stream",
     "text": [
      "\n",
      "==================================== Inference Configuration ====================================\n",
      " ---> Type of Modeling: naive\n",
      " ---> Total Batch Size: 32\n",
      " ---> Path of ckpt: ./output/ckpt/VCTK_naive\n",
      " ---> Path of log: ./output/log/VCTK_naive\n",
      " ---> Path of result: ./output/result/VCTK_naive\n",
      "================================================================================================\n"
     ]
    },
    {
     "name": "stderr",
     "output_type": "stream",
     "text": [
      "/home/ydoit/AIGC/diffgan/diffgan/lib/python3.10/site-packages/torch/nn/utils/weight_norm.py:28: UserWarning: torch.nn.utils.weight_norm is deprecated in favor of torch.nn.utils.parametrizations.weight_norm.\n",
      "  warnings.warn(\"torch.nn.utils.weight_norm is deprecated in favor of torch.nn.utils.parametrizations.weight_norm.\")\n"
     ]
    },
    {
     "name": "stdout",
     "output_type": "stream",
     "text": [
      "Removing weight norm...\n",
      "Raw Text Sequence: I was a silly bastard.\n",
      "\n",
      "Phoneme Sequence: {AY1 W AA1 Z AH0 S IH1 L IY0 B AE1 S T ER0 D sp}\n"
     ]
    },
    {
     "name": "stderr",
     "output_type": "stream",
     "text": [
      "  0%|          | 0/1 [00:00<?, ?it/s]\n",
      "sample time step: 100%|██████████| 4/4 [00:00<00:00, 54.62it/s]\n",
      "100%|██████████| 1/1 [00:01<00:00,  1.70s/it]\n",
      "2024-05-15 04:21:59.827247: I tensorflow/core/platform/cpu_feature_guard.cc:210] This TensorFlow binary is optimized to use available CPU instructions in performance-critical operations.\n",
      "To enable the following instructions: AVX2 FMA, in other operations, rebuild TensorFlow with the appropriate compiler flags.\n",
      "2024-05-15 04:22:00.554744: W tensorflow/compiler/tf2tensorrt/utils/py_utils.cc:38] TF-TRT Warning: Could not find TensorRT\n"
     ]
    },
    {
     "name": "stdout",
     "output_type": "stream",
     "text": [
      "\n",
      "==================================== Inference Configuration ====================================\n",
      " ---> Type of Modeling: naive\n",
      " ---> Total Batch Size: 32\n",
      " ---> Path of ckpt: ./output/ckpt/VCTK_naive\n",
      " ---> Path of log: ./output/log/VCTK_naive\n",
      " ---> Path of result: ./output/result/VCTK_naive\n",
      "================================================================================================\n"
     ]
    },
    {
     "name": "stderr",
     "output_type": "stream",
     "text": [
      "/home/ydoit/AIGC/diffgan/diffgan/lib/python3.10/site-packages/torch/nn/utils/weight_norm.py:28: UserWarning: torch.nn.utils.weight_norm is deprecated in favor of torch.nn.utils.parametrizations.weight_norm.\n",
      "  warnings.warn(\"torch.nn.utils.weight_norm is deprecated in favor of torch.nn.utils.parametrizations.weight_norm.\")\n"
     ]
    },
    {
     "name": "stdout",
     "output_type": "stream",
     "text": [
      "Removing weight norm...\n",
      "Raw Text Sequence: He later told The Herald, It is true.\n",
      "\n",
      "Phoneme Sequence: {HH IY1 L EY1 T ER0 T OW1 L D DH AH0 HH EH1 R AH0 L D sp IH0 T IH0 Z T R UW1 sp}\n"
     ]
    },
    {
     "name": "stderr",
     "output_type": "stream",
     "text": [
      "  0%|          | 0/1 [00:00<?, ?it/s]\n",
      "sample time step:   0%|          | 0/4 [00:00<?, ?it/s]\u001b[A\n",
      "sample time step: 100%|██████████| 4/4 [00:00<00:00,  7.69it/s]\u001b[A\n",
      "100%|██████████| 1/1 [00:01<00:00,  1.82s/it]\n",
      "2024-05-15 04:22:14.740518: I tensorflow/core/platform/cpu_feature_guard.cc:210] This TensorFlow binary is optimized to use available CPU instructions in performance-critical operations.\n",
      "To enable the following instructions: AVX2 FMA, in other operations, rebuild TensorFlow with the appropriate compiler flags.\n",
      "2024-05-15 04:22:15.498987: W tensorflow/compiler/tf2tensorrt/utils/py_utils.cc:38] TF-TRT Warning: Could not find TensorRT\n"
     ]
    },
    {
     "name": "stdout",
     "output_type": "stream",
     "text": [
      "\n",
      "==================================== Inference Configuration ====================================\n",
      " ---> Type of Modeling: naive\n",
      " ---> Total Batch Size: 32\n",
      " ---> Path of ckpt: ./output/ckpt/VCTK_naive\n",
      " ---> Path of log: ./output/log/VCTK_naive\n",
      " ---> Path of result: ./output/result/VCTK_naive\n",
      "================================================================================================\n"
     ]
    },
    {
     "name": "stderr",
     "output_type": "stream",
     "text": [
      "/home/ydoit/AIGC/diffgan/diffgan/lib/python3.10/site-packages/torch/nn/utils/weight_norm.py:28: UserWarning: torch.nn.utils.weight_norm is deprecated in favor of torch.nn.utils.parametrizations.weight_norm.\n",
      "  warnings.warn(\"torch.nn.utils.weight_norm is deprecated in favor of torch.nn.utils.parametrizations.weight_norm.\")\n"
     ]
    },
    {
     "name": "stdout",
     "output_type": "stream",
     "text": [
      "Removing weight norm...\n",
      "Raw Text Sequence: I'm feeling very pleased.\n",
      "\n",
      "Phoneme Sequence: {AH0 M F IY1 L IH0 NG V EH1 R IY0 P L IY1 Z D sp}\n"
     ]
    },
    {
     "name": "stderr",
     "output_type": "stream",
     "text": [
      "  0%|          | 0/1 [00:00<?, ?it/s]\n",
      "sample time step:   0%|          | 0/4 [00:00<?, ?it/s]\u001b[A\n",
      "sample time step: 100%|██████████| 4/4 [00:00<00:00,  5.72it/s]\u001b[A\n",
      "100%|██████████| 1/1 [00:02<00:00,  2.60s/it]\n",
      "2024-05-15 04:22:29.681715: I tensorflow/core/platform/cpu_feature_guard.cc:210] This TensorFlow binary is optimized to use available CPU instructions in performance-critical operations.\n",
      "To enable the following instructions: AVX2 FMA, in other operations, rebuild TensorFlow with the appropriate compiler flags.\n",
      "2024-05-15 04:22:30.387718: W tensorflow/compiler/tf2tensorrt/utils/py_utils.cc:38] TF-TRT Warning: Could not find TensorRT\n"
     ]
    },
    {
     "name": "stdout",
     "output_type": "stream",
     "text": [
      "\n",
      "==================================== Inference Configuration ====================================\n",
      " ---> Type of Modeling: naive\n",
      " ---> Total Batch Size: 32\n",
      " ---> Path of ckpt: ./output/ckpt/VCTK_naive\n",
      " ---> Path of log: ./output/log/VCTK_naive\n",
      " ---> Path of result: ./output/result/VCTK_naive\n",
      "================================================================================================\n"
     ]
    },
    {
     "name": "stderr",
     "output_type": "stream",
     "text": [
      "/home/ydoit/AIGC/diffgan/diffgan/lib/python3.10/site-packages/torch/nn/utils/weight_norm.py:28: UserWarning: torch.nn.utils.weight_norm is deprecated in favor of torch.nn.utils.parametrizations.weight_norm.\n",
      "  warnings.warn(\"torch.nn.utils.weight_norm is deprecated in favor of torch.nn.utils.parametrizations.weight_norm.\")\n"
     ]
    },
    {
     "name": "stdout",
     "output_type": "stream",
     "text": [
      "Removing weight norm...\n",
      "Raw Text Sequence: He is believed to live in Britain.\n",
      "\n",
      "Phoneme Sequence: {HH IY1 IH0 Z B IH0 L IY1 V D T AH0 L AY1 V IH0 N B R IH1 T AH0 N sp}\n"
     ]
    },
    {
     "name": "stderr",
     "output_type": "stream",
     "text": [
      "  0%|          | 0/1 [00:00<?, ?it/s]\n",
      "sample time step:   0%|          | 0/4 [00:00<?, ?it/s]\u001b[A\n",
      "sample time step: 100%|██████████| 4/4 [00:00<00:00, 10.83it/s]\u001b[A\n",
      "100%|██████████| 1/1 [00:01<00:00,  1.51s/it]\n",
      "2024-05-15 04:22:42.917863: I tensorflow/core/platform/cpu_feature_guard.cc:210] This TensorFlow binary is optimized to use available CPU instructions in performance-critical operations.\n",
      "To enable the following instructions: AVX2 FMA, in other operations, rebuild TensorFlow with the appropriate compiler flags.\n",
      "2024-05-15 04:22:43.648294: W tensorflow/compiler/tf2tensorrt/utils/py_utils.cc:38] TF-TRT Warning: Could not find TensorRT\n"
     ]
    },
    {
     "name": "stdout",
     "output_type": "stream",
     "text": [
      "\n",
      "==================================== Inference Configuration ====================================\n",
      " ---> Type of Modeling: naive\n",
      " ---> Total Batch Size: 32\n",
      " ---> Path of ckpt: ./output/ckpt/VCTK_naive\n",
      " ---> Path of log: ./output/log/VCTK_naive\n",
      " ---> Path of result: ./output/result/VCTK_naive\n",
      "================================================================================================\n"
     ]
    },
    {
     "name": "stderr",
     "output_type": "stream",
     "text": [
      "/home/ydoit/AIGC/diffgan/diffgan/lib/python3.10/site-packages/torch/nn/utils/weight_norm.py:28: UserWarning: torch.nn.utils.weight_norm is deprecated in favor of torch.nn.utils.parametrizations.weight_norm.\n",
      "  warnings.warn(\"torch.nn.utils.weight_norm is deprecated in favor of torch.nn.utils.parametrizations.weight_norm.\")\n"
     ]
    },
    {
     "name": "stdout",
     "output_type": "stream",
     "text": [
      "Removing weight norm...\n",
      "Raw Text Sequence: I am an estate agent.\n",
      "\n",
      "Phoneme Sequence: {AY1 AE1 M AE1 N IH0 S T EY1 T EY1 JH AH0 N T sp}\n"
     ]
    },
    {
     "name": "stderr",
     "output_type": "stream",
     "text": [
      "  0%|          | 0/1 [00:00<?, ?it/s]\n",
      "sample time step:   0%|          | 0/4 [00:00<?, ?it/s]\u001b[A\n",
      "sample time step: 100%|██████████| 4/4 [00:00<00:00,  6.15it/s]\u001b[A\n",
      "100%|██████████| 1/1 [00:02<00:00,  2.41s/it]\n",
      "2024-05-15 04:22:58.142335: I tensorflow/core/platform/cpu_feature_guard.cc:210] This TensorFlow binary is optimized to use available CPU instructions in performance-critical operations.\n",
      "To enable the following instructions: AVX2 FMA, in other operations, rebuild TensorFlow with the appropriate compiler flags.\n",
      "2024-05-15 04:22:58.877731: W tensorflow/compiler/tf2tensorrt/utils/py_utils.cc:38] TF-TRT Warning: Could not find TensorRT\n"
     ]
    },
    {
     "name": "stdout",
     "output_type": "stream",
     "text": [
      "\n",
      "==================================== Inference Configuration ====================================\n",
      " ---> Type of Modeling: naive\n",
      " ---> Total Batch Size: 32\n",
      " ---> Path of ckpt: ./output/ckpt/VCTK_naive\n",
      " ---> Path of log: ./output/log/VCTK_naive\n",
      " ---> Path of result: ./output/result/VCTK_naive\n",
      "================================================================================================\n"
     ]
    },
    {
     "name": "stderr",
     "output_type": "stream",
     "text": [
      "/home/ydoit/AIGC/diffgan/diffgan/lib/python3.10/site-packages/torch/nn/utils/weight_norm.py:28: UserWarning: torch.nn.utils.weight_norm is deprecated in favor of torch.nn.utils.parametrizations.weight_norm.\n",
      "  warnings.warn(\"torch.nn.utils.weight_norm is deprecated in favor of torch.nn.utils.parametrizations.weight_norm.\")\n"
     ]
    },
    {
     "name": "stdout",
     "output_type": "stream",
     "text": [
      "Removing weight norm...\n",
      "Raw Text Sequence: No decisions have been made in this respect.\n",
      "\n",
      "Phoneme Sequence: {N OW1 D IH0 S IH1 ZH AH0 N Z HH AE1 V B AH0 N M EY1 D IH0 N DH IH0 S R IH0 S P EH1 K T sp}\n"
     ]
    },
    {
     "name": "stderr",
     "output_type": "stream",
     "text": [
      "  0%|          | 0/1 [00:00<?, ?it/s]\n",
      "sample time step:   0%|          | 0/4 [00:00<?, ?it/s]\u001b[A\n",
      "sample time step: 100%|██████████| 4/4 [00:00<00:00,  8.19it/s]\u001b[A\n",
      "100%|██████████| 1/1 [00:01<00:00,  1.62s/it]\n",
      "2024-05-15 04:23:12.440974: I tensorflow/core/platform/cpu_feature_guard.cc:210] This TensorFlow binary is optimized to use available CPU instructions in performance-critical operations.\n",
      "To enable the following instructions: AVX2 FMA, in other operations, rebuild TensorFlow with the appropriate compiler flags.\n",
      "2024-05-15 04:23:13.173872: W tensorflow/compiler/tf2tensorrt/utils/py_utils.cc:38] TF-TRT Warning: Could not find TensorRT\n"
     ]
    },
    {
     "name": "stdout",
     "output_type": "stream",
     "text": [
      "\n",
      "==================================== Inference Configuration ====================================\n",
      " ---> Type of Modeling: naive\n",
      " ---> Total Batch Size: 32\n",
      " ---> Path of ckpt: ./output/ckpt/VCTK_naive\n",
      " ---> Path of log: ./output/log/VCTK_naive\n",
      " ---> Path of result: ./output/result/VCTK_naive\n",
      "================================================================================================\n"
     ]
    },
    {
     "name": "stderr",
     "output_type": "stream",
     "text": [
      "/home/ydoit/AIGC/diffgan/diffgan/lib/python3.10/site-packages/torch/nn/utils/weight_norm.py:28: UserWarning: torch.nn.utils.weight_norm is deprecated in favor of torch.nn.utils.parametrizations.weight_norm.\n",
      "  warnings.warn(\"torch.nn.utils.weight_norm is deprecated in favor of torch.nn.utils.parametrizations.weight_norm.\")\n"
     ]
    },
    {
     "name": "stdout",
     "output_type": "stream",
     "text": [
      "Removing weight norm...\n",
      "Raw Text Sequence: Do they think anyone else wants them?\n",
      "\n",
      "Phoneme Sequence: {D UW1 DH EY1 TH IH1 NG K EH1 N IY0 W AH0 N EH1 L S W AA1 N T S DH AH0 M sp}\n"
     ]
    },
    {
     "name": "stderr",
     "output_type": "stream",
     "text": [
      "  0%|          | 0/1 [00:00<?, ?it/s]\n",
      "sample time step:   0%|          | 0/4 [00:00<?, ?it/s]\u001b[A\n",
      "sample time step: 100%|██████████| 4/4 [00:00<00:00,  7.59it/s]\u001b[A\n",
      "100%|██████████| 1/1 [00:02<00:00,  2.52s/it]\n",
      "2024-05-15 04:23:28.247742: I tensorflow/core/platform/cpu_feature_guard.cc:210] This TensorFlow binary is optimized to use available CPU instructions in performance-critical operations.\n",
      "To enable the following instructions: AVX2 FMA, in other operations, rebuild TensorFlow with the appropriate compiler flags.\n",
      "2024-05-15 04:23:28.996443: W tensorflow/compiler/tf2tensorrt/utils/py_utils.cc:38] TF-TRT Warning: Could not find TensorRT\n"
     ]
    },
    {
     "name": "stdout",
     "output_type": "stream",
     "text": [
      "\n",
      "==================================== Inference Configuration ====================================\n",
      " ---> Type of Modeling: naive\n",
      " ---> Total Batch Size: 32\n",
      " ---> Path of ckpt: ./output/ckpt/VCTK_naive\n",
      " ---> Path of log: ./output/log/VCTK_naive\n",
      " ---> Path of result: ./output/result/VCTK_naive\n",
      "================================================================================================\n"
     ]
    },
    {
     "name": "stderr",
     "output_type": "stream",
     "text": [
      "/home/ydoit/AIGC/diffgan/diffgan/lib/python3.10/site-packages/torch/nn/utils/weight_norm.py:28: UserWarning: torch.nn.utils.weight_norm is deprecated in favor of torch.nn.utils.parametrizations.weight_norm.\n",
      "  warnings.warn(\"torch.nn.utils.weight_norm is deprecated in favor of torch.nn.utils.parametrizations.weight_norm.\")\n"
     ]
    },
    {
     "name": "stdout",
     "output_type": "stream",
     "text": [
      "Removing weight norm...\n",
      "Raw Text Sequence: He was shocked by what he saw.\n",
      "\n",
      "Phoneme Sequence: {HH IY1 W AA1 Z SH AA1 K T B AY1 HH W AH1 T HH IY1 S AO1 sp}\n"
     ]
    },
    {
     "name": "stderr",
     "output_type": "stream",
     "text": [
      "  0%|          | 0/1 [00:00<?, ?it/s]\n",
      "sample time step:   0%|          | 0/4 [00:00<?, ?it/s]\u001b[A/home/ydoit/AIGC/diffgan/diffgan/lib/python3.10/site-packages/torch/nn/modules/conv.py:306: UserWarning: Plan failed with a cudnnException: CUDNN_BACKEND_EXECUTION_PLAN_DESCRIPTOR: cudnnFinalize Descriptor Failed cudnn_status: CUDNN_STATUS_NOT_SUPPORTED (Triggered internally at ../aten/src/ATen/native/cudnn/Conv_v8.cpp:919.)\n",
      "  return F.conv1d(input, weight, bias, self.stride,\n",
      "\n",
      "sample time step: 100%|██████████| 4/4 [00:00<00:00,  7.19it/s]\u001b[A\n",
      "100%|██████████| 1/1 [00:02<00:00,  2.33s/it]\n",
      "2024-05-15 04:23:44.059337: I tensorflow/core/platform/cpu_feature_guard.cc:210] This TensorFlow binary is optimized to use available CPU instructions in performance-critical operations.\n",
      "To enable the following instructions: AVX2 FMA, in other operations, rebuild TensorFlow with the appropriate compiler flags.\n",
      "2024-05-15 04:23:44.780895: W tensorflow/compiler/tf2tensorrt/utils/py_utils.cc:38] TF-TRT Warning: Could not find TensorRT\n"
     ]
    },
    {
     "name": "stdout",
     "output_type": "stream",
     "text": [
      "\n",
      "==================================== Inference Configuration ====================================\n",
      " ---> Type of Modeling: naive\n",
      " ---> Total Batch Size: 32\n",
      " ---> Path of ckpt: ./output/ckpt/VCTK_naive\n",
      " ---> Path of log: ./output/log/VCTK_naive\n",
      " ---> Path of result: ./output/result/VCTK_naive\n",
      "================================================================================================\n"
     ]
    },
    {
     "name": "stderr",
     "output_type": "stream",
     "text": [
      "/home/ydoit/AIGC/diffgan/diffgan/lib/python3.10/site-packages/torch/nn/utils/weight_norm.py:28: UserWarning: torch.nn.utils.weight_norm is deprecated in favor of torch.nn.utils.parametrizations.weight_norm.\n",
      "  warnings.warn(\"torch.nn.utils.weight_norm is deprecated in favor of torch.nn.utils.parametrizations.weight_norm.\")\n"
     ]
    },
    {
     "name": "stdout",
     "output_type": "stream",
     "text": [
      "Removing weight norm...\n",
      "Raw Text Sequence: The whole process is a vicious circle at the moment.\n",
      "\n",
      "Phoneme Sequence: {DH AH0 HH OW1 L P R AA1 S EH2 S IH0 Z AH0 V IH1 SH AH0 S S ER1 K AH0 L AE1 T DH AH0 M OW1 M AH0 N T sp}\n"
     ]
    },
    {
     "name": "stderr",
     "output_type": "stream",
     "text": [
      "  0%|          | 0/1 [00:00<?, ?it/s]\n",
      "sample time step: 100%|██████████| 4/4 [00:00<00:00, 44.26it/s]\n",
      "100%|██████████| 1/1 [00:01<00:00,  1.97s/it]\n",
      "2024-05-15 04:23:57.341802: I tensorflow/core/platform/cpu_feature_guard.cc:210] This TensorFlow binary is optimized to use available CPU instructions in performance-critical operations.\n",
      "To enable the following instructions: AVX2 FMA, in other operations, rebuild TensorFlow with the appropriate compiler flags.\n",
      "2024-05-15 04:23:58.122279: W tensorflow/compiler/tf2tensorrt/utils/py_utils.cc:38] TF-TRT Warning: Could not find TensorRT\n"
     ]
    },
    {
     "name": "stdout",
     "output_type": "stream",
     "text": [
      "\n",
      "==================================== Inference Configuration ====================================\n",
      " ---> Type of Modeling: naive\n",
      " ---> Total Batch Size: 32\n",
      " ---> Path of ckpt: ./output/ckpt/VCTK_naive\n",
      " ---> Path of log: ./output/log/VCTK_naive\n",
      " ---> Path of result: ./output/result/VCTK_naive\n",
      "================================================================================================\n"
     ]
    },
    {
     "name": "stderr",
     "output_type": "stream",
     "text": [
      "/home/ydoit/AIGC/diffgan/diffgan/lib/python3.10/site-packages/torch/nn/utils/weight_norm.py:28: UserWarning: torch.nn.utils.weight_norm is deprecated in favor of torch.nn.utils.parametrizations.weight_norm.\n",
      "  warnings.warn(\"torch.nn.utils.weight_norm is deprecated in favor of torch.nn.utils.parametrizations.weight_norm.\")\n"
     ]
    },
    {
     "name": "stdout",
     "output_type": "stream",
     "text": [
      "Removing weight norm...\n",
      "Raw Text Sequence: She returned home a few days later.\n",
      "\n",
      "Phoneme Sequence: {SH IY1 R IH0 T ER1 N D HH OW1 M AH0 F Y UW1 D EY1 Z L EY1 T ER0 sp}\n"
     ]
    },
    {
     "name": "stderr",
     "output_type": "stream",
     "text": [
      "  0%|          | 0/1 [00:00<?, ?it/s]\n",
      "sample time step:   0%|          | 0/4 [00:00<?, ?it/s]\u001b[A\n",
      "sample time step: 100%|██████████| 4/4 [00:00<00:00,  8.74it/s]\u001b[A\n",
      "100%|██████████| 1/1 [00:01<00:00,  1.61s/it]\n",
      "2024-05-15 04:24:12.087261: I tensorflow/core/platform/cpu_feature_guard.cc:210] This TensorFlow binary is optimized to use available CPU instructions in performance-critical operations.\n",
      "To enable the following instructions: AVX2 FMA, in other operations, rebuild TensorFlow with the appropriate compiler flags.\n",
      "2024-05-15 04:24:12.851274: W tensorflow/compiler/tf2tensorrt/utils/py_utils.cc:38] TF-TRT Warning: Could not find TensorRT\n"
     ]
    },
    {
     "name": "stdout",
     "output_type": "stream",
     "text": [
      "\n",
      "==================================== Inference Configuration ====================================\n",
      " ---> Type of Modeling: naive\n",
      " ---> Total Batch Size: 32\n",
      " ---> Path of ckpt: ./output/ckpt/VCTK_naive\n",
      " ---> Path of log: ./output/log/VCTK_naive\n",
      " ---> Path of result: ./output/result/VCTK_naive\n",
      "================================================================================================\n"
     ]
    },
    {
     "name": "stderr",
     "output_type": "stream",
     "text": [
      "/home/ydoit/AIGC/diffgan/diffgan/lib/python3.10/site-packages/torch/nn/utils/weight_norm.py:28: UserWarning: torch.nn.utils.weight_norm is deprecated in favor of torch.nn.utils.parametrizations.weight_norm.\n",
      "  warnings.warn(\"torch.nn.utils.weight_norm is deprecated in favor of torch.nn.utils.parametrizations.weight_norm.\")\n"
     ]
    },
    {
     "name": "stdout",
     "output_type": "stream",
     "text": [
      "Removing weight norm...\n",
      "Raw Text Sequence: You never had it so good.\n",
      "\n",
      "Phoneme Sequence: {Y UW1 N EH1 V ER0 HH AE1 D IH0 T S OW1 G IH0 D sp}\n"
     ]
    },
    {
     "name": "stderr",
     "output_type": "stream",
     "text": [
      "  0%|          | 0/1 [00:00<?, ?it/s]\n",
      "sample time step:   0%|          | 0/4 [00:00<?, ?it/s]\u001b[A/home/ydoit/AIGC/diffgan/diffgan/lib/python3.10/site-packages/torch/nn/modules/conv.py:306: UserWarning: Plan failed with a cudnnException: CUDNN_BACKEND_EXECUTION_PLAN_DESCRIPTOR: cudnnFinalize Descriptor Failed cudnn_status: CUDNN_STATUS_NOT_SUPPORTED (Triggered internally at ../aten/src/ATen/native/cudnn/Conv_v8.cpp:919.)\n",
      "  return F.conv1d(input, weight, bias, self.stride,\n",
      "\n",
      "sample time step: 100%|██████████| 4/4 [00:00<00:00, 10.63it/s]\u001b[A\n",
      "100%|██████████| 1/1 [00:01<00:00,  1.59s/it]\n",
      "2024-05-15 04:24:26.816485: I tensorflow/core/platform/cpu_feature_guard.cc:210] This TensorFlow binary is optimized to use available CPU instructions in performance-critical operations.\n",
      "To enable the following instructions: AVX2 FMA, in other operations, rebuild TensorFlow with the appropriate compiler flags.\n",
      "2024-05-15 04:24:27.578824: W tensorflow/compiler/tf2tensorrt/utils/py_utils.cc:38] TF-TRT Warning: Could not find TensorRT\n"
     ]
    },
    {
     "name": "stdout",
     "output_type": "stream",
     "text": [
      "\n",
      "==================================== Inference Configuration ====================================\n",
      " ---> Type of Modeling: naive\n",
      " ---> Total Batch Size: 32\n",
      " ---> Path of ckpt: ./output/ckpt/VCTK_naive\n",
      " ---> Path of log: ./output/log/VCTK_naive\n",
      " ---> Path of result: ./output/result/VCTK_naive\n",
      "================================================================================================\n"
     ]
    },
    {
     "name": "stderr",
     "output_type": "stream",
     "text": [
      "/home/ydoit/AIGC/diffgan/diffgan/lib/python3.10/site-packages/torch/nn/utils/weight_norm.py:28: UserWarning: torch.nn.utils.weight_norm is deprecated in favor of torch.nn.utils.parametrizations.weight_norm.\n",
      "  warnings.warn(\"torch.nn.utils.weight_norm is deprecated in favor of torch.nn.utils.parametrizations.weight_norm.\")\n"
     ]
    },
    {
     "name": "stdout",
     "output_type": "stream",
     "text": [
      "Removing weight norm...\n",
      "Raw Text Sequence: Leaving the Labour Party is one thing.\n",
      "\n",
      "Phoneme Sequence: {L IY1 V IH0 NG DH AH0 L EY1 B AW2 R P AA1 R T IY0 IH0 Z HH W AH1 N TH IH1 NG sp}\n"
     ]
    },
    {
     "name": "stderr",
     "output_type": "stream",
     "text": [
      "  0%|          | 0/1 [00:00<?, ?it/s]\n",
      "sample time step:   0%|          | 0/4 [00:00<?, ?it/s]\u001b[A\n",
      "sample time step: 100%|██████████| 4/4 [00:00<00:00, 10.40it/s]\u001b[A\n",
      "100%|██████████| 1/1 [00:01<00:00,  1.62s/it]\n",
      "2024-05-15 04:24:39.997583: I tensorflow/core/platform/cpu_feature_guard.cc:210] This TensorFlow binary is optimized to use available CPU instructions in performance-critical operations.\n",
      "To enable the following instructions: AVX2 FMA, in other operations, rebuild TensorFlow with the appropriate compiler flags.\n",
      "2024-05-15 04:24:40.736682: W tensorflow/compiler/tf2tensorrt/utils/py_utils.cc:38] TF-TRT Warning: Could not find TensorRT\n"
     ]
    },
    {
     "name": "stdout",
     "output_type": "stream",
     "text": [
      "\n",
      "==================================== Inference Configuration ====================================\n",
      " ---> Type of Modeling: naive\n",
      " ---> Total Batch Size: 32\n",
      " ---> Path of ckpt: ./output/ckpt/VCTK_naive\n",
      " ---> Path of log: ./output/log/VCTK_naive\n",
      " ---> Path of result: ./output/result/VCTK_naive\n",
      "================================================================================================\n"
     ]
    },
    {
     "name": "stderr",
     "output_type": "stream",
     "text": [
      "/home/ydoit/AIGC/diffgan/diffgan/lib/python3.10/site-packages/torch/nn/utils/weight_norm.py:28: UserWarning: torch.nn.utils.weight_norm is deprecated in favor of torch.nn.utils.parametrizations.weight_norm.\n",
      "  warnings.warn(\"torch.nn.utils.weight_norm is deprecated in favor of torch.nn.utils.parametrizations.weight_norm.\")\n"
     ]
    },
    {
     "name": "stdout",
     "output_type": "stream",
     "text": [
      "Removing weight norm...\n",
      "Raw Text Sequence: We're hopefully going to act as a catalyst for that.\n",
      "\n",
      "Phoneme Sequence: {W ER1 HH OW1 P F AH0 L IY0 G OW1 IH0 N T AH0 AE1 K T AE1 Z AH0 K AE1 T AH0 L AH0 S T F AO1 R DH AE1 T sp}\n"
     ]
    },
    {
     "name": "stderr",
     "output_type": "stream",
     "text": [
      "  0%|          | 0/1 [00:00<?, ?it/s]\n",
      "sample time step: 100%|██████████| 4/4 [00:00<00:00, 47.85it/s]\n",
      "100%|██████████| 1/1 [00:01<00:00,  1.32s/it]\n",
      "2024-05-15 04:24:53.177807: I tensorflow/core/platform/cpu_feature_guard.cc:210] This TensorFlow binary is optimized to use available CPU instructions in performance-critical operations.\n",
      "To enable the following instructions: AVX2 FMA, in other operations, rebuild TensorFlow with the appropriate compiler flags.\n",
      "2024-05-15 04:24:53.921851: W tensorflow/compiler/tf2tensorrt/utils/py_utils.cc:38] TF-TRT Warning: Could not find TensorRT\n"
     ]
    },
    {
     "name": "stdout",
     "output_type": "stream",
     "text": [
      "\n",
      "==================================== Inference Configuration ====================================\n",
      " ---> Type of Modeling: naive\n",
      " ---> Total Batch Size: 32\n",
      " ---> Path of ckpt: ./output/ckpt/VCTK_naive\n",
      " ---> Path of log: ./output/log/VCTK_naive\n",
      " ---> Path of result: ./output/result/VCTK_naive\n",
      "================================================================================================\n"
     ]
    },
    {
     "name": "stderr",
     "output_type": "stream",
     "text": [
      "/home/ydoit/AIGC/diffgan/diffgan/lib/python3.10/site-packages/torch/nn/utils/weight_norm.py:28: UserWarning: torch.nn.utils.weight_norm is deprecated in favor of torch.nn.utils.parametrizations.weight_norm.\n",
      "  warnings.warn(\"torch.nn.utils.weight_norm is deprecated in favor of torch.nn.utils.parametrizations.weight_norm.\")\n"
     ]
    },
    {
     "name": "stdout",
     "output_type": "stream",
     "text": [
      "Removing weight norm...\n",
      "Raw Text Sequence: We don't just play golf in Scotland.\n",
      "\n",
      "Phoneme Sequence: {W IY1 D OW1 N JH AH1 S T P L EY1 G AA1 L F IH0 N S K AA1 T L AH0 N D sp}\n"
     ]
    },
    {
     "name": "stderr",
     "output_type": "stream",
     "text": [
      "  0%|          | 0/1 [00:00<?, ?it/s]\n",
      "sample time step:   0%|          | 0/4 [00:00<?, ?it/s]\u001b[A\n",
      "sample time step: 100%|██████████| 4/4 [00:00<00:00,  7.26it/s]\u001b[A\n",
      "100%|██████████| 1/1 [00:01<00:00,  1.99s/it]\n",
      "2024-05-15 04:25:07.975133: I tensorflow/core/platform/cpu_feature_guard.cc:210] This TensorFlow binary is optimized to use available CPU instructions in performance-critical operations.\n",
      "To enable the following instructions: AVX2 FMA, in other operations, rebuild TensorFlow with the appropriate compiler flags.\n",
      "2024-05-15 04:25:08.725756: W tensorflow/compiler/tf2tensorrt/utils/py_utils.cc:38] TF-TRT Warning: Could not find TensorRT\n"
     ]
    },
    {
     "name": "stdout",
     "output_type": "stream",
     "text": [
      "\n",
      "==================================== Inference Configuration ====================================\n",
      " ---> Type of Modeling: naive\n",
      " ---> Total Batch Size: 32\n",
      " ---> Path of ckpt: ./output/ckpt/VCTK_naive\n",
      " ---> Path of log: ./output/log/VCTK_naive\n",
      " ---> Path of result: ./output/result/VCTK_naive\n",
      "================================================================================================\n"
     ]
    },
    {
     "name": "stderr",
     "output_type": "stream",
     "text": [
      "/home/ydoit/AIGC/diffgan/diffgan/lib/python3.10/site-packages/torch/nn/utils/weight_norm.py:28: UserWarning: torch.nn.utils.weight_norm is deprecated in favor of torch.nn.utils.parametrizations.weight_norm.\n",
      "  warnings.warn(\"torch.nn.utils.weight_norm is deprecated in favor of torch.nn.utils.parametrizations.weight_norm.\")\n"
     ]
    },
    {
     "name": "stdout",
     "output_type": "stream",
     "text": [
      "Removing weight norm...\n",
      "Raw Text Sequence: His son has been travelling with the Tartan Army for years.\n",
      "\n",
      "Phoneme Sequence: {HH IH0 Z S AH1 N HH AE1 Z B AH0 N T R AE1 V AH0 L IH0 NG W IH0 DH DH AH0 T AA1 R T AH0 N AA1 R M IY0 F AO1 R Y ER0 Z sp}\n"
     ]
    },
    {
     "name": "stderr",
     "output_type": "stream",
     "text": [
      "  0%|          | 0/1 [00:00<?, ?it/s]\n",
      "sample time step:   0%|          | 0/4 [00:00<?, ?it/s]\u001b[A\n",
      "sample time step: 100%|██████████| 4/4 [00:00<00:00, 39.74it/s]\u001b[A\n",
      "100%|██████████| 1/1 [00:01<00:00,  1.87s/it]\n",
      "2024-05-15 04:25:21.310436: I tensorflow/core/platform/cpu_feature_guard.cc:210] This TensorFlow binary is optimized to use available CPU instructions in performance-critical operations.\n",
      "To enable the following instructions: AVX2 FMA, in other operations, rebuild TensorFlow with the appropriate compiler flags.\n",
      "2024-05-15 04:25:22.090222: W tensorflow/compiler/tf2tensorrt/utils/py_utils.cc:38] TF-TRT Warning: Could not find TensorRT\n"
     ]
    },
    {
     "name": "stdout",
     "output_type": "stream",
     "text": [
      "\n",
      "==================================== Inference Configuration ====================================\n",
      " ---> Type of Modeling: naive\n",
      " ---> Total Batch Size: 32\n",
      " ---> Path of ckpt: ./output/ckpt/VCTK_naive\n",
      " ---> Path of log: ./output/log/VCTK_naive\n",
      " ---> Path of result: ./output/result/VCTK_naive\n",
      "================================================================================================\n"
     ]
    },
    {
     "name": "stderr",
     "output_type": "stream",
     "text": [
      "/home/ydoit/AIGC/diffgan/diffgan/lib/python3.10/site-packages/torch/nn/utils/weight_norm.py:28: UserWarning: torch.nn.utils.weight_norm is deprecated in favor of torch.nn.utils.parametrizations.weight_norm.\n",
      "  warnings.warn(\"torch.nn.utils.weight_norm is deprecated in favor of torch.nn.utils.parametrizations.weight_norm.\")\n"
     ]
    },
    {
     "name": "stdout",
     "output_type": "stream",
     "text": [
      "Removing weight norm...\n",
      "Raw Text Sequence: Brian Wilson, in case you didn't know, is a genius.\n",
      "\n",
      "Phoneme Sequence: {B R AY1 AH0 N W IH1 L S AH0 N sp IH0 N K EY1 S Y UW1 D IH1 D AH0 N N OW1 sp IH0 Z AH0 JH IY1 N Y AH0 S sp}\n"
     ]
    },
    {
     "name": "stderr",
     "output_type": "stream",
     "text": [
      "  0%|          | 0/1 [00:00<?, ?it/s]\n",
      "sample time step:   0%|          | 0/4 [00:00<?, ?it/s]\u001b[A\n",
      "sample time step: 100%|██████████| 4/4 [00:00<00:00,  8.94it/s]\u001b[A\n",
      "100%|██████████| 1/1 [00:01<00:00,  1.68s/it]\n",
      "2024-05-15 04:25:35.225807: I tensorflow/core/platform/cpu_feature_guard.cc:210] This TensorFlow binary is optimized to use available CPU instructions in performance-critical operations.\n",
      "To enable the following instructions: AVX2 FMA, in other operations, rebuild TensorFlow with the appropriate compiler flags.\n",
      "2024-05-15 04:25:35.984480: W tensorflow/compiler/tf2tensorrt/utils/py_utils.cc:38] TF-TRT Warning: Could not find TensorRT\n"
     ]
    },
    {
     "name": "stdout",
     "output_type": "stream",
     "text": [
      "\n",
      "==================================== Inference Configuration ====================================\n",
      " ---> Type of Modeling: naive\n",
      " ---> Total Batch Size: 32\n",
      " ---> Path of ckpt: ./output/ckpt/VCTK_naive\n",
      " ---> Path of log: ./output/log/VCTK_naive\n",
      " ---> Path of result: ./output/result/VCTK_naive\n",
      "================================================================================================\n"
     ]
    },
    {
     "name": "stderr",
     "output_type": "stream",
     "text": [
      "/home/ydoit/AIGC/diffgan/diffgan/lib/python3.10/site-packages/torch/nn/utils/weight_norm.py:28: UserWarning: torch.nn.utils.weight_norm is deprecated in favor of torch.nn.utils.parametrizations.weight_norm.\n",
      "  warnings.warn(\"torch.nn.utils.weight_norm is deprecated in favor of torch.nn.utils.parametrizations.weight_norm.\")\n"
     ]
    },
    {
     "name": "stdout",
     "output_type": "stream",
     "text": [
      "Removing weight norm...\n",
      "Raw Text Sequence: Whether his stance is shared by the incoming manager is another matter.\n",
      "\n",
      "Phoneme Sequence: {HH W EH1 DH ER0 HH IH0 Z S T AE1 N S IH0 Z SH EH1 R D B AY1 DH AH0 IH1 N K AH2 M IH0 NG M AE1 N AH0 JH ER0 IH0 Z AH0 N AH1 DH ER0 M AE1 T ER0 sp}\n"
     ]
    },
    {
     "name": "stderr",
     "output_type": "stream",
     "text": [
      "  0%|          | 0/1 [00:00<?, ?it/s]\n",
      "sample time step: 100%|██████████| 4/4 [00:00<00:00, 41.61it/s]\n",
      "100%|██████████| 1/1 [00:01<00:00,  1.88s/it]\n",
      "2024-05-15 04:25:47.858690: I tensorflow/core/platform/cpu_feature_guard.cc:210] This TensorFlow binary is optimized to use available CPU instructions in performance-critical operations.\n",
      "To enable the following instructions: AVX2 FMA, in other operations, rebuild TensorFlow with the appropriate compiler flags.\n",
      "2024-05-15 04:25:48.615546: W tensorflow/compiler/tf2tensorrt/utils/py_utils.cc:38] TF-TRT Warning: Could not find TensorRT\n"
     ]
    },
    {
     "name": "stdout",
     "output_type": "stream",
     "text": [
      "\n",
      "==================================== Inference Configuration ====================================\n",
      " ---> Type of Modeling: naive\n",
      " ---> Total Batch Size: 32\n",
      " ---> Path of ckpt: ./output/ckpt/VCTK_naive\n",
      " ---> Path of log: ./output/log/VCTK_naive\n",
      " ---> Path of result: ./output/result/VCTK_naive\n",
      "================================================================================================\n"
     ]
    },
    {
     "name": "stderr",
     "output_type": "stream",
     "text": [
      "/home/ydoit/AIGC/diffgan/diffgan/lib/python3.10/site-packages/torch/nn/utils/weight_norm.py:28: UserWarning: torch.nn.utils.weight_norm is deprecated in favor of torch.nn.utils.parametrizations.weight_norm.\n",
      "  warnings.warn(\"torch.nn.utils.weight_norm is deprecated in favor of torch.nn.utils.parametrizations.weight_norm.\")\n"
     ]
    },
    {
     "name": "stdout",
     "output_type": "stream",
     "text": [
      "Removing weight norm...\n",
      "Raw Text Sequence: We have great sympathy with Danny.\n",
      "\n",
      "Phoneme Sequence: {W IY1 HH AE1 V G R EY1 T S IH1 M P AH0 TH IY0 W IH0 DH D AE1 N IY0 sp}\n"
     ]
    },
    {
     "name": "stderr",
     "output_type": "stream",
     "text": [
      "  0%|          | 0/1 [00:00<?, ?it/s]\n",
      "sample time step:   0%|          | 0/4 [00:00<?, ?it/s]\u001b[A\n",
      "sample time step: 100%|██████████| 4/4 [00:00<00:00, 37.36it/s]\u001b[A\n",
      "100%|██████████| 1/1 [00:01<00:00,  1.78s/it]\n",
      "2024-05-15 04:26:03.042520: I tensorflow/core/platform/cpu_feature_guard.cc:210] This TensorFlow binary is optimized to use available CPU instructions in performance-critical operations.\n",
      "To enable the following instructions: AVX2 FMA, in other operations, rebuild TensorFlow with the appropriate compiler flags.\n",
      "2024-05-15 04:26:03.788993: W tensorflow/compiler/tf2tensorrt/utils/py_utils.cc:38] TF-TRT Warning: Could not find TensorRT\n"
     ]
    },
    {
     "name": "stdout",
     "output_type": "stream",
     "text": [
      "\n",
      "==================================== Inference Configuration ====================================\n",
      " ---> Type of Modeling: naive\n",
      " ---> Total Batch Size: 32\n",
      " ---> Path of ckpt: ./output/ckpt/VCTK_naive\n",
      " ---> Path of log: ./output/log/VCTK_naive\n",
      " ---> Path of result: ./output/result/VCTK_naive\n",
      "================================================================================================\n"
     ]
    },
    {
     "name": "stderr",
     "output_type": "stream",
     "text": [
      "/home/ydoit/AIGC/diffgan/diffgan/lib/python3.10/site-packages/torch/nn/utils/weight_norm.py:28: UserWarning: torch.nn.utils.weight_norm is deprecated in favor of torch.nn.utils.parametrizations.weight_norm.\n",
      "  warnings.warn(\"torch.nn.utils.weight_norm is deprecated in favor of torch.nn.utils.parametrizations.weight_norm.\")\n"
     ]
    },
    {
     "name": "stdout",
     "output_type": "stream",
     "text": [
      "Removing weight norm...\n",
      "Raw Text Sequence: Basically we lost the game because we were outplayed.\n",
      "\n",
      "Phoneme Sequence: {B EY1 S IH0 K L IY0 W IY1 L AO1 S T DH AH0 G EY1 M B IH0 K AA1 Z W IY1 W ER0 AW1 T P L EY2 D sp}\n"
     ]
    },
    {
     "name": "stderr",
     "output_type": "stream",
     "text": [
      "  0%|          | 0/1 [00:00<?, ?it/s]\n",
      "sample time step:   0%|          | 0/4 [00:00<?, ?it/s]\u001b[A\n",
      "sample time step: 100%|██████████| 4/4 [00:00<00:00,  9.95it/s]\u001b[A\n",
      "100%|██████████| 1/1 [00:01<00:00,  1.76s/it]\n",
      "2024-05-15 04:26:16.102537: I tensorflow/core/platform/cpu_feature_guard.cc:210] This TensorFlow binary is optimized to use available CPU instructions in performance-critical operations.\n",
      "To enable the following instructions: AVX2 FMA, in other operations, rebuild TensorFlow with the appropriate compiler flags.\n",
      "2024-05-15 04:26:16.839509: W tensorflow/compiler/tf2tensorrt/utils/py_utils.cc:38] TF-TRT Warning: Could not find TensorRT\n"
     ]
    },
    {
     "name": "stdout",
     "output_type": "stream",
     "text": [
      "\n",
      "==================================== Inference Configuration ====================================\n",
      " ---> Type of Modeling: naive\n",
      " ---> Total Batch Size: 32\n",
      " ---> Path of ckpt: ./output/ckpt/VCTK_naive\n",
      " ---> Path of log: ./output/log/VCTK_naive\n",
      " ---> Path of result: ./output/result/VCTK_naive\n",
      "================================================================================================\n"
     ]
    },
    {
     "name": "stderr",
     "output_type": "stream",
     "text": [
      "/home/ydoit/AIGC/diffgan/diffgan/lib/python3.10/site-packages/torch/nn/utils/weight_norm.py:28: UserWarning: torch.nn.utils.weight_norm is deprecated in favor of torch.nn.utils.parametrizations.weight_norm.\n",
      "  warnings.warn(\"torch.nn.utils.weight_norm is deprecated in favor of torch.nn.utils.parametrizations.weight_norm.\")\n"
     ]
    },
    {
     "name": "stdout",
     "output_type": "stream",
     "text": [
      "Removing weight norm...\n",
      "Raw Text Sequence: It lasted longer than we thought.\n",
      "\n",
      "Phoneme Sequence: {IH0 T L AE1 S T AH0 D L AO1 NG G ER0 DH AE1 N W IY1 TH AO1 T sp}\n"
     ]
    },
    {
     "name": "stderr",
     "output_type": "stream",
     "text": [
      "  0%|          | 0/1 [00:00<?, ?it/s]\n",
      "sample time step: 100%|██████████| 4/4 [00:00<00:00, 41.46it/s]\n",
      "100%|██████████| 1/1 [00:02<00:00,  2.06s/it]\n",
      "2024-05-15 04:26:29.401878: I tensorflow/core/platform/cpu_feature_guard.cc:210] This TensorFlow binary is optimized to use available CPU instructions in performance-critical operations.\n",
      "To enable the following instructions: AVX2 FMA, in other operations, rebuild TensorFlow with the appropriate compiler flags.\n",
      "2024-05-15 04:26:30.142646: W tensorflow/compiler/tf2tensorrt/utils/py_utils.cc:38] TF-TRT Warning: Could not find TensorRT\n"
     ]
    },
    {
     "name": "stdout",
     "output_type": "stream",
     "text": [
      "\n",
      "==================================== Inference Configuration ====================================\n",
      " ---> Type of Modeling: naive\n",
      " ---> Total Batch Size: 32\n",
      " ---> Path of ckpt: ./output/ckpt/VCTK_naive\n",
      " ---> Path of log: ./output/log/VCTK_naive\n",
      " ---> Path of result: ./output/result/VCTK_naive\n",
      "================================================================================================\n"
     ]
    },
    {
     "name": "stderr",
     "output_type": "stream",
     "text": [
      "/home/ydoit/AIGC/diffgan/diffgan/lib/python3.10/site-packages/torch/nn/utils/weight_norm.py:28: UserWarning: torch.nn.utils.weight_norm is deprecated in favor of torch.nn.utils.parametrizations.weight_norm.\n",
      "  warnings.warn(\"torch.nn.utils.weight_norm is deprecated in favor of torch.nn.utils.parametrizations.weight_norm.\")\n"
     ]
    },
    {
     "name": "stdout",
     "output_type": "stream",
     "text": [
      "Removing weight norm...\n",
      "Raw Text Sequence: He had wanted to play, but we had to be responsible about the decision we took.\n",
      "\n",
      "Phoneme Sequence: {HH IY1 HH AE1 D W AA1 N T AH0 D T AH0 P L EY1 sp B AH1 T W IY1 HH AE1 D T AH0 B IY0 R IY0 S P AA1 N S AH0 B AH0 L AH0 B AW1 T DH AH0 D IH0 S IH1 ZH AH0 N W IY1 T UH1 K sp}\n"
     ]
    },
    {
     "name": "stderr",
     "output_type": "stream",
     "text": [
      "  0%|          | 0/1 [00:00<?, ?it/s]\n",
      "sample time step:   0%|          | 0/4 [00:00<?, ?it/s]\u001b[A\n",
      "sample time step: 100%|██████████| 4/4 [00:00<00:00, 11.08it/s]\u001b[A\n",
      "100%|██████████| 1/1 [00:01<00:00,  1.73s/it]\n",
      "2024-05-15 04:26:42.230480: I tensorflow/core/platform/cpu_feature_guard.cc:210] This TensorFlow binary is optimized to use available CPU instructions in performance-critical operations.\n",
      "To enable the following instructions: AVX2 FMA, in other operations, rebuild TensorFlow with the appropriate compiler flags.\n",
      "2024-05-15 04:26:42.948115: W tensorflow/compiler/tf2tensorrt/utils/py_utils.cc:38] TF-TRT Warning: Could not find TensorRT\n"
     ]
    },
    {
     "name": "stdout",
     "output_type": "stream",
     "text": [
      "\n",
      "==================================== Inference Configuration ====================================\n",
      " ---> Type of Modeling: naive\n",
      " ---> Total Batch Size: 32\n",
      " ---> Path of ckpt: ./output/ckpt/VCTK_naive\n",
      " ---> Path of log: ./output/log/VCTK_naive\n",
      " ---> Path of result: ./output/result/VCTK_naive\n",
      "================================================================================================\n"
     ]
    },
    {
     "name": "stderr",
     "output_type": "stream",
     "text": [
      "/home/ydoit/AIGC/diffgan/diffgan/lib/python3.10/site-packages/torch/nn/utils/weight_norm.py:28: UserWarning: torch.nn.utils.weight_norm is deprecated in favor of torch.nn.utils.parametrizations.weight_norm.\n",
      "  warnings.warn(\"torch.nn.utils.weight_norm is deprecated in favor of torch.nn.utils.parametrizations.weight_norm.\")\n"
     ]
    },
    {
     "name": "stdout",
     "output_type": "stream",
     "text": [
      "Removing weight norm...\n",
      "Raw Text Sequence: They were in the wrong place at the wrong time.\n",
      "\n",
      "Phoneme Sequence: {DH EY1 W ER0 IH0 N DH AH0 R AO1 NG P L EY1 S AE1 T DH AH0 R AO1 NG T AY1 M sp}\n"
     ]
    },
    {
     "name": "stderr",
     "output_type": "stream",
     "text": [
      "  0%|          | 0/1 [00:00<?, ?it/s]\n",
      "sample time step:   0%|          | 0/4 [00:00<?, ?it/s]\u001b[A\n",
      "sample time step: 100%|██████████| 4/4 [00:00<00:00, 10.38it/s]\u001b[A\n",
      "100%|██████████| 1/1 [00:01<00:00,  1.56s/it]\n",
      "2024-05-15 04:26:56.981822: I tensorflow/core/platform/cpu_feature_guard.cc:210] This TensorFlow binary is optimized to use available CPU instructions in performance-critical operations.\n",
      "To enable the following instructions: AVX2 FMA, in other operations, rebuild TensorFlow with the appropriate compiler flags.\n",
      "2024-05-15 04:26:57.682764: W tensorflow/compiler/tf2tensorrt/utils/py_utils.cc:38] TF-TRT Warning: Could not find TensorRT\n"
     ]
    },
    {
     "name": "stdout",
     "output_type": "stream",
     "text": [
      "\n",
      "==================================== Inference Configuration ====================================\n",
      " ---> Type of Modeling: naive\n",
      " ---> Total Batch Size: 32\n",
      " ---> Path of ckpt: ./output/ckpt/VCTK_naive\n",
      " ---> Path of log: ./output/log/VCTK_naive\n",
      " ---> Path of result: ./output/result/VCTK_naive\n",
      "================================================================================================\n"
     ]
    },
    {
     "name": "stderr",
     "output_type": "stream",
     "text": [
      "/home/ydoit/AIGC/diffgan/diffgan/lib/python3.10/site-packages/torch/nn/utils/weight_norm.py:28: UserWarning: torch.nn.utils.weight_norm is deprecated in favor of torch.nn.utils.parametrizations.weight_norm.\n",
      "  warnings.warn(\"torch.nn.utils.weight_norm is deprecated in favor of torch.nn.utils.parametrizations.weight_norm.\")\n"
     ]
    },
    {
     "name": "stdout",
     "output_type": "stream",
     "text": [
      "Removing weight norm...\n",
      "Raw Text Sequence: However, we had no failures in our side.\n",
      "\n",
      "Phoneme Sequence: {HH AW2 EH1 V ER0 sp W IY1 HH AE1 D N OW1 F EY1 L Y ER0 Z IH0 N AA1 R S AY1 D sp}\n"
     ]
    },
    {
     "name": "stderr",
     "output_type": "stream",
     "text": [
      "  0%|          | 0/1 [00:00<?, ?it/s]\n",
      "sample time step:   0%|          | 0/4 [00:00<?, ?it/s]\u001b[A\n",
      "sample time step: 100%|██████████| 4/4 [00:00<00:00,  6.91it/s]\u001b[A\n",
      "100%|██████████| 1/1 [00:02<00:00,  2.37s/it]\n",
      "2024-05-15 04:27:11.128682: I tensorflow/core/platform/cpu_feature_guard.cc:210] This TensorFlow binary is optimized to use available CPU instructions in performance-critical operations.\n",
      "To enable the following instructions: AVX2 FMA, in other operations, rebuild TensorFlow with the appropriate compiler flags.\n",
      "2024-05-15 04:27:11.865716: W tensorflow/compiler/tf2tensorrt/utils/py_utils.cc:38] TF-TRT Warning: Could not find TensorRT\n"
     ]
    },
    {
     "name": "stdout",
     "output_type": "stream",
     "text": [
      "\n",
      "==================================== Inference Configuration ====================================\n",
      " ---> Type of Modeling: naive\n",
      " ---> Total Batch Size: 32\n",
      " ---> Path of ckpt: ./output/ckpt/VCTK_naive\n",
      " ---> Path of log: ./output/log/VCTK_naive\n",
      " ---> Path of result: ./output/result/VCTK_naive\n",
      "================================================================================================\n"
     ]
    },
    {
     "name": "stderr",
     "output_type": "stream",
     "text": [
      "/home/ydoit/AIGC/diffgan/diffgan/lib/python3.10/site-packages/torch/nn/utils/weight_norm.py:28: UserWarning: torch.nn.utils.weight_norm is deprecated in favor of torch.nn.utils.parametrizations.weight_norm.\n",
      "  warnings.warn(\"torch.nn.utils.weight_norm is deprecated in favor of torch.nn.utils.parametrizations.weight_norm.\")\n"
     ]
    },
    {
     "name": "stdout",
     "output_type": "stream",
     "text": [
      "Removing weight norm...\n",
      "Raw Text Sequence: It is understood he had been stabbed\n",
      "Phoneme Sequence: {IH0 T IH0 Z AH2 N D ER0 S T UH1 D HH IY1 HH AE1 D B AH0 N S T AE1 B D}\n"
     ]
    },
    {
     "name": "stderr",
     "output_type": "stream",
     "text": [
      "  0%|          | 0/1 [00:00<?, ?it/s]\n",
      "sample time step:   0%|          | 0/4 [00:00<?, ?it/s]\u001b[A\n",
      "sample time step: 100%|██████████| 4/4 [00:00<00:00,  5.80it/s]\u001b[A\n",
      "100%|██████████| 1/1 [00:02<00:00,  2.57s/it]\n",
      "2024-05-15 04:27:24.642281: I tensorflow/core/platform/cpu_feature_guard.cc:210] This TensorFlow binary is optimized to use available CPU instructions in performance-critical operations.\n",
      "To enable the following instructions: AVX2 FMA, in other operations, rebuild TensorFlow with the appropriate compiler flags.\n",
      "2024-05-15 04:27:25.371712: W tensorflow/compiler/tf2tensorrt/utils/py_utils.cc:38] TF-TRT Warning: Could not find TensorRT\n"
     ]
    },
    {
     "name": "stdout",
     "output_type": "stream",
     "text": [
      "\n",
      "==================================== Inference Configuration ====================================\n",
      " ---> Type of Modeling: naive\n",
      " ---> Total Batch Size: 32\n",
      " ---> Path of ckpt: ./output/ckpt/VCTK_naive\n",
      " ---> Path of log: ./output/log/VCTK_naive\n",
      " ---> Path of result: ./output/result/VCTK_naive\n",
      "================================================================================================\n"
     ]
    },
    {
     "name": "stderr",
     "output_type": "stream",
     "text": [
      "/home/ydoit/AIGC/diffgan/diffgan/lib/python3.10/site-packages/torch/nn/utils/weight_norm.py:28: UserWarning: torch.nn.utils.weight_norm is deprecated in favor of torch.nn.utils.parametrizations.weight_norm.\n",
      "  warnings.warn(\"torch.nn.utils.weight_norm is deprecated in favor of torch.nn.utils.parametrizations.weight_norm.\")\n"
     ]
    },
    {
     "name": "stdout",
     "output_type": "stream",
     "text": [
      "Removing weight norm...\n",
      "Raw Text Sequence: I put pressure on him.\n",
      "\n",
      "Phoneme Sequence: {AY1 P UH1 T P R EH1 SH ER0 AA1 N HH IH1 M sp}\n"
     ]
    },
    {
     "name": "stderr",
     "output_type": "stream",
     "text": [
      "  0%|          | 0/1 [00:00<?, ?it/s]\n",
      "sample time step:   0%|          | 0/4 [00:00<?, ?it/s]\u001b[A/home/ydoit/AIGC/diffgan/diffgan/lib/python3.10/site-packages/torch/nn/modules/conv.py:306: UserWarning: Plan failed with a cudnnException: CUDNN_BACKEND_EXECUTION_PLAN_DESCRIPTOR: cudnnFinalize Descriptor Failed cudnn_status: CUDNN_STATUS_NOT_SUPPORTED (Triggered internally at ../aten/src/ATen/native/cudnn/Conv_v8.cpp:919.)\n",
      "  return F.conv1d(input, weight, bias, self.stride,\n",
      "sample time step: 100%|██████████| 4/4 [00:00<00:00, 41.09it/s]\n",
      "100%|██████████| 1/1 [00:02<00:00,  2.42s/it]\n"
     ]
    }
   ],
   "source": [
    "en_fix_path='/home/ydoit/AIGC/Raw-EN/en_normal_fix.txt'\n",
    "en_random_path='/home/ydoit/AIGC/Raw-EN/en_normal_random.txt'\n",
    "with open (en_fix_path,'r') as f:\n",
    "    en_fix=f.readlines()    \n",
    "with open (en_random_path,'r') as f:\n",
    "    en_random=f.readlines()[1000:1100]\n",
    "import os\n",
    "import glob\n",
    "spkeakers=['p227','p229','p246','p251','p259','p265','p266','p277','p323','s5']\n",
    "for i in range(100):\n",
    "    sp_index=int(i/10)+1\n",
    "    txt_index=int(i%10)+1\n",
    "    en_fix_txt=en_fix[i]\n",
    "    en_random_txt=en_random[i]\n",
    "    # print(en_fix_txt)\n",
    "    os.system(f'python3 synthesize.py --text \"{en_fix_txt}\" --model naive --speaker_id {spkeakers[sp_index-1]} --restore_step 300000 --mode single --dataset VCTK')\n",
    "    files=glob.glob(os.path.join('/home/ydoit/AIGC/diffgan/DiffGAN-TTS/output/result/VCTK_naive/300000','*.wav'))\n",
    "    latest_file=max(files,key=os.path.getctime).replace(' ','\\ ').replace('\\n','')\n",
    "    # print(latest_file)\n",
    "    os.system(f'mv {latest_file} /home/ydoit/AIGC/diffgan/output/fix/en/speaker{sp_index}/audio{txt_index}.wav')\n",
    "    with open(f'/home/ydoit/AIGC/diffgan/output/fix/en/speaker{sp_index}/audio{txt_index}.txt','w') as f:\n",
    "        f.write(en_fix_txt)\n",
    "    os.system(f'python3 synthesize.py --text \"{en_random_txt}\" --model naive --speaker_id {spkeakers[sp_index-1]} --restore_step 300000 --mode single --dataset VCTK')\n",
    "    files=glob.glob(os.path.join('/home/ydoit/AIGC/diffgan/DiffGAN-TTS/output/result/VCTK_naive/300000','*.wav'))\n",
    "    latest_file=max(files,key=os.path.getctime)\n",
    "    os.system(f'mv {latest_file} /home/ydoit/AIGC/diffgan/output/random/en/speaker{sp_index}/audio{txt_index}.wav')\n",
    "    with open(f'/home/ydoit/AIGC/diffgan/output/random/en/speaker{sp_index}/audio{txt_index}.txt','w') as f:\n",
    "        f.write(en_random_txt)"
   ]
  }
 ],
 "metadata": {
  "kernelspec": {
   "display_name": "diffgan",
   "language": "python",
   "name": "python3"
  },
  "language_info": {
   "codemirror_mode": {
    "name": "ipython",
    "version": 3
   },
   "file_extension": ".py",
   "mimetype": "text/x-python",
   "name": "python",
   "nbconvert_exporter": "python",
   "pygments_lexer": "ipython3",
   "version": "3.10.12"
  }
 },
 "nbformat": 4,
 "nbformat_minor": 2
}
